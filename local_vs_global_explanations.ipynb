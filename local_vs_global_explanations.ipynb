{
 "cells": [
  {
   "cell_type": "markdown",
   "source": [
    "## Local Explanations vs Global Explanations\n",
    "\n",
    "This notebook runs GNN-SubNet and its modified version to generate a global node mask. The loss function values for both Gradient Descent procedures are plotted."
   ],
   "metadata": {
    "collapsed": false
   }
  },
  {
   "cell_type": "code",
   "execution_count": 1,
   "metadata": {
    "collapsed": true
   },
   "outputs": [
    {
     "name": "stdout",
     "output_type": "stream",
     "text": [
      "Graph is connected  True\n",
      "Graph is connected  True\n",
      "##################\n",
      "# DATASET LOADED #\n",
      "##################\n",
      "\n",
      "Number of nodes: 30\n",
      "Number of edges: 29\n",
      "Number of modalities: 1\n",
      "graphcnn for training ...\n",
      "Graphs class 0: 500, Graphs class 1: 500\n",
      "Length of balanced dataset list: 1000\n",
      "Train graph class 0: 405, train graph class 1: 395\n",
      "Validation graph class 0: 95, validation graph class 1: 105\n"
     ]
    },
    {
     "name": "stderr",
     "output_type": "stream",
     "text": [
      "  0%|          | 0/35 [00:00<?, ?batch/s]C:\\Users\\elena\\DELFT\\assignments\\RP\\GNN-SubNet_modified\\GNNSubNet\\graphcnn.py:134: UserWarning: torch.sparse.SparseTensor(indices, values, shape, *, device=) is deprecated.  Please use torch.sparse_coo_tensor(indices, values, shape, dtype=, device=). (Triggered internally at C:\\actions-runner\\_work\\pytorch\\pytorch\\builder\\windows\\pytorch\\torch\\csrc\\utils\\tensor_new.cpp:623.)\n",
      "  graph_pool = torch.sparse.FloatTensor(idx, elem, torch.Size([len(batch_graph), start_idx[-1]]))\n",
      "100%|██████████| 35/35 [00:00<00:00, 140.00batch/s]\n"
     ]
    },
    {
     "name": "stdout",
     "output_type": "stream",
     "text": [
      "Epoch 0, loss 0.0864\n",
      "Train Acc 1.0000\n",
      "Epoch 0, val_loss 0.0005\n",
      "Saving best model with validation loss 0.00050460355123505\n"
     ]
    },
    {
     "name": "stderr",
     "output_type": "stream",
     "text": [
      "100%|██████████| 35/35 [00:00<00:00, 144.42batch/s]\n"
     ]
    },
    {
     "name": "stdout",
     "output_type": "stream",
     "text": [
      "Epoch 1, loss 0.0647\n",
      "Train Acc 1.0000\n",
      "Epoch 1, val_loss 0.0000\n",
      "Saving best model with validation loss 1.7694916323307552e-06\n"
     ]
    },
    {
     "name": "stderr",
     "output_type": "stream",
     "text": [
      "100%|██████████| 35/35 [00:00<00:00, 146.20batch/s]\n"
     ]
    },
    {
     "name": "stdout",
     "output_type": "stream",
     "text": [
      "Epoch 2, loss 0.0596\n",
      "Train Acc 1.0000\n",
      "Epoch 2, val_loss 0.0000\n",
      "Saving best model with validation loss 9.709323194329045e-07\n"
     ]
    },
    {
     "name": "stderr",
     "output_type": "stream",
     "text": [
      "100%|██████████| 35/35 [00:00<00:00, 157.84batch/s]\n"
     ]
    },
    {
     "name": "stdout",
     "output_type": "stream",
     "text": [
      "Epoch 3, loss 0.0584\n",
      "Train Acc 1.0000\n",
      "Epoch 3, val_loss 0.0000\n",
      "Saving best model with validation loss 8.594686278229346e-07\n"
     ]
    },
    {
     "name": "stderr",
     "output_type": "stream",
     "text": [
      "100%|██████████| 35/35 [00:00<00:00, 148.07batch/s]\n"
     ]
    },
    {
     "name": "stdout",
     "output_type": "stream",
     "text": [
      "Epoch 4, loss 0.0570\n",
      "Train Acc 1.0000\n",
      "Epoch 4, val_loss 0.0000\n"
     ]
    },
    {
     "name": "stderr",
     "output_type": "stream",
     "text": [
      "100%|██████████| 35/35 [00:00<00:00, 178.62batch/s]\n"
     ]
    },
    {
     "name": "stdout",
     "output_type": "stream",
     "text": [
      "Epoch 5, loss 0.0657\n",
      "Train Acc 1.0000\n",
      "Epoch 5, val_loss 0.0000\n",
      "Saving best model with validation loss 6.854186835880682e-07\n"
     ]
    },
    {
     "name": "stderr",
     "output_type": "stream",
     "text": [
      "100%|██████████| 35/35 [00:00<00:00, 171.52batch/s]\n"
     ]
    },
    {
     "name": "stdout",
     "output_type": "stream",
     "text": [
      "Epoch 6, loss 0.0469\n",
      "Train Acc 1.0000\n",
      "Epoch 6, val_loss 0.0000\n",
      "Saving best model with validation loss 4.4106349150752067e-07\n"
     ]
    },
    {
     "name": "stderr",
     "output_type": "stream",
     "text": [
      "100%|██████████| 35/35 [00:00<00:00, 154.32batch/s]\n"
     ]
    },
    {
     "name": "stdout",
     "output_type": "stream",
     "text": [
      "Epoch 7, loss 0.0542\n",
      "Train Acc 1.0000\n",
      "Epoch 7, val_loss 0.0000\n"
     ]
    },
    {
     "name": "stderr",
     "output_type": "stream",
     "text": [
      "100%|██████████| 35/35 [00:00<00:00, 170.72batch/s]\n"
     ]
    },
    {
     "name": "stdout",
     "output_type": "stream",
     "text": [
      "Epoch 8, loss 0.0377\n",
      "Train Acc 1.0000\n",
      "Epoch 8, val_loss 0.0000\n"
     ]
    },
    {
     "name": "stderr",
     "output_type": "stream",
     "text": [
      "100%|██████████| 35/35 [00:00<00:00, 173.84batch/s]\n"
     ]
    },
    {
     "name": "stdout",
     "output_type": "stream",
     "text": [
      "Epoch 9, loss 0.0365\n",
      "Train Acc 1.0000\n",
      "Epoch 9, val_loss 0.0000\n"
     ]
    },
    {
     "name": "stderr",
     "output_type": "stream",
     "text": [
      "100%|██████████| 35/35 [00:00<00:00, 158.01batch/s]\n"
     ]
    },
    {
     "name": "stdout",
     "output_type": "stream",
     "text": [
      "Epoch 10, loss 0.0463\n",
      "Train Acc 1.0000\n",
      "Epoch 10, val_loss 0.0000\n"
     ]
    },
    {
     "name": "stderr",
     "output_type": "stream",
     "text": [
      "100%|██████████| 35/35 [00:00<00:00, 153.44batch/s]\n"
     ]
    },
    {
     "name": "stdout",
     "output_type": "stream",
     "text": [
      "Epoch 11, loss 0.0493\n",
      "Train Acc 1.0000\n",
      "Epoch 11, val_loss 0.0000\n"
     ]
    },
    {
     "name": "stderr",
     "output_type": "stream",
     "text": [
      "100%|██████████| 35/35 [00:00<00:00, 165.46batch/s]\n"
     ]
    },
    {
     "name": "stdout",
     "output_type": "stream",
     "text": [
      "Epoch 12, loss 0.0525\n",
      "Train Acc 1.0000\n",
      "Epoch 12, val_loss 0.0000\n"
     ]
    },
    {
     "name": "stderr",
     "output_type": "stream",
     "text": [
      "100%|██████████| 35/35 [00:00<00:00, 171.21batch/s]\n"
     ]
    },
    {
     "name": "stdout",
     "output_type": "stream",
     "text": [
      "Epoch 13, loss 0.0547\n",
      "Train Acc 1.0000\n",
      "Epoch 13, val_loss 0.0000\n",
      "Saving best model with validation loss 5.841226524694321e-08\n"
     ]
    },
    {
     "name": "stderr",
     "output_type": "stream",
     "text": [
      "100%|██████████| 35/35 [00:00<00:00, 158.26batch/s]\n"
     ]
    },
    {
     "name": "stdout",
     "output_type": "stream",
     "text": [
      "Epoch 14, loss 0.0453\n",
      "Train Acc 1.0000\n",
      "Epoch 14, val_loss 0.0000\n"
     ]
    },
    {
     "name": "stderr",
     "output_type": "stream",
     "text": [
      "100%|██████████| 35/35 [00:00<00:00, 167.91batch/s]\n"
     ]
    },
    {
     "name": "stdout",
     "output_type": "stream",
     "text": [
      "Epoch 15, loss 0.0471\n",
      "Train Acc 1.0000\n",
      "Epoch 15, val_loss 0.0000\n"
     ]
    },
    {
     "name": "stderr",
     "output_type": "stream",
     "text": [
      "100%|██████████| 35/35 [00:00<00:00, 150.44batch/s]\n"
     ]
    },
    {
     "name": "stdout",
     "output_type": "stream",
     "text": [
      "Epoch 16, loss 0.0396\n",
      "Train Acc 1.0000\n",
      "Epoch 16, val_loss 0.0000\n"
     ]
    },
    {
     "name": "stderr",
     "output_type": "stream",
     "text": [
      "100%|██████████| 35/35 [00:00<00:00, 158.46batch/s]\n"
     ]
    },
    {
     "name": "stdout",
     "output_type": "stream",
     "text": [
      "Epoch 17, loss 0.0406\n",
      "Train Acc 1.0000\n",
      "Epoch 17, val_loss 0.0000\n"
     ]
    },
    {
     "name": "stderr",
     "output_type": "stream",
     "text": [
      "100%|██████████| 35/35 [00:00<00:00, 174.35batch/s]\n"
     ]
    },
    {
     "name": "stdout",
     "output_type": "stream",
     "text": [
      "Epoch 18, loss 0.0450\n",
      "Train Acc 1.0000\n",
      "Epoch 18, val_loss 0.0000\n",
      "Saving best model with validation loss 5.602822028549781e-08\n"
     ]
    },
    {
     "name": "stderr",
     "output_type": "stream",
     "text": [
      "100%|██████████| 35/35 [00:00<00:00, 165.61batch/s]\n"
     ]
    },
    {
     "name": "stdout",
     "output_type": "stream",
     "text": [
      "Epoch 19, loss 0.0470\n",
      "Train Acc 1.0000\n",
      "Epoch 19, val_loss 0.0000\n",
      "Saving best model with validation loss 3.278249849358872e-08\n",
      "\n",
      "Confusion matrix (Validation set):\n",
      "\n",
      "[[ 95   0]\n",
      " [  0 105]]\n",
      "Validation accuracy: 100.0%\n",
      "Validation loss 3.278249849358872e-08\n"
     ]
    }
   ],
   "source": [
    "import numpy as np\n",
    "import pandas as pd\n",
    "import torch\n",
    "\n",
    "from GNNSubNet import GNNSubNet as gnn\n",
    "\n",
    "# Synthetic data set  ------------------------- #\n",
    "loc   = \"GNNSubNet/datasets/synthetic\"\n",
    "ppi   = f'{loc}/NETWORK_synthetic.txt'\n",
    "feats = [f'{loc}/FEATURES_synthetic.txt']\n",
    "targ  = f'{loc}/TARGET_synthetic.txt'\n",
    "\n",
    "seed = 42\n",
    "\n",
    "torch.manual_seed(seed)\n",
    "np.random.seed(seed)\n",
    "\n",
    "# Read in the synthetic data\n",
    "g = gnn.GNNSubNet(loc, ppi, feats, targ, normalize=False)\n",
    "\n",
    "# Get some general information about the data dimension\n",
    "g.summary()\n",
    "\n",
    "# Train the GNN classifier and validate performance on a test set\n",
    "g.train()\n"
   ]
  },
  {
   "cell_type": "code",
   "execution_count": 2,
   "outputs": [
    {
     "data": {
      "text/plain": "torch.Size([30, 1])"
     },
     "execution_count": 2,
     "metadata": {},
     "output_type": "execute_result"
    }
   ],
   "source": [
    "g.s2v_test_dataset[0].node_features.shape"
   ],
   "metadata": {
    "collapsed": false
   }
  },
  {
   "cell_type": "code",
   "execution_count": 3,
   "outputs": [
    {
     "data": {
      "text/plain": "200"
     },
     "execution_count": 3,
     "metadata": {},
     "output_type": "execute_result"
    }
   ],
   "source": [
    "len(g.s2v_test_dataset)"
   ],
   "metadata": {
    "collapsed": false
   }
  },
  {
   "cell_type": "code",
   "execution_count": 4,
   "outputs": [
    {
     "data": {
      "text/plain": "array([1., 0., 0., 0., 0., 1., 1., 0., 1., 0., 1., 1., 1., 0., 1., 1., 1.,\n       1., 1., 1., 1., 0., 0., 0., 1., 0., 1., 0., 0., 1., 1., 1., 1., 1.,\n       0., 0., 1., 1., 1., 1., 1., 1., 1., 1., 0., 0., 0., 0., 0., 0., 0.,\n       0., 1., 0., 0., 0., 0., 1., 1., 1., 0., 1., 1., 1., 0., 1., 0., 0.,\n       1., 1., 1., 0., 1., 0., 1., 0., 1., 0., 0., 0., 1., 0., 0., 0., 0.,\n       1., 0., 0., 0., 0., 1., 0., 1., 0., 0., 1., 0., 1., 1., 1., 1., 0.,\n       1., 1., 0., 0., 1., 1., 0., 1., 0., 1., 0., 0., 0., 0., 1., 1., 0.,\n       0., 0., 0., 1., 0., 0., 0., 0., 1., 1., 0., 1., 0., 1., 0., 1., 0.,\n       1., 0., 0., 1., 1., 0., 1., 1., 0., 1., 1., 1., 1., 0., 1., 0., 1.,\n       1., 1., 1., 0., 0., 0., 1., 1., 0., 0., 1., 0., 1., 0., 1., 1., 0.,\n       1., 0., 1., 1., 1., 0., 1., 0., 0., 1., 0., 1., 0., 0., 0., 1., 1.,\n       0., 1., 1., 0., 1., 1., 0., 1., 1., 0., 0., 1., 1.])"
     },
     "execution_count": 4,
     "metadata": {},
     "output_type": "execute_result"
    }
   ],
   "source": [
    "g.predictions"
   ],
   "metadata": {
    "collapsed": false
   }
  },
  {
   "cell_type": "markdown",
   "source": [
    "The following cells train an explainer for 300 epochs to obtain the aggregation of local explanations. This corresponds to RQs 1 and 2 of the project."
   ],
   "metadata": {
    "collapsed": false
   }
  },
  {
   "cell_type": "code",
   "execution_count": 2,
   "outputs": [],
   "source": [
    "from GNNSubNet import gnn_explainer as gnne\n",
    "import torch\n",
    "\n",
    "exp = gnne.GNNExplainer(g.model, epochs=300, lr = 0.1)"
   ],
   "metadata": {
    "collapsed": false
   }
  },
  {
   "cell_type": "code",
   "execution_count": 3,
   "outputs": [
    {
     "data": {
      "text/plain": "30"
     },
     "execution_count": 3,
     "metadata": {},
     "output_type": "execute_result"
    }
   ],
   "source": [
    "g.s2v_test_dataset[0].node_features.shape[0]"
   ],
   "metadata": {
    "collapsed": false
   }
  },
  {
   "cell_type": "code",
   "execution_count": 7,
   "outputs": [
    {
     "name": "stdout",
     "output_type": "stream",
     "text": [
      "Progress: 0/200\n",
      "Progress: 1/200\n",
      "Progress: 2/200\n",
      "Progress: 3/200\n",
      "Progress: 4/200\n",
      "Progress: 5/200\n",
      "Progress: 6/200\n",
      "Progress: 7/200\n",
      "Progress: 8/200\n",
      "Progress: 9/200\n",
      "Progress: 10/200\n",
      "Progress: 11/200\n",
      "Progress: 12/200\n",
      "Progress: 13/200\n",
      "Progress: 14/200\n",
      "Progress: 15/200\n",
      "Progress: 16/200\n",
      "Progress: 17/200\n",
      "Progress: 18/200\n",
      "Progress: 19/200\n",
      "Progress: 20/200\n",
      "Progress: 21/200\n",
      "Progress: 22/200\n",
      "Progress: 23/200\n",
      "Progress: 24/200\n",
      "Progress: 25/200\n",
      "Progress: 26/200\n",
      "Progress: 27/200\n",
      "Progress: 28/200\n",
      "Progress: 29/200\n",
      "Progress: 30/200\n",
      "Progress: 31/200\n",
      "Progress: 32/200\n",
      "Progress: 33/200\n",
      "Progress: 34/200\n",
      "Progress: 35/200\n",
      "Progress: 36/200\n",
      "Progress: 37/200\n",
      "Progress: 38/200\n",
      "Progress: 39/200\n",
      "Progress: 40/200\n",
      "Progress: 41/200\n",
      "Progress: 42/200\n",
      "Progress: 43/200\n",
      "Progress: 44/200\n",
      "Progress: 45/200\n",
      "Progress: 46/200\n",
      "Progress: 47/200\n",
      "Progress: 48/200\n",
      "Progress: 49/200\n",
      "Progress: 50/200\n",
      "Progress: 51/200\n",
      "Progress: 52/200\n",
      "Progress: 53/200\n",
      "Progress: 54/200\n",
      "Progress: 55/200\n",
      "Progress: 56/200\n",
      "Progress: 57/200\n",
      "Progress: 58/200\n",
      "Progress: 59/200\n",
      "Progress: 60/200\n",
      "Progress: 61/200\n",
      "Progress: 62/200\n",
      "Progress: 63/200\n",
      "Progress: 64/200\n",
      "Progress: 65/200\n",
      "Progress: 66/200\n",
      "Progress: 67/200\n",
      "Progress: 68/200\n",
      "Progress: 69/200\n",
      "Progress: 70/200\n",
      "Progress: 71/200\n",
      "Progress: 72/200\n",
      "Progress: 73/200\n",
      "Progress: 74/200\n",
      "Progress: 75/200\n",
      "Progress: 76/200\n",
      "Progress: 77/200\n",
      "Progress: 78/200\n",
      "Progress: 79/200\n",
      "Progress: 80/200\n",
      "Progress: 81/200\n",
      "Progress: 82/200\n",
      "Progress: 83/200\n",
      "Progress: 84/200\n",
      "Progress: 85/200\n",
      "Progress: 86/200\n",
      "Progress: 87/200\n",
      "Progress: 88/200\n",
      "Progress: 89/200\n",
      "Progress: 90/200\n",
      "Progress: 91/200\n",
      "Progress: 92/200\n",
      "Progress: 93/200\n",
      "Progress: 94/200\n",
      "Progress: 95/200\n",
      "Progress: 96/200\n",
      "Progress: 97/200\n",
      "Progress: 98/200\n",
      "Progress: 99/200\n",
      "Progress: 100/200\n",
      "Progress: 101/200\n",
      "Progress: 102/200\n",
      "Progress: 103/200\n",
      "Progress: 104/200\n",
      "Progress: 105/200\n",
      "Progress: 106/200\n",
      "Progress: 107/200\n",
      "Progress: 108/200\n",
      "Progress: 109/200\n",
      "Progress: 110/200\n",
      "Progress: 111/200\n",
      "Progress: 112/200\n",
      "Progress: 113/200\n",
      "Progress: 114/200\n",
      "Progress: 115/200\n",
      "Progress: 116/200\n",
      "Progress: 117/200\n",
      "Progress: 118/200\n",
      "Progress: 119/200\n",
      "Progress: 120/200\n",
      "Progress: 121/200\n",
      "Progress: 122/200\n",
      "Progress: 123/200\n",
      "Progress: 124/200\n",
      "Progress: 125/200\n",
      "Progress: 126/200\n",
      "Progress: 127/200\n",
      "Progress: 128/200\n",
      "Progress: 129/200\n",
      "Progress: 130/200\n",
      "Progress: 131/200\n",
      "Progress: 132/200\n",
      "Progress: 133/200\n",
      "Progress: 134/200\n",
      "Progress: 135/200\n",
      "Progress: 136/200\n",
      "Progress: 137/200\n",
      "Progress: 138/200\n",
      "Progress: 139/200\n",
      "Progress: 140/200\n",
      "Progress: 141/200\n",
      "Progress: 142/200\n",
      "Progress: 143/200\n",
      "Progress: 144/200\n",
      "Progress: 145/200\n",
      "Progress: 146/200\n",
      "Progress: 147/200\n",
      "Progress: 148/200\n",
      "Progress: 149/200\n",
      "Progress: 150/200\n",
      "Progress: 151/200\n",
      "Progress: 152/200\n",
      "Progress: 153/200\n",
      "Progress: 154/200\n",
      "Progress: 155/200\n",
      "Progress: 156/200\n",
      "Progress: 157/200\n",
      "Progress: 158/200\n",
      "Progress: 159/200\n",
      "Progress: 160/200\n",
      "Progress: 161/200\n",
      "Progress: 162/200\n",
      "Progress: 163/200\n",
      "Progress: 164/200\n",
      "Progress: 165/200\n",
      "Progress: 166/200\n",
      "Progress: 167/200\n",
      "Progress: 168/200\n",
      "Progress: 169/200\n",
      "Progress: 170/200\n",
      "Progress: 171/200\n",
      "Progress: 172/200\n",
      "Progress: 173/200\n",
      "Progress: 174/200\n",
      "Progress: 175/200\n",
      "Progress: 176/200\n",
      "Progress: 177/200\n",
      "Progress: 178/200\n",
      "Progress: 179/200\n",
      "Progress: 180/200\n",
      "Progress: 181/200\n",
      "Progress: 182/200\n",
      "Progress: 183/200\n",
      "Progress: 184/200\n",
      "Progress: 185/200\n",
      "Progress: 186/200\n",
      "Progress: 187/200\n",
      "Progress: 188/200\n",
      "Progress: 189/200\n",
      "Progress: 190/200\n",
      "Progress: 191/200\n",
      "Progress: 192/200\n",
      "Progress: 193/200\n",
      "Progress: 194/200\n",
      "Progress: 195/200\n",
      "Progress: 196/200\n",
      "Progress: 197/200\n",
      "Progress: 198/200\n",
      "Progress: 199/200\n"
     ]
    },
    {
     "data": {
      "text/plain": "[-3.03469,\n -0.50785685,\n 6.0254087,\n -0.35703564,\n -0.15171765,\n -2.2598743,\n 6.0362334,\n -2.2528973,\n -0.6884245,\n -2.8732688,\n -2.3612032,\n -2.594422,\n -2.65883,\n -2.713076,\n 0.17486282,\n -2.591317,\n -0.05771812,\n -2.3404734,\n -3.8759441,\n 0.18429281,\n -0.77985334,\n -2.2692478,\n -2.8106787,\n -2.394257,\n -2.215886,\n -2.6080387,\n -0.77246004,\n -2.5150073,\n -2.6827662,\n -2.763542]"
     },
     "execution_count": 7,
     "metadata": {},
     "output_type": "execute_result"
    }
   ],
   "source": [
    "node_mask = exp.explain_graph_modified_s2v(g.s2v_test_dataset, 0.1, False)\n",
    "node_mask"
   ],
   "metadata": {
    "collapsed": false
   }
  },
  {
   "cell_type": "markdown",
   "source": [
    "## RQ1: How can GNN-SubNet be modified to obtain a local-level explanation?\n",
    "\n",
    "The following code cells retrieve the loss function values generated by a run of the explainer. For each sample of the test dataset, the loss for each epoch was stored. Thus, we can now plot the losses for all of the node mask optimization processes."
   ],
   "metadata": {
    "collapsed": false
   }
  },
  {
   "cell_type": "code",
   "execution_count": 8,
   "outputs": [
    {
     "data": {
      "text/plain": "      Epoch 0   Epoch 1   Epoch 2   Epoch 3    Epoch 4    Epoch 5    Epoch 6   \n0   -2.933165 -3.407375 -3.881360 -4.355718  -4.829634  -5.302014  -5.767702  \\\n1   -4.493733 -5.047421 -5.593677 -6.123810  -6.647747  -7.158635  -7.646592   \n2   -7.975766 -8.541156 -9.091280 -9.626339 -10.150602 -10.660461 -11.155199   \n3   -6.588441 -7.035859 -7.481597 -7.922063  -8.354877  -8.780503  -9.195539   \n4   -6.694752 -7.166295 -7.616283 -8.053928  -8.484569  -8.902380  -9.304231   \n..        ...       ...       ...       ...        ...        ...        ...   \n195 -0.834945 -1.361531 -1.885686 -2.414170  -2.943361  -3.465523  -3.982598   \n196 -6.953288 -7.380136 -7.807841 -8.239452  -8.662211  -9.073417  -9.476960   \n197 -6.776932 -7.172216 -7.569107 -7.961057  -8.349669  -8.732596  -9.108722   \n198 -0.591080 -1.045437 -1.492157 -1.936009  -2.379244  -2.822161  -3.262963   \n199 -1.155215 -1.620361 -2.080247 -2.535983  -2.987043  -3.429794  -3.862469   \n\n       Epoch 7    Epoch 8    Epoch 9  ...  Epoch 290  Epoch 291  Epoch 292   \n0    -6.227943  -6.687448  -7.142863  ... -14.501631 -14.501821 -14.502130  \\\n1    -8.112535  -8.551369  -8.955214  ... -14.640740 -14.641021 -14.641305   \n2   -11.633164 -12.091222 -12.527003  ... -19.272093 -19.272398 -19.272686   \n3    -9.599740  -9.989349 -10.365689  ... -15.847197 -15.847425 -15.847659   \n4    -9.690889 -10.062457 -10.416364  ... -16.141516 -16.141758 -16.141998   \n..         ...        ...        ...  ...        ...        ...        ...   \n195  -4.493320  -4.990477  -5.470680  ... -12.817194 -12.817499 -12.817808   \n196  -9.872027 -10.262211 -10.649099  ... -16.510418 -16.510658 -16.510895   \n197  -9.475893  -9.834053 -10.180551  ... -15.367954 -15.368166 -15.368379   \n198  -3.696355  -4.123263  -4.543855  ... -11.004396 -11.004661 -11.004924   \n199  -4.284025  -4.696269  -5.099887  ... -11.326133 -11.326380 -11.326615   \n\n     Epoch 293  Epoch 294  Epoch 295  Epoch 296  Epoch 297  Epoch 298   \n0   -14.502438 -14.502788 -14.503004 -14.503168 -14.503442 -14.503760  \\\n1   -14.641585 -14.641865 -14.642141 -14.642414 -14.642689 -14.642960   \n2   -19.272984 -19.273273 -19.273560 -19.273848 -19.274134 -19.274414   \n3   -15.847885 -15.848105 -15.848332 -15.848555 -15.848774 -15.848973   \n4   -16.142241 -16.142473 -16.142706 -16.142939 -16.143171 -16.143400   \n..         ...        ...        ...        ...        ...        ...   \n195 -12.818032 -12.818380 -12.818646 -12.818919 -12.819198 -12.819481   \n196 -16.511131 -16.511366 -16.511595 -16.511827 -16.512053 -16.512280   \n197 -15.368589 -15.368796 -15.369004 -15.369209 -15.369412 -15.369616   \n198 -11.005152 -11.005422 -11.005677 -11.005919 -11.006160 -11.006399   \n199 -11.326884 -11.327119 -11.327364 -11.327593 -11.327824 -11.328073   \n\n     Epoch 299  \n0   -14.504107  \n1   -14.643229  \n2   -19.274694  \n3   -15.849203  \n4   -16.143627  \n..         ...  \n195 -12.819768  \n196 -16.512505  \n197 -15.369816  \n198 -11.006641  \n199 -11.328346  \n\n[200 rows x 300 columns]",
      "text/html": "<div>\n<style scoped>\n    .dataframe tbody tr th:only-of-type {\n        vertical-align: middle;\n    }\n\n    .dataframe tbody tr th {\n        vertical-align: top;\n    }\n\n    .dataframe thead th {\n        text-align: right;\n    }\n</style>\n<table border=\"1\" class=\"dataframe\">\n  <thead>\n    <tr style=\"text-align: right;\">\n      <th></th>\n      <th>Epoch 0</th>\n      <th>Epoch 1</th>\n      <th>Epoch 2</th>\n      <th>Epoch 3</th>\n      <th>Epoch 4</th>\n      <th>Epoch 5</th>\n      <th>Epoch 6</th>\n      <th>Epoch 7</th>\n      <th>Epoch 8</th>\n      <th>Epoch 9</th>\n      <th>...</th>\n      <th>Epoch 290</th>\n      <th>Epoch 291</th>\n      <th>Epoch 292</th>\n      <th>Epoch 293</th>\n      <th>Epoch 294</th>\n      <th>Epoch 295</th>\n      <th>Epoch 296</th>\n      <th>Epoch 297</th>\n      <th>Epoch 298</th>\n      <th>Epoch 299</th>\n    </tr>\n  </thead>\n  <tbody>\n    <tr>\n      <th>0</th>\n      <td>-2.933165</td>\n      <td>-3.407375</td>\n      <td>-3.881360</td>\n      <td>-4.355718</td>\n      <td>-4.829634</td>\n      <td>-5.302014</td>\n      <td>-5.767702</td>\n      <td>-6.227943</td>\n      <td>-6.687448</td>\n      <td>-7.142863</td>\n      <td>...</td>\n      <td>-14.501631</td>\n      <td>-14.501821</td>\n      <td>-14.502130</td>\n      <td>-14.502438</td>\n      <td>-14.502788</td>\n      <td>-14.503004</td>\n      <td>-14.503168</td>\n      <td>-14.503442</td>\n      <td>-14.503760</td>\n      <td>-14.504107</td>\n    </tr>\n    <tr>\n      <th>1</th>\n      <td>-4.493733</td>\n      <td>-5.047421</td>\n      <td>-5.593677</td>\n      <td>-6.123810</td>\n      <td>-6.647747</td>\n      <td>-7.158635</td>\n      <td>-7.646592</td>\n      <td>-8.112535</td>\n      <td>-8.551369</td>\n      <td>-8.955214</td>\n      <td>...</td>\n      <td>-14.640740</td>\n      <td>-14.641021</td>\n      <td>-14.641305</td>\n      <td>-14.641585</td>\n      <td>-14.641865</td>\n      <td>-14.642141</td>\n      <td>-14.642414</td>\n      <td>-14.642689</td>\n      <td>-14.642960</td>\n      <td>-14.643229</td>\n    </tr>\n    <tr>\n      <th>2</th>\n      <td>-7.975766</td>\n      <td>-8.541156</td>\n      <td>-9.091280</td>\n      <td>-9.626339</td>\n      <td>-10.150602</td>\n      <td>-10.660461</td>\n      <td>-11.155199</td>\n      <td>-11.633164</td>\n      <td>-12.091222</td>\n      <td>-12.527003</td>\n      <td>...</td>\n      <td>-19.272093</td>\n      <td>-19.272398</td>\n      <td>-19.272686</td>\n      <td>-19.272984</td>\n      <td>-19.273273</td>\n      <td>-19.273560</td>\n      <td>-19.273848</td>\n      <td>-19.274134</td>\n      <td>-19.274414</td>\n      <td>-19.274694</td>\n    </tr>\n    <tr>\n      <th>3</th>\n      <td>-6.588441</td>\n      <td>-7.035859</td>\n      <td>-7.481597</td>\n      <td>-7.922063</td>\n      <td>-8.354877</td>\n      <td>-8.780503</td>\n      <td>-9.195539</td>\n      <td>-9.599740</td>\n      <td>-9.989349</td>\n      <td>-10.365689</td>\n      <td>...</td>\n      <td>-15.847197</td>\n      <td>-15.847425</td>\n      <td>-15.847659</td>\n      <td>-15.847885</td>\n      <td>-15.848105</td>\n      <td>-15.848332</td>\n      <td>-15.848555</td>\n      <td>-15.848774</td>\n      <td>-15.848973</td>\n      <td>-15.849203</td>\n    </tr>\n    <tr>\n      <th>4</th>\n      <td>-6.694752</td>\n      <td>-7.166295</td>\n      <td>-7.616283</td>\n      <td>-8.053928</td>\n      <td>-8.484569</td>\n      <td>-8.902380</td>\n      <td>-9.304231</td>\n      <td>-9.690889</td>\n      <td>-10.062457</td>\n      <td>-10.416364</td>\n      <td>...</td>\n      <td>-16.141516</td>\n      <td>-16.141758</td>\n      <td>-16.141998</td>\n      <td>-16.142241</td>\n      <td>-16.142473</td>\n      <td>-16.142706</td>\n      <td>-16.142939</td>\n      <td>-16.143171</td>\n      <td>-16.143400</td>\n      <td>-16.143627</td>\n    </tr>\n    <tr>\n      <th>...</th>\n      <td>...</td>\n      <td>...</td>\n      <td>...</td>\n      <td>...</td>\n      <td>...</td>\n      <td>...</td>\n      <td>...</td>\n      <td>...</td>\n      <td>...</td>\n      <td>...</td>\n      <td>...</td>\n      <td>...</td>\n      <td>...</td>\n      <td>...</td>\n      <td>...</td>\n      <td>...</td>\n      <td>...</td>\n      <td>...</td>\n      <td>...</td>\n      <td>...</td>\n      <td>...</td>\n    </tr>\n    <tr>\n      <th>195</th>\n      <td>-0.834945</td>\n      <td>-1.361531</td>\n      <td>-1.885686</td>\n      <td>-2.414170</td>\n      <td>-2.943361</td>\n      <td>-3.465523</td>\n      <td>-3.982598</td>\n      <td>-4.493320</td>\n      <td>-4.990477</td>\n      <td>-5.470680</td>\n      <td>...</td>\n      <td>-12.817194</td>\n      <td>-12.817499</td>\n      <td>-12.817808</td>\n      <td>-12.818032</td>\n      <td>-12.818380</td>\n      <td>-12.818646</td>\n      <td>-12.818919</td>\n      <td>-12.819198</td>\n      <td>-12.819481</td>\n      <td>-12.819768</td>\n    </tr>\n    <tr>\n      <th>196</th>\n      <td>-6.953288</td>\n      <td>-7.380136</td>\n      <td>-7.807841</td>\n      <td>-8.239452</td>\n      <td>-8.662211</td>\n      <td>-9.073417</td>\n      <td>-9.476960</td>\n      <td>-9.872027</td>\n      <td>-10.262211</td>\n      <td>-10.649099</td>\n      <td>...</td>\n      <td>-16.510418</td>\n      <td>-16.510658</td>\n      <td>-16.510895</td>\n      <td>-16.511131</td>\n      <td>-16.511366</td>\n      <td>-16.511595</td>\n      <td>-16.511827</td>\n      <td>-16.512053</td>\n      <td>-16.512280</td>\n      <td>-16.512505</td>\n    </tr>\n    <tr>\n      <th>197</th>\n      <td>-6.776932</td>\n      <td>-7.172216</td>\n      <td>-7.569107</td>\n      <td>-7.961057</td>\n      <td>-8.349669</td>\n      <td>-8.732596</td>\n      <td>-9.108722</td>\n      <td>-9.475893</td>\n      <td>-9.834053</td>\n      <td>-10.180551</td>\n      <td>...</td>\n      <td>-15.367954</td>\n      <td>-15.368166</td>\n      <td>-15.368379</td>\n      <td>-15.368589</td>\n      <td>-15.368796</td>\n      <td>-15.369004</td>\n      <td>-15.369209</td>\n      <td>-15.369412</td>\n      <td>-15.369616</td>\n      <td>-15.369816</td>\n    </tr>\n    <tr>\n      <th>198</th>\n      <td>-0.591080</td>\n      <td>-1.045437</td>\n      <td>-1.492157</td>\n      <td>-1.936009</td>\n      <td>-2.379244</td>\n      <td>-2.822161</td>\n      <td>-3.262963</td>\n      <td>-3.696355</td>\n      <td>-4.123263</td>\n      <td>-4.543855</td>\n      <td>...</td>\n      <td>-11.004396</td>\n      <td>-11.004661</td>\n      <td>-11.004924</td>\n      <td>-11.005152</td>\n      <td>-11.005422</td>\n      <td>-11.005677</td>\n      <td>-11.005919</td>\n      <td>-11.006160</td>\n      <td>-11.006399</td>\n      <td>-11.006641</td>\n    </tr>\n    <tr>\n      <th>199</th>\n      <td>-1.155215</td>\n      <td>-1.620361</td>\n      <td>-2.080247</td>\n      <td>-2.535983</td>\n      <td>-2.987043</td>\n      <td>-3.429794</td>\n      <td>-3.862469</td>\n      <td>-4.284025</td>\n      <td>-4.696269</td>\n      <td>-5.099887</td>\n      <td>...</td>\n      <td>-11.326133</td>\n      <td>-11.326380</td>\n      <td>-11.326615</td>\n      <td>-11.326884</td>\n      <td>-11.327119</td>\n      <td>-11.327364</td>\n      <td>-11.327593</td>\n      <td>-11.327824</td>\n      <td>-11.328073</td>\n      <td>-11.328346</td>\n    </tr>\n  </tbody>\n</table>\n<p>200 rows × 300 columns</p>\n</div>"
     },
     "execution_count": 8,
     "metadata": {},
     "output_type": "execute_result"
    }
   ],
   "source": [
    "losses = pd.read_csv(\"GNNSubNet/saved_values/loss_values_modified_alg.csv\")\n",
    "losses"
   ],
   "metadata": {
    "collapsed": false
   }
  },
  {
   "cell_type": "code",
   "execution_count": 9,
   "outputs": [
    {
     "data": {
      "text/plain": "array([ -2.93316531,  -3.40737462,  -3.88135958,  -4.35571814,\n        -4.82963371,  -5.30201435,  -5.7677021 ,  -6.22794294,\n        -6.68744802,  -7.14286327,  -7.58433676,  -8.01445484,\n        -8.43517303,  -8.84376812,  -9.2318697 ,  -9.60191536,\n        -9.94948196, -10.27787971, -10.58675098, -10.8770647 ,\n       -11.14798355, -11.39916039, -11.62874603, -11.83916187,\n       -12.03229904, -12.20922279, -12.37089348, -12.51962662,\n       -12.65610409, -12.78023243, -12.89355373, -12.99766636,\n       -13.09231853, -13.1787796 , -13.25799274, -13.33053875,\n       -13.3966465 , -13.45705032, -13.51252174, -13.56356716,\n       -13.61041069, -13.65351391, -13.69322681, -13.7297554 ,\n       -13.7636261 , -13.7948637 , -13.82402992, -13.85126972,\n       -13.8765831 , -13.90016937, -13.92214584, -13.94281578,\n       -13.96214962, -13.98029709, -13.99712372, -14.0130825 ,\n       -14.02824974, -14.04263115, -14.05619717, -14.06894016,\n       -14.08104134, -14.09257793, -14.10354614, -14.11398697,\n       -14.12394142, -14.13331413, -14.14237118, -14.1510725 ,\n       -14.15941525, -14.16738892, -14.17502689, -14.18237305,\n       -14.1894455 , -14.19626427, -14.20285225, -14.20918274,\n       -14.21529293, -14.22121525, -14.22688866, -14.23239708,\n       -14.23777962, -14.2429018 , -14.24788952, -14.25279236,\n       -14.25751305, -14.26206589, -14.26659107, -14.27092171,\n       -14.2750845 , -14.27912712, -14.28311157, -14.28691483,\n       -14.29070282, -14.29451752, -14.29795742, -14.30152035,\n       -14.30496025, -14.30834293, -14.3115797 , -14.31476593,\n       -14.31784153, -14.32100391, -14.32390404, -14.3268013 ,\n       -14.32966614, -14.33249092, -14.33528233, -14.33782482,\n       -14.34054565, -14.34315872, -14.34564972, -14.3481226 ,\n       -14.35054779, -14.35286045, -14.35523033, -14.35750484,\n       -14.35972691, -14.36189365, -14.36403751, -14.36619949,\n       -14.36819839, -14.37021542, -14.37229633, -14.37422276,\n       -14.37606621, -14.37796879, -14.37993813, -14.38169384,\n       -14.38342667, -14.3852644 , -14.38709354, -14.38867569,\n       -14.39033699, -14.39203072, -14.39369488, -14.39532948,\n       -14.39686298, -14.39841175, -14.39982414, -14.4013319 ,\n       -14.40295506, -14.40435696, -14.40568447, -14.40709591,\n       -14.40858555, -14.40988064, -14.41125011, -14.41257858,\n       -14.41401958, -14.41521168, -14.41633129, -14.41752434,\n       -14.41880226, -14.42015934, -14.42150688, -14.42243004,\n       -14.42349052, -14.42467785, -14.42579651, -14.42702866,\n       -14.4281702 , -14.42919064, -14.43029881, -14.43128109,\n       -14.43234062, -14.43349361, -14.4343338 , -14.4353056 ,\n       -14.43628883, -14.43729019, -14.43840599, -14.43932438,\n       -14.4402113 , -14.44105148, -14.44193268, -14.44290733,\n       -14.44397068, -14.44487   , -14.44559956, -14.44646645,\n       -14.44741821, -14.4483633 , -14.44911671, -14.44993591,\n       -14.45080185, -14.45152855, -14.45226765, -14.45310211,\n       -14.45392418, -14.45464706, -14.45537853, -14.45620918,\n       -14.45692158, -14.45757484, -14.45835304, -14.45897865,\n       -14.45963192, -14.46038532, -14.46111584, -14.46175575,\n       -14.46249199, -14.46311092, -14.46370602, -14.46441078,\n       -14.46500683, -14.46558952, -14.46627426, -14.46691513,\n       -14.46750164, -14.46818352, -14.46866035, -14.46916008,\n       -14.46975327, -14.47043705, -14.47111607, -14.47159672,\n       -14.47221375, -14.47276783, -14.47330189, -14.4738512 ,\n       -14.47436428, -14.47488308, -14.4753952 , -14.4759388 ,\n       -14.47643566, -14.47684288, -14.477355  , -14.47799778,\n       -14.47843075, -14.47888374, -14.47937012, -14.47992992,\n       -14.4803791 , -14.4808197 , -14.48131561, -14.48181343,\n       -14.48217678, -14.48264313, -14.4831953 , -14.48360538,\n       -14.48396015, -14.48440647, -14.48495388, -14.48520756,\n       -14.48555756, -14.48605728, -14.48654652, -14.48693275,\n       -14.48731422, -14.48779488, -14.48813438, -14.48844624,\n       -14.48885059, -14.48939514, -14.48981285, -14.49013424,\n       -14.49038315, -14.4907589 , -14.49126911, -14.49158382,\n       -14.49178696, -14.49208069, -14.49249268, -14.49301147,\n       -14.49331951, -14.49355698, -14.49384403, -14.49427605,\n       -14.49476147, -14.49510098, -14.49541473, -14.49574471,\n       -14.49606323, -14.49641323, -14.4968462 , -14.49706745,\n       -14.49734783, -14.49773121, -14.49811649, -14.49835205,\n       -14.4986124 , -14.49899673, -14.49936581, -14.4995842 ,\n       -14.49990654, -14.50023937, -14.5004549 , -14.50073338,\n       -14.50104332, -14.50142097, -14.50163078, -14.50182056,\n       -14.50212955, -14.50243759, -14.50278759, -14.50300407,\n       -14.50316811, -14.50344181, -14.50376034, -14.50410748])"
     },
     "execution_count": 9,
     "metadata": {},
     "output_type": "execute_result"
    }
   ],
   "source": [
    "import matplotlib.pyplot as plt\n",
    "\n",
    "single_loss = losses.iloc[0].values\n",
    "\n",
    "single_loss"
   ],
   "metadata": {
    "collapsed": false
   }
  },
  {
   "cell_type": "code",
   "execution_count": 10,
   "outputs": [
    {
     "data": {
      "text/plain": "<Figure size 640x480 with 1 Axes>",
      "image/png": "[encoded data removed]"
     },
     "metadata": {},
     "output_type": "display_data"
    }
   ],
   "source": [
    "plt.plot(single_loss)\n",
    "plt.ylabel('Loss function value')\n",
    "plt.xlabel('Epoch')\n",
    "\n",
    "plt.show()"
   ],
   "metadata": {
    "collapsed": false
   }
  },
  {
   "cell_type": "markdown",
   "source": [
    "For comparison purposes, the following code cells run the original explainer on the same test dataset and plot the loss function values for GNN-SubNet."
   ],
   "metadata": {
    "collapsed": false
   }
  },
  {
   "cell_type": "code",
   "execution_count": 4,
   "outputs": [
    {
     "data": {
      "text/plain": "tensor([[-6.6762],\n        [-6.1098],\n        [ 6.0470],\n        [-7.1510],\n        [ 4.5858],\n        [-5.9597],\n        [ 6.0190],\n        [-5.6735],\n        [-5.7310],\n        [-5.1305],\n        [ 5.3261],\n        [-6.5045],\n        [-5.5160],\n        [-5.3908],\n        [-4.2583],\n        [-6.7374],\n        [-4.8749],\n        [-5.6275],\n        [-4.7874],\n        [-6.3620],\n        [-5.6680],\n        [-5.3332],\n        [-7.1080],\n        [-5.7286],\n        [-6.6423],\n        [-5.6701],\n        [-5.6523],\n        [-4.3950],\n        [-5.3129],\n        [-7.1419]])"
     },
     "execution_count": 4,
     "metadata": {},
     "output_type": "execute_result"
    }
   ],
   "source": [
    "node_mask_gnn_subnet = exp.explain_graph_modified_s2v(g.s2v_test_dataset, 0.1, True)\n",
    "node_mask_gnn_subnet"
   ],
   "metadata": {
    "collapsed": false
   }
  },
  {
   "cell_type": "code",
   "execution_count": 6,
   "outputs": [
    {
     "data": {
      "text/plain": "     Epoch 0    Epoch 1    Epoch 2    Epoch 3    Epoch 4    Epoch 5   Epoch 6   \n0 -30.334724 -33.642708 -36.913509 -40.158226 -43.393124 -46.580338 -49.68969  \\\n\n     Epoch 7    Epoch 8    Epoch 9  ...   Epoch 290   Epoch 291   Epoch 292   \n0 -52.723156 -55.651218 -58.469872  ... -101.110291 -101.114792 -101.119057  \\\n\n    Epoch 293   Epoch 294  Epoch 295   Epoch 296   Epoch 297   Epoch 298   \n0 -101.123123 -101.126999 -101.13073 -101.134323 -101.137787 -101.141136  \\\n\n    Epoch 299  \n0 -101.144402  \n\n[1 rows x 300 columns]",
      "text/html": "<div>\n<style scoped>\n    .dataframe tbody tr th:only-of-type {\n        vertical-align: middle;\n    }\n\n    .dataframe tbody tr th {\n        vertical-align: top;\n    }\n\n    .dataframe thead th {\n        text-align: right;\n    }\n</style>\n<table border=\"1\" class=\"dataframe\">\n  <thead>\n    <tr style=\"text-align: right;\">\n      <th></th>\n      <th>Epoch 0</th>\n      <th>Epoch 1</th>\n      <th>Epoch 2</th>\n      <th>Epoch 3</th>\n      <th>Epoch 4</th>\n      <th>Epoch 5</th>\n      <th>Epoch 6</th>\n      <th>Epoch 7</th>\n      <th>Epoch 8</th>\n      <th>Epoch 9</th>\n      <th>...</th>\n      <th>Epoch 290</th>\n      <th>Epoch 291</th>\n      <th>Epoch 292</th>\n      <th>Epoch 293</th>\n      <th>Epoch 294</th>\n      <th>Epoch 295</th>\n      <th>Epoch 296</th>\n      <th>Epoch 297</th>\n      <th>Epoch 298</th>\n      <th>Epoch 299</th>\n    </tr>\n  </thead>\n  <tbody>\n    <tr>\n      <th>0</th>\n      <td>-30.334724</td>\n      <td>-33.642708</td>\n      <td>-36.913509</td>\n      <td>-40.158226</td>\n      <td>-43.393124</td>\n      <td>-46.580338</td>\n      <td>-49.68969</td>\n      <td>-52.723156</td>\n      <td>-55.651218</td>\n      <td>-58.469872</td>\n      <td>...</td>\n      <td>-101.110291</td>\n      <td>-101.114792</td>\n      <td>-101.119057</td>\n      <td>-101.123123</td>\n      <td>-101.126999</td>\n      <td>-101.13073</td>\n      <td>-101.134323</td>\n      <td>-101.137787</td>\n      <td>-101.141136</td>\n      <td>-101.144402</td>\n    </tr>\n  </tbody>\n</table>\n<p>1 rows × 300 columns</p>\n</div>"
     },
     "execution_count": 6,
     "metadata": {},
     "output_type": "execute_result"
    }
   ],
   "source": [
    "losses_gnn_subnet = pd.read_csv(\"GNNSubNet/saved_values/loss_values_gnn-subnet.csv\")\n",
    "losses_gnn_subnet"
   ],
   "metadata": {
    "collapsed": false
   }
  },
  {
   "cell_type": "code",
   "execution_count": 7,
   "outputs": [
    {
     "data": {
      "text/plain": "<Figure size 640x480 with 1 Axes>",
      "image/png": "[encoded data removed]"
     },
     "metadata": {},
     "output_type": "display_data"
    }
   ],
   "source": [
    "import matplotlib.pyplot as plt\n",
    "\n",
    "plt.plot(losses_gnn_subnet.iloc[0].values)\n",
    "plt.ylabel('Loss function value')\n",
    "plt.xlabel('Epoch')\n",
    "\n",
    "plt.show()"
   ],
   "metadata": {
    "collapsed": false
   }
  },
  {
   "cell_type": "markdown",
   "source": [
    "## RQ2: How can multiple local explanations be aggregated to obtain a global explanation?\n",
    "\n",
    "To verify the correctness of the mask aggregation, we use both methods in the task of disease subnetwork detection and obtain the accuracy of the two explainers."
   ],
   "metadata": {
    "collapsed": false
   }
  },
  {
   "cell_type": "code",
   "execution_count": 6,
   "outputs": [
    {
     "data": {
      "text/plain": "[-3.0346899557500002,\n -0.5078569104999999,\n 6.0254092785,\n -0.3570356859999999,\n -0.1517176115,\n -2.2598742017200006,\n 6.036233232,\n -2.2528973422000003,\n -0.6884245924999999,\n -2.8732688249000002,\n -2.3612033642999997,\n -2.5944220288500004,\n -2.6588298639229997,\n -2.7130762876999994,\n 0.1748628175000001,\n -2.5913167479499997,\n -0.05771814000000001,\n -2.34047323846,\n -3.875944284395,\n 0.18429285500000006,\n -0.7798533915,\n -2.26924792726,\n -2.810678845615,\n -2.3942571201750003,\n -2.21588612475,\n -2.60803866305,\n -0.7724600359999999,\n -2.5150072153200003,\n -2.6827661701500007,\n -2.7635420563000004]"
     },
     "execution_count": 6,
     "metadata": {},
     "output_type": "execute_result"
    }
   ],
   "source": [
    "node_mask = exp.aggregate_masks_from_file(\"GNNSubNet/saved_values/node_mask_values.csv\", np.mean)\n",
    "node_mask"
   ],
   "metadata": {
    "collapsed": false
   }
  },
  {
   "cell_type": "code",
   "execution_count": 7,
   "outputs": [],
   "source": [
    "def min_max(arr):\n",
    "\n",
    "    new_arr = []\n",
    "\n",
    "    minimum = min(arr)\n",
    "    maximum = max(arr)\n",
    "\n",
    "    for entry in arr:\n",
    "        new_entry = (entry - minimum) / (maximum - minimum)\n",
    "        new_arr.append(new_entry)\n",
    "\n",
    "    return new_arr"
   ],
   "metadata": {
    "collapsed": false
   }
  },
  {
   "cell_type": "code",
   "execution_count": 9,
   "outputs": [
    {
     "data": {
      "text/plain": "[0.035974299210022154,\n 0.07889420226356529,\n 1.0,\n 0.0,\n 0.8892814176094395,\n 0.09026474137513367,\n 0.997877620760268,\n 0.11195174744929895,\n 0.107592133944588,\n 0.15309546215707565,\n 0.9453786135029406,\n 0.0489842050314305,\n 0.12388481966659093,\n 0.1333719748174486,\n 0.21917977037015654,\n 0.03134143985569093,\n 0.17246155852163408,\n 0.11543876624820153,\n 0.1790915007245188,\n 0.059785816152258385,\n 0.11236983563808722,\n 0.1377337922090863,\n 0.0032581397221678977,\n 0.107772130086702,\n 0.03854811397679437,\n 0.11220656735904003,\n 0.1135562132612501,\n 0.20881727468715555,\n 0.13926957623337008,\n 0.000688732729249131]"
     },
     "execution_count": 9,
     "metadata": {},
     "output_type": "execute_result"
    }
   ],
   "source": [
    "minmax_gnnsubnet = min_max([tensor.item() for tensor in node_mask_gnn_subnet])\n",
    "minmax_gnnsubnet"
   ],
   "metadata": {
    "collapsed": false
   }
  },
  {
   "cell_type": "code",
   "execution_count": 10,
   "outputs": [
    {
     "data": {
      "text/plain": "[0.08487078921392835,\n 0.3397928828780655,\n 0.9989080145626835,\n 0.3550086338319339,\n 0.37572235431972767,\n 0.1630388559932444,\n 1.0,\n 0.16374272348436436,\n 0.32157613063555,\n 0.10115592238300299,\n 0.15281616149323188,\n 0.12928766191135385,\n 0.12278981267827997,\n 0.11731710764578084,\n 0.40866974942638584,\n 0.12960094129874017,\n 0.3852055855617552,\n 0.15490754109228683,\n 0.0,\n 0.4096211082458181,\n 0.31235224427467984,\n 0.1620931782625445,\n 0.10747037540621354,\n 0.14948150008101152,\n 0.16747663738862836,\n 0.1279139340722915,\n 0.3130981303817205,\n 0.13729950526248894,\n 0.12037497434559175,\n 0.11222581781400277]"
     },
     "execution_count": 10,
     "metadata": {},
     "output_type": "execute_result"
    }
   ],
   "source": [
    "minmax_new_alg = min_max(node_mask)\n",
    "minmax_new_alg"
   ],
   "metadata": {
    "collapsed": false
   }
  },
  {
   "cell_type": "code",
   "execution_count": 14,
   "outputs": [
    {
     "data": {
      "text/plain": "array([0.04889649, 0.26089868, 0.00109199, 0.35500863, 0.51355906,\n       0.07277411, 0.00212238, 0.05179098, 0.213984  , 0.05193954,\n       0.79256245, 0.08030346, 0.00109501, 0.01605487, 0.18948998,\n       0.0982595 , 0.21274403, 0.03946877, 0.1790915 , 0.34983529,\n       0.19998241, 0.02435939, 0.10421224, 0.04170937, 0.12892852,\n       0.01570737, 0.19954192, 0.07151777, 0.0188946 , 0.11153709])"
     },
     "execution_count": 14,
     "metadata": {},
     "output_type": "execute_result"
    }
   ],
   "source": [
    "abs(np.subtract(minmax_gnnsubnet, minmax_new_alg))"
   ],
   "metadata": {
    "collapsed": false
   }
  },
  {
   "cell_type": "markdown",
   "source": [
    "## Disease Subnetwork Detection\n",
    "\n",
    "The following code cells run both GNN-SubNet and the modified algorithm to detect disease subnetworks, then compares the obtained modules and the module importances. The algorithms are run on the TCGA data."
   ],
   "metadata": {
    "collapsed": false
   }
  },
  {
   "cell_type": "code",
   "execution_count": 1,
   "outputs": [
    {
     "name": "stdout",
     "output_type": "stream",
     "text": [
      "Graph is connected  False\n",
      "Calculate subgraph ...\n",
      "Number of subgraphs:  118\n",
      "Size of subgraph:  2049\n",
      "Graph is connected  True\n",
      "##################\n",
      "# DATASET LOADED #\n",
      "##################\n",
      "graphcnn for training ...\n",
      "Graphs class 0: 200, Graphs class 1: 306\n",
      "Length of balanced dataset list: 400\n",
      "Train graph class 0: 164, train graph class 1: 156\n",
      "Validation graph class 0: 36, validation graph class 1: 44\n"
     ]
    },
    {
     "name": "stderr",
     "output_type": "stream",
     "text": [
      "  0%|          | 0/35 [00:00<?, ?batch/s]C:\\Users\\elena\\DELFT\\assignments\\RP\\GNN-SubNet_modified\\GNNSubNet\\graphcnn.py:134: UserWarning: torch.sparse.SparseTensor(indices, values, shape, *, device=) is deprecated.  Please use torch.sparse_coo_tensor(indices, values, shape, dtype=, device=). (Triggered internally at C:\\actions-runner\\_work\\pytorch\\pytorch\\builder\\windows\\pytorch\\torch\\csrc\\utils\\tensor_new.cpp:623.)\n",
      "  graph_pool = torch.sparse.FloatTensor(idx, elem, torch.Size([len(batch_graph), start_idx[-1]]))\n",
      "100%|██████████| 35/35 [00:11<00:00,  3.06batch/s]\n"
     ]
    },
    {
     "name": "stdout",
     "output_type": "stream",
     "text": [
      "Epoch 0, loss 249.5466\n",
      "Train Acc 0.5625\n",
      "Epoch 0, val_loss 25.8900\n",
      "Saving best model with validation loss 25.889957427978516\n"
     ]
    },
    {
     "name": "stderr",
     "output_type": "stream",
     "text": [
      "100%|██████████| 35/35 [00:11<00:00,  2.98batch/s]\n"
     ]
    },
    {
     "name": "stdout",
     "output_type": "stream",
     "text": [
      "Epoch 1, loss 33.5900\n",
      "Train Acc 0.6562\n",
      "Epoch 1, val_loss 6.3147\n",
      "Saving best model with validation loss 6.314731597900391\n"
     ]
    },
    {
     "name": "stderr",
     "output_type": "stream",
     "text": [
      "100%|██████████| 35/35 [00:11<00:00,  2.94batch/s]\n"
     ]
    },
    {
     "name": "stdout",
     "output_type": "stream",
     "text": [
      "Epoch 2, loss 19.0727\n",
      "Train Acc 0.7750\n",
      "Epoch 2, val_loss 4.0569\n",
      "Saving best model with validation loss 4.0568671226501465\n"
     ]
    },
    {
     "name": "stderr",
     "output_type": "stream",
     "text": [
      "100%|██████████| 35/35 [00:12<00:00,  2.81batch/s]\n"
     ]
    },
    {
     "name": "stdout",
     "output_type": "stream",
     "text": [
      "Epoch 3, loss 15.8206\n",
      "Train Acc 0.4875\n",
      "Epoch 3, val_loss 24.3499\n"
     ]
    },
    {
     "name": "stderr",
     "output_type": "stream",
     "text": [
      "100%|██████████| 35/35 [00:13<00:00,  2.66batch/s]\n"
     ]
    },
    {
     "name": "stdout",
     "output_type": "stream",
     "text": [
      "Epoch 4, loss 15.2767\n",
      "Train Acc 0.5656\n",
      "Epoch 4, val_loss 11.2107\n"
     ]
    },
    {
     "name": "stderr",
     "output_type": "stream",
     "text": [
      "100%|██████████| 35/35 [00:12<00:00,  2.81batch/s]\n"
     ]
    },
    {
     "name": "stdout",
     "output_type": "stream",
     "text": [
      "Epoch 5, loss 9.2828\n",
      "Train Acc 0.5094\n",
      "Epoch 5, val_loss 14.5417\n"
     ]
    },
    {
     "name": "stderr",
     "output_type": "stream",
     "text": [
      "100%|██████████| 35/35 [00:12<00:00,  2.88batch/s]\n"
     ]
    },
    {
     "name": "stdout",
     "output_type": "stream",
     "text": [
      "Epoch 6, loss 13.8666\n",
      "Train Acc 0.6344\n",
      "Epoch 6, val_loss 5.2948\n"
     ]
    },
    {
     "name": "stderr",
     "output_type": "stream",
     "text": [
      "100%|██████████| 35/35 [00:11<00:00,  2.93batch/s]\n"
     ]
    },
    {
     "name": "stdout",
     "output_type": "stream",
     "text": [
      "Epoch 7, loss 6.6302\n",
      "Train Acc 0.6344\n",
      "Epoch 7, val_loss 4.6181\n"
     ]
    },
    {
     "name": "stderr",
     "output_type": "stream",
     "text": [
      "100%|██████████| 35/35 [00:12<00:00,  2.74batch/s]\n"
     ]
    },
    {
     "name": "stdout",
     "output_type": "stream",
     "text": [
      "Epoch 8, loss 8.4446\n",
      "Train Acc 0.7781\n",
      "Epoch 8, val_loss 2.3091\n",
      "Saving best model with validation loss 2.309143304824829\n"
     ]
    },
    {
     "name": "stderr",
     "output_type": "stream",
     "text": [
      "100%|██████████| 35/35 [00:12<00:00,  2.81batch/s]\n"
     ]
    },
    {
     "name": "stdout",
     "output_type": "stream",
     "text": [
      "Epoch 9, loss 13.2693\n",
      "Train Acc 0.7250\n",
      "Epoch 9, val_loss 3.8345\n"
     ]
    },
    {
     "name": "stderr",
     "output_type": "stream",
     "text": [
      "100%|██████████| 35/35 [00:12<00:00,  2.89batch/s]\n"
     ]
    },
    {
     "name": "stdout",
     "output_type": "stream",
     "text": [
      "Epoch 10, loss 13.9668\n",
      "Train Acc 0.7719\n",
      "Epoch 10, val_loss 3.3337\n"
     ]
    },
    {
     "name": "stderr",
     "output_type": "stream",
     "text": [
      "100%|██████████| 35/35 [00:12<00:00,  2.87batch/s]\n"
     ]
    },
    {
     "name": "stdout",
     "output_type": "stream",
     "text": [
      "Epoch 11, loss 15.9063\n",
      "Train Acc 0.7625\n",
      "Epoch 11, val_loss 4.7113\n"
     ]
    },
    {
     "name": "stderr",
     "output_type": "stream",
     "text": [
      "100%|██████████| 35/35 [00:11<00:00,  3.07batch/s]\n"
     ]
    },
    {
     "name": "stdout",
     "output_type": "stream",
     "text": [
      "Epoch 12, loss 8.3113\n",
      "Train Acc 0.8187\n",
      "Epoch 12, val_loss 2.0021\n",
      "Saving best model with validation loss 2.0021138191223145\n"
     ]
    },
    {
     "name": "stderr",
     "output_type": "stream",
     "text": [
      "100%|██████████| 35/35 [00:12<00:00,  2.70batch/s]\n"
     ]
    },
    {
     "name": "stdout",
     "output_type": "stream",
     "text": [
      "Epoch 13, loss 7.7603\n",
      "Train Acc 0.7781\n",
      "Epoch 13, val_loss 3.0941\n"
     ]
    },
    {
     "name": "stderr",
     "output_type": "stream",
     "text": [
      "100%|██████████| 35/35 [00:11<00:00,  2.96batch/s]\n"
     ]
    },
    {
     "name": "stdout",
     "output_type": "stream",
     "text": [
      "Epoch 14, loss 7.3722\n",
      "Train Acc 0.7375\n",
      "Epoch 14, val_loss 4.1868\n"
     ]
    },
    {
     "name": "stderr",
     "output_type": "stream",
     "text": [
      "100%|██████████| 35/35 [00:11<00:00,  2.95batch/s]\n"
     ]
    },
    {
     "name": "stdout",
     "output_type": "stream",
     "text": [
      "Epoch 15, loss 8.1653\n",
      "Train Acc 0.8063\n",
      "Epoch 15, val_loss 3.9356\n"
     ]
    },
    {
     "name": "stderr",
     "output_type": "stream",
     "text": [
      "100%|██████████| 35/35 [00:11<00:00,  2.93batch/s]\n"
     ]
    },
    {
     "name": "stdout",
     "output_type": "stream",
     "text": [
      "Epoch 16, loss 6.2656\n",
      "Train Acc 0.7906\n",
      "Epoch 16, val_loss 1.7810\n",
      "Saving best model with validation loss 1.780957818031311\n"
     ]
    },
    {
     "name": "stderr",
     "output_type": "stream",
     "text": [
      "100%|██████████| 35/35 [00:12<00:00,  2.91batch/s]\n"
     ]
    },
    {
     "name": "stdout",
     "output_type": "stream",
     "text": [
      "Epoch 17, loss 5.5122\n",
      "Train Acc 0.8313\n",
      "Epoch 17, val_loss 2.4323\n"
     ]
    },
    {
     "name": "stderr",
     "output_type": "stream",
     "text": [
      "100%|██████████| 35/35 [00:12<00:00,  2.89batch/s]\n"
     ]
    },
    {
     "name": "stdout",
     "output_type": "stream",
     "text": [
      "Epoch 18, loss 7.7101\n",
      "Train Acc 0.5250\n",
      "Epoch 18, val_loss 8.5733\n"
     ]
    },
    {
     "name": "stderr",
     "output_type": "stream",
     "text": [
      "100%|██████████| 35/35 [00:11<00:00,  3.06batch/s]\n"
     ]
    },
    {
     "name": "stdout",
     "output_type": "stream",
     "text": [
      "Epoch 19, loss 5.6753\n",
      "Train Acc 0.8313\n",
      "Epoch 19, val_loss 2.8354\n",
      "\n",
      "Confusion matrix (Validation set):\n",
      "\n",
      "[[25 11]\n",
      " [ 9 35]]\n",
      "Validation accuracy: 75.0%\n",
      "Validation loss 1.780957818031311\n"
     ]
    }
   ],
   "source": [
    "from GNNSubNet import GNNSubNet as gnn\n",
    "\n",
    "# location of the files\n",
    "loc   = \"TCGA\"\n",
    "# PPI network\n",
    "ppi   = f'{loc}/KIDNEY_RANDOM_PPI.txt'\n",
    "# single-omic features\n",
    "#feats = [f'{loc}/KIDNEY_RANDOM_Methy_FEATURES.txt']\n",
    "# multi-omic features\n",
    "feats = [f'{loc}/KIDNEY_RANDOM_mRNA_FEATURES.txt', f'{loc}/KIDNEY_RANDOM_Methy_FEATURES.txt']\n",
    "# outcome class\n",
    "targ  = f'{loc}/KIDNEY_RANDOM_TARGET.txt'\n",
    "\n",
    "# Load the multi-omics data\n",
    "g = gnn.GNNSubNet(loc, ppi, feats, targ)\n",
    "\n",
    "# Train the GNN classifier and validate performance on a test set\n",
    "g.train()"
   ],
   "metadata": {
    "collapsed": false
   }
  },
  {
   "cell_type": "code",
   "execution_count": 2,
   "outputs": [
    {
     "data": {
      "text/plain": "80"
     },
     "execution_count": 2,
     "metadata": {},
     "output_type": "execute_result"
    }
   ],
   "source": [
    "len(g.s2v_test_dataset)"
   ],
   "metadata": {
    "collapsed": false
   }
  },
  {
   "cell_type": "markdown",
   "source": [
    "### GNN-SubNet for disease subnetworks"
   ],
   "metadata": {
    "collapsed": false
   }
  },
  {
   "cell_type": "code",
   "execution_count": 3,
   "outputs": [
    {
     "name": "stdout",
     "output_type": "stream",
     "text": [
      "\n",
      "------- Run the Explainer -------\n",
      "\n",
      "GNN-SubNet: True\n",
      "Explainer::Iteration 1 of 10\n",
      "Explainer::Iteration 2 of 10\n",
      "Explainer::Iteration 3 of 10\n",
      "Explainer::Iteration 4 of 10\n",
      "Explainer::Iteration 5 of 10\n",
      "Explainer::Iteration 6 of 10\n",
      "Explainer::Iteration 7 of 10\n",
      "Explainer::Iteration 8 of 10\n",
      "Explainer::Iteration 9 of 10\n",
      "Explainer::Iteration 10 of 10\n"
     ]
    }
   ],
   "source": [
    "# Run GNN-SubNet with 10 iterations\n",
    "g.explain(10, gnn_subnet=True)"
   ],
   "metadata": {
    "collapsed": false
   }
  },
  {
   "cell_type": "code",
   "execution_count": 4,
   "outputs": [
    {
     "data": {
      "text/plain": "13588"
     },
     "execution_count": 4,
     "metadata": {},
     "output_type": "execute_result"
    }
   ],
   "source": [
    "len(g.edge_mask)"
   ],
   "metadata": {
    "collapsed": false
   }
  },
  {
   "cell_type": "code",
   "execution_count": 5,
   "outputs": [],
   "source": [
    "def read_communities(file_path):\n",
    "    communities = []\n",
    "\n",
    "    with open(file_path, 'r') as file:\n",
    "        for line in file:\n",
    "            # Split the line by comma, handling empty elements\n",
    "            community = [int(num) for num in line.strip().split(',') if num]\n",
    "            communities.append(community)\n",
    "\n",
    "    return communities\n",
    "\n",
    "def read_community_importances(file_path):\n",
    "    community_importances = []\n",
    "\n",
    "    with open(file_path, 'r') as file:\n",
    "        for line in file:\n",
    "          # Remove leading/trailing whitespaces and convert to number\n",
    "          community_importances.append(float(line.strip()))\n",
    "\n",
    "    return community_importances"
   ],
   "metadata": {
    "collapsed": false
   }
  },
  {
   "cell_type": "code",
   "execution_count": 6,
   "outputs": [
    {
     "data": {
      "text/plain": "[[0,\n  16,\n  45,\n  46,\n  47,\n  48,\n  49,\n  50,\n  61,\n  62,\n  69,\n  92,\n  100,\n  101,\n  123,\n  124,\n  125,\n  126,\n  127,\n  128,\n  189,\n  198,\n  204,\n  226,\n  227,\n  229,\n  230,\n  231,\n  232,\n  233,\n  234,\n  235,\n  236,\n  237,\n  280,\n  290,\n  291,\n  294,\n  295,\n  297,\n  301,\n  334,\n  336,\n  355,\n  372,\n  373,\n  374,\n  375,\n  376,\n  377,\n  378,\n  379,\n  380,\n  381,\n  382,\n  383,\n  384,\n  385,\n  386,\n  387,\n  388,\n  389,\n  390,\n  391,\n  392,\n  396,\n  397,\n  398,\n  405,\n  408,\n  422,\n  507,\n  521,\n  565,\n  568,\n  614,\n  615,\n  618,\n  619,\n  620,\n  635,\n  650,\n  656,\n  668,\n  676,\n  722,\n  742,\n  745,\n  746,\n  747,\n  755,\n  797,\n  833,\n  834,\n  835,\n  845,\n  852,\n  914,\n  915,\n  916,\n  917,\n  918,\n  919,\n  920,\n  921,\n  922,\n  923,\n  924,\n  925,\n  926,\n  927,\n  928,\n  929,\n  930,\n  931,\n  932,\n  933,\n  934,\n  995,\n  1004,\n  1005,\n  1006,\n  1007,\n  1008,\n  1009,\n  1010,\n  1011,\n  1012,\n  1013,\n  1014,\n  1018,\n  1037,\n  1038,\n  1039,\n  1042,\n  1046,\n  1049,\n  1077,\n  1110,\n  1126,\n  1127,\n  1129,\n  1133,\n  1152,\n  1159,\n  1191,\n  1208,\n  1227,\n  1228,\n  1255,\n  1261,\n  1315,\n  1397,\n  1398,\n  1421,\n  1434,\n  1464,\n  1481,\n  1482,\n  1611,\n  1635,\n  1651,\n  1660,\n  1665,\n  1666,\n  1667,\n  1668,\n  1669,\n  1686,\n  1694,\n  1733,\n  1737,\n  1739,\n  1742,\n  1839,\n  1842,\n  1846,\n  1852,\n  1858,\n  1869,\n  1878,\n  1977,\n  1978,\n  1981,\n  1992,\n  1993],\n [1,\n  5,\n  22,\n  23,\n  24,\n  25,\n  26,\n  27,\n  28,\n  177,\n  292,\n  352,\n  403,\n  404,\n  414,\n  415,\n  545,\n  647,\n  648,\n  736,\n  748,\n  781,\n  782,\n  821,\n  822,\n  823,\n  836,\n  1036,\n  1188,\n  1241,\n  1256,\n  1308,\n  1349,\n  1350,\n  1351,\n  1406,\n  1438,\n  1693],\n [2,\n  3,\n  265,\n  449,\n  583,\n  629,\n  630,\n  631,\n  853,\n  854,\n  1076,\n  1521,\n  1536,\n  1537,\n  1619,\n  1819,\n  2025],\n [4,\n  369,\n  370,\n  371,\n  687,\n  688,\n  705,\n  706,\n  737,\n  738,\n  1047,\n  1442,\n  1443,\n  1444,\n  1445,\n  1446,\n  1512,\n  1513,\n  1515,\n  1566,\n  1569,\n  1690,\n  1700,\n  1721,\n  1786,\n  1787,\n  1788,\n  1789,\n  1790,\n  1798,\n  1804,\n  1868,\n  1924,\n  1950,\n  1951,\n  1990,\n  1991],\n [6,\n  7,\n  64,\n  117,\n  147,\n  165,\n  179,\n  180,\n  182,\n  185,\n  196,\n  213,\n  217,\n  239,\n  254,\n  255,\n  256,\n  264,\n  273,\n  277,\n  319,\n  338,\n  339,\n  340,\n  410,\n  421,\n  424,\n  434,\n  459,\n  466,\n  499,\n  500,\n  501,\n  529,\n  530,\n  531,\n  532,\n  536,\n  543,\n  546,\n  547,\n  599,\n  600,\n  601,\n  602,\n  616,\n  617,\n  623,\n  669,\n  700,\n  739,\n  741,\n  777,\n  785,\n  786,\n  787,\n  788,\n  789,\n  798,\n  800,\n  802,\n  803,\n  804,\n  805,\n  806,\n  807,\n  808,\n  809,\n  810,\n  811,\n  812,\n  824,\n  856,\n  947,\n  948,\n  949,\n  952,\n  957,\n  958,\n  959,\n  1071,\n  1092,\n  1095,\n  1096,\n  1098,\n  1099,\n  1100,\n  1101,\n  1102,\n  1103,\n  1104,\n  1105,\n  1143,\n  1144,\n  1163,\n  1168,\n  1169,\n  1200,\n  1201,\n  1202,\n  1203,\n  1204,\n  1205,\n  1206,\n  1214,\n  1218,\n  1219,\n  1250,\n  1262,\n  1263,\n  1264,\n  1266,\n  1268,\n  1272,\n  1320,\n  1348,\n  1360,\n  1362,\n  1363,\n  1364,\n  1392,\n  1407,\n  1415,\n  1437,\n  1439,\n  1440,\n  1441,\n  1451,\n  1452,\n  1457,\n  1458,\n  1460,\n  1461,\n  1480,\n  1534,\n  1535,\n  1542,\n  1544,\n  1546,\n  1556,\n  1610,\n  1615,\n  1670,\n  1687,\n  1725,\n  1738,\n  1810,\n  1827,\n  1828,\n  1843,\n  1844,\n  1853,\n  1854,\n  1862,\n  1887,\n  1888,\n  1898,\n  1899,\n  1901,\n  1934,\n  1940,\n  1947,\n  1966,\n  2032,\n  2035,\n  2037,\n  2038,\n  2039,\n  2040,\n  2042],\n [8,\n  9,\n  52,\n  53,\n  54,\n  55,\n  56,\n  57,\n  58,\n  59,\n  76,\n  270,\n  511,\n  512,\n  685,\n  686,\n  717,\n  732,\n  751,\n  752,\n  753,\n  768,\n  769,\n  847,\n  850,\n  953,\n  954,\n  1023,\n  1033,\n  1303,\n  1304,\n  1327,\n  1333,\n  1346,\n  1418,\n  1420,\n  1468,\n  1469,\n  1533,\n  1570,\n  1695,\n  1696,\n  1806,\n  1914],\n [10,\n  157,\n  305,\n  313,\n  360,\n  361,\n  362,\n  363,\n  364,\n  465,\n  492,\n  493,\n  494,\n  496,\n  508,\n  537,\n  538,\n  539,\n  548,\n  549,\n  550,\n  551,\n  552,\n  553,\n  554,\n  555,\n  556,\n  557,\n  558,\n  559,\n  595,\n  697,\n  837,\n  838,\n  839,\n  840,\n  841,\n  842,\n  843,\n  844,\n  846,\n  1053,\n  1265,\n  1331,\n  1340,\n  1388,\n  1389,\n  1390,\n  1593,\n  1594,\n  1647,\n  1648,\n  1649,\n  1763,\n  1785,\n  1831,\n  1832,\n  1833,\n  1834,\n  1835,\n  1873,\n  1953],\n [11,\n  30,\n  31,\n  39,\n  66,\n  107,\n  108,\n  109,\n  110,\n  111,\n  112,\n  113,\n  114,\n  115,\n  116,\n  149,\n  354,\n  429,\n  437,\n  438,\n  446,\n  495,\n  497,\n  498,\n  504,\n  505,\n  564,\n  581,\n  584,\n  678,\n  698,\n  799,\n  863,\n  939,\n  940,\n  1043,\n  1197,\n  1198,\n  1230,\n  1309,\n  1676,\n  1681,\n  1722,\n  1729,\n  1734,\n  1784,\n  1800,\n  1801,\n  1802,\n  1803,\n  1995,\n  1996,\n  1997,\n  1998],\n [12,\n  44,\n  51,\n  77,\n  105,\n  130,\n  132,\n  133,\n  134,\n  135,\n  136,\n  137,\n  138,\n  139,\n  140,\n  141,\n  142,\n  143,\n  144,\n  145,\n  151,\n  176,\n  190,\n  193,\n  195,\n  197,\n  202,\n  209,\n  240,\n  271,\n  272,\n  284,\n  285,\n  286,\n  287,\n  288,\n  289,\n  293,\n  296,\n  298,\n  299,\n  300,\n  312,\n  347,\n  359,\n  406,\n  418,\n  419,\n  420,\n  436,\n  445,\n  448,\n  455,\n  477,\n  482,\n  490,\n  506,\n  515,\n  541,\n  542,\n  567,\n  576,\n  577,\n  578,\n  579,\n  586,\n  587,\n  588,\n  644,\n  645,\n  646,\n  651,\n  652,\n  653,\n  654,\n  655,\n  657,\n  662,\n  663,\n  664,\n  665,\n  684,\n  693,\n  703,\n  714,\n  715,\n  716,\n  718,\n  719,\n  729,\n  743,\n  750,\n  754,\n  756,\n  793,\n  794,\n  857,\n  862,\n  866,\n  867,\n  868,\n  869,\n  873,\n  874,\n  875,\n  876,\n  877,\n  878,\n  879,\n  880,\n  881,\n  888,\n  889,\n  890,\n  891,\n  905,\n  911,\n  912,\n  935,\n  944,\n  945,\n  946,\n  950,\n  960,\n  985,\n  987,\n  988,\n  989,\n  994,\n  1000,\n  1002,\n  1003,\n  1020,\n  1026,\n  1027,\n  1028,\n  1029,\n  1032,\n  1041,\n  1050,\n  1054,\n  1059,\n  1067,\n  1084,\n  1111,\n  1125,\n  1128,\n  1134,\n  1135,\n  1161,\n  1162,\n  1178,\n  1180,\n  1183,\n  1190,\n  1211,\n  1213,\n  1225,\n  1249,\n  1269,\n  1270,\n  1271,\n  1274,\n  1295,\n  1296,\n  1297,\n  1298,\n  1305,\n  1310,\n  1311,\n  1336,\n  1337,\n  1370,\n  1373,\n  1374,\n  1378,\n  1387,\n  1393,\n  1394,\n  1402,\n  1403,\n  1405,\n  1412,\n  1413,\n  1449,\n  1450,\n  1465,\n  1473,\n  1479,\n  1504,\n  1505,\n  1506,\n  1507,\n  1508,\n  1509,\n  1510,\n  1511,\n  1514,\n  1528,\n  1532,\n  1538,\n  1540,\n  1541,\n  1557,\n  1564,\n  1565,\n  1571,\n  1574,\n  1581,\n  1583,\n  1584,\n  1585,\n  1586,\n  1587,\n  1608,\n  1609,\n  1616,\n  1617,\n  1656,\n  1657,\n  1678,\n  1679,\n  1680,\n  1684,\n  1698,\n  1699,\n  1735,\n  1736,\n  1745,\n  1750,\n  1760,\n  1761,\n  1762,\n  1771,\n  1774,\n  1776,\n  1777,\n  1778,\n  1779,\n  1780,\n  1781,\n  1796,\n  1838,\n  1855,\n  1856,\n  1881,\n  1882,\n  1896,\n  1904,\n  1905,\n  1907,\n  1926,\n  1929,\n  1954,\n  1955,\n  1962,\n  1967,\n  1974,\n  1975,\n  1976,\n  2027,\n  2029],\n [13,\n  207,\n  452,\n  460,\n  462,\n  464,\n  480,\n  481,\n  503,\n  534,\n  597,\n  613,\n  634,\n  674,\n  735,\n  791,\n  1132,\n  1164,\n  1189,\n  1199,\n  1239,\n  1243,\n  1244,\n  1245,\n  1246,\n  1247,\n  1319,\n  1330,\n  1352,\n  1372,\n  1428,\n  1517,\n  1549,\n  1604,\n  1605,\n  1606,\n  1689,\n  1823,\n  1915,\n  1968,\n  1969,\n  2002,\n  2005,\n  2023,\n  2030,\n  2031],\n [14,\n  15,\n  19,\n  20,\n  21,\n  63,\n  68,\n  82,\n  83,\n  84,\n  85,\n  86,\n  95,\n  96,\n  152,\n  163,\n  166,\n  167,\n  169,\n  170,\n  220,\n  250,\n  399,\n  632,\n  671,\n  699,\n  701,\n  707,\n  708,\n  712,\n  713,\n  727,\n  728,\n  730,\n  749,\n  779,\n  815,\n  816,\n  817,\n  818,\n  819,\n  855,\n  883,\n  941,\n  962,\n  1083,\n  1114,\n  1145,\n  1146,\n  1147,\n  1149,\n  1150,\n  1226,\n  1301,\n  1322,\n  1324,\n  1325,\n  1326,\n  1338,\n  1339,\n  1342,\n  1343,\n  1353,\n  1354,\n  1355,\n  1356,\n  1357,\n  1358,\n  1359,\n  1365,\n  1391,\n  1518,\n  1519,\n  1520,\n  1691,\n  1692,\n  1860,\n  1866,\n  1942],\n [17,\n  70,\n  71,\n  102,\n  103,\n  104,\n  357,\n  358,\n  366,\n  368,\n  535,\n  570,\n  731,\n  733,\n  734,\n  851,\n  936,\n  937,\n  938,\n  955,\n  956,\n  1136,\n  1217,\n  1267,\n  1334,\n  1335,\n  1399,\n  1400,\n  1401,\n  1477,\n  1478,\n  1562,\n  1563,\n  1626,\n  1627,\n  1628,\n  1629,\n  1630,\n  1631,\n  1632,\n  1751,\n  1752,\n  1753,\n  1754,\n  1755,\n  1756,\n  1757,\n  1782,\n  1906,\n  1908],\n [18,\n  33,\n  60,\n  65,\n  73,\n  129,\n  146,\n  183,\n  184,\n  186,\n  187,\n  188,\n  191,\n  212,\n  218,\n  219,\n  259,\n  266,\n  279,\n  281,\n  282,\n  283,\n  306,\n  307,\n  308,\n  310,\n  314,\n  315,\n  318,\n  341,\n  343,\n  400,\n  401,\n  402,\n  413,\n  416,\n  417,\n  423,\n  426,\n  427,\n  435,\n  450,\n  461,\n  463,\n  467,\n  468,\n  469,\n  471,\n  473,\n  474,\n  476,\n  479,\n  540,\n  560,\n  561,\n  562,\n  563,\n  582,\n  585,\n  603,\n  606,\n  607,\n  608,\n  609,\n  610,\n  611,\n  612,\n  624,\n  649,\n  659,\n  677,\n  692,\n  704,\n  710,\n  711,\n  744,\n  772,\n  790,\n  801,\n  825,\n  826,\n  827,\n  828,\n  829,\n  849,\n  882,\n  892,\n  893,\n  894,\n  895,\n  896,\n  897,\n  898,\n  899,\n  901,\n  902,\n  903,\n  942,\n  951,\n  963,\n  970,\n  991,\n  1001,\n  1019,\n  1030,\n  1081,\n  1097,\n  1112,\n  1122,\n  1181,\n  1184,\n  1186,\n  1187,\n  1215,\n  1312,\n  1314,\n  1317,\n  1318,\n  1323,\n  1341,\n  1419,\n  1429,\n  1453,\n  1454,\n  1455,\n  1456,\n  1459,\n  1483,\n  1484,\n  1485,\n  1486,\n  1487,\n  1488,\n  1489,\n  1498,\n  1547,\n  1548,\n  1550,\n  1551,\n  1552,\n  1577,\n  1580,\n  1590,\n  1596,\n  1618,\n  1620,\n  1623,\n  1634,\n  1661,\n  1662,\n  1663,\n  1664,\n  1671,\n  1672,\n  1673,\n  1674,\n  1697,\n  1704,\n  1705,\n  1706,\n  1707,\n  1708,\n  1714,\n  1715,\n  1716,\n  1717,\n  1726,\n  1727,\n  1749,\n  1764,\n  1765,\n  1766,\n  1767,\n  1768,\n  1791,\n  1792,\n  1793,\n  1797,\n  1799,\n  1822,\n  1825,\n  1826,\n  1841,\n  1845,\n  1877,\n  1918,\n  1919,\n  1952,\n  1956,\n  1957,\n  1994,\n  1999,\n  2003,\n  2015,\n  2024,\n  2026,\n  2034,\n  2041,\n  2043,\n  2044,\n  2045],\n [29,\n  32,\n  34,\n  35,\n  36,\n  37,\n  119,\n  251,\n  275,\n  425,\n  432,\n  433,\n  720,\n  986,\n  1017,\n  1034,\n  1040,\n  1166,\n  1167,\n  1170,\n  1171,\n  1172,\n  1173,\n  1174,\n  1175,\n  1176,\n  1177,\n  1179,\n  1209,\n  1259,\n  1299,\n  1731,\n  1732,\n  1859,\n  1864,\n  1875,\n  1876,\n  1909,\n  1917,\n  1970,\n  1979],\n [38,\n  78,\n  97,\n  98,\n  99,\n  154,\n  200,\n  222,\n  223,\n  224,\n  276,\n  304,\n  316,\n  320,\n  321,\n  323,\n  348,\n  349,\n  350,\n  351,\n  457,\n  488,\n  519,\n  525,\n  526,\n  533,\n  596,\n  598,\n  670,\n  814,\n  884,\n  906,\n  907,\n  965,\n  967,\n  968,\n  969,\n  971,\n  972,\n  975,\n  978,\n  979,\n  980,\n  981,\n  984,\n  990,\n  996,\n  1031,\n  1051,\n  1052,\n  1091,\n  1109,\n  1121,\n  1165,\n  1192,\n  1193,\n  1194,\n  1195,\n  1196,\n  1207,\n  1231,\n  1281,\n  1293,\n  1344,\n  1345,\n  1524,\n  1688,\n  1709,\n  1710,\n  1711,\n  1712,\n  1713,\n  1740,\n  1741,\n  1772,\n  1773,\n  1794,\n  1795,\n  1807,\n  1808,\n  1809,\n  1883,\n  1884,\n  1902,\n  1963,\n  2036,\n  2048],\n [40, 214, 571, 574, 575, 887, 1224, 1811, 1812, 1813, 1814, 1815, 1910],\n [41,\n  42,\n  43,\n  155,\n  156,\n  173,\n  181,\n  205,\n  206,\n  335,\n  344,\n  428,\n  569,\n  621,\n  622,\n  673,\n  675,\n  709,\n  721,\n  771,\n  795,\n  813,\n  820,\n  885,\n  886,\n  1016,\n  1035,\n  1079,\n  1080,\n  1142,\n  1182,\n  1185,\n  1212,\n  1260,\n  1306,\n  1307,\n  1332,\n  1361,\n  1491,\n  1492,\n  1493,\n  1494,\n  1495,\n  1496,\n  1497,\n  1523,\n  1558,\n  1575,\n  1578,\n  1650,\n  1685,\n  1701,\n  1702,\n  1703,\n  1719,\n  1720,\n  1775,\n  1847,\n  1848,\n  1849,\n  1850,\n  1863,\n  1913,\n  1925,\n  1928,\n  1930,\n  1931,\n  1932,\n  1933,\n  1935,\n  1936,\n  1939,\n  1941,\n  1965,\n  1980,\n  1982,\n  1983,\n  1984,\n  1985,\n  1986,\n  1987,\n  1988,\n  1989,\n  2013,\n  2014,\n  2033,\n  2047],\n [67,\n  118,\n  153,\n  168,\n  241,\n  242,\n  243,\n  244,\n  245,\n  246,\n  247,\n  248,\n  249,\n  252,\n  253,\n  345,\n  483,\n  484,\n  485,\n  486,\n  487,\n  573,\n  757,\n  758,\n  759,\n  760,\n  761,\n  762,\n  763,\n  764,\n  765,\n  766,\n  767,\n  770,\n  848,\n  1048,\n  1074,\n  1075,\n  1094,\n  1232,\n  1233,\n  1248,\n  1275,\n  1276,\n  1371,\n  1404,\n  1471,\n  1474,\n  1539,\n  1612,\n  1613,\n  1614,\n  1682,\n  1805,\n  1897],\n [72,\n  79,\n  88,\n  228,\n  274,\n  317,\n  322,\n  324,\n  325,\n  326,\n  327,\n  328,\n  329,\n  330,\n  331,\n  332,\n  633,\n  783,\n  784,\n  900,\n  904,\n  973,\n  1210,\n  1229,\n  1240,\n  1257,\n  1258,\n  1282,\n  1300,\n  1328,\n  1329,\n  1408,\n  1591,\n  1592,\n  1622,\n  1625,\n  1636,\n  1675,\n  1830,\n  1867,\n  1920,\n  1921,\n  1922,\n  1923],\n [74,\n  94,\n  148,\n  238,\n  365,\n  367,\n  412,\n  489,\n  509,\n  510,\n  522,\n  523,\n  572,\n  628,\n  796,\n  913,\n  943,\n  1015,\n  1056,\n  1057,\n  1120,\n  1216,\n  1251,\n  1252,\n  1253,\n  1254,\n  1273,\n  1283,\n  1409,\n  1410,\n  1411,\n  1414,\n  1490,\n  1500,\n  1516,\n  1652,\n  1653,\n  1654,\n  1655,\n  1658,\n  1659,\n  1744,\n  1783,\n  1861,\n  2012],\n [75,\n  87,\n  159,\n  192,\n  194,\n  201,\n  260,\n  261,\n  262,\n  263,\n  267,\n  268,\n  269,\n  346,\n  409,\n  447,\n  470,\n  475,\n  524,\n  566,\n  589,\n  672,\n  864,\n  865,\n  870,\n  871,\n  872,\n  908,\n  909,\n  961,\n  964,\n  1055,\n  1060,\n  1061,\n  1062,\n  1063,\n  1064,\n  1065,\n  1066,\n  1068,\n  1069,\n  1072,\n  1078,\n  1106,\n  1113,\n  1220,\n  1221,\n  1222,\n  1223,\n  1234,\n  1235,\n  1236,\n  1237,\n  1238,\n  1242,\n  1278,\n  1279,\n  1280,\n  1302,\n  1347,\n  1472,\n  1475,\n  1554,\n  1555,\n  1572,\n  1573,\n  1579,\n  1599,\n  1621,\n  1683,\n  1758,\n  1816,\n  1817,\n  1820,\n  1865,\n  1870,\n  1871,\n  1890,\n  1892,\n  1893,\n  1900,\n  1960,\n  1964,\n  2028],\n [80,\n  81,\n  93,\n  160,\n  161,\n  162,\n  407,\n  660,\n  1073,\n  1082,\n  1148,\n  1366,\n  1367,\n  1368,\n  1369,\n  1375,\n  1376,\n  1377,\n  1379,\n  1380,\n  1381,\n  1382,\n  1383,\n  1384,\n  1385,\n  1386,\n  1467,\n  1470,\n  1543,\n  1567,\n  1597,\n  1598,\n  1600,\n  1601,\n  1602,\n  1677,\n  1759,\n  1821,\n  1840,\n  1911,\n  1912,\n  1927,\n  1937,\n  1938,\n  1948,\n  1949,\n  1971,\n  1972,\n  2007],\n [89, 90, 91, 1501, 1502, 1503, 1824],\n [106,\n  150,\n  333,\n  439,\n  440,\n  441,\n  442,\n  443,\n  444,\n  580,\n  666,\n  667,\n  778,\n  1058,\n  1447,\n  1943,\n  1944,\n  1945,\n  1946],\n [120,\n  121,\n  174,\n  175,\n  679,\n  680,\n  681,\n  682,\n  683,\n  1021,\n  1022,\n  1044,\n  1045,\n  1466,\n  1582,\n  1588,\n  1589,\n  1633,\n  1743,\n  1829,\n  1872,\n  1874,\n  1973,\n  2006,\n  2008,\n  2009,\n  2010,\n  2046],\n [122,\n  158,\n  164,\n  171,\n  172,\n  178,\n  203,\n  210,\n  211,\n  216,\n  257,\n  278,\n  303,\n  309,\n  311,\n  337,\n  342,\n  353,\n  395,\n  430,\n  431,\n  451,\n  453,\n  454,\n  456,\n  458,\n  472,\n  491,\n  502,\n  590,\n  591,\n  592,\n  593,\n  594,\n  605,\n  625,\n  626,\n  627,\n  636,\n  637,\n  638,\n  639,\n  640,\n  641,\n  642,\n  643,\n  780,\n  792,\n  910,\n  1024,\n  1025,\n  1085,\n  1086,\n  1088,\n  1089,\n  1090,\n  1093,\n  1123,\n  1124,\n  1130,\n  1137,\n  1138,\n  1139,\n  1140,\n  1141,\n  1158,\n  1160,\n  1277,\n  1313,\n  1316,\n  1321,\n  1416,\n  1417,\n  1422,\n  1423,\n  1424,\n  1425,\n  1426,\n  1427,\n  1436,\n  1462,\n  1476,\n  1522,\n  1525,\n  1526,\n  1527,\n  1545,\n  1559,\n  1560,\n  1561,\n  1568,\n  1576,\n  1603,\n  1607,\n  1728,\n  1730,\n  1747,\n  1857,\n  1885,\n  1886,\n  1903,\n  1959,\n  1961,\n  2000,\n  2011,\n  2019,\n  2020,\n  2021,\n  2022],\n [131,\n  258,\n  302,\n  393,\n  394,\n  702,\n  723,\n  740,\n  997,\n  998,\n  999,\n  1070,\n  1087,\n  1119,\n  1284,\n  1285,\n  1286,\n  1287,\n  1288,\n  1289,\n  1290,\n  1291,\n  1292,\n  1294,\n  1433,\n  1463,\n  1529,\n  1530,\n  1531,\n  1553,\n  1624,\n  1637,\n  1638,\n  1639,\n  1640,\n  1641,\n  1642,\n  1643,\n  1644,\n  1645,\n  1646,\n  1889,\n  1894,\n  1895,\n  1958,\n  2016,\n  2018],\n [199, 215, 773, 774, 775, 776, 1430, 1431, 1432, 1723, 1724],\n [208,\n  356,\n  411,\n  527,\n  528,\n  658,\n  724,\n  725,\n  726,\n  858,\n  859,\n  860,\n  861,\n  966,\n  974,\n  976,\n  977,\n  982,\n  983,\n  1151,\n  1499,\n  1718,\n  1748,\n  1891,\n  1916,\n  2001,\n  2004],\n [221,\n  513,\n  514,\n  516,\n  517,\n  518,\n  520,\n  604,\n  661,\n  992,\n  993,\n  1395,\n  1396,\n  1448,\n  1746,\n  1769,\n  1851],\n [225, 689, 690, 691, 694, 695, 696, 1153, 1154, 1155, 1156, 1157, 1770],\n [478, 1131, 1435, 1595, 1818, 1879, 1880, 2017],\n [544, 830, 831, 832, 1107, 1108, 1836, 1837],\n [1115, 1116, 1117, 1118]]"
     },
     "execution_count": 6,
     "metadata": {},
     "output_type": "execute_result"
    }
   ],
   "source": [
    "communities_gnn_subnet = read_communities(\"TCGA/communities_gnn_subnet.txt\")\n",
    "communities_gnn_subnet"
   ],
   "metadata": {
    "collapsed": false
   }
  },
  {
   "cell_type": "code",
   "execution_count": 7,
   "outputs": [
    {
     "data": {
      "text/plain": "[0.79,\n 0.602,\n 0.392,\n 0.449,\n 0.589,\n 0.737,\n 0.521,\n 0.584,\n 0.697,\n 0.501,\n 0.602,\n 0.838,\n 0.369,\n 0.843,\n 0.571,\n 0.59,\n 0.529,\n 0.813,\n 0.369,\n 0.705,\n 0.594,\n 0.676,\n 0.576,\n 0.773,\n 0.603,\n 0.539,\n 0.382,\n 0.487,\n 0.379,\n 0.826,\n 0.722,\n 0.616,\n 0.674,\n 0.863]"
     },
     "execution_count": 7,
     "metadata": {},
     "output_type": "execute_result"
    }
   ],
   "source": [
    "comm_importance_gnn_subnet = read_community_importances(\"TCGA/communities_scores_gnn_subnet.txt\")\n",
    "comm_importance_gnn_subnet"
   ],
   "metadata": {
    "collapsed": false
   }
  },
  {
   "cell_type": "code",
   "execution_count": 9,
   "outputs": [
    {
     "data": {
      "text/plain": "array(['MGAT3', 'MGAT4B', 'MGAT5', 'MGAT5B'], dtype=object)"
     },
     "execution_count": 9,
     "metadata": {},
     "output_type": "execute_result"
    }
   ],
   "source": [
    "import numpy as np\n",
    "\n",
    "sorted_indices = np.argsort(comm_importance_gnn_subnet)[::-1]\n",
    "\n",
    "sorted_communities_gnn_subnet = []\n",
    "\n",
    "# Loop through sorted indices and assign cluster memberships\n",
    "for index in sorted_indices:\n",
    "  sorted_communities_gnn_subnet.append(communities_gnn_subnet[index])\n",
    "\n",
    "# The gene names of the community ranked highest by gnn-subnet\n",
    "g.gene_names[sorted_communities_gnn_subnet[0]]"
   ],
   "metadata": {
    "collapsed": false
   }
  },
  {
   "cell_type": "markdown",
   "source": [
    "### The modified algorithm for disease subnetworks"
   ],
   "metadata": {
    "collapsed": false
   }
  },
  {
   "cell_type": "code",
   "execution_count": 10,
   "outputs": [
    {
     "name": "stdout",
     "output_type": "stream",
     "text": [
      "\n",
      "------- Run the Explainer -------\n",
      "\n",
      "GNN-SubNet: False\n",
      "Explainer::Iteration 1 of 10\n",
      "Explainer::Iteration 2 of 10\n",
      "Explainer::Iteration 3 of 10\n",
      "Explainer::Iteration 4 of 10\n",
      "Explainer::Iteration 5 of 10\n",
      "Explainer::Iteration 6 of 10\n",
      "Explainer::Iteration 7 of 10\n",
      "Explainer::Iteration 8 of 10\n",
      "Explainer::Iteration 9 of 10\n",
      "Explainer::Iteration 10 of 10\n"
     ]
    }
   ],
   "source": [
    "g.explain(10, gnn_subnet=False)"
   ],
   "metadata": {
    "collapsed": false
   }
  },
  {
   "cell_type": "code",
   "execution_count": 11,
   "outputs": [
    {
     "data": {
      "text/plain": "[[0,\n  17,\n  45,\n  47,\n  50,\n  61,\n  62,\n  70,\n  71,\n  123,\n  124,\n  125,\n  126,\n  127,\n  128,\n  140,\n  197,\n  198,\n  226,\n  227,\n  229,\n  230,\n  231,\n  232,\n  233,\n  234,\n  235,\n  236,\n  237,\n  280,\n  290,\n  291,\n  295,\n  297,\n  301,\n  334,\n  355,\n  396,\n  397,\n  398,\n  405,\n  407,\n  408,\n  429,\n  535,\n  570,\n  619,\n  620,\n  650,\n  656,\n  668,\n  731,\n  733,\n  734,\n  742,\n  834,\n  835,\n  914,\n  915,\n  916,\n  918,\n  919,\n  920,\n  922,\n  923,\n  924,\n  925,\n  926,\n  927,\n  928,\n  929,\n  930,\n  931,\n  933,\n  934,\n  995,\n  1004,\n  1005,\n  1018,\n  1039,\n  1042,\n  1043,\n  1046,\n  1049,\n  1082,\n  1110,\n  1129,\n  1152,\n  1261,\n  1397,\n  1398,\n  1401,\n  1421,\n  1434,\n  1481,\n  1482,\n  1562,\n  1563,\n  1651,\n  1660,\n  1665,\n  1666,\n  1667,\n  1668,\n  1669,\n  1686,\n  1694,\n  1733,\n  1842,\n  1846,\n  1852,\n  1977,\n  1981,\n  1992,\n  1993],\n [1,\n  20,\n  21,\n  22,\n  23,\n  24,\n  25,\n  26,\n  27,\n  28,\n  177,\n  404,\n  414,\n  545,\n  647,\n  648,\n  736,\n  748,\n  781,\n  782,\n  821,\n  822,\n  823,\n  836,\n  855,\n  1036,\n  1301,\n  1308,\n  1338,\n  1339,\n  1342,\n  1343,\n  1691,\n  1692,\n  1693],\n [2,\n  3,\n  186,\n  187,\n  188,\n  265,\n  281,\n  282,\n  283,\n  449,\n  583,\n  629,\n  630,\n  631,\n  853,\n  854,\n  1076,\n  1122,\n  1521,\n  1536,\n  1537,\n  1619,\n  1819,\n  2025],\n [4,\n  118,\n  369,\n  370,\n  371,\n  687,\n  688,\n  705,\n  706,\n  737,\n  738,\n  739,\n  741,\n  1047,\n  1442,\n  1443,\n  1444,\n  1445,\n  1446,\n  1512,\n  1513,\n  1515,\n  1566,\n  1569,\n  1690,\n  1700,\n  1721,\n  1786,\n  1787,\n  1788,\n  1789,\n  1790,\n  1798,\n  1804,\n  1868,\n  1924,\n  1950,\n  1951,\n  1990,\n  1991],\n [5,\n  7,\n  33,\n  64,\n  146,\n  147,\n  155,\n  156,\n  165,\n  179,\n  181,\n  184,\n  185,\n  196,\n  217,\n  218,\n  239,\n  254,\n  255,\n  256,\n  264,\n  273,\n  292,\n  338,\n  339,\n  340,\n  403,\n  410,\n  424,\n  434,\n  459,\n  499,\n  500,\n  501,\n  532,\n  536,\n  543,\n  599,\n  600,\n  601,\n  602,\n  616,\n  617,\n  623,\n  669,\n  700,\n  785,\n  786,\n  787,\n  788,\n  789,\n  801,\n  803,\n  804,\n  805,\n  806,\n  807,\n  808,\n  809,\n  810,\n  811,\n  812,\n  824,\n  947,\n  949,\n  952,\n  957,\n  958,\n  959,\n  1079,\n  1080,\n  1092,\n  1098,\n  1099,\n  1100,\n  1101,\n  1102,\n  1103,\n  1104,\n  1105,\n  1143,\n  1144,\n  1163,\n  1168,\n  1169,\n  1200,\n  1201,\n  1202,\n  1203,\n  1204,\n  1205,\n  1206,\n  1214,\n  1215,\n  1218,\n  1219,\n  1250,\n  1262,\n  1263,\n  1264,\n  1266,\n  1268,\n  1272,\n  1320,\n  1348,\n  1360,\n  1361,\n  1362,\n  1363,\n  1364,\n  1392,\n  1406,\n  1437,\n  1438,\n  1439,\n  1440,\n  1441,\n  1457,\n  1458,\n  1461,\n  1480,\n  1534,\n  1535,\n  1544,\n  1556,\n  1610,\n  1615,\n  1670,\n  1687,\n  1705,\n  1706,\n  1707,\n  1708,\n  1725,\n  1749,\n  1766,\n  1810,\n  1827,\n  1828,\n  1843,\n  1844,\n  1853,\n  1854,\n  1862,\n  1899,\n  1934,\n  1940,\n  1947,\n  2032],\n [6,\n  12,\n  122,\n  158,\n  164,\n  171,\n  172,\n  178,\n  203,\n  210,\n  211,\n  213,\n  216,\n  240,\n  257,\n  303,\n  309,\n  311,\n  342,\n  353,\n  395,\n  431,\n  451,\n  453,\n  454,\n  456,\n  458,\n  472,\n  491,\n  502,\n  531,\n  546,\n  547,\n  567,\n  590,\n  591,\n  592,\n  593,\n  594,\n  605,\n  625,\n  626,\n  627,\n  637,\n  641,\n  665,\n  777,\n  780,\n  792,\n  800,\n  802,\n  910,\n  948,\n  1024,\n  1025,\n  1085,\n  1086,\n  1088,\n  1089,\n  1090,\n  1093,\n  1095,\n  1096,\n  1123,\n  1124,\n  1130,\n  1137,\n  1138,\n  1139,\n  1140,\n  1141,\n  1158,\n  1160,\n  1277,\n  1313,\n  1316,\n  1321,\n  1407,\n  1416,\n  1417,\n  1422,\n  1423,\n  1424,\n  1425,\n  1426,\n  1427,\n  1436,\n  1451,\n  1452,\n  1460,\n  1462,\n  1476,\n  1522,\n  1523,\n  1525,\n  1526,\n  1527,\n  1545,\n  1559,\n  1560,\n  1561,\n  1568,\n  1571,\n  1576,\n  1583,\n  1603,\n  1607,\n  1685,\n  1728,\n  1747,\n  1761,\n  1762,\n  1857,\n  1885,\n  1886,\n  1887,\n  1888,\n  1901,\n  1903,\n  1959,\n  1961,\n  1962,\n  1966,\n  2000,\n  2011,\n  2019,\n  2020,\n  2021,\n  2022,\n  2035,\n  2037,\n  2038,\n  2039,\n  2040,\n  2042],\n [8,\n  9,\n  52,\n  53,\n  54,\n  55,\n  56,\n  57,\n  58,\n  59,\n  76,\n  270,\n  511,\n  512,\n  685,\n  686,\n  717,\n  732,\n  751,\n  752,\n  753,\n  768,\n  769,\n  847,\n  850,\n  953,\n  954,\n  1023,\n  1033,\n  1303,\n  1304,\n  1327,\n  1333,\n  1346,\n  1418,\n  1420,\n  1468,\n  1469,\n  1533,\n  1570,\n  1695,\n  1696,\n  1806,\n  1914],\n [10,\n  157,\n  305,\n  313,\n  360,\n  361,\n  362,\n  363,\n  364,\n  465,\n  492,\n  493,\n  494,\n  496,\n  508,\n  537,\n  538,\n  539,\n  548,\n  549,\n  550,\n  551,\n  552,\n  553,\n  554,\n  555,\n  556,\n  557,\n  558,\n  559,\n  595,\n  697,\n  837,\n  838,\n  839,\n  840,\n  841,\n  842,\n  843,\n  844,\n  846,\n  1053,\n  1265,\n  1331,\n  1340,\n  1388,\n  1389,\n  1390,\n  1593,\n  1594,\n  1647,\n  1648,\n  1649,\n  1763,\n  1785,\n  1831,\n  1832,\n  1833,\n  1834,\n  1835,\n  1873,\n  1953],\n [11,\n  30,\n  31,\n  39,\n  66,\n  107,\n  108,\n  109,\n  110,\n  111,\n  112,\n  113,\n  114,\n  115,\n  116,\n  149,\n  354,\n  437,\n  438,\n  446,\n  495,\n  497,\n  498,\n  504,\n  505,\n  564,\n  581,\n  584,\n  678,\n  698,\n  799,\n  863,\n  939,\n  940,\n  1182,\n  1197,\n  1198,\n  1230,\n  1309,\n  1676,\n  1681,\n  1722,\n  1729,\n  1734,\n  1784,\n  1800,\n  1801,\n  1802,\n  1803,\n  1995,\n  1996,\n  1997,\n  1998],\n [13,\n  207,\n  452,\n  460,\n  462,\n  464,\n  480,\n  481,\n  503,\n  534,\n  597,\n  613,\n  634,\n  674,\n  735,\n  791,\n  1132,\n  1164,\n  1189,\n  1199,\n  1239,\n  1243,\n  1244,\n  1245,\n  1246,\n  1247,\n  1319,\n  1330,\n  1352,\n  1372,\n  1428,\n  1517,\n  1549,\n  1604,\n  1605,\n  1606,\n  1689,\n  1823,\n  1915,\n  1968,\n  1969,\n  2002,\n  2005,\n  2023,\n  2030,\n  2031],\n [14,\n  15,\n  19,\n  63,\n  68,\n  82,\n  83,\n  84,\n  85,\n  86,\n  95,\n  96,\n  152,\n  163,\n  166,\n  167,\n  169,\n  170,\n  220,\n  250,\n  399,\n  632,\n  671,\n  699,\n  701,\n  707,\n  708,\n  712,\n  713,\n  727,\n  728,\n  730,\n  749,\n  779,\n  815,\n  816,\n  817,\n  818,\n  819,\n  883,\n  941,\n  962,\n  1083,\n  1114,\n  1145,\n  1146,\n  1147,\n  1149,\n  1150,\n  1226,\n  1322,\n  1324,\n  1325,\n  1326,\n  1353,\n  1354,\n  1355,\n  1356,\n  1357,\n  1358,\n  1359,\n  1365,\n  1391,\n  1518,\n  1519,\n  1520,\n  1860,\n  1866,\n  1942],\n [16,\n  46,\n  48,\n  49,\n  69,\n  92,\n  131,\n  189,\n  204,\n  258,\n  372,\n  373,\n  374,\n  376,\n  377,\n  378,\n  379,\n  380,\n  381,\n  382,\n  383,\n  384,\n  385,\n  386,\n  387,\n  388,\n  389,\n  390,\n  391,\n  392,\n  393,\n  394,\n  422,\n  490,\n  521,\n  565,\n  568,\n  614,\n  615,\n  635,\n  702,\n  722,\n  740,\n  745,\n  746,\n  747,\n  833,\n  845,\n  917,\n  921,\n  932,\n  1006,\n  1007,\n  1008,\n  1009,\n  1010,\n  1011,\n  1012,\n  1013,\n  1014,\n  1037,\n  1038,\n  1077,\n  1119,\n  1159,\n  1191,\n  1208,\n  1227,\n  1228,\n  1255,\n  1463,\n  1464,\n  1611,\n  1624,\n  1635,\n  1637,\n  1638,\n  1639,\n  1640,\n  1641,\n  1642,\n  1643,\n  1644,\n  1645,\n  1646,\n  1737,\n  1739,\n  1742,\n  1869,\n  1878,\n  1894,\n  1895,\n  1958,\n  1978],\n [18,\n  60,\n  73,\n  129,\n  183,\n  191,\n  219,\n  259,\n  266,\n  306,\n  307,\n  308,\n  337,\n  341,\n  343,\n  400,\n  401,\n  402,\n  413,\n  416,\n  417,\n  423,\n  426,\n  435,\n  450,\n  461,\n  463,\n  467,\n  468,\n  469,\n  471,\n  473,\n  474,\n  476,\n  479,\n  540,\n  560,\n  582,\n  585,\n  603,\n  624,\n  649,\n  659,\n  677,\n  692,\n  704,\n  710,\n  711,\n  744,\n  772,\n  790,\n  820,\n  825,\n  826,\n  827,\n  828,\n  829,\n  849,\n  882,\n  951,\n  963,\n  970,\n  991,\n  1001,\n  1030,\n  1081,\n  1097,\n  1112,\n  1186,\n  1312,\n  1314,\n  1317,\n  1318,\n  1323,\n  1419,\n  1459,\n  1483,\n  1484,\n  1485,\n  1486,\n  1487,\n  1488,\n  1489,\n  1498,\n  1547,\n  1548,\n  1550,\n  1551,\n  1552,\n  1618,\n  1620,\n  1623,\n  1634,\n  1671,\n  1672,\n  1673,\n  1674,\n  1697,\n  1704,\n  1714,\n  1715,\n  1716,\n  1717,\n  1726,\n  1727,\n  1764,\n  1765,\n  1767,\n  1797,\n  1799,\n  1822,\n  1826,\n  1841,\n  1845,\n  1918,\n  1919,\n  1952,\n  1956,\n  1957,\n  1999,\n  2003,\n  2015,\n  2024,\n  2026,\n  2041,\n  2044],\n [29,\n  32,\n  34,\n  35,\n  36,\n  37,\n  77,\n  119,\n  130,\n  132,\n  133,\n  134,\n  135,\n  136,\n  137,\n  138,\n  139,\n  141,\n  142,\n  143,\n  144,\n  145,\n  251,\n  336,\n  347,\n  425,\n  445,\n  448,\n  455,\n  477,\n  482,\n  515,\n  618,\n  660,\n  719,\n  720,\n  729,\n  905,\n  986,\n  1017,\n  1028,\n  1029,\n  1032,\n  1034,\n  1040,\n  1054,\n  1084,\n  1166,\n  1167,\n  1170,\n  1171,\n  1172,\n  1173,\n  1174,\n  1175,\n  1176,\n  1177,\n  1178,\n  1179,\n  1180,\n  1183,\n  1209,\n  1259,\n  1311,\n  1315,\n  1368,\n  1369,\n  1384,\n  1385,\n  1386,\n  1393,\n  1394,\n  1405,\n  1449,\n  1450,\n  1465,\n  1564,\n  1574,\n  1584,\n  1585,\n  1586,\n  1587,\n  1608,\n  1609,\n  1699,\n  1732,\n  1760,\n  1856,\n  1859,\n  1864,\n  1875,\n  1876,\n  1882,\n  1904,\n  1909,\n  1917,\n  1954,\n  1955,\n  1970,\n  1972,\n  1979],\n [38,\n  78,\n  97,\n  98,\n  99,\n  105,\n  154,\n  200,\n  222,\n  223,\n  224,\n  276,\n  277,\n  304,\n  316,\n  319,\n  320,\n  321,\n  323,\n  348,\n  349,\n  350,\n  351,\n  457,\n  488,\n  519,\n  525,\n  526,\n  529,\n  530,\n  533,\n  596,\n  598,\n  670,\n  814,\n  884,\n  906,\n  907,\n  965,\n  967,\n  968,\n  969,\n  971,\n  972,\n  975,\n  978,\n  979,\n  980,\n  981,\n  984,\n  990,\n  996,\n  1031,\n  1051,\n  1052,\n  1091,\n  1109,\n  1121,\n  1165,\n  1192,\n  1193,\n  1194,\n  1195,\n  1196,\n  1207,\n  1231,\n  1281,\n  1293,\n  1344,\n  1345,\n  1524,\n  1542,\n  1546,\n  1688,\n  1709,\n  1710,\n  1711,\n  1712,\n  1713,\n  1740,\n  1741,\n  1772,\n  1773,\n  1794,\n  1795,\n  1807,\n  1808,\n  1809,\n  1883,\n  1884,\n  1902,\n  1963,\n  2036,\n  2048],\n [40, 214, 571, 574, 575, 887, 1224, 1811, 1812, 1813, 1814, 1815, 1910],\n [41,\n  42,\n  43,\n  205,\n  206,\n  344,\n  569,\n  673,\n  709,\n  885,\n  886,\n  1142,\n  1575,\n  1701,\n  1702,\n  1703,\n  1719,\n  1720,\n  1847,\n  1848,\n  1849,\n  1850,\n  1863,\n  1982,\n  1983,\n  1984,\n  1985,\n  1986,\n  1987,\n  1988,\n  2033],\n [44,\n  51,\n  80,\n  81,\n  100,\n  101,\n  151,\n  176,\n  190,\n  195,\n  202,\n  209,\n  271,\n  272,\n  284,\n  285,\n  286,\n  287,\n  288,\n  289,\n  293,\n  294,\n  296,\n  298,\n  299,\n  300,\n  312,\n  359,\n  375,\n  406,\n  418,\n  419,\n  420,\n  436,\n  447,\n  470,\n  475,\n  506,\n  507,\n  541,\n  542,\n  576,\n  577,\n  578,\n  579,\n  586,\n  587,\n  588,\n  644,\n  645,\n  646,\n  651,\n  652,\n  653,\n  654,\n  655,\n  657,\n  662,\n  663,\n  664,\n  684,\n  693,\n  703,\n  714,\n  715,\n  716,\n  718,\n  743,\n  750,\n  754,\n  755,\n  756,\n  793,\n  794,\n  797,\n  852,\n  857,\n  862,\n  866,\n  867,\n  868,\n  869,\n  873,\n  874,\n  875,\n  876,\n  877,\n  878,\n  879,\n  880,\n  881,\n  888,\n  889,\n  890,\n  891,\n  911,\n  912,\n  935,\n  944,\n  945,\n  946,\n  950,\n  960,\n  985,\n  987,\n  988,\n  989,\n  994,\n  1000,\n  1002,\n  1003,\n  1020,\n  1026,\n  1027,\n  1041,\n  1050,\n  1059,\n  1060,\n  1064,\n  1065,\n  1067,\n  1111,\n  1125,\n  1127,\n  1128,\n  1134,\n  1135,\n  1161,\n  1162,\n  1190,\n  1211,\n  1213,\n  1225,\n  1235,\n  1238,\n  1249,\n  1269,\n  1270,\n  1271,\n  1274,\n  1295,\n  1296,\n  1297,\n  1298,\n  1305,\n  1310,\n  1336,\n  1337,\n  1341,\n  1366,\n  1367,\n  1370,\n  1373,\n  1374,\n  1375,\n  1376,\n  1377,\n  1378,\n  1379,\n  1380,\n  1382,\n  1383,\n  1387,\n  1402,\n  1403,\n  1412,\n  1413,\n  1473,\n  1479,\n  1504,\n  1505,\n  1506,\n  1507,\n  1508,\n  1510,\n  1511,\n  1514,\n  1528,\n  1532,\n  1538,\n  1540,\n  1541,\n  1557,\n  1565,\n  1578,\n  1581,\n  1616,\n  1617,\n  1656,\n  1657,\n  1678,\n  1679,\n  1680,\n  1684,\n  1698,\n  1731,\n  1735,\n  1736,\n  1745,\n  1750,\n  1771,\n  1776,\n  1777,\n  1778,\n  1779,\n  1780,\n  1781,\n  1796,\n  1816,\n  1817,\n  1821,\n  1838,\n  1839,\n  1855,\n  1858,\n  1881,\n  1896,\n  1900,\n  1905,\n  1907,\n  1926,\n  1928,\n  1967,\n  1974,\n  1975,\n  1976,\n  2027,\n  2029],\n [65,\n  212,\n  279,\n  310,\n  314,\n  315,\n  318,\n  421,\n  427,\n  561,\n  562,\n  563,\n  892,\n  893,\n  894,\n  895,\n  896,\n  897,\n  898,\n  899,\n  942,\n  1019,\n  1187,\n  1429,\n  1453,\n  1454,\n  1455,\n  1456,\n  1577,\n  1580,\n  1590,\n  1596,\n  1768,\n  1791,\n  1792,\n  1793,\n  1825,\n  1994,\n  2034,\n  2043,\n  2045],\n [67,\n  87,\n  153,\n  168,\n  241,\n  242,\n  243,\n  244,\n  245,\n  246,\n  247,\n  248,\n  249,\n  252,\n  253,\n  345,\n  483,\n  484,\n  485,\n  486,\n  487,\n  566,\n  573,\n  672,\n  757,\n  758,\n  759,\n  760,\n  761,\n  762,\n  763,\n  764,\n  765,\n  766,\n  767,\n  770,\n  848,\n  964,\n  1048,\n  1074,\n  1075,\n  1094,\n  1113,\n  1232,\n  1233,\n  1248,\n  1275,\n  1276,\n  1278,\n  1279,\n  1280,\n  1302,\n  1371,\n  1404,\n  1471,\n  1474,\n  1539,\n  1612,\n  1613,\n  1614,\n  1682,\n  1683,\n  1758,\n  1805,\n  1897],\n [72,\n  79,\n  88,\n  228,\n  274,\n  317,\n  322,\n  324,\n  325,\n  326,\n  327,\n  328,\n  329,\n  330,\n  331,\n  332,\n  633,\n  783,\n  784,\n  900,\n  904,\n  973,\n  1210,\n  1229,\n  1240,\n  1257,\n  1258,\n  1282,\n  1300,\n  1328,\n  1329,\n  1408,\n  1591,\n  1592,\n  1622,\n  1625,\n  1636,\n  1675,\n  1830,\n  1867,\n  1920,\n  1921,\n  1922,\n  1923],\n [74,\n  94,\n  148,\n  238,\n  365,\n  367,\n  412,\n  489,\n  509,\n  510,\n  522,\n  523,\n  572,\n  628,\n  676,\n  796,\n  798,\n  913,\n  943,\n  1015,\n  1056,\n  1057,\n  1120,\n  1126,\n  1216,\n  1251,\n  1252,\n  1253,\n  1254,\n  1273,\n  1283,\n  1409,\n  1410,\n  1411,\n  1414,\n  1490,\n  1500,\n  1516,\n  1652,\n  1653,\n  1654,\n  1655,\n  1658,\n  1659,\n  1744,\n  1783,\n  1861,\n  2012],\n [75,\n  93,\n  117,\n  159,\n  160,\n  161,\n  162,\n  173,\n  180,\n  182,\n  192,\n  193,\n  194,\n  201,\n  260,\n  261,\n  262,\n  263,\n  267,\n  268,\n  269,\n  275,\n  278,\n  335,\n  346,\n  409,\n  430,\n  432,\n  433,\n  466,\n  524,\n  589,\n  621,\n  622,\n  636,\n  638,\n  639,\n  640,\n  642,\n  643,\n  813,\n  856,\n  864,\n  865,\n  870,\n  871,\n  872,\n  908,\n  909,\n  961,\n  1035,\n  1055,\n  1061,\n  1062,\n  1063,\n  1066,\n  1068,\n  1069,\n  1071,\n  1072,\n  1073,\n  1078,\n  1106,\n  1148,\n  1185,\n  1212,\n  1220,\n  1221,\n  1222,\n  1223,\n  1234,\n  1236,\n  1237,\n  1242,\n  1260,\n  1299,\n  1306,\n  1307,\n  1332,\n  1347,\n  1381,\n  1415,\n  1467,\n  1470,\n  1472,\n  1475,\n  1491,\n  1492,\n  1493,\n  1494,\n  1495,\n  1496,\n  1497,\n  1509,\n  1543,\n  1554,\n  1555,\n  1558,\n  1567,\n  1572,\n  1573,\n  1579,\n  1597,\n  1598,\n  1599,\n  1600,\n  1601,\n  1602,\n  1621,\n  1650,\n  1677,\n  1730,\n  1738,\n  1759,\n  1774,\n  1775,\n  1820,\n  1840,\n  1865,\n  1870,\n  1871,\n  1890,\n  1892,\n  1893,\n  1898,\n  1911,\n  1912,\n  1913,\n  1925,\n  1927,\n  1929,\n  1930,\n  1931,\n  1932,\n  1933,\n  1935,\n  1936,\n  1937,\n  1938,\n  1939,\n  1941,\n  1948,\n  1949,\n  1960,\n  1964,\n  1965,\n  1971,\n  1980,\n  1989,\n  2007,\n  2013,\n  2014,\n  2028,\n  2047],\n [89, 90, 91, 1501, 1502, 1503, 1824],\n [102,\n  103,\n  104,\n  366,\n  368,\n  851,\n  936,\n  937,\n  938,\n  955,\n  956,\n  1136,\n  1217,\n  1267,\n  1399,\n  1400,\n  1477,\n  1478,\n  1626,\n  1627,\n  1628,\n  1629,\n  1630,\n  1631,\n  1632,\n  1751,\n  1752,\n  1753,\n  1754,\n  1755,\n  1756,\n  1757,\n  1782,\n  1906,\n  1908],\n [106,\n  150,\n  333,\n  428,\n  439,\n  440,\n  441,\n  442,\n  443,\n  444,\n  580,\n  666,\n  667,\n  675,\n  721,\n  771,\n  778,\n  795,\n  1016,\n  1058,\n  1133,\n  1447,\n  1943,\n  1944,\n  1945,\n  1946],\n [120,\n  121,\n  174,\n  175,\n  679,\n  680,\n  681,\n  682,\n  683,\n  1021,\n  1022,\n  1044,\n  1045,\n  1466,\n  1582,\n  1588,\n  1589,\n  1633,\n  1743,\n  1829,\n  1872,\n  1874,\n  1973,\n  2006,\n  2008,\n  2009,\n  2010,\n  2046],\n [199, 215, 773, 774, 775, 776, 1430, 1431, 1432, 1723, 1724],\n [208,\n  302,\n  356,\n  411,\n  527,\n  528,\n  658,\n  723,\n  724,\n  725,\n  726,\n  858,\n  859,\n  860,\n  861,\n  901,\n  902,\n  903,\n  966,\n  974,\n  976,\n  977,\n  982,\n  983,\n  997,\n  998,\n  999,\n  1070,\n  1087,\n  1151,\n  1284,\n  1285,\n  1286,\n  1287,\n  1288,\n  1289,\n  1290,\n  1291,\n  1292,\n  1294,\n  1433,\n  1499,\n  1529,\n  1530,\n  1531,\n  1553,\n  1718,\n  1748,\n  1877,\n  1889,\n  1891,\n  1916,\n  2001,\n  2004,\n  2016,\n  2018],\n [221,\n  513,\n  514,\n  516,\n  517,\n  518,\n  520,\n  604,\n  661,\n  992,\n  993,\n  1395,\n  1396,\n  1448,\n  1746,\n  1769,\n  1851],\n [225, 689, 690, 691, 694, 695, 696, 1153, 1154, 1155, 1156, 1157, 1770],\n [352, 415, 1188, 1241, 1256, 1349, 1350, 1351],\n [357, 358, 1334, 1335],\n [478, 1131, 1435, 1595, 1818, 1879, 1880, 2017],\n [544, 830, 831, 832, 1107, 1108, 1836, 1837],\n [606, 607, 608, 609, 610, 611, 612, 1181, 1184, 1661, 1662, 1663, 1664],\n [1115, 1116, 1117, 1118]]"
     },
     "execution_count": 11,
     "metadata": {},
     "output_type": "execute_result"
    }
   ],
   "source": [
    "communities_new_alg = read_communities(\"TCGA/communities.txt\")\n",
    "communities_new_alg"
   ],
   "metadata": {
    "collapsed": false
   }
  },
  {
   "cell_type": "code",
   "execution_count": 12,
   "outputs": [
    {
     "data": {
      "text/plain": "[0.723,\n 0.533,\n 0.441,\n 0.42,\n 0.55,\n 0.572,\n 0.608,\n 0.49,\n 0.468,\n 0.626,\n 0.609,\n 0.596,\n 0.429,\n 0.669,\n 0.558,\n 0.698,\n 0.553,\n 0.61,\n 0.369,\n 0.722,\n 0.342,\n 0.646,\n 0.472,\n 0.724,\n 0.74,\n 0.813,\n 0.466,\n 0.398,\n 0.38,\n 0.81,\n 0.662,\n 0.437,\n 0.792,\n 0.694,\n 0.623,\n 0.469,\n 0.798]"
     },
     "execution_count": 12,
     "metadata": {},
     "output_type": "execute_result"
    }
   ],
   "source": [
    "comm_importance_new_alg = read_community_importances(\"TCGA/communities_scores.txt\")\n",
    "comm_importance_new_alg"
   ],
   "metadata": {
    "collapsed": false
   }
  },
  {
   "cell_type": "code",
   "execution_count": 13,
   "outputs": [
    {
     "data": {
      "text/plain": "array(['AOX1', 'ARSB', 'CES1', 'CTSA', 'CYP2B6', 'CYP2C19', 'CYP2C9',\n       'CYP3A4', 'CYP3A7', 'CYP4F2', 'EPHX1', 'FMO1', 'FMO3', 'FUCA2',\n       'GLB1', 'GRN', 'GUSB', 'HEXA', 'LCT', 'MAN2B1', 'MPO', 'PPIG',\n       'UGT1A1', 'UGT1A10', 'UGT1A3', 'UGT2B7'], dtype=object)"
     },
     "execution_count": 13,
     "metadata": {},
     "output_type": "execute_result"
    }
   ],
   "source": [
    "import numpy as np\n",
    "\n",
    "sorted_indices = np.argsort(comm_importance_new_alg)[::-1]\n",
    "\n",
    "sorted_communities_new_alg = []\n",
    "\n",
    "# Loop through sorted indices and assign cluster memberships\n",
    "for index in sorted_indices:\n",
    "  sorted_communities_new_alg.append(communities_new_alg[index])\n",
    "\n",
    "# The gene names of the community ranked highest by gnn-subnet\n",
    "g.gene_names[sorted_communities_new_alg[0]]"
   ],
   "metadata": {
    "collapsed": false
   }
  },
  {
   "cell_type": "code",
   "execution_count": null,
   "outputs": [],
   "source": [],
   "metadata": {
    "collapsed": false
   }
  }
 ],
 "metadata": {
  "kernelspec": {
   "display_name": "Python 3",
   "language": "python",
   "name": "python3"
  },
  "language_info": {
   "codemirror_mode": {
    "name": "ipython",
    "version": 2
   },
   "file_extension": ".py",
   "mimetype": "text/x-python",
   "name": "python",
   "nbconvert_exporter": "python",
   "pygments_lexer": "ipython2",
   "version": "2.7.6"
  }
 },
 "nbformat": 4,
 "nbformat_minor": 0
}
