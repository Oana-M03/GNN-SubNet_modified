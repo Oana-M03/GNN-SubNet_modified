{
 "cells": [
  {
   "cell_type": "markdown",
   "source": [],
   "metadata": {
    "collapsed": false
   }
  },
  {
   "cell_type": "code",
   "execution_count": 10,
   "outputs": [],
   "source": [
    "# See description above for what these variables represent\n",
    "big_loop_iterations = 10\n",
    "explainer_runs = 10\n",
    "thresholds = [30, 50]\n",
    "samples = [10]\n",
    "\n",
    "# Used to label the resulting files -\n",
    "date = \"23_May\"\n",
    "\n",
    "# Set up directory for result files\n",
    "import os\n",
    "dir = f'./results_{date}'\n",
    "if not os.path.exists(dir):\n",
    "    os.mkdir(dir)"
   ],
   "metadata": {
    "collapsed": false
   }
  },
  {
   "cell_type": "code",
   "execution_count": 11,
   "outputs": [
    {
     "name": "stdout",
     "output_type": "stream",
     "text": [
      "Graph is connected  False\n",
      "Calculate subgraph ...\n",
      "Number of subgraphs:  118\n",
      "Size of subgraph:  2049\n",
      "Graph is connected  True\n",
      "##################\n",
      "# DATASET LOADED #\n",
      "##################\n",
      "\n",
      "Number of nodes: 2049\n",
      "Number of edges: 13588\n",
      "Number of modalities: 2\n"
     ]
    }
   ],
   "source": [
    "from GNNSubNet import GNNSubNet as gnn\n",
    "import pandas as pd\n",
    "import numpy as np\n",
    "\n",
    "# # Kidney data set  ------------------------- #\n",
    "loc   = \"../TCGA\"\n",
    "ppi   = f'{loc}/KIDNEY_RANDOM_PPI.txt'\n",
    "feats = [f'{loc}/KIDNEY_RANDOM_Methy_FEATURES.txt', f'{loc}/KIDNEY_RANDOM_mRNA_FEATURES.txt']\n",
    "targ  = f'{loc}/KIDNEY_RANDOM_TARGET.txt'\n",
    "\n",
    "# # Synthetic data set  ------------------------- #\n",
    "# loc   = \"GNNSubNet/datasets/synthetic/\"\n",
    "# ppi   = f'{loc}/NETWORK_synthetic.txt'\n",
    "# feats = [f'{loc}/FEATURES_synthetic.txt']\n",
    "# targ  = f'{loc}/TARGET_synthetic.txt'\n",
    "\n",
    "# Read in the synthetic data\n",
    "g = gnn.GNNSubNet(loc, ppi, feats, targ, normalize=False)\n",
    "\n",
    "# Get some general information about the data dimension\n",
    "g.summary()"
   ],
   "metadata": {
    "collapsed": false
   }
  },
  {
   "cell_type": "code",
   "execution_count": 18,
   "metadata": {
    "collapsed": true
   },
   "outputs": [],
   "source": [
    "def obtain_BAGEL_scores(loc, ppi, feats, targ, gnn_subnet, date):\n",
    "    model_info = []\n",
    "    fidelity = []\n",
    "    validity_plus = []\n",
    "    validity_minus = []\n",
    "    validity_plus_matrix = []\n",
    "    validity_minus_matrix = []\n",
    "    sparsity = []\n",
    "\n",
    "    for i in range(8, big_loop_iterations):\n",
    "        g = gnn.GNNSubNet(loc, ppi, feats, targ, normalize=False)\n",
    "        g.train()\n",
    "\n",
    "        # Check the performance of the classifier\n",
    "        accuracy = g.accuracy\n",
    "\n",
    "        # Run the explainer the desired number of times\n",
    "        g.explain(explainer_runs, gnn_subnet=gnn_subnet)\n",
    "\n",
    "        # Fidelity with varying samples using varying hardmask thresholds\n",
    "        # for t in thresholds:\n",
    "        #     for s in samples:\n",
    "        #         f = g.evaluate_RDT_fidelity_soft(samples=s, threshold=t)\n",
    "        #\n",
    "        #         # Save raw results in case needed for further analysis\n",
    "        #         filename = f\"results_{date}/{i}_fidelities_{s}_samples_top_{t}.csv\"\n",
    "        #         np.savetxt(filename, f, delimiter=',', fmt ='% s')\n",
    "        #\n",
    "        #         # Save mean fidelity to list to create processed table\n",
    "        #         fidelity.append( [i, accuracy, s, t, np.mean(f)])\n",
    "\n",
    "        # Fidelity\n",
    "        f = g.evaluate_RDT_fidelity_soft()\n",
    "        fidelity = ([i, accuracy, np.mean(f)])\n",
    "\n",
    "        filename = f\"results_{date}/{i}_fidelities.csv\"\n",
    "        np.savetxt(filename, fidelity, delimiter=',', fmt ='% s')\n",
    "\n",
    "        # Sparsity\n",
    "        sparsities = g.evaluate_sparsity()\n",
    "        # Save raw results in case needed for further analysis\n",
    "        filename = f\"results_{date}/{i}_sparsities.csv\"\n",
    "        np.savetxt(filename, sparsities, delimiter=',', fmt ='% s')\n",
    "        # Save mean sparsity to list to create processed table\n",
    "        sparsity.append([i, accuracy, np.mean(sparsities)])\n",
    "\n",
    "        # Validity at varying thresholds\n",
    "        for t in thresholds:\n",
    "            v_plus, v_minus, mat_plus, mat_minus = g.evaluate_validity(threshold=t, confusion_matrix=True)\n",
    "            validity_plus.append([i, accuracy, t, v_plus])\n",
    "            validity_minus.append([i, accuracy, t, v_minus])\n",
    "            validity_plus_matrix.append([i, accuracy, t, mat_plus[0,0], mat_plus[0,1], mat_plus[1,0], mat_plus[1,1]])\n",
    "            validity_minus_matrix.append([i, accuracy, t, mat_minus[0,0], mat_minus[0,1], mat_minus[1,0], mat_minus[1,1]])\n",
    "\n",
    "        filename = f\"results_{date}/{i}_validity_plus.csv\"\n",
    "        np.savetxt(filename, validity_plus_matrix, delimiter=',', fmt ='% s')\n",
    "\n",
    "        filename = f\"results_{date}/{i}_validity_minus.csv\"\n",
    "        np.savetxt(filename, validity_minus_matrix, delimiter=',', fmt ='% s')"
   ]
  },
  {
   "cell_type": "code",
   "execution_count": null,
   "outputs": [
    {
     "name": "stdout",
     "output_type": "stream",
     "text": [
      "Graph is connected  False\n",
      "Calculate subgraph ...\n",
      "Number of subgraphs:  118\n",
      "Size of subgraph:  2049\n",
      "Graph is connected  True\n",
      "##################\n",
      "# DATASET LOADED #\n",
      "##################\n",
      "graphcnn for training ...\n",
      "Graphs class 0: 200, Graphs class 1: 306\n",
      "Length of balanced dataset list: 400\n",
      "Train graph class 0: 158, train graph class 1: 162\n",
      "Validation graph class 0: 42, validation graph class 1: 38\n"
     ]
    },
    {
     "name": "stderr",
     "output_type": "stream",
     "text": [
      "100%|██████████| 35/35 [00:13<00:00,  2.68batch/s]\n"
     ]
    },
    {
     "name": "stdout",
     "output_type": "stream",
     "text": [
      "Epoch 0, loss 3932.8112\n",
      "Train Acc 0.5062\n",
      "Epoch 0, val_loss 249.6641\n",
      "Saving best model with validation loss 249.6641082763672\n"
     ]
    },
    {
     "name": "stderr",
     "output_type": "stream",
     "text": [
      "100%|██████████| 35/35 [00:11<00:00,  3.02batch/s]\n"
     ]
    },
    {
     "name": "stdout",
     "output_type": "stream",
     "text": [
      "Epoch 1, loss 1216.8085\n",
      "Train Acc 0.5062\n",
      "Epoch 1, val_loss 354.6093\n"
     ]
    },
    {
     "name": "stderr",
     "output_type": "stream",
     "text": [
      "100%|██████████| 35/35 [00:11<00:00,  2.96batch/s]\n"
     ]
    },
    {
     "name": "stdout",
     "output_type": "stream",
     "text": [
      "Epoch 2, loss 109.5899\n",
      "Train Acc 0.4938\n",
      "Epoch 2, val_loss 57.3061\n",
      "Saving best model with validation loss 57.30610275268555\n"
     ]
    },
    {
     "name": "stderr",
     "output_type": "stream",
     "text": [
      "100%|██████████| 35/35 [00:13<00:00,  2.62batch/s]\n"
     ]
    },
    {
     "name": "stdout",
     "output_type": "stream",
     "text": [
      "Epoch 3, loss 52.4051\n",
      "Train Acc 0.5062\n",
      "Epoch 3, val_loss 204.5816\n"
     ]
    },
    {
     "name": "stderr",
     "output_type": "stream",
     "text": [
      "100%|██████████| 35/35 [00:12<00:00,  2.83batch/s]\n"
     ]
    },
    {
     "name": "stdout",
     "output_type": "stream",
     "text": [
      "Epoch 4, loss 29.5500\n",
      "Train Acc 0.4938\n",
      "Epoch 4, val_loss 135.3983\n"
     ]
    },
    {
     "name": "stderr",
     "output_type": "stream",
     "text": [
      "100%|██████████| 35/35 [00:13<00:00,  2.55batch/s]\n"
     ]
    },
    {
     "name": "stdout",
     "output_type": "stream",
     "text": [
      "Epoch 5, loss 22.4447\n",
      "Train Acc 0.7656\n",
      "Epoch 5, val_loss 4.2576\n",
      "Saving best model with validation loss 4.257605075836182\n"
     ]
    },
    {
     "name": "stderr",
     "output_type": "stream",
     "text": [
      "100%|██████████| 35/35 [00:12<00:00,  2.74batch/s]\n"
     ]
    },
    {
     "name": "stdout",
     "output_type": "stream",
     "text": [
      "Epoch 6, loss 27.1466\n",
      "Train Acc 0.5062\n",
      "Epoch 6, val_loss 139.8207\n"
     ]
    },
    {
     "name": "stderr",
     "output_type": "stream",
     "text": [
      "100%|██████████| 35/35 [00:13<00:00,  2.69batch/s]\n"
     ]
    },
    {
     "name": "stdout",
     "output_type": "stream",
     "text": [
      "Epoch 7, loss 22.0047\n",
      "Train Acc 0.4938\n",
      "Epoch 7, val_loss 46.3335\n"
     ]
    },
    {
     "name": "stderr",
     "output_type": "stream",
     "text": [
      "100%|██████████| 35/35 [00:12<00:00,  2.73batch/s]\n"
     ]
    },
    {
     "name": "stdout",
     "output_type": "stream",
     "text": [
      "Epoch 8, loss 20.7974\n",
      "Train Acc 0.5031\n",
      "Epoch 8, val_loss 20.6267\n"
     ]
    },
    {
     "name": "stderr",
     "output_type": "stream",
     "text": [
      "100%|██████████| 35/35 [00:09<00:00,  3.68batch/s]\n"
     ]
    },
    {
     "name": "stdout",
     "output_type": "stream",
     "text": [
      "Epoch 9, loss 36.6949\n",
      "Train Acc 0.4938\n",
      "Epoch 9, val_loss 97.5296\n"
     ]
    },
    {
     "name": "stderr",
     "output_type": "stream",
     "text": [
      "100%|██████████| 35/35 [00:06<00:00,  5.69batch/s]\n"
     ]
    },
    {
     "name": "stdout",
     "output_type": "stream",
     "text": [
      "Epoch 10, loss 27.2879\n",
      "Train Acc 0.5062\n",
      "Epoch 10, val_loss 38.0678\n"
     ]
    },
    {
     "name": "stderr",
     "output_type": "stream",
     "text": [
      "100%|██████████| 35/35 [00:05<00:00,  5.93batch/s]\n"
     ]
    },
    {
     "name": "stdout",
     "output_type": "stream",
     "text": [
      "Epoch 11, loss 18.3002\n",
      "Train Acc 0.6594\n",
      "Epoch 11, val_loss 6.4274\n"
     ]
    },
    {
     "name": "stderr",
     "output_type": "stream",
     "text": [
      "100%|██████████| 35/35 [00:06<00:00,  5.68batch/s]\n"
     ]
    },
    {
     "name": "stdout",
     "output_type": "stream",
     "text": [
      "Epoch 12, loss 16.7246\n",
      "Train Acc 0.7000\n",
      "Epoch 12, val_loss 9.1749\n"
     ]
    },
    {
     "name": "stderr",
     "output_type": "stream",
     "text": [
      "100%|██████████| 35/35 [00:09<00:00,  3.75batch/s]\n"
     ]
    },
    {
     "name": "stdout",
     "output_type": "stream",
     "text": [
      "Epoch 13, loss 19.8239\n",
      "Train Acc 0.7406\n",
      "Epoch 13, val_loss 7.6912\n"
     ]
    },
    {
     "name": "stderr",
     "output_type": "stream",
     "text": [
      "100%|██████████| 35/35 [00:13<00:00,  2.66batch/s]\n"
     ]
    },
    {
     "name": "stdout",
     "output_type": "stream",
     "text": [
      "Epoch 14, loss 12.2401\n",
      "Train Acc 0.5094\n",
      "Epoch 14, val_loss 20.9951\n"
     ]
    },
    {
     "name": "stderr",
     "output_type": "stream",
     "text": [
      "100%|██████████| 35/35 [00:12<00:00,  2.90batch/s]\n"
     ]
    },
    {
     "name": "stdout",
     "output_type": "stream",
     "text": [
      "Epoch 15, loss 11.8558\n",
      "Train Acc 0.4938\n",
      "Epoch 15, val_loss 26.2038\n",
      "Early stopping!\n",
      "\n",
      "Confusion matrix (Validation set):\n",
      "\n",
      "[[26 16]\n",
      " [ 2 36]]\n",
      "Validation accuracy: 77.5%\n",
      "Validation loss 4.257605075836182\n",
      "\n",
      "------- Run the Explainer -------\n",
      "\n",
      "GNN-SubNet: False\n",
      "Explainer::Iteration 1 of 10\n",
      "Explainer::Iteration 2 of 10\n",
      "Explainer::Iteration 3 of 10\n",
      "Explainer::Iteration 4 of 10\n",
      "Explainer::Iteration 5 of 10\n"
     ]
    }
   ],
   "source": [
    "obtain_BAGEL_scores(loc, ppi, feats, targ, False, \"modified_alg\")"
   ],
   "metadata": {
    "collapsed": false,
    "pycharm": {
     "is_executing": true
    }
   }
  },
  {
   "cell_type": "code",
   "execution_count": null,
   "outputs": [],
   "source": [
    "obtain_BAGEL_scores(loc, ppi, feats, targ, True, \"gnn_subnet\")"
   ],
   "metadata": {
    "collapsed": false,
    "pycharm": {
     "is_executing": true
    }
   }
  }
 ],
 "metadata": {
  "kernelspec": {
   "display_name": "Python 3",
   "language": "python",
   "name": "python3"
  },
  "language_info": {
   "codemirror_mode": {
    "name": "ipython",
    "version": 2
   },
   "file_extension": ".py",
   "mimetype": "text/x-python",
   "name": "python",
   "nbconvert_exporter": "python",
   "pygments_lexer": "ipython2",
   "version": "2.7.6"
  }
 },
 "nbformat": 4,
 "nbformat_minor": 0
}
