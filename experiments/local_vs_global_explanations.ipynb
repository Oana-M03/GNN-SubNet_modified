{
 "cells": [
  {
   "cell_type": "markdown",
   "source": [
    "## Local Explanations vs Global Explanations\n",
    "\n",
    "This notebook runs GNN-SubNet and its modified version to generate a global node mask. The loss function values for both Gradient Descent procedures are plotted."
   ],
   "metadata": {
    "collapsed": false
   }
  },
  {
   "cell_type": "code",
   "execution_count": 32,
   "metadata": {
    "collapsed": true
   },
   "outputs": [
    {
     "name": "stdout",
     "output_type": "stream",
     "text": [
      "Graph is connected  False\n",
      "Calculate subgraph ...\n",
      "Number of subgraphs:  118\n",
      "Size of subgraph:  2049\n",
      "Graph is connected  True\n",
      "##################\n",
      "# DATASET LOADED #\n",
      "##################\n",
      "\n",
      "Number of nodes: 2049\n",
      "Number of edges: 13588\n",
      "Number of modalities: 2\n",
      "graphcnn for training ...\n",
      "Graphs class 0: 200, Graphs class 1: 306\n",
      "Length of balanced dataset list: 400\n",
      "Train graph class 0: 158, train graph class 1: 162\n",
      "Validation graph class 0: 42, validation graph class 1: 38\n"
     ]
    },
    {
     "name": "stderr",
     "output_type": "stream",
     "text": [
      "100%|██████████| 35/35 [00:07<00:00,  4.51batch/s]\n"
     ]
    },
    {
     "name": "stdout",
     "output_type": "stream",
     "text": [
      "Epoch 0, loss 2339.3231\n",
      "Train Acc 0.4938\n",
      "Epoch 0, val_loss 21.2403\n",
      "Saving best model with validation loss 21.24030113220215\n"
     ]
    },
    {
     "name": "stderr",
     "output_type": "stream",
     "text": [
      "100%|██████████| 35/35 [00:12<00:00,  2.91batch/s]\n"
     ]
    },
    {
     "name": "stdout",
     "output_type": "stream",
     "text": [
      "Epoch 1, loss 347.2952\n",
      "Train Acc 0.5062\n",
      "Epoch 1, val_loss 30.6838\n"
     ]
    },
    {
     "name": "stderr",
     "output_type": "stream",
     "text": [
      "100%|██████████| 35/35 [00:12<00:00,  2.87batch/s]\n"
     ]
    },
    {
     "name": "stdout",
     "output_type": "stream",
     "text": [
      "Epoch 2, loss 51.2827\n",
      "Train Acc 0.5219\n",
      "Epoch 2, val_loss 14.7407\n",
      "Saving best model with validation loss 14.740737915039062\n"
     ]
    },
    {
     "name": "stderr",
     "output_type": "stream",
     "text": [
      "100%|██████████| 35/35 [00:13<00:00,  2.66batch/s]\n"
     ]
    },
    {
     "name": "stdout",
     "output_type": "stream",
     "text": [
      "Epoch 3, loss 39.0734\n",
      "Train Acc 0.5062\n",
      "Epoch 3, val_loss 30.3594\n"
     ]
    },
    {
     "name": "stderr",
     "output_type": "stream",
     "text": [
      "100%|██████████| 35/35 [00:13<00:00,  2.67batch/s]\n"
     ]
    },
    {
     "name": "stdout",
     "output_type": "stream",
     "text": [
      "Epoch 4, loss 49.4919\n",
      "Train Acc 0.5125\n",
      "Epoch 4, val_loss 23.7290\n"
     ]
    },
    {
     "name": "stderr",
     "output_type": "stream",
     "text": [
      "100%|██████████| 35/35 [00:12<00:00,  2.72batch/s]\n"
     ]
    },
    {
     "name": "stdout",
     "output_type": "stream",
     "text": [
      "Epoch 5, loss 49.2698\n",
      "Train Acc 0.5062\n",
      "Epoch 5, val_loss 94.6865\n"
     ]
    },
    {
     "name": "stderr",
     "output_type": "stream",
     "text": [
      "100%|██████████| 35/35 [00:12<00:00,  2.76batch/s]\n"
     ]
    },
    {
     "name": "stdout",
     "output_type": "stream",
     "text": [
      "Epoch 6, loss 42.3393\n",
      "Train Acc 0.5062\n",
      "Epoch 6, val_loss 38.2733\n"
     ]
    },
    {
     "name": "stderr",
     "output_type": "stream",
     "text": [
      "100%|██████████| 35/35 [00:04<00:00,  7.56batch/s]\n"
     ]
    },
    {
     "name": "stdout",
     "output_type": "stream",
     "text": [
      "Epoch 7, loss 27.5766\n",
      "Train Acc 0.6469\n",
      "Epoch 7, val_loss 9.1306\n",
      "Saving best model with validation loss 9.13060188293457\n"
     ]
    },
    {
     "name": "stderr",
     "output_type": "stream",
     "text": [
      "100%|██████████| 35/35 [00:04<00:00,  7.48batch/s]\n"
     ]
    },
    {
     "name": "stdout",
     "output_type": "stream",
     "text": [
      "Epoch 8, loss 19.2986\n",
      "Train Acc 0.6188\n",
      "Epoch 8, val_loss 5.7151\n",
      "Saving best model with validation loss 5.715149879455566\n"
     ]
    },
    {
     "name": "stderr",
     "output_type": "stream",
     "text": [
      "100%|██████████| 35/35 [00:04<00:00,  7.56batch/s]\n"
     ]
    },
    {
     "name": "stdout",
     "output_type": "stream",
     "text": [
      "Epoch 9, loss 34.9581\n",
      "Train Acc 0.4938\n",
      "Epoch 9, val_loss 31.9622\n"
     ]
    },
    {
     "name": "stderr",
     "output_type": "stream",
     "text": [
      "100%|██████████| 35/35 [00:04<00:00,  7.41batch/s]\n"
     ]
    },
    {
     "name": "stdout",
     "output_type": "stream",
     "text": [
      "Epoch 10, loss 27.2833\n",
      "Train Acc 0.5062\n",
      "Epoch 10, val_loss 84.0414\n"
     ]
    },
    {
     "name": "stderr",
     "output_type": "stream",
     "text": [
      "100%|██████████| 35/35 [00:04<00:00,  7.21batch/s]\n"
     ]
    },
    {
     "name": "stdout",
     "output_type": "stream",
     "text": [
      "Epoch 11, loss 27.3348\n",
      "Train Acc 0.5813\n",
      "Epoch 11, val_loss 12.0798\n"
     ]
    },
    {
     "name": "stderr",
     "output_type": "stream",
     "text": [
      "100%|██████████| 35/35 [00:04<00:00,  7.19batch/s]\n"
     ]
    },
    {
     "name": "stdout",
     "output_type": "stream",
     "text": [
      "Epoch 12, loss 23.2633\n",
      "Train Acc 0.5031\n",
      "Epoch 12, val_loss 23.2802\n"
     ]
    },
    {
     "name": "stderr",
     "output_type": "stream",
     "text": [
      "100%|██████████| 35/35 [00:09<00:00,  3.53batch/s]\n"
     ]
    },
    {
     "name": "stdout",
     "output_type": "stream",
     "text": [
      "Epoch 13, loss 43.2664\n",
      "Train Acc 0.5062\n",
      "Epoch 13, val_loss 67.7786\n"
     ]
    },
    {
     "name": "stderr",
     "output_type": "stream",
     "text": [
      "100%|██████████| 35/35 [00:12<00:00,  2.78batch/s]\n"
     ]
    },
    {
     "name": "stdout",
     "output_type": "stream",
     "text": [
      "Epoch 14, loss 35.9618\n",
      "Train Acc 0.5938\n",
      "Epoch 14, val_loss 12.1805\n"
     ]
    },
    {
     "name": "stderr",
     "output_type": "stream",
     "text": [
      "100%|██████████| 35/35 [00:13<00:00,  2.66batch/s]\n"
     ]
    },
    {
     "name": "stdout",
     "output_type": "stream",
     "text": [
      "Epoch 15, loss 17.3940\n",
      "Train Acc 0.5125\n",
      "Epoch 15, val_loss 33.6349\n"
     ]
    },
    {
     "name": "stderr",
     "output_type": "stream",
     "text": [
      "100%|██████████| 35/35 [00:13<00:00,  2.54batch/s]\n"
     ]
    },
    {
     "name": "stdout",
     "output_type": "stream",
     "text": [
      "Epoch 16, loss 16.6277\n",
      "Train Acc 0.5719\n",
      "Epoch 16, val_loss 13.5300\n"
     ]
    },
    {
     "name": "stderr",
     "output_type": "stream",
     "text": [
      "100%|██████████| 35/35 [00:13<00:00,  2.61batch/s]\n"
     ]
    },
    {
     "name": "stdout",
     "output_type": "stream",
     "text": [
      "Epoch 17, loss 14.5258\n",
      "Train Acc 0.5062\n",
      "Epoch 17, val_loss 38.4899\n"
     ]
    },
    {
     "name": "stderr",
     "output_type": "stream",
     "text": [
      "100%|██████████| 35/35 [00:14<00:00,  2.48batch/s]\n"
     ]
    },
    {
     "name": "stdout",
     "output_type": "stream",
     "text": [
      "Epoch 18, loss 36.5862\n",
      "Train Acc 0.4938\n",
      "Epoch 18, val_loss 72.8406\n",
      "Early stopping!\n",
      "\n",
      "Confusion matrix (Validation set):\n",
      "\n",
      "[[36  6]\n",
      " [27 11]]\n",
      "Validation accuracy: 58.75%\n",
      "Validation loss 5.715149879455566\n"
     ]
    }
   ],
   "source": [
    "import numpy as np\n",
    "import pandas as pd\n",
    "import torch\n",
    "\n",
    "from GNNSubNet import GNNSubNet as gnn\n",
    "\n",
    "# Synthetic data set  ------------------------- #\n",
    "# loc   = \"../GNNSubNet/datasets/synthetic\"\n",
    "# ppi   = f'{loc}/NETWORK_synthetic.txt'\n",
    "# feats = [f'{loc}/FEATURES_synthetic.txt']\n",
    "# targ  = f'{loc}/TARGET_synthetic.txt'\n",
    "\n",
    "# TCGA data set\n",
    "loc   = \"../TCGA\"\n",
    "ppi   = f'{loc}/KIDNEY_RANDOM_PPI.txt'\n",
    "feats = [f'{loc}/KIDNEY_RANDOM_Methy_FEATURES.txt', f'{loc}/KIDNEY_RANDOM_mRNA_FEATURES.txt']\n",
    "targ  = f'{loc}/KIDNEY_RANDOM_TARGET.txt'\n",
    "\n",
    "# Read in the synthetic data\n",
    "g = gnn.GNNSubNet(loc, ppi, feats, targ, normalize=False)\n",
    "\n",
    "# Get some general information about the data dimension\n",
    "g.summary()\n",
    "\n",
    "# Train the GNN classifier and validate performance on a test set\n",
    "g.train()\n"
   ]
  },
  {
   "cell_type": "code",
   "execution_count": 33,
   "outputs": [
    {
     "data": {
      "text/plain": "torch.Size([2049, 2])"
     },
     "execution_count": 33,
     "metadata": {},
     "output_type": "execute_result"
    }
   ],
   "source": [
    "g.s2v_test_dataset[0].node_features.shape"
   ],
   "metadata": {
    "collapsed": false
   }
  },
  {
   "cell_type": "code",
   "execution_count": 34,
   "outputs": [
    {
     "data": {
      "text/plain": "80"
     },
     "execution_count": 34,
     "metadata": {},
     "output_type": "execute_result"
    }
   ],
   "source": [
    "len(g.s2v_test_dataset)"
   ],
   "metadata": {
    "collapsed": false
   }
  },
  {
   "cell_type": "code",
   "execution_count": 35,
   "outputs": [
    {
     "data": {
      "text/plain": "array([0., 0., 0., 0., 0., 0., 0., 0., 1., 0., 1., 0., 0., 0., 0., 1., 1.,\n       0., 0., 0., 1., 0., 0., 0., 1., 0., 0., 1., 0., 0., 0., 0., 0., 0.,\n       0., 0., 0., 0., 1., 1., 0., 0., 0., 1., 0., 1., 0., 0., 0., 1., 0.,\n       0., 1., 0., 0., 0., 0., 0., 0., 0., 0., 0., 0., 1., 0., 1., 0., 0.,\n       0., 1., 1., 0., 0., 0., 0., 0., 0., 0., 0., 0.])"
     },
     "execution_count": 35,
     "metadata": {},
     "output_type": "execute_result"
    }
   ],
   "source": [
    "g.predictions"
   ],
   "metadata": {
    "collapsed": false
   }
  },
  {
   "cell_type": "markdown",
   "source": [
    "The following cells train an explainer for 300 epochs to obtain the aggregation of local explanations. This corresponds to RQs 1 and 2 of the project."
   ],
   "metadata": {
    "collapsed": false
   }
  },
  {
   "cell_type": "code",
   "execution_count": 36,
   "outputs": [],
   "source": [
    "from GNNSubNet import gnn_explainer as gnne\n",
    "import torch\n",
    "\n",
    "exp = gnne.GNNExplainer(g.model, epochs=300, lr = 0.1)"
   ],
   "metadata": {
    "collapsed": false
   }
  },
  {
   "cell_type": "code",
   "execution_count": 37,
   "outputs": [
    {
     "data": {
      "text/plain": "2049"
     },
     "execution_count": 37,
     "metadata": {},
     "output_type": "execute_result"
    }
   ],
   "source": [
    "g.s2v_test_dataset[0].node_features.shape[0]"
   ],
   "metadata": {
    "collapsed": false
   }
  },
  {
   "cell_type": "code",
   "execution_count": 43,
   "outputs": [
    {
     "data": {
      "text/plain": "tensor([[-6.0535],\n        [-0.6496],\n        [ 4.9781],\n        ...,\n        [-4.0656],\n        [-5.9072],\n        [ 6.2704]])"
     },
     "execution_count": 43,
     "metadata": {},
     "output_type": "execute_result"
    }
   ],
   "source": [
    "node_mask = exp.explain_graph_modified_s2v(g.s2v_test_dataset, 0.1, False)\n",
    "node_mask"
   ],
   "metadata": {
    "collapsed": false
   }
  },
  {
   "cell_type": "markdown",
   "source": [
    "## RQ1: How can GNN-SubNet be modified to obtain a local-level explanation?\n",
    "\n",
    "The following code cells retrieve the loss function values generated by a run of the explainer. For each sample of the test dataset, the loss for each epoch was stored. Thus, we can now plot the losses for all of the node mask optimization processes."
   ],
   "metadata": {
    "collapsed": false
   }
  },
  {
   "cell_type": "code",
   "execution_count": 48,
   "outputs": [
    {
     "data": {
      "text/plain": "       Epoch 0     Epoch 1     Epoch 2    Epoch 3    Epoch 4    Epoch 5   \n0    60.013641   45.113831   30.240103  15.510781   0.871271 -13.579669  \\\n1   138.830170  124.140038  109.522308  95.059288  80.825348  66.878387   \n2    74.946045   59.763832   44.567360  29.477379  14.491062  -0.244627   \n3   131.091187  114.506767   97.994209  81.718834  65.624809  49.863319   \n4   144.557327  129.511520  114.542923  99.689247  85.061264  70.748360   \n..         ...         ...         ...        ...        ...        ...   \n75  102.765213   87.058205   71.474144  55.949997  40.569897  25.471621   \n76  129.711349  113.371330   97.130341  81.091248  65.264069  49.638180   \n77  134.573547  117.452049  100.462822  83.660248  67.132217  50.977245   \n78   95.458328   80.229073   65.020866  49.996422  35.190071  20.612331   \n79  116.898064  100.823685   84.843681  69.028542  53.489079  38.257980   \n\n      Epoch 6    Epoch 7    Epoch 8    Epoch 9  ...   Epoch 290   Epoch 291   \n0  -27.765417 -41.555523 -54.932510 -67.826195  ... -256.144714 -256.152954  \\\n1   53.333473  40.209572  27.568638  15.472967  ... -159.921555 -159.928574   \n2  -14.588010 -28.570496 -42.162807 -55.241070  ... -247.620636 -247.628815   \n3   34.485912  19.567410   5.198513  -8.577172  ... -206.796844 -206.805573   \n4   56.908318  43.545422  30.683086  18.367674  ... -158.709152 -158.717407   \n..        ...        ...        ...        ...  ...         ...         ...   \n75  10.636740  -3.806469 -17.715929 -31.091206  ... -228.247391 -228.255707   \n76  34.382851  19.612770   5.367459  -8.306925  ... -202.757538 -202.765671   \n77  35.155102  19.808838   5.034503  -9.120975  ... -210.267151 -210.276184   \n78   6.282259  -7.701098 -21.178017 -34.122578  ... -221.484940 -221.492783   \n79  23.336206   8.838475  -5.135342 -18.592413  ... -210.887543 -210.895981   \n\n     Epoch 292   Epoch 293   Epoch 294   Epoch 295   Epoch 296   Epoch 297   \n0  -256.160889 -256.168732 -256.176880 -256.184143 -256.191925 -256.199646  \\\n1  -159.936081 -159.943130 -159.950943 -159.957993 -159.965134 -159.972076   \n2  -247.636398 -247.644547 -247.652267 -247.659576 -247.667328 -247.674713   \n3  -206.813461 -206.822006 -206.830276 -206.838623 -206.846649 -206.854324   \n4  -158.725220 -158.732773 -158.739853 -158.746811 -158.754715 -158.763031   \n..         ...         ...         ...         ...         ...         ...   \n75 -228.264206 -228.272186 -228.279602 -228.288055 -228.296341 -228.304047   \n76 -202.773834 -202.781876 -202.790344 -202.798065 -202.805679 -202.813599   \n77 -210.284500 -210.293320 -210.301392 -210.309799 -210.317764 -210.325775   \n78 -221.501190 -221.509415 -221.517029 -221.524811 -221.532791 -221.540939   \n79 -210.904297 -210.912476 -210.920364 -210.928223 -210.936356 -210.944000   \n\n     Epoch 298   Epoch 299  \n0  -256.206909 -256.214630  \n1  -159.979126 -159.986496  \n2  -247.682556 -247.689850  \n3  -206.861984 -206.870132  \n4  -158.769882 -158.776566  \n..         ...         ...  \n75 -228.311752 -228.319290  \n76 -202.821884 -202.829285  \n77 -210.333649 -210.342300  \n78 -221.548691 -221.556442  \n79 -210.951935 -210.959396  \n\n[80 rows x 300 columns]",
      "text/html": "<div>\n<style scoped>\n    .dataframe tbody tr th:only-of-type {\n        vertical-align: middle;\n    }\n\n    .dataframe tbody tr th {\n        vertical-align: top;\n    }\n\n    .dataframe thead th {\n        text-align: right;\n    }\n</style>\n<table border=\"1\" class=\"dataframe\">\n  <thead>\n    <tr style=\"text-align: right;\">\n      <th></th>\n      <th>Epoch 0</th>\n      <th>Epoch 1</th>\n      <th>Epoch 2</th>\n      <th>Epoch 3</th>\n      <th>Epoch 4</th>\n      <th>Epoch 5</th>\n      <th>Epoch 6</th>\n      <th>Epoch 7</th>\n      <th>Epoch 8</th>\n      <th>Epoch 9</th>\n      <th>...</th>\n      <th>Epoch 290</th>\n      <th>Epoch 291</th>\n      <th>Epoch 292</th>\n      <th>Epoch 293</th>\n      <th>Epoch 294</th>\n      <th>Epoch 295</th>\n      <th>Epoch 296</th>\n      <th>Epoch 297</th>\n      <th>Epoch 298</th>\n      <th>Epoch 299</th>\n    </tr>\n  </thead>\n  <tbody>\n    <tr>\n      <th>0</th>\n      <td>60.013641</td>\n      <td>45.113831</td>\n      <td>30.240103</td>\n      <td>15.510781</td>\n      <td>0.871271</td>\n      <td>-13.579669</td>\n      <td>-27.765417</td>\n      <td>-41.555523</td>\n      <td>-54.932510</td>\n      <td>-67.826195</td>\n      <td>...</td>\n      <td>-256.144714</td>\n      <td>-256.152954</td>\n      <td>-256.160889</td>\n      <td>-256.168732</td>\n      <td>-256.176880</td>\n      <td>-256.184143</td>\n      <td>-256.191925</td>\n      <td>-256.199646</td>\n      <td>-256.206909</td>\n      <td>-256.214630</td>\n    </tr>\n    <tr>\n      <th>1</th>\n      <td>138.830170</td>\n      <td>124.140038</td>\n      <td>109.522308</td>\n      <td>95.059288</td>\n      <td>80.825348</td>\n      <td>66.878387</td>\n      <td>53.333473</td>\n      <td>40.209572</td>\n      <td>27.568638</td>\n      <td>15.472967</td>\n      <td>...</td>\n      <td>-159.921555</td>\n      <td>-159.928574</td>\n      <td>-159.936081</td>\n      <td>-159.943130</td>\n      <td>-159.950943</td>\n      <td>-159.957993</td>\n      <td>-159.965134</td>\n      <td>-159.972076</td>\n      <td>-159.979126</td>\n      <td>-159.986496</td>\n    </tr>\n    <tr>\n      <th>2</th>\n      <td>74.946045</td>\n      <td>59.763832</td>\n      <td>44.567360</td>\n      <td>29.477379</td>\n      <td>14.491062</td>\n      <td>-0.244627</td>\n      <td>-14.588010</td>\n      <td>-28.570496</td>\n      <td>-42.162807</td>\n      <td>-55.241070</td>\n      <td>...</td>\n      <td>-247.620636</td>\n      <td>-247.628815</td>\n      <td>-247.636398</td>\n      <td>-247.644547</td>\n      <td>-247.652267</td>\n      <td>-247.659576</td>\n      <td>-247.667328</td>\n      <td>-247.674713</td>\n      <td>-247.682556</td>\n      <td>-247.689850</td>\n    </tr>\n    <tr>\n      <th>3</th>\n      <td>131.091187</td>\n      <td>114.506767</td>\n      <td>97.994209</td>\n      <td>81.718834</td>\n      <td>65.624809</td>\n      <td>49.863319</td>\n      <td>34.485912</td>\n      <td>19.567410</td>\n      <td>5.198513</td>\n      <td>-8.577172</td>\n      <td>...</td>\n      <td>-206.796844</td>\n      <td>-206.805573</td>\n      <td>-206.813461</td>\n      <td>-206.822006</td>\n      <td>-206.830276</td>\n      <td>-206.838623</td>\n      <td>-206.846649</td>\n      <td>-206.854324</td>\n      <td>-206.861984</td>\n      <td>-206.870132</td>\n    </tr>\n    <tr>\n      <th>4</th>\n      <td>144.557327</td>\n      <td>129.511520</td>\n      <td>114.542923</td>\n      <td>99.689247</td>\n      <td>85.061264</td>\n      <td>70.748360</td>\n      <td>56.908318</td>\n      <td>43.545422</td>\n      <td>30.683086</td>\n      <td>18.367674</td>\n      <td>...</td>\n      <td>-158.709152</td>\n      <td>-158.717407</td>\n      <td>-158.725220</td>\n      <td>-158.732773</td>\n      <td>-158.739853</td>\n      <td>-158.746811</td>\n      <td>-158.754715</td>\n      <td>-158.763031</td>\n      <td>-158.769882</td>\n      <td>-158.776566</td>\n    </tr>\n    <tr>\n      <th>...</th>\n      <td>...</td>\n      <td>...</td>\n      <td>...</td>\n      <td>...</td>\n      <td>...</td>\n      <td>...</td>\n      <td>...</td>\n      <td>...</td>\n      <td>...</td>\n      <td>...</td>\n      <td>...</td>\n      <td>...</td>\n      <td>...</td>\n      <td>...</td>\n      <td>...</td>\n      <td>...</td>\n      <td>...</td>\n      <td>...</td>\n      <td>...</td>\n      <td>...</td>\n      <td>...</td>\n    </tr>\n    <tr>\n      <th>75</th>\n      <td>102.765213</td>\n      <td>87.058205</td>\n      <td>71.474144</td>\n      <td>55.949997</td>\n      <td>40.569897</td>\n      <td>25.471621</td>\n      <td>10.636740</td>\n      <td>-3.806469</td>\n      <td>-17.715929</td>\n      <td>-31.091206</td>\n      <td>...</td>\n      <td>-228.247391</td>\n      <td>-228.255707</td>\n      <td>-228.264206</td>\n      <td>-228.272186</td>\n      <td>-228.279602</td>\n      <td>-228.288055</td>\n      <td>-228.296341</td>\n      <td>-228.304047</td>\n      <td>-228.311752</td>\n      <td>-228.319290</td>\n    </tr>\n    <tr>\n      <th>76</th>\n      <td>129.711349</td>\n      <td>113.371330</td>\n      <td>97.130341</td>\n      <td>81.091248</td>\n      <td>65.264069</td>\n      <td>49.638180</td>\n      <td>34.382851</td>\n      <td>19.612770</td>\n      <td>5.367459</td>\n      <td>-8.306925</td>\n      <td>...</td>\n      <td>-202.757538</td>\n      <td>-202.765671</td>\n      <td>-202.773834</td>\n      <td>-202.781876</td>\n      <td>-202.790344</td>\n      <td>-202.798065</td>\n      <td>-202.805679</td>\n      <td>-202.813599</td>\n      <td>-202.821884</td>\n      <td>-202.829285</td>\n    </tr>\n    <tr>\n      <th>77</th>\n      <td>134.573547</td>\n      <td>117.452049</td>\n      <td>100.462822</td>\n      <td>83.660248</td>\n      <td>67.132217</td>\n      <td>50.977245</td>\n      <td>35.155102</td>\n      <td>19.808838</td>\n      <td>5.034503</td>\n      <td>-9.120975</td>\n      <td>...</td>\n      <td>-210.267151</td>\n      <td>-210.276184</td>\n      <td>-210.284500</td>\n      <td>-210.293320</td>\n      <td>-210.301392</td>\n      <td>-210.309799</td>\n      <td>-210.317764</td>\n      <td>-210.325775</td>\n      <td>-210.333649</td>\n      <td>-210.342300</td>\n    </tr>\n    <tr>\n      <th>78</th>\n      <td>95.458328</td>\n      <td>80.229073</td>\n      <td>65.020866</td>\n      <td>49.996422</td>\n      <td>35.190071</td>\n      <td>20.612331</td>\n      <td>6.282259</td>\n      <td>-7.701098</td>\n      <td>-21.178017</td>\n      <td>-34.122578</td>\n      <td>...</td>\n      <td>-221.484940</td>\n      <td>-221.492783</td>\n      <td>-221.501190</td>\n      <td>-221.509415</td>\n      <td>-221.517029</td>\n      <td>-221.524811</td>\n      <td>-221.532791</td>\n      <td>-221.540939</td>\n      <td>-221.548691</td>\n      <td>-221.556442</td>\n    </tr>\n    <tr>\n      <th>79</th>\n      <td>116.898064</td>\n      <td>100.823685</td>\n      <td>84.843681</td>\n      <td>69.028542</td>\n      <td>53.489079</td>\n      <td>38.257980</td>\n      <td>23.336206</td>\n      <td>8.838475</td>\n      <td>-5.135342</td>\n      <td>-18.592413</td>\n      <td>...</td>\n      <td>-210.887543</td>\n      <td>-210.895981</td>\n      <td>-210.904297</td>\n      <td>-210.912476</td>\n      <td>-210.920364</td>\n      <td>-210.928223</td>\n      <td>-210.936356</td>\n      <td>-210.944000</td>\n      <td>-210.951935</td>\n      <td>-210.959396</td>\n    </tr>\n  </tbody>\n</table>\n<p>80 rows × 300 columns</p>\n</div>"
     },
     "execution_count": 48,
     "metadata": {},
     "output_type": "execute_result"
    }
   ],
   "source": [
    "import pandas as pd\n",
    "\n",
    "losses = pd.read_csv(\"../GNNSubNet/saved_values/loss_values_modified_alg.csv\")\n",
    "losses"
   ],
   "metadata": {
    "collapsed": false
   }
  },
  {
   "cell_type": "code",
   "execution_count": 49,
   "outputs": [
    {
     "data": {
      "text/plain": "array([ 113.50397491,   97.1993866 ,   80.97582245,   64.94180298,\n         49.18170547,   33.66921234,   18.46888733,    3.73113251,\n        -10.48859024,  -24.15829659,  -37.21005249,  -49.65138626,\n        -61.39247131,  -72.46907806,  -82.87525177,  -92.5872345 ,\n       -101.63672638, -110.00443268, -117.76338196, -124.95198059,\n       -131.60723877, -137.74526978, -143.3966217 , -148.58843994,\n       -153.33633423, -157.67796326, -161.6509552 , -165.28764343,\n       -168.61489868, -171.66299438, -174.45762634, -177.01968384,\n       -179.37542725, -181.54402161, -183.54248047, -185.38423157,\n       -187.07865906, -188.64060974, -190.08673096, -191.42433167,\n       -192.66455078, -193.81504822, -194.88899231, -195.88792419,\n       -196.81835938, -197.68933105, -198.50610352, -199.27171326,\n       -199.9919281 , -200.67030334, -201.31001282, -201.91389465,\n       -202.48809814, -203.03477478, -203.5549469 , -204.04911804,\n       -204.52099609, -204.97113037, -205.3994751 , -205.81044006,\n       -206.20701599, -206.58796692, -206.9551239 , -207.3110199 ,\n       -207.65522766, -207.98501587, -208.29934692, -208.59838867,\n       -208.88534546, -209.16162109, -209.42637634, -209.6786499 ,\n       -209.92132568, -210.15104675, -210.37330627, -210.5894928 ,\n       -210.79747009, -210.99662781, -211.18887329, -211.37605286,\n       -211.55593872, -211.73091125, -211.90139771, -212.06752014,\n       -212.22962952, -212.38963318, -212.54605103, -212.69793701,\n       -212.84562683, -212.98849487, -213.12785339, -213.26304626,\n       -213.39601135, -213.52825928, -213.65844727, -213.78768921,\n       -213.91513062, -214.03919983, -214.16020203, -214.27798462,\n       -214.39311218, -214.50421143, -214.61010742, -214.71282959,\n       -214.81417847, -214.91288757, -215.00894165, -215.10240173,\n       -215.19271851, -215.28027344, -215.36520386, -215.44837952,\n       -215.52935791, -215.6088562 , -215.68669128, -215.76416016,\n       -215.83998108, -215.91340637, -215.98405457, -216.05213928,\n       -216.11872864, -216.18460083, -216.2492218 , -216.31278992,\n       -216.37573242, -216.43717957, -216.49769592, -216.55792236,\n       -216.61645508, -216.67352295, -216.7293396 , -216.78421021,\n       -216.83868408, -216.89245605, -216.94543457, -216.99699402,\n       -217.04779053, -217.09793091, -217.14781189, -217.19726562,\n       -217.24673462, -217.29595947, -217.3447876 , -217.39279175,\n       -217.44062805, -217.48735046, -217.53327942, -217.57814026,\n       -217.62236023, -217.66647339, -217.70916748, -217.75007629,\n       -217.79127502, -217.83132935, -217.8704071 , -217.90861511,\n       -217.94648743, -217.9833374 , -218.01904297, -218.05407715,\n       -218.08865356, -218.12271118, -218.15579224, -218.18893433,\n       -218.22077942, -218.2518158 , -218.28323364, -218.31384277,\n       -218.34371948, -218.37338257, -218.40246582, -218.43171692,\n       -218.4599762 , -218.48825073, -218.51663208, -218.54421997,\n       -218.57107544, -218.59840393, -218.62521362, -218.6522522 ,\n       -218.67982483, -218.70620728, -218.73320007, -218.75938416,\n       -218.78590393, -218.81187439, -218.83888245, -218.86599731,\n       -218.89363098, -218.91957092, -218.94444275, -218.96882629,\n       -218.99363708, -219.01693726, -219.04045105, -219.06300354,\n       -219.08532715, -219.10694885, -219.12837219, -219.14949036,\n       -219.16993713, -219.1907196 , -219.21115112, -219.23095703,\n       -219.25032043, -219.26976013, -219.28868103, -219.30725098,\n       -219.32591248, -219.3442688 , -219.36225891, -219.37986755,\n       -219.39704895, -219.41467285, -219.43170166, -219.44889832,\n       -219.46551514, -219.48207092, -219.49824524, -219.51486206,\n       -219.53094482, -219.54631042, -219.56202698, -219.57788086,\n       -219.59336853, -219.60810852, -219.62329102, -219.63807678,\n       -219.65272522, -219.66760254, -219.68200684, -219.69581604,\n       -219.71014404, -219.72419739, -219.7381897 , -219.75161743,\n       -219.76538086, -219.77839661, -219.79162598, -219.80499268,\n       -219.81799316, -219.83061218, -219.84364319, -219.85650635,\n       -219.86883545, -219.88150024, -219.89367676, -219.90620422,\n       -219.9178772 , -219.92948914, -219.94178772, -219.95347595,\n       -219.96473694, -219.97640991, -219.98814392, -219.99908447,\n       -220.01068115, -220.02163696, -220.03283691, -220.04368591,\n       -220.05465698, -220.06500244, -220.07572937, -220.08628845,\n       -220.09671021, -220.10673523, -220.11738586, -220.12765503,\n       -220.13789368, -220.14797974, -220.15794373, -220.16738892,\n       -220.17726135, -220.18695068, -220.19644165, -220.20596313,\n       -220.2155304 , -220.22480774, -220.23469543, -220.2436676 ,\n       -220.25253296, -220.26196289, -220.27111816, -220.2797699 ,\n       -220.28863525, -220.2975769 , -220.30662537, -220.31510925,\n       -220.32365417, -220.33230591, -220.34051514, -220.34922791,\n       -220.35780334, -220.36579895, -220.37428284, -220.38240051,\n       -220.39083862, -220.39892578, -220.40711975, -220.4151001 ])"
     },
     "execution_count": 49,
     "metadata": {},
     "output_type": "execute_result"
    }
   ],
   "source": [
    "import matplotlib.pyplot as plt\n",
    "\n",
    "single_loss = losses.iloc[30].values\n",
    "\n",
    "single_loss"
   ],
   "metadata": {
    "collapsed": false
   }
  },
  {
   "cell_type": "code",
   "execution_count": 50,
   "outputs": [
    {
     "data": {
      "text/plain": "<Figure size 640x480 with 1 Axes>",
      "image/png": "[encoded data removed]"
     },
     "metadata": {},
     "output_type": "display_data"
    }
   ],
   "source": [
    "plt.plot(single_loss)\n",
    "plt.ylabel('Loss function value')\n",
    "plt.xlabel('Epoch')\n",
    "\n",
    "plt.show()"
   ],
   "metadata": {
    "collapsed": false
   }
  },
  {
   "cell_type": "markdown",
   "source": [
    "For comparison purposes, the following code cells run the original explainer on the same test dataset and plot the loss function values for GNN-SubNet."
   ],
   "metadata": {
    "collapsed": false
   }
  },
  {
   "cell_type": "code",
   "execution_count": 51,
   "outputs": [
    {
     "data": {
      "text/plain": "tensor([[-5.9795],\n        [-5.8355],\n        [ 6.0718],\n        ...,\n        [-5.4347],\n        [-5.8461],\n        [ 6.5332]])"
     },
     "execution_count": 51,
     "metadata": {},
     "output_type": "execute_result"
    }
   ],
   "source": [
    "node_mask_gnn_subnet = exp.explain_graph_modified_s2v(g.s2v_test_dataset, 0.1, True)\n",
    "node_mask_gnn_subnet"
   ],
   "metadata": {
    "collapsed": false
   }
  },
  {
   "cell_type": "code",
   "execution_count": 52,
   "outputs": [
    {
     "data": {
      "text/plain": "      Epoch 0     Epoch 1    Epoch 2     Epoch 3     Epoch 4     Epoch 5   \n0  841.733643  721.626953  602.04834  483.306183  365.789673  250.307663  \\\n\n      Epoch 6    Epoch 7    Epoch 8    Epoch 9  ...    Epoch 290    Epoch 291   \n0  137.504059  28.103294 -77.536491 -178.99942  ... -1638.181641 -1638.277588  \\\n\n     Epoch 292   Epoch 293    Epoch 294    Epoch 295    Epoch 296   \n0 -1638.369263 -1638.46167 -1638.557861 -1638.657104 -1638.762939  \\\n\n     Epoch 297   Epoch 298    Epoch 299  \n0 -1638.872925 -1638.98938 -1639.114502  \n\n[1 rows x 300 columns]",
      "text/html": "<div>\n<style scoped>\n    .dataframe tbody tr th:only-of-type {\n        vertical-align: middle;\n    }\n\n    .dataframe tbody tr th {\n        vertical-align: top;\n    }\n\n    .dataframe thead th {\n        text-align: right;\n    }\n</style>\n<table border=\"1\" class=\"dataframe\">\n  <thead>\n    <tr style=\"text-align: right;\">\n      <th></th>\n      <th>Epoch 0</th>\n      <th>Epoch 1</th>\n      <th>Epoch 2</th>\n      <th>Epoch 3</th>\n      <th>Epoch 4</th>\n      <th>Epoch 5</th>\n      <th>Epoch 6</th>\n      <th>Epoch 7</th>\n      <th>Epoch 8</th>\n      <th>Epoch 9</th>\n      <th>...</th>\n      <th>Epoch 290</th>\n      <th>Epoch 291</th>\n      <th>Epoch 292</th>\n      <th>Epoch 293</th>\n      <th>Epoch 294</th>\n      <th>Epoch 295</th>\n      <th>Epoch 296</th>\n      <th>Epoch 297</th>\n      <th>Epoch 298</th>\n      <th>Epoch 299</th>\n    </tr>\n  </thead>\n  <tbody>\n    <tr>\n      <th>0</th>\n      <td>841.733643</td>\n      <td>721.626953</td>\n      <td>602.04834</td>\n      <td>483.306183</td>\n      <td>365.789673</td>\n      <td>250.307663</td>\n      <td>137.504059</td>\n      <td>28.103294</td>\n      <td>-77.536491</td>\n      <td>-178.99942</td>\n      <td>...</td>\n      <td>-1638.181641</td>\n      <td>-1638.277588</td>\n      <td>-1638.369263</td>\n      <td>-1638.46167</td>\n      <td>-1638.557861</td>\n      <td>-1638.657104</td>\n      <td>-1638.762939</td>\n      <td>-1638.872925</td>\n      <td>-1638.98938</td>\n      <td>-1639.114502</td>\n    </tr>\n  </tbody>\n</table>\n<p>1 rows × 300 columns</p>\n</div>"
     },
     "execution_count": 52,
     "metadata": {},
     "output_type": "execute_result"
    }
   ],
   "source": [
    "losses_gnn_subnet = pd.read_csv(\"../GNNSubNet/saved_values/loss_values_gnn-subnet.csv\")\n",
    "losses_gnn_subnet"
   ],
   "metadata": {
    "collapsed": false
   }
  },
  {
   "cell_type": "code",
   "execution_count": 53,
   "outputs": [
    {
     "data": {
      "text/plain": "<Figure size 640x480 with 1 Axes>",
      "image/png": "[encoded data removed]"
     },
     "metadata": {},
     "output_type": "display_data"
    }
   ],
   "source": [
    "import matplotlib.pyplot as plt\n",
    "\n",
    "plt.plot(losses_gnn_subnet.iloc[0].values)\n",
    "plt.ylabel('Loss function value')\n",
    "plt.xlabel('Epoch')\n",
    "\n",
    "plt.show()"
   ],
   "metadata": {
    "collapsed": false
   }
  },
  {
   "cell_type": "markdown",
   "source": [
    "## RQ2: How can multiple local explanations be aggregated to obtain a global explanation?\n",
    "\n",
    "To verify the correctness of the mask aggregation, we use both methods in the task of disease subnetwork detection and obtain the accuracy of the two explainers."
   ],
   "metadata": {
    "collapsed": false
   }
  },
  {
   "cell_type": "code",
   "execution_count": 6,
   "outputs": [
    {
     "data": {
      "text/plain": "[-3.0346899557500002,\n -0.5078569104999999,\n 6.0254092785,\n -0.3570356859999999,\n -0.1517176115,\n -2.2598742017200006,\n 6.036233232,\n -2.2528973422000003,\n -0.6884245924999999,\n -2.8732688249000002,\n -2.3612033642999997,\n -2.5944220288500004,\n -2.6588298639229997,\n -2.7130762876999994,\n 0.1748628175000001,\n -2.5913167479499997,\n -0.05771814000000001,\n -2.34047323846,\n -3.875944284395,\n 0.18429285500000006,\n -0.7798533915,\n -2.26924792726,\n -2.810678845615,\n -2.3942571201750003,\n -2.21588612475,\n -2.60803866305,\n -0.7724600359999999,\n -2.5150072153200003,\n -2.6827661701500007,\n -2.7635420563000004]"
     },
     "execution_count": 6,
     "metadata": {},
     "output_type": "execute_result"
    }
   ],
   "source": [
    "node_mask = exp.aggregate_masks_from_file(\"GNNSubNet/saved_values/node_mask_values.csv\", np.mean)\n",
    "node_mask"
   ],
   "metadata": {
    "collapsed": false
   }
  },
  {
   "cell_type": "code",
   "execution_count": 7,
   "outputs": [],
   "source": [
    "def min_max(arr):\n",
    "\n",
    "    new_arr = []\n",
    "\n",
    "    minimum = min(arr)\n",
    "    maximum = max(arr)\n",
    "\n",
    "    for entry in arr:\n",
    "        new_entry = (entry - minimum) / (maximum - minimum)\n",
    "        new_arr.append(new_entry)\n",
    "\n",
    "    return new_arr"
   ],
   "metadata": {
    "collapsed": false
   }
  },
  {
   "cell_type": "code",
   "execution_count": 9,
   "outputs": [
    {
     "data": {
      "text/plain": "[0.035974299210022154,\n 0.07889420226356529,\n 1.0,\n 0.0,\n 0.8892814176094395,\n 0.09026474137513367,\n 0.997877620760268,\n 0.11195174744929895,\n 0.107592133944588,\n 0.15309546215707565,\n 0.9453786135029406,\n 0.0489842050314305,\n 0.12388481966659093,\n 0.1333719748174486,\n 0.21917977037015654,\n 0.03134143985569093,\n 0.17246155852163408,\n 0.11543876624820153,\n 0.1790915007245188,\n 0.059785816152258385,\n 0.11236983563808722,\n 0.1377337922090863,\n 0.0032581397221678977,\n 0.107772130086702,\n 0.03854811397679437,\n 0.11220656735904003,\n 0.1135562132612501,\n 0.20881727468715555,\n 0.13926957623337008,\n 0.000688732729249131]"
     },
     "execution_count": 9,
     "metadata": {},
     "output_type": "execute_result"
    }
   ],
   "source": [
    "minmax_gnnsubnet = min_max([tensor.item() for tensor in node_mask_gnn_subnet])\n",
    "minmax_gnnsubnet"
   ],
   "metadata": {
    "collapsed": false
   }
  },
  {
   "cell_type": "code",
   "execution_count": 10,
   "outputs": [
    {
     "data": {
      "text/plain": "[0.08487078921392835,\n 0.3397928828780655,\n 0.9989080145626835,\n 0.3550086338319339,\n 0.37572235431972767,\n 0.1630388559932444,\n 1.0,\n 0.16374272348436436,\n 0.32157613063555,\n 0.10115592238300299,\n 0.15281616149323188,\n 0.12928766191135385,\n 0.12278981267827997,\n 0.11731710764578084,\n 0.40866974942638584,\n 0.12960094129874017,\n 0.3852055855617552,\n 0.15490754109228683,\n 0.0,\n 0.4096211082458181,\n 0.31235224427467984,\n 0.1620931782625445,\n 0.10747037540621354,\n 0.14948150008101152,\n 0.16747663738862836,\n 0.1279139340722915,\n 0.3130981303817205,\n 0.13729950526248894,\n 0.12037497434559175,\n 0.11222581781400277]"
     },
     "execution_count": 10,
     "metadata": {},
     "output_type": "execute_result"
    }
   ],
   "source": [
    "minmax_new_alg = min_max(node_mask)\n",
    "minmax_new_alg"
   ],
   "metadata": {
    "collapsed": false
   }
  },
  {
   "cell_type": "code",
   "execution_count": 14,
   "outputs": [
    {
     "data": {
      "text/plain": "array([0.04889649, 0.26089868, 0.00109199, 0.35500863, 0.51355906,\n       0.07277411, 0.00212238, 0.05179098, 0.213984  , 0.05193954,\n       0.79256245, 0.08030346, 0.00109501, 0.01605487, 0.18948998,\n       0.0982595 , 0.21274403, 0.03946877, 0.1790915 , 0.34983529,\n       0.19998241, 0.02435939, 0.10421224, 0.04170937, 0.12892852,\n       0.01570737, 0.19954192, 0.07151777, 0.0188946 , 0.11153709])"
     },
     "execution_count": 14,
     "metadata": {},
     "output_type": "execute_result"
    }
   ],
   "source": [
    "abs(np.subtract(minmax_gnnsubnet, minmax_new_alg))"
   ],
   "metadata": {
    "collapsed": false
   }
  },
  {
   "cell_type": "markdown",
   "source": [
    "## Disease Subnetwork Detection\n",
    "\n",
    "The following code cells run both GNN-SubNet and the modified algorithm to detect disease subnetworks, then compares the obtained modules and the module importances. The algorithms are run on the TCGA data."
   ],
   "metadata": {
    "collapsed": false
   }
  },
  {
   "cell_type": "code",
   "execution_count": 1,
   "outputs": [
    {
     "name": "stdout",
     "output_type": "stream",
     "text": [
      "Graph is connected  False\n",
      "Calculate subgraph ...\n",
      "Number of subgraphs:  118\n",
      "Size of subgraph:  2049\n",
      "Graph is connected  True\n",
      "##################\n",
      "# DATASET LOADED #\n",
      "##################\n",
      "graphcnn for training ...\n",
      "Graphs class 0: 200, Graphs class 1: 306\n",
      "Length of balanced dataset list: 400\n",
      "Train graph class 0: 164, train graph class 1: 156\n",
      "Validation graph class 0: 36, validation graph class 1: 44\n"
     ]
    },
    {
     "name": "stderr",
     "output_type": "stream",
     "text": [
      "  0%|          | 0/35 [00:00<?, ?batch/s]C:\\Users\\elena\\DELFT\\assignments\\RP\\GNN-SubNet_modified\\GNNSubNet\\graphcnn.py:134: UserWarning: torch.sparse.SparseTensor(indices, values, shape, *, device=) is deprecated.  Please use torch.sparse_coo_tensor(indices, values, shape, dtype=, device=). (Triggered internally at C:\\actions-runner\\_work\\pytorch\\pytorch\\builder\\windows\\pytorch\\torch\\csrc\\utils\\tensor_new.cpp:623.)\n",
      "  graph_pool = torch.sparse.FloatTensor(idx, elem, torch.Size([len(batch_graph), start_idx[-1]]))\n",
      "100%|██████████| 35/35 [00:11<00:00,  3.06batch/s]\n"
     ]
    },
    {
     "name": "stdout",
     "output_type": "stream",
     "text": [
      "Epoch 0, loss 249.5466\n",
      "Train Acc 0.5625\n",
      "Epoch 0, val_loss 25.8900\n",
      "Saving best model with validation loss 25.889957427978516\n"
     ]
    },
    {
     "name": "stderr",
     "output_type": "stream",
     "text": [
      "100%|██████████| 35/35 [00:11<00:00,  2.98batch/s]\n"
     ]
    },
    {
     "name": "stdout",
     "output_type": "stream",
     "text": [
      "Epoch 1, loss 33.5900\n",
      "Train Acc 0.6562\n",
      "Epoch 1, val_loss 6.3147\n",
      "Saving best model with validation loss 6.314731597900391\n"
     ]
    },
    {
     "name": "stderr",
     "output_type": "stream",
     "text": [
      "100%|██████████| 35/35 [00:11<00:00,  2.94batch/s]\n"
     ]
    },
    {
     "name": "stdout",
     "output_type": "stream",
     "text": [
      "Epoch 2, loss 19.0727\n",
      "Train Acc 0.7750\n",
      "Epoch 2, val_loss 4.0569\n",
      "Saving best model with validation loss 4.0568671226501465\n"
     ]
    },
    {
     "name": "stderr",
     "output_type": "stream",
     "text": [
      "100%|██████████| 35/35 [00:12<00:00,  2.81batch/s]\n"
     ]
    },
    {
     "name": "stdout",
     "output_type": "stream",
     "text": [
      "Epoch 3, loss 15.8206\n",
      "Train Acc 0.4875\n",
      "Epoch 3, val_loss 24.3499\n"
     ]
    },
    {
     "name": "stderr",
     "output_type": "stream",
     "text": [
      "100%|██████████| 35/35 [00:13<00:00,  2.66batch/s]\n"
     ]
    },
    {
     "name": "stdout",
     "output_type": "stream",
     "text": [
      "Epoch 4, loss 15.2767\n",
      "Train Acc 0.5656\n",
      "Epoch 4, val_loss 11.2107\n"
     ]
    },
    {
     "name": "stderr",
     "output_type": "stream",
     "text": [
      "100%|██████████| 35/35 [00:12<00:00,  2.81batch/s]\n"
     ]
    },
    {
     "name": "stdout",
     "output_type": "stream",
     "text": [
      "Epoch 5, loss 9.2828\n",
      "Train Acc 0.5094\n",
      "Epoch 5, val_loss 14.5417\n"
     ]
    },
    {
     "name": "stderr",
     "output_type": "stream",
     "text": [
      "100%|██████████| 35/35 [00:12<00:00,  2.88batch/s]\n"
     ]
    },
    {
     "name": "stdout",
     "output_type": "stream",
     "text": [
      "Epoch 6, loss 13.8666\n",
      "Train Acc 0.6344\n",
      "Epoch 6, val_loss 5.2948\n"
     ]
    },
    {
     "name": "stderr",
     "output_type": "stream",
     "text": [
      "100%|██████████| 35/35 [00:11<00:00,  2.93batch/s]\n"
     ]
    },
    {
     "name": "stdout",
     "output_type": "stream",
     "text": [
      "Epoch 7, loss 6.6302\n",
      "Train Acc 0.6344\n",
      "Epoch 7, val_loss 4.6181\n"
     ]
    },
    {
     "name": "stderr",
     "output_type": "stream",
     "text": [
      "100%|██████████| 35/35 [00:12<00:00,  2.74batch/s]\n"
     ]
    },
    {
     "name": "stdout",
     "output_type": "stream",
     "text": [
      "Epoch 8, loss 8.4446\n",
      "Train Acc 0.7781\n",
      "Epoch 8, val_loss 2.3091\n",
      "Saving best model with validation loss 2.309143304824829\n"
     ]
    },
    {
     "name": "stderr",
     "output_type": "stream",
     "text": [
      "100%|██████████| 35/35 [00:12<00:00,  2.81batch/s]\n"
     ]
    },
    {
     "name": "stdout",
     "output_type": "stream",
     "text": [
      "Epoch 9, loss 13.2693\n",
      "Train Acc 0.7250\n",
      "Epoch 9, val_loss 3.8345\n"
     ]
    },
    {
     "name": "stderr",
     "output_type": "stream",
     "text": [
      "100%|██████████| 35/35 [00:12<00:00,  2.89batch/s]\n"
     ]
    },
    {
     "name": "stdout",
     "output_type": "stream",
     "text": [
      "Epoch 10, loss 13.9668\n",
      "Train Acc 0.7719\n",
      "Epoch 10, val_loss 3.3337\n"
     ]
    },
    {
     "name": "stderr",
     "output_type": "stream",
     "text": [
      "100%|██████████| 35/35 [00:12<00:00,  2.87batch/s]\n"
     ]
    },
    {
     "name": "stdout",
     "output_type": "stream",
     "text": [
      "Epoch 11, loss 15.9063\n",
      "Train Acc 0.7625\n",
      "Epoch 11, val_loss 4.7113\n"
     ]
    },
    {
     "name": "stderr",
     "output_type": "stream",
     "text": [
      "100%|██████████| 35/35 [00:11<00:00,  3.07batch/s]\n"
     ]
    },
    {
     "name": "stdout",
     "output_type": "stream",
     "text": [
      "Epoch 12, loss 8.3113\n",
      "Train Acc 0.8187\n",
      "Epoch 12, val_loss 2.0021\n",
      "Saving best model with validation loss 2.0021138191223145\n"
     ]
    },
    {
     "name": "stderr",
     "output_type": "stream",
     "text": [
      "100%|██████████| 35/35 [00:12<00:00,  2.70batch/s]\n"
     ]
    },
    {
     "name": "stdout",
     "output_type": "stream",
     "text": [
      "Epoch 13, loss 7.7603\n",
      "Train Acc 0.7781\n",
      "Epoch 13, val_loss 3.0941\n"
     ]
    },
    {
     "name": "stderr",
     "output_type": "stream",
     "text": [
      "100%|██████████| 35/35 [00:11<00:00,  2.96batch/s]\n"
     ]
    },
    {
     "name": "stdout",
     "output_type": "stream",
     "text": [
      "Epoch 14, loss 7.3722\n",
      "Train Acc 0.7375\n",
      "Epoch 14, val_loss 4.1868\n"
     ]
    },
    {
     "name": "stderr",
     "output_type": "stream",
     "text": [
      "100%|██████████| 35/35 [00:11<00:00,  2.95batch/s]\n"
     ]
    },
    {
     "name": "stdout",
     "output_type": "stream",
     "text": [
      "Epoch 15, loss 8.1653\n",
      "Train Acc 0.8063\n",
      "Epoch 15, val_loss 3.9356\n"
     ]
    },
    {
     "name": "stderr",
     "output_type": "stream",
     "text": [
      "100%|██████████| 35/35 [00:11<00:00,  2.93batch/s]\n"
     ]
    },
    {
     "name": "stdout",
     "output_type": "stream",
     "text": [
      "Epoch 16, loss 6.2656\n",
      "Train Acc 0.7906\n",
      "Epoch 16, val_loss 1.7810\n",
      "Saving best model with validation loss 1.780957818031311\n"
     ]
    },
    {
     "name": "stderr",
     "output_type": "stream",
     "text": [
      "100%|██████████| 35/35 [00:12<00:00,  2.91batch/s]\n"
     ]
    },
    {
     "name": "stdout",
     "output_type": "stream",
     "text": [
      "Epoch 17, loss 5.5122\n",
      "Train Acc 0.8313\n",
      "Epoch 17, val_loss 2.4323\n"
     ]
    },
    {
     "name": "stderr",
     "output_type": "stream",
     "text": [
      "100%|██████████| 35/35 [00:12<00:00,  2.89batch/s]\n"
     ]
    },
    {
     "name": "stdout",
     "output_type": "stream",
     "text": [
      "Epoch 18, loss 7.7101\n",
      "Train Acc 0.5250\n",
      "Epoch 18, val_loss 8.5733\n"
     ]
    },
    {
     "name": "stderr",
     "output_type": "stream",
     "text": [
      "100%|██████████| 35/35 [00:11<00:00,  3.06batch/s]\n"
     ]
    },
    {
     "name": "stdout",
     "output_type": "stream",
     "text": [
      "Epoch 19, loss 5.6753\n",
      "Train Acc 0.8313\n",
      "Epoch 19, val_loss 2.8354\n",
      "\n",
      "Confusion matrix (Validation set):\n",
      "\n",
      "[[25 11]\n",
      " [ 9 35]]\n",
      "Validation accuracy: 75.0%\n",
      "Validation loss 1.780957818031311\n"
     ]
    }
   ],
   "source": [
    "from GNNSubNet import GNNSubNet as gnn\n",
    "\n",
    "# location of the files\n",
    "loc   = \"TCGA\"\n",
    "# PPI network\n",
    "ppi   = f'{loc}/KIDNEY_RANDOM_PPI.txt'\n",
    "# single-omic features\n",
    "#feats = [f'{loc}/KIDNEY_RANDOM_Methy_FEATURES.txt']\n",
    "# multi-omic features\n",
    "feats = [f'{loc}/KIDNEY_RANDOM_mRNA_FEATURES.txt', f'{loc}/KIDNEY_RANDOM_Methy_FEATURES.txt']\n",
    "# outcome class\n",
    "targ  = f'{loc}/KIDNEY_RANDOM_TARGET.txt'\n",
    "\n",
    "# Load the multi-omics data\n",
    "g = gnn.GNNSubNet(loc, ppi, feats, targ)\n",
    "\n",
    "# Train the GNN classifier and validate performance on a test set\n",
    "g.train()"
   ],
   "metadata": {
    "collapsed": false
   }
  },
  {
   "cell_type": "code",
   "execution_count": 2,
   "outputs": [
    {
     "data": {
      "text/plain": "80"
     },
     "execution_count": 2,
     "metadata": {},
     "output_type": "execute_result"
    }
   ],
   "source": [
    "len(g.s2v_test_dataset)"
   ],
   "metadata": {
    "collapsed": false
   }
  },
  {
   "cell_type": "markdown",
   "source": [
    "### GNN-SubNet for disease subnetworks"
   ],
   "metadata": {
    "collapsed": false
   }
  },
  {
   "cell_type": "code",
   "execution_count": 3,
   "outputs": [
    {
     "name": "stdout",
     "output_type": "stream",
     "text": [
      "\n",
      "------- Run the Explainer -------\n",
      "\n",
      "GNN-SubNet: True\n",
      "Explainer::Iteration 1 of 10\n",
      "Explainer::Iteration 2 of 10\n",
      "Explainer::Iteration 3 of 10\n",
      "Explainer::Iteration 4 of 10\n",
      "Explainer::Iteration 5 of 10\n",
      "Explainer::Iteration 6 of 10\n",
      "Explainer::Iteration 7 of 10\n",
      "Explainer::Iteration 8 of 10\n",
      "Explainer::Iteration 9 of 10\n",
      "Explainer::Iteration 10 of 10\n"
     ]
    }
   ],
   "source": [
    "# Run GNN-SubNet with 10 iterations\n",
    "g.explain(10, gnn_subnet=True)"
   ],
   "metadata": {
    "collapsed": false
   }
  },
  {
   "cell_type": "code",
   "execution_count": 4,
   "outputs": [
    {
     "data": {
      "text/plain": "13588"
     },
     "execution_count": 4,
     "metadata": {},
     "output_type": "execute_result"
    }
   ],
   "source": [
    "len(g.edge_mask)"
   ],
   "metadata": {
    "collapsed": false
   }
  },
  {
   "cell_type": "code",
   "execution_count": 5,
   "outputs": [],
   "source": [
    "def read_communities(file_path):\n",
    "    communities = []\n",
    "\n",
    "    with open(file_path, 'r') as file:\n",
    "        for line in file:\n",
    "            community = [int(num) for num in line.strip().split(',') if num]\n",
    "            communities.append(community)\n",
    "\n",
    "    return communities\n",
    "\n",
    "def read_community_importances(file_path):\n",
    "    community_importances = []\n",
    "\n",
    "    with open(file_path, 'r') as file:\n",
    "        for line in file:\n",
    "          community_importances.append(float(line.strip()))\n",
    "\n",
    "    return community_importances"
   ],
   "metadata": {
    "collapsed": false
   }
  },
  {
   "cell_type": "code",
   "execution_count": 6,
   "outputs": [
    {
     "data": {
      "text/plain": "[[0,\n  16,\n  45,\n  46,\n  47,\n  48,\n  49,\n  50,\n  61,\n  62,\n  69,\n  92,\n  100,\n  101,\n  123,\n  124,\n  125,\n  126,\n  127,\n  128,\n  189,\n  198,\n  204,\n  226,\n  227,\n  229,\n  230,\n  231,\n  232,\n  233,\n  234,\n  235,\n  236,\n  237,\n  280,\n  290,\n  291,\n  294,\n  295,\n  297,\n  301,\n  334,\n  336,\n  355,\n  372,\n  373,\n  374,\n  375,\n  376,\n  377,\n  378,\n  379,\n  380,\n  381,\n  382,\n  383,\n  384,\n  385,\n  386,\n  387,\n  388,\n  389,\n  390,\n  391,\n  392,\n  396,\n  397,\n  398,\n  405,\n  408,\n  422,\n  507,\n  521,\n  565,\n  568,\n  614,\n  615,\n  618,\n  619,\n  620,\n  635,\n  650,\n  656,\n  668,\n  676,\n  722,\n  742,\n  745,\n  746,\n  747,\n  755,\n  797,\n  833,\n  834,\n  835,\n  845,\n  852,\n  914,\n  915,\n  916,\n  917,\n  918,\n  919,\n  920,\n  921,\n  922,\n  923,\n  924,\n  925,\n  926,\n  927,\n  928,\n  929,\n  930,\n  931,\n  932,\n  933,\n  934,\n  995,\n  1004,\n  1005,\n  1006,\n  1007,\n  1008,\n  1009,\n  1010,\n  1011,\n  1012,\n  1013,\n  1014,\n  1018,\n  1037,\n  1038,\n  1039,\n  1042,\n  1046,\n  1049,\n  1077,\n  1110,\n  1126,\n  1127,\n  1129,\n  1133,\n  1152,\n  1159,\n  1191,\n  1208,\n  1227,\n  1228,\n  1255,\n  1261,\n  1315,\n  1397,\n  1398,\n  1421,\n  1434,\n  1464,\n  1481,\n  1482,\n  1611,\n  1635,\n  1651,\n  1660,\n  1665,\n  1666,\n  1667,\n  1668,\n  1669,\n  1686,\n  1694,\n  1733,\n  1737,\n  1739,\n  1742,\n  1839,\n  1842,\n  1846,\n  1852,\n  1858,\n  1869,\n  1878,\n  1977,\n  1978,\n  1981,\n  1992,\n  1993],\n [1,\n  5,\n  22,\n  23,\n  24,\n  25,\n  26,\n  27,\n  28,\n  177,\n  292,\n  352,\n  403,\n  404,\n  414,\n  415,\n  545,\n  647,\n  648,\n  736,\n  748,\n  781,\n  782,\n  821,\n  822,\n  823,\n  836,\n  1036,\n  1188,\n  1241,\n  1256,\n  1308,\n  1349,\n  1350,\n  1351,\n  1406,\n  1438,\n  1693],\n [2,\n  3,\n  265,\n  449,\n  583,\n  629,\n  630,\n  631,\n  853,\n  854,\n  1076,\n  1521,\n  1536,\n  1537,\n  1619,\n  1819,\n  2025],\n [4,\n  369,\n  370,\n  371,\n  687,\n  688,\n  705,\n  706,\n  737,\n  738,\n  1047,\n  1442,\n  1443,\n  1444,\n  1445,\n  1446,\n  1512,\n  1513,\n  1515,\n  1566,\n  1569,\n  1690,\n  1700,\n  1721,\n  1786,\n  1787,\n  1788,\n  1789,\n  1790,\n  1798,\n  1804,\n  1868,\n  1924,\n  1950,\n  1951,\n  1990,\n  1991],\n [6,\n  7,\n  64,\n  117,\n  147,\n  165,\n  179,\n  180,\n  182,\n  185,\n  196,\n  213,\n  217,\n  239,\n  254,\n  255,\n  256,\n  264,\n  273,\n  277,\n  319,\n  338,\n  339,\n  340,\n  410,\n  421,\n  424,\n  434,\n  459,\n  466,\n  499,\n  500,\n  501,\n  529,\n  530,\n  531,\n  532,\n  536,\n  543,\n  546,\n  547,\n  599,\n  600,\n  601,\n  602,\n  616,\n  617,\n  623,\n  669,\n  700,\n  739,\n  741,\n  777,\n  785,\n  786,\n  787,\n  788,\n  789,\n  798,\n  800,\n  802,\n  803,\n  804,\n  805,\n  806,\n  807,\n  808,\n  809,\n  810,\n  811,\n  812,\n  824,\n  856,\n  947,\n  948,\n  949,\n  952,\n  957,\n  958,\n  959,\n  1071,\n  1092,\n  1095,\n  1096,\n  1098,\n  1099,\n  1100,\n  1101,\n  1102,\n  1103,\n  1104,\n  1105,\n  1143,\n  1144,\n  1163,\n  1168,\n  1169,\n  1200,\n  1201,\n  1202,\n  1203,\n  1204,\n  1205,\n  1206,\n  1214,\n  1218,\n  1219,\n  1250,\n  1262,\n  1263,\n  1264,\n  1266,\n  1268,\n  1272,\n  1320,\n  1348,\n  1360,\n  1362,\n  1363,\n  1364,\n  1392,\n  1407,\n  1415,\n  1437,\n  1439,\n  1440,\n  1441,\n  1451,\n  1452,\n  1457,\n  1458,\n  1460,\n  1461,\n  1480,\n  1534,\n  1535,\n  1542,\n  1544,\n  1546,\n  1556,\n  1610,\n  1615,\n  1670,\n  1687,\n  1725,\n  1738,\n  1810,\n  1827,\n  1828,\n  1843,\n  1844,\n  1853,\n  1854,\n  1862,\n  1887,\n  1888,\n  1898,\n  1899,\n  1901,\n  1934,\n  1940,\n  1947,\n  1966,\n  2032,\n  2035,\n  2037,\n  2038,\n  2039,\n  2040,\n  2042],\n [8,\n  9,\n  52,\n  53,\n  54,\n  55,\n  56,\n  57,\n  58,\n  59,\n  76,\n  270,\n  511,\n  512,\n  685,\n  686,\n  717,\n  732,\n  751,\n  752,\n  753,\n  768,\n  769,\n  847,\n  850,\n  953,\n  954,\n  1023,\n  1033,\n  1303,\n  1304,\n  1327,\n  1333,\n  1346,\n  1418,\n  1420,\n  1468,\n  1469,\n  1533,\n  1570,\n  1695,\n  1696,\n  1806,\n  1914],\n [10,\n  157,\n  305,\n  313,\n  360,\n  361,\n  362,\n  363,\n  364,\n  465,\n  492,\n  493,\n  494,\n  496,\n  508,\n  537,\n  538,\n  539,\n  548,\n  549,\n  550,\n  551,\n  552,\n  553,\n  554,\n  555,\n  556,\n  557,\n  558,\n  559,\n  595,\n  697,\n  837,\n  838,\n  839,\n  840,\n  841,\n  842,\n  843,\n  844,\n  846,\n  1053,\n  1265,\n  1331,\n  1340,\n  1388,\n  1389,\n  1390,\n  1593,\n  1594,\n  1647,\n  1648,\n  1649,\n  1763,\n  1785,\n  1831,\n  1832,\n  1833,\n  1834,\n  1835,\n  1873,\n  1953],\n [11,\n  30,\n  31,\n  39,\n  66,\n  107,\n  108,\n  109,\n  110,\n  111,\n  112,\n  113,\n  114,\n  115,\n  116,\n  149,\n  354,\n  429,\n  437,\n  438,\n  446,\n  495,\n  497,\n  498,\n  504,\n  505,\n  564,\n  581,\n  584,\n  678,\n  698,\n  799,\n  863,\n  939,\n  940,\n  1043,\n  1197,\n  1198,\n  1230,\n  1309,\n  1676,\n  1681,\n  1722,\n  1729,\n  1734,\n  1784,\n  1800,\n  1801,\n  1802,\n  1803,\n  1995,\n  1996,\n  1997,\n  1998],\n [12,\n  44,\n  51,\n  77,\n  105,\n  130,\n  132,\n  133,\n  134,\n  135,\n  136,\n  137,\n  138,\n  139,\n  140,\n  141,\n  142,\n  143,\n  144,\n  145,\n  151,\n  176,\n  190,\n  193,\n  195,\n  197,\n  202,\n  209,\n  240,\n  271,\n  272,\n  284,\n  285,\n  286,\n  287,\n  288,\n  289,\n  293,\n  296,\n  298,\n  299,\n  300,\n  312,\n  347,\n  359,\n  406,\n  418,\n  419,\n  420,\n  436,\n  445,\n  448,\n  455,\n  477,\n  482,\n  490,\n  506,\n  515,\n  541,\n  542,\n  567,\n  576,\n  577,\n  578,\n  579,\n  586,\n  587,\n  588,\n  644,\n  645,\n  646,\n  651,\n  652,\n  653,\n  654,\n  655,\n  657,\n  662,\n  663,\n  664,\n  665,\n  684,\n  693,\n  703,\n  714,\n  715,\n  716,\n  718,\n  719,\n  729,\n  743,\n  750,\n  754,\n  756,\n  793,\n  794,\n  857,\n  862,\n  866,\n  867,\n  868,\n  869,\n  873,\n  874,\n  875,\n  876,\n  877,\n  878,\n  879,\n  880,\n  881,\n  888,\n  889,\n  890,\n  891,\n  905,\n  911,\n  912,\n  935,\n  944,\n  945,\n  946,\n  950,\n  960,\n  985,\n  987,\n  988,\n  989,\n  994,\n  1000,\n  1002,\n  1003,\n  1020,\n  1026,\n  1027,\n  1028,\n  1029,\n  1032,\n  1041,\n  1050,\n  1054,\n  1059,\n  1067,\n  1084,\n  1111,\n  1125,\n  1128,\n  1134,\n  1135,\n  1161,\n  1162,\n  1178,\n  1180,\n  1183,\n  1190,\n  1211,\n  1213,\n  1225,\n  1249,\n  1269,\n  1270,\n  1271,\n  1274,\n  1295,\n  1296,\n  1297,\n  1298,\n  1305,\n  1310,\n  1311,\n  1336,\n  1337,\n  1370,\n  1373,\n  1374,\n  1378,\n  1387,\n  1393,\n  1394,\n  1402,\n  1403,\n  1405,\n  1412,\n  1413,\n  1449,\n  1450,\n  1465,\n  1473,\n  1479,\n  1504,\n  1505,\n  1506,\n  1507,\n  1508,\n  1509,\n  1510,\n  1511,\n  1514,\n  1528,\n  1532,\n  1538,\n  1540,\n  1541,\n  1557,\n  1564,\n  1565,\n  1571,\n  1574,\n  1581,\n  1583,\n  1584,\n  1585,\n  1586,\n  1587,\n  1608,\n  1609,\n  1616,\n  1617,\n  1656,\n  1657,\n  1678,\n  1679,\n  1680,\n  1684,\n  1698,\n  1699,\n  1735,\n  1736,\n  1745,\n  1750,\n  1760,\n  1761,\n  1762,\n  1771,\n  1774,\n  1776,\n  1777,\n  1778,\n  1779,\n  1780,\n  1781,\n  1796,\n  1838,\n  1855,\n  1856,\n  1881,\n  1882,\n  1896,\n  1904,\n  1905,\n  1907,\n  1926,\n  1929,\n  1954,\n  1955,\n  1962,\n  1967,\n  1974,\n  1975,\n  1976,\n  2027,\n  2029],\n [13,\n  207,\n  452,\n  460,\n  462,\n  464,\n  480,\n  481,\n  503,\n  534,\n  597,\n  613,\n  634,\n  674,\n  735,\n  791,\n  1132,\n  1164,\n  1189,\n  1199,\n  1239,\n  1243,\n  1244,\n  1245,\n  1246,\n  1247,\n  1319,\n  1330,\n  1352,\n  1372,\n  1428,\n  1517,\n  1549,\n  1604,\n  1605,\n  1606,\n  1689,\n  1823,\n  1915,\n  1968,\n  1969,\n  2002,\n  2005,\n  2023,\n  2030,\n  2031],\n [14,\n  15,\n  19,\n  20,\n  21,\n  63,\n  68,\n  82,\n  83,\n  84,\n  85,\n  86,\n  95,\n  96,\n  152,\n  163,\n  166,\n  167,\n  169,\n  170,\n  220,\n  250,\n  399,\n  632,\n  671,\n  699,\n  701,\n  707,\n  708,\n  712,\n  713,\n  727,\n  728,\n  730,\n  749,\n  779,\n  815,\n  816,\n  817,\n  818,\n  819,\n  855,\n  883,\n  941,\n  962,\n  1083,\n  1114,\n  1145,\n  1146,\n  1147,\n  1149,\n  1150,\n  1226,\n  1301,\n  1322,\n  1324,\n  1325,\n  1326,\n  1338,\n  1339,\n  1342,\n  1343,\n  1353,\n  1354,\n  1355,\n  1356,\n  1357,\n  1358,\n  1359,\n  1365,\n  1391,\n  1518,\n  1519,\n  1520,\n  1691,\n  1692,\n  1860,\n  1866,\n  1942],\n [17,\n  70,\n  71,\n  102,\n  103,\n  104,\n  357,\n  358,\n  366,\n  368,\n  535,\n  570,\n  731,\n  733,\n  734,\n  851,\n  936,\n  937,\n  938,\n  955,\n  956,\n  1136,\n  1217,\n  1267,\n  1334,\n  1335,\n  1399,\n  1400,\n  1401,\n  1477,\n  1478,\n  1562,\n  1563,\n  1626,\n  1627,\n  1628,\n  1629,\n  1630,\n  1631,\n  1632,\n  1751,\n  1752,\n  1753,\n  1754,\n  1755,\n  1756,\n  1757,\n  1782,\n  1906,\n  1908],\n [18,\n  33,\n  60,\n  65,\n  73,\n  129,\n  146,\n  183,\n  184,\n  186,\n  187,\n  188,\n  191,\n  212,\n  218,\n  219,\n  259,\n  266,\n  279,\n  281,\n  282,\n  283,\n  306,\n  307,\n  308,\n  310,\n  314,\n  315,\n  318,\n  341,\n  343,\n  400,\n  401,\n  402,\n  413,\n  416,\n  417,\n  423,\n  426,\n  427,\n  435,\n  450,\n  461,\n  463,\n  467,\n  468,\n  469,\n  471,\n  473,\n  474,\n  476,\n  479,\n  540,\n  560,\n  561,\n  562,\n  563,\n  582,\n  585,\n  603,\n  606,\n  607,\n  608,\n  609,\n  610,\n  611,\n  612,\n  624,\n  649,\n  659,\n  677,\n  692,\n  704,\n  710,\n  711,\n  744,\n  772,\n  790,\n  801,\n  825,\n  826,\n  827,\n  828,\n  829,\n  849,\n  882,\n  892,\n  893,\n  894,\n  895,\n  896,\n  897,\n  898,\n  899,\n  901,\n  902,\n  903,\n  942,\n  951,\n  963,\n  970,\n  991,\n  1001,\n  1019,\n  1030,\n  1081,\n  1097,\n  1112,\n  1122,\n  1181,\n  1184,\n  1186,\n  1187,\n  1215,\n  1312,\n  1314,\n  1317,\n  1318,\n  1323,\n  1341,\n  1419,\n  1429,\n  1453,\n  1454,\n  1455,\n  1456,\n  1459,\n  1483,\n  1484,\n  1485,\n  1486,\n  1487,\n  1488,\n  1489,\n  1498,\n  1547,\n  1548,\n  1550,\n  1551,\n  1552,\n  1577,\n  1580,\n  1590,\n  1596,\n  1618,\n  1620,\n  1623,\n  1634,\n  1661,\n  1662,\n  1663,\n  1664,\n  1671,\n  1672,\n  1673,\n  1674,\n  1697,\n  1704,\n  1705,\n  1706,\n  1707,\n  1708,\n  1714,\n  1715,\n  1716,\n  1717,\n  1726,\n  1727,\n  1749,\n  1764,\n  1765,\n  1766,\n  1767,\n  1768,\n  1791,\n  1792,\n  1793,\n  1797,\n  1799,\n  1822,\n  1825,\n  1826,\n  1841,\n  1845,\n  1877,\n  1918,\n  1919,\n  1952,\n  1956,\n  1957,\n  1994,\n  1999,\n  2003,\n  2015,\n  2024,\n  2026,\n  2034,\n  2041,\n  2043,\n  2044,\n  2045],\n [29,\n  32,\n  34,\n  35,\n  36,\n  37,\n  119,\n  251,\n  275,\n  425,\n  432,\n  433,\n  720,\n  986,\n  1017,\n  1034,\n  1040,\n  1166,\n  1167,\n  1170,\n  1171,\n  1172,\n  1173,\n  1174,\n  1175,\n  1176,\n  1177,\n  1179,\n  1209,\n  1259,\n  1299,\n  1731,\n  1732,\n  1859,\n  1864,\n  1875,\n  1876,\n  1909,\n  1917,\n  1970,\n  1979],\n [38,\n  78,\n  97,\n  98,\n  99,\n  154,\n  200,\n  222,\n  223,\n  224,\n  276,\n  304,\n  316,\n  320,\n  321,\n  323,\n  348,\n  349,\n  350,\n  351,\n  457,\n  488,\n  519,\n  525,\n  526,\n  533,\n  596,\n  598,\n  670,\n  814,\n  884,\n  906,\n  907,\n  965,\n  967,\n  968,\n  969,\n  971,\n  972,\n  975,\n  978,\n  979,\n  980,\n  981,\n  984,\n  990,\n  996,\n  1031,\n  1051,\n  1052,\n  1091,\n  1109,\n  1121,\n  1165,\n  1192,\n  1193,\n  1194,\n  1195,\n  1196,\n  1207,\n  1231,\n  1281,\n  1293,\n  1344,\n  1345,\n  1524,\n  1688,\n  1709,\n  1710,\n  1711,\n  1712,\n  1713,\n  1740,\n  1741,\n  1772,\n  1773,\n  1794,\n  1795,\n  1807,\n  1808,\n  1809,\n  1883,\n  1884,\n  1902,\n  1963,\n  2036,\n  2048],\n [40, 214, 571, 574, 575, 887, 1224, 1811, 1812, 1813, 1814, 1815, 1910],\n [41,\n  42,\n  43,\n  155,\n  156,\n  173,\n  181,\n  205,\n  206,\n  335,\n  344,\n  428,\n  569,\n  621,\n  622,\n  673,\n  675,\n  709,\n  721,\n  771,\n  795,\n  813,\n  820,\n  885,\n  886,\n  1016,\n  1035,\n  1079,\n  1080,\n  1142,\n  1182,\n  1185,\n  1212,\n  1260,\n  1306,\n  1307,\n  1332,\n  1361,\n  1491,\n  1492,\n  1493,\n  1494,\n  1495,\n  1496,\n  1497,\n  1523,\n  1558,\n  1575,\n  1578,\n  1650,\n  1685,\n  1701,\n  1702,\n  1703,\n  1719,\n  1720,\n  1775,\n  1847,\n  1848,\n  1849,\n  1850,\n  1863,\n  1913,\n  1925,\n  1928,\n  1930,\n  1931,\n  1932,\n  1933,\n  1935,\n  1936,\n  1939,\n  1941,\n  1965,\n  1980,\n  1982,\n  1983,\n  1984,\n  1985,\n  1986,\n  1987,\n  1988,\n  1989,\n  2013,\n  2014,\n  2033,\n  2047],\n [67,\n  118,\n  153,\n  168,\n  241,\n  242,\n  243,\n  244,\n  245,\n  246,\n  247,\n  248,\n  249,\n  252,\n  253,\n  345,\n  483,\n  484,\n  485,\n  486,\n  487,\n  573,\n  757,\n  758,\n  759,\n  760,\n  761,\n  762,\n  763,\n  764,\n  765,\n  766,\n  767,\n  770,\n  848,\n  1048,\n  1074,\n  1075,\n  1094,\n  1232,\n  1233,\n  1248,\n  1275,\n  1276,\n  1371,\n  1404,\n  1471,\n  1474,\n  1539,\n  1612,\n  1613,\n  1614,\n  1682,\n  1805,\n  1897],\n [72,\n  79,\n  88,\n  228,\n  274,\n  317,\n  322,\n  324,\n  325,\n  326,\n  327,\n  328,\n  329,\n  330,\n  331,\n  332,\n  633,\n  783,\n  784,\n  900,\n  904,\n  973,\n  1210,\n  1229,\n  1240,\n  1257,\n  1258,\n  1282,\n  1300,\n  1328,\n  1329,\n  1408,\n  1591,\n  1592,\n  1622,\n  1625,\n  1636,\n  1675,\n  1830,\n  1867,\n  1920,\n  1921,\n  1922,\n  1923],\n [74,\n  94,\n  148,\n  238,\n  365,\n  367,\n  412,\n  489,\n  509,\n  510,\n  522,\n  523,\n  572,\n  628,\n  796,\n  913,\n  943,\n  1015,\n  1056,\n  1057,\n  1120,\n  1216,\n  1251,\n  1252,\n  1253,\n  1254,\n  1273,\n  1283,\n  1409,\n  1410,\n  1411,\n  1414,\n  1490,\n  1500,\n  1516,\n  1652,\n  1653,\n  1654,\n  1655,\n  1658,\n  1659,\n  1744,\n  1783,\n  1861,\n  2012],\n [75,\n  87,\n  159,\n  192,\n  194,\n  201,\n  260,\n  261,\n  262,\n  263,\n  267,\n  268,\n  269,\n  346,\n  409,\n  447,\n  470,\n  475,\n  524,\n  566,\n  589,\n  672,\n  864,\n  865,\n  870,\n  871,\n  872,\n  908,\n  909,\n  961,\n  964,\n  1055,\n  1060,\n  1061,\n  1062,\n  1063,\n  1064,\n  1065,\n  1066,\n  1068,\n  1069,\n  1072,\n  1078,\n  1106,\n  1113,\n  1220,\n  1221,\n  1222,\n  1223,\n  1234,\n  1235,\n  1236,\n  1237,\n  1238,\n  1242,\n  1278,\n  1279,\n  1280,\n  1302,\n  1347,\n  1472,\n  1475,\n  1554,\n  1555,\n  1572,\n  1573,\n  1579,\n  1599,\n  1621,\n  1683,\n  1758,\n  1816,\n  1817,\n  1820,\n  1865,\n  1870,\n  1871,\n  1890,\n  1892,\n  1893,\n  1900,\n  1960,\n  1964,\n  2028],\n [80,\n  81,\n  93,\n  160,\n  161,\n  162,\n  407,\n  660,\n  1073,\n  1082,\n  1148,\n  1366,\n  1367,\n  1368,\n  1369,\n  1375,\n  1376,\n  1377,\n  1379,\n  1380,\n  1381,\n  1382,\n  1383,\n  1384,\n  1385,\n  1386,\n  1467,\n  1470,\n  1543,\n  1567,\n  1597,\n  1598,\n  1600,\n  1601,\n  1602,\n  1677,\n  1759,\n  1821,\n  1840,\n  1911,\n  1912,\n  1927,\n  1937,\n  1938,\n  1948,\n  1949,\n  1971,\n  1972,\n  2007],\n [89, 90, 91, 1501, 1502, 1503, 1824],\n [106,\n  150,\n  333,\n  439,\n  440,\n  441,\n  442,\n  443,\n  444,\n  580,\n  666,\n  667,\n  778,\n  1058,\n  1447,\n  1943,\n  1944,\n  1945,\n  1946],\n [120,\n  121,\n  174,\n  175,\n  679,\n  680,\n  681,\n  682,\n  683,\n  1021,\n  1022,\n  1044,\n  1045,\n  1466,\n  1582,\n  1588,\n  1589,\n  1633,\n  1743,\n  1829,\n  1872,\n  1874,\n  1973,\n  2006,\n  2008,\n  2009,\n  2010,\n  2046],\n [122,\n  158,\n  164,\n  171,\n  172,\n  178,\n  203,\n  210,\n  211,\n  216,\n  257,\n  278,\n  303,\n  309,\n  311,\n  337,\n  342,\n  353,\n  395,\n  430,\n  431,\n  451,\n  453,\n  454,\n  456,\n  458,\n  472,\n  491,\n  502,\n  590,\n  591,\n  592,\n  593,\n  594,\n  605,\n  625,\n  626,\n  627,\n  636,\n  637,\n  638,\n  639,\n  640,\n  641,\n  642,\n  643,\n  780,\n  792,\n  910,\n  1024,\n  1025,\n  1085,\n  1086,\n  1088,\n  1089,\n  1090,\n  1093,\n  1123,\n  1124,\n  1130,\n  1137,\n  1138,\n  1139,\n  1140,\n  1141,\n  1158,\n  1160,\n  1277,\n  1313,\n  1316,\n  1321,\n  1416,\n  1417,\n  1422,\n  1423,\n  1424,\n  1425,\n  1426,\n  1427,\n  1436,\n  1462,\n  1476,\n  1522,\n  1525,\n  1526,\n  1527,\n  1545,\n  1559,\n  1560,\n  1561,\n  1568,\n  1576,\n  1603,\n  1607,\n  1728,\n  1730,\n  1747,\n  1857,\n  1885,\n  1886,\n  1903,\n  1959,\n  1961,\n  2000,\n  2011,\n  2019,\n  2020,\n  2021,\n  2022],\n [131,\n  258,\n  302,\n  393,\n  394,\n  702,\n  723,\n  740,\n  997,\n  998,\n  999,\n  1070,\n  1087,\n  1119,\n  1284,\n  1285,\n  1286,\n  1287,\n  1288,\n  1289,\n  1290,\n  1291,\n  1292,\n  1294,\n  1433,\n  1463,\n  1529,\n  1530,\n  1531,\n  1553,\n  1624,\n  1637,\n  1638,\n  1639,\n  1640,\n  1641,\n  1642,\n  1643,\n  1644,\n  1645,\n  1646,\n  1889,\n  1894,\n  1895,\n  1958,\n  2016,\n  2018],\n [199, 215, 773, 774, 775, 776, 1430, 1431, 1432, 1723, 1724],\n [208,\n  356,\n  411,\n  527,\n  528,\n  658,\n  724,\n  725,\n  726,\n  858,\n  859,\n  860,\n  861,\n  966,\n  974,\n  976,\n  977,\n  982,\n  983,\n  1151,\n  1499,\n  1718,\n  1748,\n  1891,\n  1916,\n  2001,\n  2004],\n [221,\n  513,\n  514,\n  516,\n  517,\n  518,\n  520,\n  604,\n  661,\n  992,\n  993,\n  1395,\n  1396,\n  1448,\n  1746,\n  1769,\n  1851],\n [225, 689, 690, 691, 694, 695, 696, 1153, 1154, 1155, 1156, 1157, 1770],\n [478, 1131, 1435, 1595, 1818, 1879, 1880, 2017],\n [544, 830, 831, 832, 1107, 1108, 1836, 1837],\n [1115, 1116, 1117, 1118]]"
     },
     "execution_count": 6,
     "metadata": {},
     "output_type": "execute_result"
    }
   ],
   "source": [
    "communities_gnn_subnet = read_communities(\"TCGA/communities_gnn_subnet.txt\")\n",
    "communities_gnn_subnet"
   ],
   "metadata": {
    "collapsed": false
   }
  },
  {
   "cell_type": "code",
   "execution_count": 7,
   "outputs": [
    {
     "data": {
      "text/plain": "[0.79,\n 0.602,\n 0.392,\n 0.449,\n 0.589,\n 0.737,\n 0.521,\n 0.584,\n 0.697,\n 0.501,\n 0.602,\n 0.838,\n 0.369,\n 0.843,\n 0.571,\n 0.59,\n 0.529,\n 0.813,\n 0.369,\n 0.705,\n 0.594,\n 0.676,\n 0.576,\n 0.773,\n 0.603,\n 0.539,\n 0.382,\n 0.487,\n 0.379,\n 0.826,\n 0.722,\n 0.616,\n 0.674,\n 0.863]"
     },
     "execution_count": 7,
     "metadata": {},
     "output_type": "execute_result"
    }
   ],
   "source": [
    "comm_importance_gnn_subnet = read_community_importances(\"TCGA/communities_scores_gnn_subnet.txt\")\n",
    "comm_importance_gnn_subnet"
   ],
   "metadata": {
    "collapsed": false
   }
  },
  {
   "cell_type": "code",
   "execution_count": 9,
   "outputs": [
    {
     "data": {
      "text/plain": "array(['MGAT3', 'MGAT4B', 'MGAT5', 'MGAT5B'], dtype=object)"
     },
     "execution_count": 9,
     "metadata": {},
     "output_type": "execute_result"
    }
   ],
   "source": [
    "import numpy as np\n",
    "\n",
    "sorted_indices = np.argsort(comm_importance_gnn_subnet)[::-1]\n",
    "\n",
    "sorted_communities_gnn_subnet = []\n",
    "\n",
    "for index in sorted_indices:\n",
    "  sorted_communities_gnn_subnet.append(communities_gnn_subnet[index])\n",
    "\n",
    "# The gene names of the community ranked highest by gnn-subnet\n",
    "g.gene_names[sorted_communities_gnn_subnet[0]]"
   ],
   "metadata": {
    "collapsed": false
   }
  },
  {
   "cell_type": "markdown",
   "source": [
    "### The modified algorithm for disease subnetworks"
   ],
   "metadata": {
    "collapsed": false
   }
  },
  {
   "cell_type": "code",
   "execution_count": 10,
   "outputs": [
    {
     "name": "stdout",
     "output_type": "stream",
     "text": [
      "\n",
      "------- Run the Explainer -------\n",
      "\n",
      "GNN-SubNet: False\n",
      "Explainer::Iteration 1 of 10\n",
      "Explainer::Iteration 2 of 10\n",
      "Explainer::Iteration 3 of 10\n",
      "Explainer::Iteration 4 of 10\n",
      "Explainer::Iteration 5 of 10\n",
      "Explainer::Iteration 6 of 10\n",
      "Explainer::Iteration 7 of 10\n",
      "Explainer::Iteration 8 of 10\n",
      "Explainer::Iteration 9 of 10\n",
      "Explainer::Iteration 10 of 10\n"
     ]
    }
   ],
   "source": [
    "g.explain(10, gnn_subnet=False)"
   ],
   "metadata": {
    "collapsed": false
   }
  },
  {
   "cell_type": "code",
   "execution_count": 11,
   "outputs": [
    {
     "data": {
      "text/plain": "[[0,\n  17,\n  45,\n  47,\n  50,\n  61,\n  62,\n  70,\n  71,\n  123,\n  124,\n  125,\n  126,\n  127,\n  128,\n  140,\n  197,\n  198,\n  226,\n  227,\n  229,\n  230,\n  231,\n  232,\n  233,\n  234,\n  235,\n  236,\n  237,\n  280,\n  290,\n  291,\n  295,\n  297,\n  301,\n  334,\n  355,\n  396,\n  397,\n  398,\n  405,\n  407,\n  408,\n  429,\n  535,\n  570,\n  619,\n  620,\n  650,\n  656,\n  668,\n  731,\n  733,\n  734,\n  742,\n  834,\n  835,\n  914,\n  915,\n  916,\n  918,\n  919,\n  920,\n  922,\n  923,\n  924,\n  925,\n  926,\n  927,\n  928,\n  929,\n  930,\n  931,\n  933,\n  934,\n  995,\n  1004,\n  1005,\n  1018,\n  1039,\n  1042,\n  1043,\n  1046,\n  1049,\n  1082,\n  1110,\n  1129,\n  1152,\n  1261,\n  1397,\n  1398,\n  1401,\n  1421,\n  1434,\n  1481,\n  1482,\n  1562,\n  1563,\n  1651,\n  1660,\n  1665,\n  1666,\n  1667,\n  1668,\n  1669,\n  1686,\n  1694,\n  1733,\n  1842,\n  1846,\n  1852,\n  1977,\n  1981,\n  1992,\n  1993],\n [1,\n  20,\n  21,\n  22,\n  23,\n  24,\n  25,\n  26,\n  27,\n  28,\n  177,\n  404,\n  414,\n  545,\n  647,\n  648,\n  736,\n  748,\n  781,\n  782,\n  821,\n  822,\n  823,\n  836,\n  855,\n  1036,\n  1301,\n  1308,\n  1338,\n  1339,\n  1342,\n  1343,\n  1691,\n  1692,\n  1693],\n [2,\n  3,\n  186,\n  187,\n  188,\n  265,\n  281,\n  282,\n  283,\n  449,\n  583,\n  629,\n  630,\n  631,\n  853,\n  854,\n  1076,\n  1122,\n  1521,\n  1536,\n  1537,\n  1619,\n  1819,\n  2025],\n [4,\n  118,\n  369,\n  370,\n  371,\n  687,\n  688,\n  705,\n  706,\n  737,\n  738,\n  739,\n  741,\n  1047,\n  1442,\n  1443,\n  1444,\n  1445,\n  1446,\n  1512,\n  1513,\n  1515,\n  1566,\n  1569,\n  1690,\n  1700,\n  1721,\n  1786,\n  1787,\n  1788,\n  1789,\n  1790,\n  1798,\n  1804,\n  1868,\n  1924,\n  1950,\n  1951,\n  1990,\n  1991],\n [5,\n  7,\n  33,\n  64,\n  146,\n  147,\n  155,\n  156,\n  165,\n  179,\n  181,\n  184,\n  185,\n  196,\n  217,\n  218,\n  239,\n  254,\n  255,\n  256,\n  264,\n  273,\n  292,\n  338,\n  339,\n  340,\n  403,\n  410,\n  424,\n  434,\n  459,\n  499,\n  500,\n  501,\n  532,\n  536,\n  543,\n  599,\n  600,\n  601,\n  602,\n  616,\n  617,\n  623,\n  669,\n  700,\n  785,\n  786,\n  787,\n  788,\n  789,\n  801,\n  803,\n  804,\n  805,\n  806,\n  807,\n  808,\n  809,\n  810,\n  811,\n  812,\n  824,\n  947,\n  949,\n  952,\n  957,\n  958,\n  959,\n  1079,\n  1080,\n  1092,\n  1098,\n  1099,\n  1100,\n  1101,\n  1102,\n  1103,\n  1104,\n  1105,\n  1143,\n  1144,\n  1163,\n  1168,\n  1169,\n  1200,\n  1201,\n  1202,\n  1203,\n  1204,\n  1205,\n  1206,\n  1214,\n  1215,\n  1218,\n  1219,\n  1250,\n  1262,\n  1263,\n  1264,\n  1266,\n  1268,\n  1272,\n  1320,\n  1348,\n  1360,\n  1361,\n  1362,\n  1363,\n  1364,\n  1392,\n  1406,\n  1437,\n  1438,\n  1439,\n  1440,\n  1441,\n  1457,\n  1458,\n  1461,\n  1480,\n  1534,\n  1535,\n  1544,\n  1556,\n  1610,\n  1615,\n  1670,\n  1687,\n  1705,\n  1706,\n  1707,\n  1708,\n  1725,\n  1749,\n  1766,\n  1810,\n  1827,\n  1828,\n  1843,\n  1844,\n  1853,\n  1854,\n  1862,\n  1899,\n  1934,\n  1940,\n  1947,\n  2032],\n [6,\n  12,\n  122,\n  158,\n  164,\n  171,\n  172,\n  178,\n  203,\n  210,\n  211,\n  213,\n  216,\n  240,\n  257,\n  303,\n  309,\n  311,\n  342,\n  353,\n  395,\n  431,\n  451,\n  453,\n  454,\n  456,\n  458,\n  472,\n  491,\n  502,\n  531,\n  546,\n  547,\n  567,\n  590,\n  591,\n  592,\n  593,\n  594,\n  605,\n  625,\n  626,\n  627,\n  637,\n  641,\n  665,\n  777,\n  780,\n  792,\n  800,\n  802,\n  910,\n  948,\n  1024,\n  1025,\n  1085,\n  1086,\n  1088,\n  1089,\n  1090,\n  1093,\n  1095,\n  1096,\n  1123,\n  1124,\n  1130,\n  1137,\n  1138,\n  1139,\n  1140,\n  1141,\n  1158,\n  1160,\n  1277,\n  1313,\n  1316,\n  1321,\n  1407,\n  1416,\n  1417,\n  1422,\n  1423,\n  1424,\n  1425,\n  1426,\n  1427,\n  1436,\n  1451,\n  1452,\n  1460,\n  1462,\n  1476,\n  1522,\n  1523,\n  1525,\n  1526,\n  1527,\n  1545,\n  1559,\n  1560,\n  1561,\n  1568,\n  1571,\n  1576,\n  1583,\n  1603,\n  1607,\n  1685,\n  1728,\n  1747,\n  1761,\n  1762,\n  1857,\n  1885,\n  1886,\n  1887,\n  1888,\n  1901,\n  1903,\n  1959,\n  1961,\n  1962,\n  1966,\n  2000,\n  2011,\n  2019,\n  2020,\n  2021,\n  2022,\n  2035,\n  2037,\n  2038,\n  2039,\n  2040,\n  2042],\n [8,\n  9,\n  52,\n  53,\n  54,\n  55,\n  56,\n  57,\n  58,\n  59,\n  76,\n  270,\n  511,\n  512,\n  685,\n  686,\n  717,\n  732,\n  751,\n  752,\n  753,\n  768,\n  769,\n  847,\n  850,\n  953,\n  954,\n  1023,\n  1033,\n  1303,\n  1304,\n  1327,\n  1333,\n  1346,\n  1418,\n  1420,\n  1468,\n  1469,\n  1533,\n  1570,\n  1695,\n  1696,\n  1806,\n  1914],\n [10,\n  157,\n  305,\n  313,\n  360,\n  361,\n  362,\n  363,\n  364,\n  465,\n  492,\n  493,\n  494,\n  496,\n  508,\n  537,\n  538,\n  539,\n  548,\n  549,\n  550,\n  551,\n  552,\n  553,\n  554,\n  555,\n  556,\n  557,\n  558,\n  559,\n  595,\n  697,\n  837,\n  838,\n  839,\n  840,\n  841,\n  842,\n  843,\n  844,\n  846,\n  1053,\n  1265,\n  1331,\n  1340,\n  1388,\n  1389,\n  1390,\n  1593,\n  1594,\n  1647,\n  1648,\n  1649,\n  1763,\n  1785,\n  1831,\n  1832,\n  1833,\n  1834,\n  1835,\n  1873,\n  1953],\n [11,\n  30,\n  31,\n  39,\n  66,\n  107,\n  108,\n  109,\n  110,\n  111,\n  112,\n  113,\n  114,\n  115,\n  116,\n  149,\n  354,\n  437,\n  438,\n  446,\n  495,\n  497,\n  498,\n  504,\n  505,\n  564,\n  581,\n  584,\n  678,\n  698,\n  799,\n  863,\n  939,\n  940,\n  1182,\n  1197,\n  1198,\n  1230,\n  1309,\n  1676,\n  1681,\n  1722,\n  1729,\n  1734,\n  1784,\n  1800,\n  1801,\n  1802,\n  1803,\n  1995,\n  1996,\n  1997,\n  1998],\n [13,\n  207,\n  452,\n  460,\n  462,\n  464,\n  480,\n  481,\n  503,\n  534,\n  597,\n  613,\n  634,\n  674,\n  735,\n  791,\n  1132,\n  1164,\n  1189,\n  1199,\n  1239,\n  1243,\n  1244,\n  1245,\n  1246,\n  1247,\n  1319,\n  1330,\n  1352,\n  1372,\n  1428,\n  1517,\n  1549,\n  1604,\n  1605,\n  1606,\n  1689,\n  1823,\n  1915,\n  1968,\n  1969,\n  2002,\n  2005,\n  2023,\n  2030,\n  2031],\n [14,\n  15,\n  19,\n  63,\n  68,\n  82,\n  83,\n  84,\n  85,\n  86,\n  95,\n  96,\n  152,\n  163,\n  166,\n  167,\n  169,\n  170,\n  220,\n  250,\n  399,\n  632,\n  671,\n  699,\n  701,\n  707,\n  708,\n  712,\n  713,\n  727,\n  728,\n  730,\n  749,\n  779,\n  815,\n  816,\n  817,\n  818,\n  819,\n  883,\n  941,\n  962,\n  1083,\n  1114,\n  1145,\n  1146,\n  1147,\n  1149,\n  1150,\n  1226,\n  1322,\n  1324,\n  1325,\n  1326,\n  1353,\n  1354,\n  1355,\n  1356,\n  1357,\n  1358,\n  1359,\n  1365,\n  1391,\n  1518,\n  1519,\n  1520,\n  1860,\n  1866,\n  1942],\n [16,\n  46,\n  48,\n  49,\n  69,\n  92,\n  131,\n  189,\n  204,\n  258,\n  372,\n  373,\n  374,\n  376,\n  377,\n  378,\n  379,\n  380,\n  381,\n  382,\n  383,\n  384,\n  385,\n  386,\n  387,\n  388,\n  389,\n  390,\n  391,\n  392,\n  393,\n  394,\n  422,\n  490,\n  521,\n  565,\n  568,\n  614,\n  615,\n  635,\n  702,\n  722,\n  740,\n  745,\n  746,\n  747,\n  833,\n  845,\n  917,\n  921,\n  932,\n  1006,\n  1007,\n  1008,\n  1009,\n  1010,\n  1011,\n  1012,\n  1013,\n  1014,\n  1037,\n  1038,\n  1077,\n  1119,\n  1159,\n  1191,\n  1208,\n  1227,\n  1228,\n  1255,\n  1463,\n  1464,\n  1611,\n  1624,\n  1635,\n  1637,\n  1638,\n  1639,\n  1640,\n  1641,\n  1642,\n  1643,\n  1644,\n  1645,\n  1646,\n  1737,\n  1739,\n  1742,\n  1869,\n  1878,\n  1894,\n  1895,\n  1958,\n  1978],\n [18,\n  60,\n  73,\n  129,\n  183,\n  191,\n  219,\n  259,\n  266,\n  306,\n  307,\n  308,\n  337,\n  341,\n  343,\n  400,\n  401,\n  402,\n  413,\n  416,\n  417,\n  423,\n  426,\n  435,\n  450,\n  461,\n  463,\n  467,\n  468,\n  469,\n  471,\n  473,\n  474,\n  476,\n  479,\n  540,\n  560,\n  582,\n  585,\n  603,\n  624,\n  649,\n  659,\n  677,\n  692,\n  704,\n  710,\n  711,\n  744,\n  772,\n  790,\n  820,\n  825,\n  826,\n  827,\n  828,\n  829,\n  849,\n  882,\n  951,\n  963,\n  970,\n  991,\n  1001,\n  1030,\n  1081,\n  1097,\n  1112,\n  1186,\n  1312,\n  1314,\n  1317,\n  1318,\n  1323,\n  1419,\n  1459,\n  1483,\n  1484,\n  1485,\n  1486,\n  1487,\n  1488,\n  1489,\n  1498,\n  1547,\n  1548,\n  1550,\n  1551,\n  1552,\n  1618,\n  1620,\n  1623,\n  1634,\n  1671,\n  1672,\n  1673,\n  1674,\n  1697,\n  1704,\n  1714,\n  1715,\n  1716,\n  1717,\n  1726,\n  1727,\n  1764,\n  1765,\n  1767,\n  1797,\n  1799,\n  1822,\n  1826,\n  1841,\n  1845,\n  1918,\n  1919,\n  1952,\n  1956,\n  1957,\n  1999,\n  2003,\n  2015,\n  2024,\n  2026,\n  2041,\n  2044],\n [29,\n  32,\n  34,\n  35,\n  36,\n  37,\n  77,\n  119,\n  130,\n  132,\n  133,\n  134,\n  135,\n  136,\n  137,\n  138,\n  139,\n  141,\n  142,\n  143,\n  144,\n  145,\n  251,\n  336,\n  347,\n  425,\n  445,\n  448,\n  455,\n  477,\n  482,\n  515,\n  618,\n  660,\n  719,\n  720,\n  729,\n  905,\n  986,\n  1017,\n  1028,\n  1029,\n  1032,\n  1034,\n  1040,\n  1054,\n  1084,\n  1166,\n  1167,\n  1170,\n  1171,\n  1172,\n  1173,\n  1174,\n  1175,\n  1176,\n  1177,\n  1178,\n  1179,\n  1180,\n  1183,\n  1209,\n  1259,\n  1311,\n  1315,\n  1368,\n  1369,\n  1384,\n  1385,\n  1386,\n  1393,\n  1394,\n  1405,\n  1449,\n  1450,\n  1465,\n  1564,\n  1574,\n  1584,\n  1585,\n  1586,\n  1587,\n  1608,\n  1609,\n  1699,\n  1732,\n  1760,\n  1856,\n  1859,\n  1864,\n  1875,\n  1876,\n  1882,\n  1904,\n  1909,\n  1917,\n  1954,\n  1955,\n  1970,\n  1972,\n  1979],\n [38,\n  78,\n  97,\n  98,\n  99,\n  105,\n  154,\n  200,\n  222,\n  223,\n  224,\n  276,\n  277,\n  304,\n  316,\n  319,\n  320,\n  321,\n  323,\n  348,\n  349,\n  350,\n  351,\n  457,\n  488,\n  519,\n  525,\n  526,\n  529,\n  530,\n  533,\n  596,\n  598,\n  670,\n  814,\n  884,\n  906,\n  907,\n  965,\n  967,\n  968,\n  969,\n  971,\n  972,\n  975,\n  978,\n  979,\n  980,\n  981,\n  984,\n  990,\n  996,\n  1031,\n  1051,\n  1052,\n  1091,\n  1109,\n  1121,\n  1165,\n  1192,\n  1193,\n  1194,\n  1195,\n  1196,\n  1207,\n  1231,\n  1281,\n  1293,\n  1344,\n  1345,\n  1524,\n  1542,\n  1546,\n  1688,\n  1709,\n  1710,\n  1711,\n  1712,\n  1713,\n  1740,\n  1741,\n  1772,\n  1773,\n  1794,\n  1795,\n  1807,\n  1808,\n  1809,\n  1883,\n  1884,\n  1902,\n  1963,\n  2036,\n  2048],\n [40, 214, 571, 574, 575, 887, 1224, 1811, 1812, 1813, 1814, 1815, 1910],\n [41,\n  42,\n  43,\n  205,\n  206,\n  344,\n  569,\n  673,\n  709,\n  885,\n  886,\n  1142,\n  1575,\n  1701,\n  1702,\n  1703,\n  1719,\n  1720,\n  1847,\n  1848,\n  1849,\n  1850,\n  1863,\n  1982,\n  1983,\n  1984,\n  1985,\n  1986,\n  1987,\n  1988,\n  2033],\n [44,\n  51,\n  80,\n  81,\n  100,\n  101,\n  151,\n  176,\n  190,\n  195,\n  202,\n  209,\n  271,\n  272,\n  284,\n  285,\n  286,\n  287,\n  288,\n  289,\n  293,\n  294,\n  296,\n  298,\n  299,\n  300,\n  312,\n  359,\n  375,\n  406,\n  418,\n  419,\n  420,\n  436,\n  447,\n  470,\n  475,\n  506,\n  507,\n  541,\n  542,\n  576,\n  577,\n  578,\n  579,\n  586,\n  587,\n  588,\n  644,\n  645,\n  646,\n  651,\n  652,\n  653,\n  654,\n  655,\n  657,\n  662,\n  663,\n  664,\n  684,\n  693,\n  703,\n  714,\n  715,\n  716,\n  718,\n  743,\n  750,\n  754,\n  755,\n  756,\n  793,\n  794,\n  797,\n  852,\n  857,\n  862,\n  866,\n  867,\n  868,\n  869,\n  873,\n  874,\n  875,\n  876,\n  877,\n  878,\n  879,\n  880,\n  881,\n  888,\n  889,\n  890,\n  891,\n  911,\n  912,\n  935,\n  944,\n  945,\n  946,\n  950,\n  960,\n  985,\n  987,\n  988,\n  989,\n  994,\n  1000,\n  1002,\n  1003,\n  1020,\n  1026,\n  1027,\n  1041,\n  1050,\n  1059,\n  1060,\n  1064,\n  1065,\n  1067,\n  1111,\n  1125,\n  1127,\n  1128,\n  1134,\n  1135,\n  1161,\n  1162,\n  1190,\n  1211,\n  1213,\n  1225,\n  1235,\n  1238,\n  1249,\n  1269,\n  1270,\n  1271,\n  1274,\n  1295,\n  1296,\n  1297,\n  1298,\n  1305,\n  1310,\n  1336,\n  1337,\n  1341,\n  1366,\n  1367,\n  1370,\n  1373,\n  1374,\n  1375,\n  1376,\n  1377,\n  1378,\n  1379,\n  1380,\n  1382,\n  1383,\n  1387,\n  1402,\n  1403,\n  1412,\n  1413,\n  1473,\n  1479,\n  1504,\n  1505,\n  1506,\n  1507,\n  1508,\n  1510,\n  1511,\n  1514,\n  1528,\n  1532,\n  1538,\n  1540,\n  1541,\n  1557,\n  1565,\n  1578,\n  1581,\n  1616,\n  1617,\n  1656,\n  1657,\n  1678,\n  1679,\n  1680,\n  1684,\n  1698,\n  1731,\n  1735,\n  1736,\n  1745,\n  1750,\n  1771,\n  1776,\n  1777,\n  1778,\n  1779,\n  1780,\n  1781,\n  1796,\n  1816,\n  1817,\n  1821,\n  1838,\n  1839,\n  1855,\n  1858,\n  1881,\n  1896,\n  1900,\n  1905,\n  1907,\n  1926,\n  1928,\n  1967,\n  1974,\n  1975,\n  1976,\n  2027,\n  2029],\n [65,\n  212,\n  279,\n  310,\n  314,\n  315,\n  318,\n  421,\n  427,\n  561,\n  562,\n  563,\n  892,\n  893,\n  894,\n  895,\n  896,\n  897,\n  898,\n  899,\n  942,\n  1019,\n  1187,\n  1429,\n  1453,\n  1454,\n  1455,\n  1456,\n  1577,\n  1580,\n  1590,\n  1596,\n  1768,\n  1791,\n  1792,\n  1793,\n  1825,\n  1994,\n  2034,\n  2043,\n  2045],\n [67,\n  87,\n  153,\n  168,\n  241,\n  242,\n  243,\n  244,\n  245,\n  246,\n  247,\n  248,\n  249,\n  252,\n  253,\n  345,\n  483,\n  484,\n  485,\n  486,\n  487,\n  566,\n  573,\n  672,\n  757,\n  758,\n  759,\n  760,\n  761,\n  762,\n  763,\n  764,\n  765,\n  766,\n  767,\n  770,\n  848,\n  964,\n  1048,\n  1074,\n  1075,\n  1094,\n  1113,\n  1232,\n  1233,\n  1248,\n  1275,\n  1276,\n  1278,\n  1279,\n  1280,\n  1302,\n  1371,\n  1404,\n  1471,\n  1474,\n  1539,\n  1612,\n  1613,\n  1614,\n  1682,\n  1683,\n  1758,\n  1805,\n  1897],\n [72,\n  79,\n  88,\n  228,\n  274,\n  317,\n  322,\n  324,\n  325,\n  326,\n  327,\n  328,\n  329,\n  330,\n  331,\n  332,\n  633,\n  783,\n  784,\n  900,\n  904,\n  973,\n  1210,\n  1229,\n  1240,\n  1257,\n  1258,\n  1282,\n  1300,\n  1328,\n  1329,\n  1408,\n  1591,\n  1592,\n  1622,\n  1625,\n  1636,\n  1675,\n  1830,\n  1867,\n  1920,\n  1921,\n  1922,\n  1923],\n [74,\n  94,\n  148,\n  238,\n  365,\n  367,\n  412,\n  489,\n  509,\n  510,\n  522,\n  523,\n  572,\n  628,\n  676,\n  796,\n  798,\n  913,\n  943,\n  1015,\n  1056,\n  1057,\n  1120,\n  1126,\n  1216,\n  1251,\n  1252,\n  1253,\n  1254,\n  1273,\n  1283,\n  1409,\n  1410,\n  1411,\n  1414,\n  1490,\n  1500,\n  1516,\n  1652,\n  1653,\n  1654,\n  1655,\n  1658,\n  1659,\n  1744,\n  1783,\n  1861,\n  2012],\n [75,\n  93,\n  117,\n  159,\n  160,\n  161,\n  162,\n  173,\n  180,\n  182,\n  192,\n  193,\n  194,\n  201,\n  260,\n  261,\n  262,\n  263,\n  267,\n  268,\n  269,\n  275,\n  278,\n  335,\n  346,\n  409,\n  430,\n  432,\n  433,\n  466,\n  524,\n  589,\n  621,\n  622,\n  636,\n  638,\n  639,\n  640,\n  642,\n  643,\n  813,\n  856,\n  864,\n  865,\n  870,\n  871,\n  872,\n  908,\n  909,\n  961,\n  1035,\n  1055,\n  1061,\n  1062,\n  1063,\n  1066,\n  1068,\n  1069,\n  1071,\n  1072,\n  1073,\n  1078,\n  1106,\n  1148,\n  1185,\n  1212,\n  1220,\n  1221,\n  1222,\n  1223,\n  1234,\n  1236,\n  1237,\n  1242,\n  1260,\n  1299,\n  1306,\n  1307,\n  1332,\n  1347,\n  1381,\n  1415,\n  1467,\n  1470,\n  1472,\n  1475,\n  1491,\n  1492,\n  1493,\n  1494,\n  1495,\n  1496,\n  1497,\n  1509,\n  1543,\n  1554,\n  1555,\n  1558,\n  1567,\n  1572,\n  1573,\n  1579,\n  1597,\n  1598,\n  1599,\n  1600,\n  1601,\n  1602,\n  1621,\n  1650,\n  1677,\n  1730,\n  1738,\n  1759,\n  1774,\n  1775,\n  1820,\n  1840,\n  1865,\n  1870,\n  1871,\n  1890,\n  1892,\n  1893,\n  1898,\n  1911,\n  1912,\n  1913,\n  1925,\n  1927,\n  1929,\n  1930,\n  1931,\n  1932,\n  1933,\n  1935,\n  1936,\n  1937,\n  1938,\n  1939,\n  1941,\n  1948,\n  1949,\n  1960,\n  1964,\n  1965,\n  1971,\n  1980,\n  1989,\n  2007,\n  2013,\n  2014,\n  2028,\n  2047],\n [89, 90, 91, 1501, 1502, 1503, 1824],\n [102,\n  103,\n  104,\n  366,\n  368,\n  851,\n  936,\n  937,\n  938,\n  955,\n  956,\n  1136,\n  1217,\n  1267,\n  1399,\n  1400,\n  1477,\n  1478,\n  1626,\n  1627,\n  1628,\n  1629,\n  1630,\n  1631,\n  1632,\n  1751,\n  1752,\n  1753,\n  1754,\n  1755,\n  1756,\n  1757,\n  1782,\n  1906,\n  1908],\n [106,\n  150,\n  333,\n  428,\n  439,\n  440,\n  441,\n  442,\n  443,\n  444,\n  580,\n  666,\n  667,\n  675,\n  721,\n  771,\n  778,\n  795,\n  1016,\n  1058,\n  1133,\n  1447,\n  1943,\n  1944,\n  1945,\n  1946],\n [120,\n  121,\n  174,\n  175,\n  679,\n  680,\n  681,\n  682,\n  683,\n  1021,\n  1022,\n  1044,\n  1045,\n  1466,\n  1582,\n  1588,\n  1589,\n  1633,\n  1743,\n  1829,\n  1872,\n  1874,\n  1973,\n  2006,\n  2008,\n  2009,\n  2010,\n  2046],\n [199, 215, 773, 774, 775, 776, 1430, 1431, 1432, 1723, 1724],\n [208,\n  302,\n  356,\n  411,\n  527,\n  528,\n  658,\n  723,\n  724,\n  725,\n  726,\n  858,\n  859,\n  860,\n  861,\n  901,\n  902,\n  903,\n  966,\n  974,\n  976,\n  977,\n  982,\n  983,\n  997,\n  998,\n  999,\n  1070,\n  1087,\n  1151,\n  1284,\n  1285,\n  1286,\n  1287,\n  1288,\n  1289,\n  1290,\n  1291,\n  1292,\n  1294,\n  1433,\n  1499,\n  1529,\n  1530,\n  1531,\n  1553,\n  1718,\n  1748,\n  1877,\n  1889,\n  1891,\n  1916,\n  2001,\n  2004,\n  2016,\n  2018],\n [221,\n  513,\n  514,\n  516,\n  517,\n  518,\n  520,\n  604,\n  661,\n  992,\n  993,\n  1395,\n  1396,\n  1448,\n  1746,\n  1769,\n  1851],\n [225, 689, 690, 691, 694, 695, 696, 1153, 1154, 1155, 1156, 1157, 1770],\n [352, 415, 1188, 1241, 1256, 1349, 1350, 1351],\n [357, 358, 1334, 1335],\n [478, 1131, 1435, 1595, 1818, 1879, 1880, 2017],\n [544, 830, 831, 832, 1107, 1108, 1836, 1837],\n [606, 607, 608, 609, 610, 611, 612, 1181, 1184, 1661, 1662, 1663, 1664],\n [1115, 1116, 1117, 1118]]"
     },
     "execution_count": 11,
     "metadata": {},
     "output_type": "execute_result"
    }
   ],
   "source": [
    "communities_new_alg = read_communities(\"TCGA/communities.txt\")\n",
    "communities_new_alg"
   ],
   "metadata": {
    "collapsed": false
   }
  },
  {
   "cell_type": "code",
   "execution_count": 12,
   "outputs": [
    {
     "data": {
      "text/plain": "[0.723,\n 0.533,\n 0.441,\n 0.42,\n 0.55,\n 0.572,\n 0.608,\n 0.49,\n 0.468,\n 0.626,\n 0.609,\n 0.596,\n 0.429,\n 0.669,\n 0.558,\n 0.698,\n 0.553,\n 0.61,\n 0.369,\n 0.722,\n 0.342,\n 0.646,\n 0.472,\n 0.724,\n 0.74,\n 0.813,\n 0.466,\n 0.398,\n 0.38,\n 0.81,\n 0.662,\n 0.437,\n 0.792,\n 0.694,\n 0.623,\n 0.469,\n 0.798]"
     },
     "execution_count": 12,
     "metadata": {},
     "output_type": "execute_result"
    }
   ],
   "source": [
    "comm_importance_new_alg = read_community_importances(\"TCGA/communities_scores.txt\")\n",
    "comm_importance_new_alg"
   ],
   "metadata": {
    "collapsed": false
   }
  },
  {
   "cell_type": "code",
   "execution_count": 13,
   "outputs": [
    {
     "data": {
      "text/plain": "array(['AOX1', 'ARSB', 'CES1', 'CTSA', 'CYP2B6', 'CYP2C19', 'CYP2C9',\n       'CYP3A4', 'CYP3A7', 'CYP4F2', 'EPHX1', 'FMO1', 'FMO3', 'FUCA2',\n       'GLB1', 'GRN', 'GUSB', 'HEXA', 'LCT', 'MAN2B1', 'MPO', 'PPIG',\n       'UGT1A1', 'UGT1A10', 'UGT1A3', 'UGT2B7'], dtype=object)"
     },
     "execution_count": 13,
     "metadata": {},
     "output_type": "execute_result"
    }
   ],
   "source": [
    "import numpy as np\n",
    "\n",
    "sorted_indices = np.argsort(comm_importance_new_alg)[::-1]\n",
    "\n",
    "sorted_communities_new_alg = []\n",
    "\n",
    "for index in sorted_indices:\n",
    "  sorted_communities_new_alg.append(communities_new_alg[index])\n",
    "\n",
    "# The gene names of the community ranked highest by the modified algorithm\n",
    "g.gene_names[sorted_communities_new_alg[0]]"
   ],
   "metadata": {
    "collapsed": false
   }
  },
  {
   "cell_type": "code",
   "execution_count": null,
   "outputs": [],
   "source": [],
   "metadata": {
    "collapsed": false
   }
  }
 ],
 "metadata": {
  "kernelspec": {
   "display_name": "Python 3",
   "language": "python",
   "name": "python3"
  },
  "language_info": {
   "codemirror_mode": {
    "name": "ipython",
    "version": 2
   },
   "file_extension": ".py",
   "mimetype": "text/x-python",
   "name": "python",
   "nbconvert_exporter": "python",
   "pygments_lexer": "ipython2",
   "version": "2.7.6"
  }
 },
 "nbformat": 4,
 "nbformat_minor": 0
}
