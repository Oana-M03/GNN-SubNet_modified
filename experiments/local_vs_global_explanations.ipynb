{
 "cells": [
  {
   "cell_type": "markdown",
   "metadata": {},
   "source": [
    "## Local Explanations vs Global Explanations\n",
    "\n",
    "This notebook runs GNN-SubNet and its modified version to generate a global node mask. The loss function values for both Gradient Descent procedures are plotted."
   ]
  },
  {
   "cell_type": "code",
   "execution_count": 32,
   "metadata": {
    "collapsed": true
   },
   "outputs": [
    {
     "name": "stdout",
     "output_type": "stream",
     "text": [
      "Graph is connected  False\n",
      "Calculate subgraph ...\n",
      "Number of subgraphs:  118\n",
      "Size of subgraph:  2049\n",
      "Graph is connected  True\n",
      "##################\n",
      "# DATASET LOADED #\n",
      "##################\n",
      "\n",
      "Number of nodes: 2049\n",
      "Number of edges: 13588\n",
      "Number of modalities: 2\n",
      "graphcnn for training ...\n",
      "Graphs class 0: 200, Graphs class 1: 306\n",
      "Length of balanced dataset list: 400\n",
      "Train graph class 0: 158, train graph class 1: 162\n",
      "Validation graph class 0: 42, validation graph class 1: 38\n"
     ]
    },
    {
     "name": "stderr",
     "output_type": "stream",
     "text": [
      "100%|██████████| 35/35 [00:07<00:00,  4.51batch/s]\n"
     ]
    },
    {
     "name": "stdout",
     "output_type": "stream",
     "text": [
      "Epoch 0, loss 2339.3231\n",
      "Train Acc 0.4938\n",
      "Epoch 0, val_loss 21.2403\n",
      "Saving best model with validation loss 21.24030113220215\n"
     ]
    },
    {
     "name": "stderr",
     "output_type": "stream",
     "text": [
      "100%|██████████| 35/35 [00:12<00:00,  2.91batch/s]\n"
     ]
    },
    {
     "name": "stdout",
     "output_type": "stream",
     "text": [
      "Epoch 1, loss 347.2952\n",
      "Train Acc 0.5062\n",
      "Epoch 1, val_loss 30.6838\n"
     ]
    },
    {
     "name": "stderr",
     "output_type": "stream",
     "text": [
      "100%|██████████| 35/35 [00:12<00:00,  2.87batch/s]\n"
     ]
    },
    {
     "name": "stdout",
     "output_type": "stream",
     "text": [
      "Epoch 2, loss 51.2827\n",
      "Train Acc 0.5219\n",
      "Epoch 2, val_loss 14.7407\n",
      "Saving best model with validation loss 14.740737915039062\n"
     ]
    },
    {
     "name": "stderr",
     "output_type": "stream",
     "text": [
      "100%|██████████| 35/35 [00:13<00:00,  2.66batch/s]\n"
     ]
    },
    {
     "name": "stdout",
     "output_type": "stream",
     "text": [
      "Epoch 3, loss 39.0734\n",
      "Train Acc 0.5062\n",
      "Epoch 3, val_loss 30.3594\n"
     ]
    },
    {
     "name": "stderr",
     "output_type": "stream",
     "text": [
      "100%|██████████| 35/35 [00:13<00:00,  2.67batch/s]\n"
     ]
    },
    {
     "name": "stdout",
     "output_type": "stream",
     "text": [
      "Epoch 4, loss 49.4919\n",
      "Train Acc 0.5125\n",
      "Epoch 4, val_loss 23.7290\n"
     ]
    },
    {
     "name": "stderr",
     "output_type": "stream",
     "text": [
      "100%|██████████| 35/35 [00:12<00:00,  2.72batch/s]\n"
     ]
    },
    {
     "name": "stdout",
     "output_type": "stream",
     "text": [
      "Epoch 5, loss 49.2698\n",
      "Train Acc 0.5062\n",
      "Epoch 5, val_loss 94.6865\n"
     ]
    },
    {
     "name": "stderr",
     "output_type": "stream",
     "text": [
      "100%|██████████| 35/35 [00:12<00:00,  2.76batch/s]\n"
     ]
    },
    {
     "name": "stdout",
     "output_type": "stream",
     "text": [
      "Epoch 6, loss 42.3393\n",
      "Train Acc 0.5062\n",
      "Epoch 6, val_loss 38.2733\n"
     ]
    },
    {
     "name": "stderr",
     "output_type": "stream",
     "text": [
      "100%|██████████| 35/35 [00:04<00:00,  7.56batch/s]\n"
     ]
    },
    {
     "name": "stdout",
     "output_type": "stream",
     "text": [
      "Epoch 7, loss 27.5766\n",
      "Train Acc 0.6469\n",
      "Epoch 7, val_loss 9.1306\n",
      "Saving best model with validation loss 9.13060188293457\n"
     ]
    },
    {
     "name": "stderr",
     "output_type": "stream",
     "text": [
      "100%|██████████| 35/35 [00:04<00:00,  7.48batch/s]\n"
     ]
    },
    {
     "name": "stdout",
     "output_type": "stream",
     "text": [
      "Epoch 8, loss 19.2986\n",
      "Train Acc 0.6188\n",
      "Epoch 8, val_loss 5.7151\n",
      "Saving best model with validation loss 5.715149879455566\n"
     ]
    },
    {
     "name": "stderr",
     "output_type": "stream",
     "text": [
      "100%|██████████| 35/35 [00:04<00:00,  7.56batch/s]\n"
     ]
    },
    {
     "name": "stdout",
     "output_type": "stream",
     "text": [
      "Epoch 9, loss 34.9581\n",
      "Train Acc 0.4938\n",
      "Epoch 9, val_loss 31.9622\n"
     ]
    },
    {
     "name": "stderr",
     "output_type": "stream",
     "text": [
      "100%|██████████| 35/35 [00:04<00:00,  7.41batch/s]\n"
     ]
    },
    {
     "name": "stdout",
     "output_type": "stream",
     "text": [
      "Epoch 10, loss 27.2833\n",
      "Train Acc 0.5062\n",
      "Epoch 10, val_loss 84.0414\n"
     ]
    },
    {
     "name": "stderr",
     "output_type": "stream",
     "text": [
      "100%|██████████| 35/35 [00:04<00:00,  7.21batch/s]\n"
     ]
    },
    {
     "name": "stdout",
     "output_type": "stream",
     "text": [
      "Epoch 11, loss 27.3348\n",
      "Train Acc 0.5813\n",
      "Epoch 11, val_loss 12.0798\n"
     ]
    },
    {
     "name": "stderr",
     "output_type": "stream",
     "text": [
      "100%|██████████| 35/35 [00:04<00:00,  7.19batch/s]\n"
     ]
    },
    {
     "name": "stdout",
     "output_type": "stream",
     "text": [
      "Epoch 12, loss 23.2633\n",
      "Train Acc 0.5031\n",
      "Epoch 12, val_loss 23.2802\n"
     ]
    },
    {
     "name": "stderr",
     "output_type": "stream",
     "text": [
      "100%|██████████| 35/35 [00:09<00:00,  3.53batch/s]\n"
     ]
    },
    {
     "name": "stdout",
     "output_type": "stream",
     "text": [
      "Epoch 13, loss 43.2664\n",
      "Train Acc 0.5062\n",
      "Epoch 13, val_loss 67.7786\n"
     ]
    },
    {
     "name": "stderr",
     "output_type": "stream",
     "text": [
      "100%|██████████| 35/35 [00:12<00:00,  2.78batch/s]\n"
     ]
    },
    {
     "name": "stdout",
     "output_type": "stream",
     "text": [
      "Epoch 14, loss 35.9618\n",
      "Train Acc 0.5938\n",
      "Epoch 14, val_loss 12.1805\n"
     ]
    },
    {
     "name": "stderr",
     "output_type": "stream",
     "text": [
      "100%|██████████| 35/35 [00:13<00:00,  2.66batch/s]\n"
     ]
    },
    {
     "name": "stdout",
     "output_type": "stream",
     "text": [
      "Epoch 15, loss 17.3940\n",
      "Train Acc 0.5125\n",
      "Epoch 15, val_loss 33.6349\n"
     ]
    },
    {
     "name": "stderr",
     "output_type": "stream",
     "text": [
      "100%|██████████| 35/35 [00:13<00:00,  2.54batch/s]\n"
     ]
    },
    {
     "name": "stdout",
     "output_type": "stream",
     "text": [
      "Epoch 16, loss 16.6277\n",
      "Train Acc 0.5719\n",
      "Epoch 16, val_loss 13.5300\n"
     ]
    },
    {
     "name": "stderr",
     "output_type": "stream",
     "text": [
      "100%|██████████| 35/35 [00:13<00:00,  2.61batch/s]\n"
     ]
    },
    {
     "name": "stdout",
     "output_type": "stream",
     "text": [
      "Epoch 17, loss 14.5258\n",
      "Train Acc 0.5062\n",
      "Epoch 17, val_loss 38.4899\n"
     ]
    },
    {
     "name": "stderr",
     "output_type": "stream",
     "text": [
      "100%|██████████| 35/35 [00:14<00:00,  2.48batch/s]\n"
     ]
    },
    {
     "name": "stdout",
     "output_type": "stream",
     "text": [
      "Epoch 18, loss 36.5862\n",
      "Train Acc 0.4938\n",
      "Epoch 18, val_loss 72.8406\n",
      "Early stopping!\n",
      "\n",
      "Confusion matrix (Validation set):\n",
      "\n",
      "[[36  6]\n",
      " [27 11]]\n",
      "Validation accuracy: 58.75%\n",
      "Validation loss 5.715149879455566\n"
     ]
    }
   ],
   "source": [
    "import numpy as np\n",
    "import pandas as pd\n",
    "import torch\n",
    "\n",
    "from GNNSubNet import GNNSubNet as gnn\n",
    "\n",
    "# Synthetic data set  ------------------------- #\n",
    "# loc   = \"../GNNSubNet/datasets/synthetic\"\n",
    "# ppi   = f'{loc}/NETWORK_synthetic.txt'\n",
    "# feats = [f'{loc}/FEATURES_synthetic.txt']\n",
    "# targ  = f'{loc}/TARGET_synthetic.txt'\n",
    "\n",
    "# TCGA data set\n",
    "loc   = \"../TCGA\"\n",
    "ppi   = f'{loc}/KIDNEY_RANDOM_PPI.txt'\n",
    "feats = [f'{loc}/KIDNEY_RANDOM_Methy_FEATURES.txt', f'{loc}/KIDNEY_RANDOM_mRNA_FEATURES.txt']\n",
    "targ  = f'{loc}/KIDNEY_RANDOM_TARGET.txt'\n",
    "\n",
    "# Read in the synthetic data\n",
    "g = gnn.GNNSubNet(loc, ppi, feats, targ, normalize=False)\n",
    "\n",
    "# Get some general information about the data dimension\n",
    "g.summary()\n",
    "\n",
    "# Train the GNN classifier and validate performance on a test set\n",
    "g.train()\n"
   ]
  },
  {
   "cell_type": "code",
   "execution_count": 33,
   "metadata": {},
   "outputs": [
    {
     "data": {
      "text/plain": [
       "torch.Size([2049, 2])"
      ]
     },
     "execution_count": 33,
     "metadata": {},
     "output_type": "execute_result"
    }
   ],
   "source": [
    "g.s2v_test_dataset[0].node_features.shape"
   ]
  },
  {
   "cell_type": "code",
   "execution_count": 34,
   "metadata": {},
   "outputs": [
    {
     "data": {
      "text/plain": [
       "80"
      ]
     },
     "execution_count": 34,
     "metadata": {},
     "output_type": "execute_result"
    }
   ],
   "source": [
    "len(g.s2v_test_dataset)"
   ]
  },
  {
   "cell_type": "code",
   "execution_count": 35,
   "metadata": {},
   "outputs": [
    {
     "data": {
      "text/plain": [
       "array([0., 0., 0., 0., 0., 0., 0., 0., 1., 0., 1., 0., 0., 0., 0., 1., 1.,\n",
       "       0., 0., 0., 1., 0., 0., 0., 1., 0., 0., 1., 0., 0., 0., 0., 0., 0.,\n",
       "       0., 0., 0., 0., 1., 1., 0., 0., 0., 1., 0., 1., 0., 0., 0., 1., 0.,\n",
       "       0., 1., 0., 0., 0., 0., 0., 0., 0., 0., 0., 0., 1., 0., 1., 0., 0.,\n",
       "       0., 1., 1., 0., 0., 0., 0., 0., 0., 0., 0., 0.])"
      ]
     },
     "execution_count": 35,
     "metadata": {},
     "output_type": "execute_result"
    }
   ],
   "source": [
    "g.predictions"
   ]
  },
  {
   "cell_type": "markdown",
   "metadata": {},
   "source": [
    "The following cells train an explainer for 300 epochs to obtain the aggregation of local explanations. This corresponds to RQs 1 and 2 of the project."
   ]
  },
  {
   "cell_type": "code",
   "execution_count": 36,
   "metadata": {},
   "outputs": [],
   "source": [
    "from GNNSubNet import gnn_explainer as gnne\n",
    "import torch\n",
    "\n",
    "exp = gnne.GNNExplainer(g.model, epochs=300, lr = 0.1)"
   ]
  },
  {
   "cell_type": "code",
   "execution_count": 37,
   "metadata": {},
   "outputs": [
    {
     "data": {
      "text/plain": [
       "2049"
      ]
     },
     "execution_count": 37,
     "metadata": {},
     "output_type": "execute_result"
    }
   ],
   "source": [
    "g.s2v_test_dataset[0].node_features.shape[0]"
   ]
  },
  {
   "cell_type": "code",
   "execution_count": 43,
   "metadata": {},
   "outputs": [
    {
     "data": {
      "text/plain": [
       "tensor([[-6.0535],\n",
       "        [-0.6496],\n",
       "        [ 4.9781],\n",
       "        ...,\n",
       "        [-4.0656],\n",
       "        [-5.9072],\n",
       "        [ 6.2704]])"
      ]
     },
     "execution_count": 43,
     "metadata": {},
     "output_type": "execute_result"
    }
   ],
   "source": [
    "node_mask = exp.explain_graph_modified_s2v(g.s2v_test_dataset, 0.1, False)\n",
    "node_mask"
   ]
  },
  {
   "cell_type": "markdown",
   "metadata": {},
   "source": [
    "## RQ1: How can GNN-SubNet be modified to obtain a local-level explanation?\n",
    "\n",
    "The following code cells retrieve the loss function values generated by a run of the explainer. For each sample of the test dataset, the loss for each epoch was stored. Thus, we can now plot the losses for all of the node mask optimization processes."
   ]
  },
  {
   "cell_type": "code",
   "execution_count": 48,
   "metadata": {},
   "outputs": [
    {
     "data": {
      "text/html": [
       "<div>\n",
       "<style scoped>\n",
       "    .dataframe tbody tr th:only-of-type {\n",
       "        vertical-align: middle;\n",
       "    }\n",
       "\n",
       "    .dataframe tbody tr th {\n",
       "        vertical-align: top;\n",
       "    }\n",
       "\n",
       "    .dataframe thead th {\n",
       "        text-align: right;\n",
       "    }\n",
       "</style>\n",
       "<table border=\"1\" class=\"dataframe\">\n",
       "  <thead>\n",
       "    <tr style=\"text-align: right;\">\n",
       "      <th></th>\n",
       "      <th>Epoch 0</th>\n",
       "      <th>Epoch 1</th>\n",
       "      <th>Epoch 2</th>\n",
       "      <th>Epoch 3</th>\n",
       "      <th>Epoch 4</th>\n",
       "      <th>Epoch 5</th>\n",
       "      <th>Epoch 6</th>\n",
       "      <th>Epoch 7</th>\n",
       "      <th>Epoch 8</th>\n",
       "      <th>Epoch 9</th>\n",
       "      <th>...</th>\n",
       "      <th>Epoch 290</th>\n",
       "      <th>Epoch 291</th>\n",
       "      <th>Epoch 292</th>\n",
       "      <th>Epoch 293</th>\n",
       "      <th>Epoch 294</th>\n",
       "      <th>Epoch 295</th>\n",
       "      <th>Epoch 296</th>\n",
       "      <th>Epoch 297</th>\n",
       "      <th>Epoch 298</th>\n",
       "      <th>Epoch 299</th>\n",
       "    </tr>\n",
       "  </thead>\n",
       "  <tbody>\n",
       "    <tr>\n",
       "      <th>0</th>\n",
       "      <td>60.013641</td>\n",
       "      <td>45.113831</td>\n",
       "      <td>30.240103</td>\n",
       "      <td>15.510781</td>\n",
       "      <td>0.871271</td>\n",
       "      <td>-13.579669</td>\n",
       "      <td>-27.765417</td>\n",
       "      <td>-41.555523</td>\n",
       "      <td>-54.932510</td>\n",
       "      <td>-67.826195</td>\n",
       "      <td>...</td>\n",
       "      <td>-256.144714</td>\n",
       "      <td>-256.152954</td>\n",
       "      <td>-256.160889</td>\n",
       "      <td>-256.168732</td>\n",
       "      <td>-256.176880</td>\n",
       "      <td>-256.184143</td>\n",
       "      <td>-256.191925</td>\n",
       "      <td>-256.199646</td>\n",
       "      <td>-256.206909</td>\n",
       "      <td>-256.214630</td>\n",
       "    </tr>\n",
       "    <tr>\n",
       "      <th>1</th>\n",
       "      <td>138.830170</td>\n",
       "      <td>124.140038</td>\n",
       "      <td>109.522308</td>\n",
       "      <td>95.059288</td>\n",
       "      <td>80.825348</td>\n",
       "      <td>66.878387</td>\n",
       "      <td>53.333473</td>\n",
       "      <td>40.209572</td>\n",
       "      <td>27.568638</td>\n",
       "      <td>15.472967</td>\n",
       "      <td>...</td>\n",
       "      <td>-159.921555</td>\n",
       "      <td>-159.928574</td>\n",
       "      <td>-159.936081</td>\n",
       "      <td>-159.943130</td>\n",
       "      <td>-159.950943</td>\n",
       "      <td>-159.957993</td>\n",
       "      <td>-159.965134</td>\n",
       "      <td>-159.972076</td>\n",
       "      <td>-159.979126</td>\n",
       "      <td>-159.986496</td>\n",
       "    </tr>\n",
       "    <tr>\n",
       "      <th>2</th>\n",
       "      <td>74.946045</td>\n",
       "      <td>59.763832</td>\n",
       "      <td>44.567360</td>\n",
       "      <td>29.477379</td>\n",
       "      <td>14.491062</td>\n",
       "      <td>-0.244627</td>\n",
       "      <td>-14.588010</td>\n",
       "      <td>-28.570496</td>\n",
       "      <td>-42.162807</td>\n",
       "      <td>-55.241070</td>\n",
       "      <td>...</td>\n",
       "      <td>-247.620636</td>\n",
       "      <td>-247.628815</td>\n",
       "      <td>-247.636398</td>\n",
       "      <td>-247.644547</td>\n",
       "      <td>-247.652267</td>\n",
       "      <td>-247.659576</td>\n",
       "      <td>-247.667328</td>\n",
       "      <td>-247.674713</td>\n",
       "      <td>-247.682556</td>\n",
       "      <td>-247.689850</td>\n",
       "    </tr>\n",
       "    <tr>\n",
       "      <th>3</th>\n",
       "      <td>131.091187</td>\n",
       "      <td>114.506767</td>\n",
       "      <td>97.994209</td>\n",
       "      <td>81.718834</td>\n",
       "      <td>65.624809</td>\n",
       "      <td>49.863319</td>\n",
       "      <td>34.485912</td>\n",
       "      <td>19.567410</td>\n",
       "      <td>5.198513</td>\n",
       "      <td>-8.577172</td>\n",
       "      <td>...</td>\n",
       "      <td>-206.796844</td>\n",
       "      <td>-206.805573</td>\n",
       "      <td>-206.813461</td>\n",
       "      <td>-206.822006</td>\n",
       "      <td>-206.830276</td>\n",
       "      <td>-206.838623</td>\n",
       "      <td>-206.846649</td>\n",
       "      <td>-206.854324</td>\n",
       "      <td>-206.861984</td>\n",
       "      <td>-206.870132</td>\n",
       "    </tr>\n",
       "    <tr>\n",
       "      <th>4</th>\n",
       "      <td>144.557327</td>\n",
       "      <td>129.511520</td>\n",
       "      <td>114.542923</td>\n",
       "      <td>99.689247</td>\n",
       "      <td>85.061264</td>\n",
       "      <td>70.748360</td>\n",
       "      <td>56.908318</td>\n",
       "      <td>43.545422</td>\n",
       "      <td>30.683086</td>\n",
       "      <td>18.367674</td>\n",
       "      <td>...</td>\n",
       "      <td>-158.709152</td>\n",
       "      <td>-158.717407</td>\n",
       "      <td>-158.725220</td>\n",
       "      <td>-158.732773</td>\n",
       "      <td>-158.739853</td>\n",
       "      <td>-158.746811</td>\n",
       "      <td>-158.754715</td>\n",
       "      <td>-158.763031</td>\n",
       "      <td>-158.769882</td>\n",
       "      <td>-158.776566</td>\n",
       "    </tr>\n",
       "    <tr>\n",
       "      <th>...</th>\n",
       "      <td>...</td>\n",
       "      <td>...</td>\n",
       "      <td>...</td>\n",
       "      <td>...</td>\n",
       "      <td>...</td>\n",
       "      <td>...</td>\n",
       "      <td>...</td>\n",
       "      <td>...</td>\n",
       "      <td>...</td>\n",
       "      <td>...</td>\n",
       "      <td>...</td>\n",
       "      <td>...</td>\n",
       "      <td>...</td>\n",
       "      <td>...</td>\n",
       "      <td>...</td>\n",
       "      <td>...</td>\n",
       "      <td>...</td>\n",
       "      <td>...</td>\n",
       "      <td>...</td>\n",
       "      <td>...</td>\n",
       "      <td>...</td>\n",
       "    </tr>\n",
       "    <tr>\n",
       "      <th>75</th>\n",
       "      <td>102.765213</td>\n",
       "      <td>87.058205</td>\n",
       "      <td>71.474144</td>\n",
       "      <td>55.949997</td>\n",
       "      <td>40.569897</td>\n",
       "      <td>25.471621</td>\n",
       "      <td>10.636740</td>\n",
       "      <td>-3.806469</td>\n",
       "      <td>-17.715929</td>\n",
       "      <td>-31.091206</td>\n",
       "      <td>...</td>\n",
       "      <td>-228.247391</td>\n",
       "      <td>-228.255707</td>\n",
       "      <td>-228.264206</td>\n",
       "      <td>-228.272186</td>\n",
       "      <td>-228.279602</td>\n",
       "      <td>-228.288055</td>\n",
       "      <td>-228.296341</td>\n",
       "      <td>-228.304047</td>\n",
       "      <td>-228.311752</td>\n",
       "      <td>-228.319290</td>\n",
       "    </tr>\n",
       "    <tr>\n",
       "      <th>76</th>\n",
       "      <td>129.711349</td>\n",
       "      <td>113.371330</td>\n",
       "      <td>97.130341</td>\n",
       "      <td>81.091248</td>\n",
       "      <td>65.264069</td>\n",
       "      <td>49.638180</td>\n",
       "      <td>34.382851</td>\n",
       "      <td>19.612770</td>\n",
       "      <td>5.367459</td>\n",
       "      <td>-8.306925</td>\n",
       "      <td>...</td>\n",
       "      <td>-202.757538</td>\n",
       "      <td>-202.765671</td>\n",
       "      <td>-202.773834</td>\n",
       "      <td>-202.781876</td>\n",
       "      <td>-202.790344</td>\n",
       "      <td>-202.798065</td>\n",
       "      <td>-202.805679</td>\n",
       "      <td>-202.813599</td>\n",
       "      <td>-202.821884</td>\n",
       "      <td>-202.829285</td>\n",
       "    </tr>\n",
       "    <tr>\n",
       "      <th>77</th>\n",
       "      <td>134.573547</td>\n",
       "      <td>117.452049</td>\n",
       "      <td>100.462822</td>\n",
       "      <td>83.660248</td>\n",
       "      <td>67.132217</td>\n",
       "      <td>50.977245</td>\n",
       "      <td>35.155102</td>\n",
       "      <td>19.808838</td>\n",
       "      <td>5.034503</td>\n",
       "      <td>-9.120975</td>\n",
       "      <td>...</td>\n",
       "      <td>-210.267151</td>\n",
       "      <td>-210.276184</td>\n",
       "      <td>-210.284500</td>\n",
       "      <td>-210.293320</td>\n",
       "      <td>-210.301392</td>\n",
       "      <td>-210.309799</td>\n",
       "      <td>-210.317764</td>\n",
       "      <td>-210.325775</td>\n",
       "      <td>-210.333649</td>\n",
       "      <td>-210.342300</td>\n",
       "    </tr>\n",
       "    <tr>\n",
       "      <th>78</th>\n",
       "      <td>95.458328</td>\n",
       "      <td>80.229073</td>\n",
       "      <td>65.020866</td>\n",
       "      <td>49.996422</td>\n",
       "      <td>35.190071</td>\n",
       "      <td>20.612331</td>\n",
       "      <td>6.282259</td>\n",
       "      <td>-7.701098</td>\n",
       "      <td>-21.178017</td>\n",
       "      <td>-34.122578</td>\n",
       "      <td>...</td>\n",
       "      <td>-221.484940</td>\n",
       "      <td>-221.492783</td>\n",
       "      <td>-221.501190</td>\n",
       "      <td>-221.509415</td>\n",
       "      <td>-221.517029</td>\n",
       "      <td>-221.524811</td>\n",
       "      <td>-221.532791</td>\n",
       "      <td>-221.540939</td>\n",
       "      <td>-221.548691</td>\n",
       "      <td>-221.556442</td>\n",
       "    </tr>\n",
       "    <tr>\n",
       "      <th>79</th>\n",
       "      <td>116.898064</td>\n",
       "      <td>100.823685</td>\n",
       "      <td>84.843681</td>\n",
       "      <td>69.028542</td>\n",
       "      <td>53.489079</td>\n",
       "      <td>38.257980</td>\n",
       "      <td>23.336206</td>\n",
       "      <td>8.838475</td>\n",
       "      <td>-5.135342</td>\n",
       "      <td>-18.592413</td>\n",
       "      <td>...</td>\n",
       "      <td>-210.887543</td>\n",
       "      <td>-210.895981</td>\n",
       "      <td>-210.904297</td>\n",
       "      <td>-210.912476</td>\n",
       "      <td>-210.920364</td>\n",
       "      <td>-210.928223</td>\n",
       "      <td>-210.936356</td>\n",
       "      <td>-210.944000</td>\n",
       "      <td>-210.951935</td>\n",
       "      <td>-210.959396</td>\n",
       "    </tr>\n",
       "  </tbody>\n",
       "</table>\n",
       "<p>80 rows × 300 columns</p>\n",
       "</div>"
      ],
      "text/plain": [
       "       Epoch 0     Epoch 1     Epoch 2    Epoch 3    Epoch 4    Epoch 5   \n",
       "0    60.013641   45.113831   30.240103  15.510781   0.871271 -13.579669  \\\n",
       "1   138.830170  124.140038  109.522308  95.059288  80.825348  66.878387   \n",
       "2    74.946045   59.763832   44.567360  29.477379  14.491062  -0.244627   \n",
       "3   131.091187  114.506767   97.994209  81.718834  65.624809  49.863319   \n",
       "4   144.557327  129.511520  114.542923  99.689247  85.061264  70.748360   \n",
       "..         ...         ...         ...        ...        ...        ...   \n",
       "75  102.765213   87.058205   71.474144  55.949997  40.569897  25.471621   \n",
       "76  129.711349  113.371330   97.130341  81.091248  65.264069  49.638180   \n",
       "77  134.573547  117.452049  100.462822  83.660248  67.132217  50.977245   \n",
       "78   95.458328   80.229073   65.020866  49.996422  35.190071  20.612331   \n",
       "79  116.898064  100.823685   84.843681  69.028542  53.489079  38.257980   \n",
       "\n",
       "      Epoch 6    Epoch 7    Epoch 8    Epoch 9  ...   Epoch 290   Epoch 291   \n",
       "0  -27.765417 -41.555523 -54.932510 -67.826195  ... -256.144714 -256.152954  \\\n",
       "1   53.333473  40.209572  27.568638  15.472967  ... -159.921555 -159.928574   \n",
       "2  -14.588010 -28.570496 -42.162807 -55.241070  ... -247.620636 -247.628815   \n",
       "3   34.485912  19.567410   5.198513  -8.577172  ... -206.796844 -206.805573   \n",
       "4   56.908318  43.545422  30.683086  18.367674  ... -158.709152 -158.717407   \n",
       "..        ...        ...        ...        ...  ...         ...         ...   \n",
       "75  10.636740  -3.806469 -17.715929 -31.091206  ... -228.247391 -228.255707   \n",
       "76  34.382851  19.612770   5.367459  -8.306925  ... -202.757538 -202.765671   \n",
       "77  35.155102  19.808838   5.034503  -9.120975  ... -210.267151 -210.276184   \n",
       "78   6.282259  -7.701098 -21.178017 -34.122578  ... -221.484940 -221.492783   \n",
       "79  23.336206   8.838475  -5.135342 -18.592413  ... -210.887543 -210.895981   \n",
       "\n",
       "     Epoch 292   Epoch 293   Epoch 294   Epoch 295   Epoch 296   Epoch 297   \n",
       "0  -256.160889 -256.168732 -256.176880 -256.184143 -256.191925 -256.199646  \\\n",
       "1  -159.936081 -159.943130 -159.950943 -159.957993 -159.965134 -159.972076   \n",
       "2  -247.636398 -247.644547 -247.652267 -247.659576 -247.667328 -247.674713   \n",
       "3  -206.813461 -206.822006 -206.830276 -206.838623 -206.846649 -206.854324   \n",
       "4  -158.725220 -158.732773 -158.739853 -158.746811 -158.754715 -158.763031   \n",
       "..         ...         ...         ...         ...         ...         ...   \n",
       "75 -228.264206 -228.272186 -228.279602 -228.288055 -228.296341 -228.304047   \n",
       "76 -202.773834 -202.781876 -202.790344 -202.798065 -202.805679 -202.813599   \n",
       "77 -210.284500 -210.293320 -210.301392 -210.309799 -210.317764 -210.325775   \n",
       "78 -221.501190 -221.509415 -221.517029 -221.524811 -221.532791 -221.540939   \n",
       "79 -210.904297 -210.912476 -210.920364 -210.928223 -210.936356 -210.944000   \n",
       "\n",
       "     Epoch 298   Epoch 299  \n",
       "0  -256.206909 -256.214630  \n",
       "1  -159.979126 -159.986496  \n",
       "2  -247.682556 -247.689850  \n",
       "3  -206.861984 -206.870132  \n",
       "4  -158.769882 -158.776566  \n",
       "..         ...         ...  \n",
       "75 -228.311752 -228.319290  \n",
       "76 -202.821884 -202.829285  \n",
       "77 -210.333649 -210.342300  \n",
       "78 -221.548691 -221.556442  \n",
       "79 -210.951935 -210.959396  \n",
       "\n",
       "[80 rows x 300 columns]"
      ]
     },
     "execution_count": 48,
     "metadata": {},
     "output_type": "execute_result"
    }
   ],
   "source": [
    "import pandas as pd\n",
    "\n",
    "losses = pd.read_csv(\"../GNNSubNet/saved_values/loss_values_modified_alg.csv\")\n",
    "losses"
   ]
  },
  {
   "cell_type": "code",
   "execution_count": 49,
   "metadata": {},
   "outputs": [
    {
     "data": {
      "text/plain": [
       "array([ 113.50397491,   97.1993866 ,   80.97582245,   64.94180298,\n",
       "         49.18170547,   33.66921234,   18.46888733,    3.73113251,\n",
       "        -10.48859024,  -24.15829659,  -37.21005249,  -49.65138626,\n",
       "        -61.39247131,  -72.46907806,  -82.87525177,  -92.5872345 ,\n",
       "       -101.63672638, -110.00443268, -117.76338196, -124.95198059,\n",
       "       -131.60723877, -137.74526978, -143.3966217 , -148.58843994,\n",
       "       -153.33633423, -157.67796326, -161.6509552 , -165.28764343,\n",
       "       -168.61489868, -171.66299438, -174.45762634, -177.01968384,\n",
       "       -179.37542725, -181.54402161, -183.54248047, -185.38423157,\n",
       "       -187.07865906, -188.64060974, -190.08673096, -191.42433167,\n",
       "       -192.66455078, -193.81504822, -194.88899231, -195.88792419,\n",
       "       -196.81835938, -197.68933105, -198.50610352, -199.27171326,\n",
       "       -199.9919281 , -200.67030334, -201.31001282, -201.91389465,\n",
       "       -202.48809814, -203.03477478, -203.5549469 , -204.04911804,\n",
       "       -204.52099609, -204.97113037, -205.3994751 , -205.81044006,\n",
       "       -206.20701599, -206.58796692, -206.9551239 , -207.3110199 ,\n",
       "       -207.65522766, -207.98501587, -208.29934692, -208.59838867,\n",
       "       -208.88534546, -209.16162109, -209.42637634, -209.6786499 ,\n",
       "       -209.92132568, -210.15104675, -210.37330627, -210.5894928 ,\n",
       "       -210.79747009, -210.99662781, -211.18887329, -211.37605286,\n",
       "       -211.55593872, -211.73091125, -211.90139771, -212.06752014,\n",
       "       -212.22962952, -212.38963318, -212.54605103, -212.69793701,\n",
       "       -212.84562683, -212.98849487, -213.12785339, -213.26304626,\n",
       "       -213.39601135, -213.52825928, -213.65844727, -213.78768921,\n",
       "       -213.91513062, -214.03919983, -214.16020203, -214.27798462,\n",
       "       -214.39311218, -214.50421143, -214.61010742, -214.71282959,\n",
       "       -214.81417847, -214.91288757, -215.00894165, -215.10240173,\n",
       "       -215.19271851, -215.28027344, -215.36520386, -215.44837952,\n",
       "       -215.52935791, -215.6088562 , -215.68669128, -215.76416016,\n",
       "       -215.83998108, -215.91340637, -215.98405457, -216.05213928,\n",
       "       -216.11872864, -216.18460083, -216.2492218 , -216.31278992,\n",
       "       -216.37573242, -216.43717957, -216.49769592, -216.55792236,\n",
       "       -216.61645508, -216.67352295, -216.7293396 , -216.78421021,\n",
       "       -216.83868408, -216.89245605, -216.94543457, -216.99699402,\n",
       "       -217.04779053, -217.09793091, -217.14781189, -217.19726562,\n",
       "       -217.24673462, -217.29595947, -217.3447876 , -217.39279175,\n",
       "       -217.44062805, -217.48735046, -217.53327942, -217.57814026,\n",
       "       -217.62236023, -217.66647339, -217.70916748, -217.75007629,\n",
       "       -217.79127502, -217.83132935, -217.8704071 , -217.90861511,\n",
       "       -217.94648743, -217.9833374 , -218.01904297, -218.05407715,\n",
       "       -218.08865356, -218.12271118, -218.15579224, -218.18893433,\n",
       "       -218.22077942, -218.2518158 , -218.28323364, -218.31384277,\n",
       "       -218.34371948, -218.37338257, -218.40246582, -218.43171692,\n",
       "       -218.4599762 , -218.48825073, -218.51663208, -218.54421997,\n",
       "       -218.57107544, -218.59840393, -218.62521362, -218.6522522 ,\n",
       "       -218.67982483, -218.70620728, -218.73320007, -218.75938416,\n",
       "       -218.78590393, -218.81187439, -218.83888245, -218.86599731,\n",
       "       -218.89363098, -218.91957092, -218.94444275, -218.96882629,\n",
       "       -218.99363708, -219.01693726, -219.04045105, -219.06300354,\n",
       "       -219.08532715, -219.10694885, -219.12837219, -219.14949036,\n",
       "       -219.16993713, -219.1907196 , -219.21115112, -219.23095703,\n",
       "       -219.25032043, -219.26976013, -219.28868103, -219.30725098,\n",
       "       -219.32591248, -219.3442688 , -219.36225891, -219.37986755,\n",
       "       -219.39704895, -219.41467285, -219.43170166, -219.44889832,\n",
       "       -219.46551514, -219.48207092, -219.49824524, -219.51486206,\n",
       "       -219.53094482, -219.54631042, -219.56202698, -219.57788086,\n",
       "       -219.59336853, -219.60810852, -219.62329102, -219.63807678,\n",
       "       -219.65272522, -219.66760254, -219.68200684, -219.69581604,\n",
       "       -219.71014404, -219.72419739, -219.7381897 , -219.75161743,\n",
       "       -219.76538086, -219.77839661, -219.79162598, -219.80499268,\n",
       "       -219.81799316, -219.83061218, -219.84364319, -219.85650635,\n",
       "       -219.86883545, -219.88150024, -219.89367676, -219.90620422,\n",
       "       -219.9178772 , -219.92948914, -219.94178772, -219.95347595,\n",
       "       -219.96473694, -219.97640991, -219.98814392, -219.99908447,\n",
       "       -220.01068115, -220.02163696, -220.03283691, -220.04368591,\n",
       "       -220.05465698, -220.06500244, -220.07572937, -220.08628845,\n",
       "       -220.09671021, -220.10673523, -220.11738586, -220.12765503,\n",
       "       -220.13789368, -220.14797974, -220.15794373, -220.16738892,\n",
       "       -220.17726135, -220.18695068, -220.19644165, -220.20596313,\n",
       "       -220.2155304 , -220.22480774, -220.23469543, -220.2436676 ,\n",
       "       -220.25253296, -220.26196289, -220.27111816, -220.2797699 ,\n",
       "       -220.28863525, -220.2975769 , -220.30662537, -220.31510925,\n",
       "       -220.32365417, -220.33230591, -220.34051514, -220.34922791,\n",
       "       -220.35780334, -220.36579895, -220.37428284, -220.38240051,\n",
       "       -220.39083862, -220.39892578, -220.40711975, -220.4151001 ])"
      ]
     },
     "execution_count": 49,
     "metadata": {},
     "output_type": "execute_result"
    }
   ],
   "source": [
    "import matplotlib.pyplot as plt\n",
    "\n",
    "single_loss = losses.iloc[30].values\n",
    "\n",
    "single_loss"
   ]
  },
  {
   "cell_type": "code",
   "execution_count": 50,
   "metadata": {},
   "outputs": [
    {
     "data": {
      "image/png": "[encoded data removed]",
      "text/plain": [
       "<Figure size 640x480 with 1 Axes>"
      ]
     },
     "metadata": {},
     "output_type": "display_data"
    }
   ],
   "source": [
    "plt.plot(single_loss)\n",
    "plt.ylabel('Loss function value')\n",
    "plt.xlabel('Epoch')\n",
    "\n",
    "plt.show()"
   ]
  },
  {
   "cell_type": "markdown",
   "metadata": {},
   "source": [
    "For comparison purposes, the following code cells run the original explainer on the same test dataset and plot the loss function values for GNN-SubNet."
   ]
  },
  {
   "cell_type": "code",
   "execution_count": 51,
   "metadata": {},
   "outputs": [
    {
     "data": {
      "text/plain": [
       "tensor([[-5.9795],\n",
       "        [-5.8355],\n",
       "        [ 6.0718],\n",
       "        ...,\n",
       "        [-5.4347],\n",
       "        [-5.8461],\n",
       "        [ 6.5332]])"
      ]
     },
     "execution_count": 51,
     "metadata": {},
     "output_type": "execute_result"
    }
   ],
   "source": [
    "node_mask_gnn_subnet = exp.explain_graph_modified_s2v(g.s2v_test_dataset, 0.1, True)\n",
    "node_mask_gnn_subnet"
   ]
  },
  {
   "cell_type": "code",
   "execution_count": 52,
   "metadata": {},
   "outputs": [
    {
     "data": {
      "text/html": [
       "<div>\n",
       "<style scoped>\n",
       "    .dataframe tbody tr th:only-of-type {\n",
       "        vertical-align: middle;\n",
       "    }\n",
       "\n",
       "    .dataframe tbody tr th {\n",
       "        vertical-align: top;\n",
       "    }\n",
       "\n",
       "    .dataframe thead th {\n",
       "        text-align: right;\n",
       "    }\n",
       "</style>\n",
       "<table border=\"1\" class=\"dataframe\">\n",
       "  <thead>\n",
       "    <tr style=\"text-align: right;\">\n",
       "      <th></th>\n",
       "      <th>Epoch 0</th>\n",
       "      <th>Epoch 1</th>\n",
       "      <th>Epoch 2</th>\n",
       "      <th>Epoch 3</th>\n",
       "      <th>Epoch 4</th>\n",
       "      <th>Epoch 5</th>\n",
       "      <th>Epoch 6</th>\n",
       "      <th>Epoch 7</th>\n",
       "      <th>Epoch 8</th>\n",
       "      <th>Epoch 9</th>\n",
       "      <th>...</th>\n",
       "      <th>Epoch 290</th>\n",
       "      <th>Epoch 291</th>\n",
       "      <th>Epoch 292</th>\n",
       "      <th>Epoch 293</th>\n",
       "      <th>Epoch 294</th>\n",
       "      <th>Epoch 295</th>\n",
       "      <th>Epoch 296</th>\n",
       "      <th>Epoch 297</th>\n",
       "      <th>Epoch 298</th>\n",
       "      <th>Epoch 299</th>\n",
       "    </tr>\n",
       "  </thead>\n",
       "  <tbody>\n",
       "    <tr>\n",
       "      <th>0</th>\n",
       "      <td>841.733643</td>\n",
       "      <td>721.626953</td>\n",
       "      <td>602.04834</td>\n",
       "      <td>483.306183</td>\n",
       "      <td>365.789673</td>\n",
       "      <td>250.307663</td>\n",
       "      <td>137.504059</td>\n",
       "      <td>28.103294</td>\n",
       "      <td>-77.536491</td>\n",
       "      <td>-178.99942</td>\n",
       "      <td>...</td>\n",
       "      <td>-1638.181641</td>\n",
       "      <td>-1638.277588</td>\n",
       "      <td>-1638.369263</td>\n",
       "      <td>-1638.46167</td>\n",
       "      <td>-1638.557861</td>\n",
       "      <td>-1638.657104</td>\n",
       "      <td>-1638.762939</td>\n",
       "      <td>-1638.872925</td>\n",
       "      <td>-1638.98938</td>\n",
       "      <td>-1639.114502</td>\n",
       "    </tr>\n",
       "  </tbody>\n",
       "</table>\n",
       "<p>1 rows × 300 columns</p>\n",
       "</div>"
      ],
      "text/plain": [
       "      Epoch 0     Epoch 1    Epoch 2     Epoch 3     Epoch 4     Epoch 5   \n",
       "0  841.733643  721.626953  602.04834  483.306183  365.789673  250.307663  \\\n",
       "\n",
       "      Epoch 6    Epoch 7    Epoch 8    Epoch 9  ...    Epoch 290    Epoch 291   \n",
       "0  137.504059  28.103294 -77.536491 -178.99942  ... -1638.181641 -1638.277588  \\\n",
       "\n",
       "     Epoch 292   Epoch 293    Epoch 294    Epoch 295    Epoch 296   \n",
       "0 -1638.369263 -1638.46167 -1638.557861 -1638.657104 -1638.762939  \\\n",
       "\n",
       "     Epoch 297   Epoch 298    Epoch 299  \n",
       "0 -1638.872925 -1638.98938 -1639.114502  \n",
       "\n",
       "[1 rows x 300 columns]"
      ]
     },
     "execution_count": 52,
     "metadata": {},
     "output_type": "execute_result"
    }
   ],
   "source": [
    "losses_gnn_subnet = pd.read_csv(\"../GNNSubNet/saved_values/loss_values_gnn-subnet.csv\")\n",
    "losses_gnn_subnet"
   ]
  },
  {
   "cell_type": "code",
   "execution_count": 53,
   "metadata": {},
   "outputs": [
    {
     "data": {
      "image/png": "[encoded data removed]",
      "text/plain": [
       "<Figure size 640x480 with 1 Axes>"
      ]
     },
     "metadata": {},
     "output_type": "display_data"
    }
   ],
   "source": [
    "import matplotlib.pyplot as plt\n",
    "\n",
    "plt.plot(losses_gnn_subnet.iloc[0].values)\n",
    "plt.ylabel('Loss function value')\n",
    "plt.xlabel('Epoch')\n",
    "\n",
    "plt.show()"
   ]
  },
  {
   "cell_type": "markdown",
   "metadata": {},
   "source": [
    "## RQ2: How can multiple local explanations be aggregated to obtain a global explanation?\n",
    "\n",
    "To verify the correctness of the mask aggregation, we use both methods in the task of disease subnetwork detection and obtain the accuracy of the two explainers."
   ]
  },
  {
   "cell_type": "code",
   "execution_count": 6,
   "metadata": {},
   "outputs": [
    {
     "data": {
      "text/plain": [
       "[-3.0346899557500002,\n",
       " -0.5078569104999999,\n",
       " 6.0254092785,\n",
       " -0.3570356859999999,\n",
       " -0.1517176115,\n",
       " -2.2598742017200006,\n",
       " 6.036233232,\n",
       " -2.2528973422000003,\n",
       " -0.6884245924999999,\n",
       " -2.8732688249000002,\n",
       " -2.3612033642999997,\n",
       " -2.5944220288500004,\n",
       " -2.6588298639229997,\n",
       " -2.7130762876999994,\n",
       " 0.1748628175000001,\n",
       " -2.5913167479499997,\n",
       " -0.05771814000000001,\n",
       " -2.34047323846,\n",
       " -3.875944284395,\n",
       " 0.18429285500000006,\n",
       " -0.7798533915,\n",
       " -2.26924792726,\n",
       " -2.810678845615,\n",
       " -2.3942571201750003,\n",
       " -2.21588612475,\n",
       " -2.60803866305,\n",
       " -0.7724600359999999,\n",
       " -2.5150072153200003,\n",
       " -2.6827661701500007,\n",
       " -2.7635420563000004]"
      ]
     },
     "execution_count": 6,
     "metadata": {},
     "output_type": "execute_result"
    }
   ],
   "source": [
    "node_mask = exp.aggregate_masks_from_file(\"GNNSubNet/saved_values/node_mask_values.csv\", np.mean)\n",
    "node_mask"
   ]
  },
  {
   "cell_type": "code",
   "execution_count": 7,
   "metadata": {},
   "outputs": [],
   "source": [
    "def min_max(arr):\n",
    "\n",
    "    new_arr = []\n",
    "\n",
    "    minimum = min(arr)\n",
    "    maximum = max(arr)\n",
    "\n",
    "    for entry in arr:\n",
    "        new_entry = (entry - minimum) / (maximum - minimum)\n",
    "        new_arr.append(new_entry)\n",
    "\n",
    "    return new_arr"
   ]
  },
  {
   "cell_type": "code",
   "execution_count": 9,
   "metadata": {},
   "outputs": [
    {
     "data": {
      "text/plain": [
       "[0.035974299210022154,\n",
       " 0.07889420226356529,\n",
       " 1.0,\n",
       " 0.0,\n",
       " 0.8892814176094395,\n",
       " 0.09026474137513367,\n",
       " 0.997877620760268,\n",
       " 0.11195174744929895,\n",
       " 0.107592133944588,\n",
       " 0.15309546215707565,\n",
       " 0.9453786135029406,\n",
       " 0.0489842050314305,\n",
       " 0.12388481966659093,\n",
       " 0.1333719748174486,\n",
       " 0.21917977037015654,\n",
       " 0.03134143985569093,\n",
       " 0.17246155852163408,\n",
       " 0.11543876624820153,\n",
       " 0.1790915007245188,\n",
       " 0.059785816152258385,\n",
       " 0.11236983563808722,\n",
       " 0.1377337922090863,\n",
       " 0.0032581397221678977,\n",
       " 0.107772130086702,\n",
       " 0.03854811397679437,\n",
       " 0.11220656735904003,\n",
       " 0.1135562132612501,\n",
       " 0.20881727468715555,\n",
       " 0.13926957623337008,\n",
       " 0.000688732729249131]"
      ]
     },
     "execution_count": 9,
     "metadata": {},
     "output_type": "execute_result"
    }
   ],
   "source": [
    "minmax_gnnsubnet = min_max([tensor.item() for tensor in node_mask_gnn_subnet])\n",
    "minmax_gnnsubnet"
   ]
  },
  {
   "cell_type": "code",
   "execution_count": 10,
   "metadata": {},
   "outputs": [
    {
     "data": {
      "text/plain": [
       "[0.08487078921392835,\n",
       " 0.3397928828780655,\n",
       " 0.9989080145626835,\n",
       " 0.3550086338319339,\n",
       " 0.37572235431972767,\n",
       " 0.1630388559932444,\n",
       " 1.0,\n",
       " 0.16374272348436436,\n",
       " 0.32157613063555,\n",
       " 0.10115592238300299,\n",
       " 0.15281616149323188,\n",
       " 0.12928766191135385,\n",
       " 0.12278981267827997,\n",
       " 0.11731710764578084,\n",
       " 0.40866974942638584,\n",
       " 0.12960094129874017,\n",
       " 0.3852055855617552,\n",
       " 0.15490754109228683,\n",
       " 0.0,\n",
       " 0.4096211082458181,\n",
       " 0.31235224427467984,\n",
       " 0.1620931782625445,\n",
       " 0.10747037540621354,\n",
       " 0.14948150008101152,\n",
       " 0.16747663738862836,\n",
       " 0.1279139340722915,\n",
       " 0.3130981303817205,\n",
       " 0.13729950526248894,\n",
       " 0.12037497434559175,\n",
       " 0.11222581781400277]"
      ]
     },
     "execution_count": 10,
     "metadata": {},
     "output_type": "execute_result"
    }
   ],
   "source": [
    "minmax_new_alg = min_max(node_mask)\n",
    "minmax_new_alg"
   ]
  },
  {
   "cell_type": "code",
   "execution_count": 14,
   "metadata": {},
   "outputs": [
    {
     "data": {
      "text/plain": [
       "array([0.04889649, 0.26089868, 0.00109199, 0.35500863, 0.51355906,\n",
       "       0.07277411, 0.00212238, 0.05179098, 0.213984  , 0.05193954,\n",
       "       0.79256245, 0.08030346, 0.00109501, 0.01605487, 0.18948998,\n",
       "       0.0982595 , 0.21274403, 0.03946877, 0.1790915 , 0.34983529,\n",
       "       0.19998241, 0.02435939, 0.10421224, 0.04170937, 0.12892852,\n",
       "       0.01570737, 0.19954192, 0.07151777, 0.0188946 , 0.11153709])"
      ]
     },
     "execution_count": 14,
     "metadata": {},
     "output_type": "execute_result"
    }
   ],
   "source": [
    "abs(np.subtract(minmax_gnnsubnet, minmax_new_alg))"
   ]
  },
  {
   "cell_type": "markdown",
   "metadata": {},
   "source": [
    "## Disease Subnetwork Detection\n",
    "\n",
    "The following code cells run both GNN-SubNet and the modified algorithm to detect disease subnetworks, then compares the obtained modules and the module importances. The algorithms are run on the TCGA data."
   ]
  },
  {
   "cell_type": "code",
   "execution_count": 1,
   "metadata": {},
   "outputs": [
    {
     "name": "stdout",
     "output_type": "stream",
     "text": [
      "Graph is connected  False\n",
      "Calculate subgraph ...\n",
      "Number of subgraphs:  118\n",
      "Size of subgraph:  2049\n",
      "Graph is connected  True\n",
      "##################\n",
      "# DATASET LOADED #\n",
      "##################\n",
      "graphcnn for training ...\n",
      "Graphs class 0: 200, Graphs class 1: 306\n",
      "Length of balanced dataset list: 400\n",
      "Train graph class 0: 159, train graph class 1: 161\n",
      "Validation graph class 0: 41, validation graph class 1: 39\n"
     ]
    },
    {
     "name": "stderr",
     "output_type": "stream",
     "text": [
      "  0%|          | 0/35 [00:00<?, ?batch/s]C:\\Users\\elena\\DELFT\\assignments\\RP\\GNN-SubNet_modified\\GNNSubNet\\graphcnn.py:134: UserWarning: torch.sparse.SparseTensor(indices, values, shape, *, device=) is deprecated.  Please use torch.sparse_coo_tensor(indices, values, shape, dtype=, device=). (Triggered internally at C:\\actions-runner\\_work\\pytorch\\pytorch\\builder\\windows\\pytorch\\torch\\csrc\\utils\\tensor_new.cpp:623.)\n",
      "  graph_pool = torch.sparse.FloatTensor(idx, elem, torch.Size([len(batch_graph), start_idx[-1]]))\n",
      "100%|██████████| 35/35 [00:04<00:00,  7.32batch/s]\n"
     ]
    },
    {
     "name": "stdout",
     "output_type": "stream",
     "text": [
      "Epoch 0, loss 227.9876\n",
      "Train Acc 0.5031\n",
      "Epoch 0, val_loss 34.8610\n",
      "Saving best model with validation loss 34.8609504699707\n"
     ]
    },
    {
     "name": "stderr",
     "output_type": "stream",
     "text": [
      " 91%|█████████▏| 32/35 [00:04<00:00,  7.81batch/s]\n"
     ]
    },
    {
     "ename": "KeyboardInterrupt",
     "evalue": "",
     "output_type": "error",
     "traceback": [
      "\u001B[1;31m---------------------------------------------------------------------------\u001B[0m",
      "\u001B[1;31mKeyboardInterrupt\u001B[0m                         Traceback (most recent call last)",
      "Cell \u001B[1;32mIn[1], line 18\u001B[0m\n\u001B[0;32m     15\u001B[0m g \u001B[38;5;241m=\u001B[39m gnn\u001B[38;5;241m.\u001B[39mGNNSubNet(loc, ppi, feats, targ)\n\u001B[0;32m     17\u001B[0m \u001B[38;5;66;03m# Train the GNN classifier and validate performance on a test set\u001B[39;00m\n\u001B[1;32m---> 18\u001B[0m \u001B[43mg\u001B[49m\u001B[38;5;241;43m.\u001B[39;49m\u001B[43mtrain\u001B[49m\u001B[43m(\u001B[49m\u001B[43m)\u001B[49m\n",
      "File \u001B[1;32m~\\DELFT\\assignments\\RP\\GNN-SubNet_modified\\GNNSubNet\\GNNSubNet.py:117\u001B[0m, in \u001B[0;36mGNNSubNet.train\u001B[1;34m(self, epoch_nr, method, learning_rate)\u001B[0m\n\u001B[0;32m    115\u001B[0m \u001B[38;5;28;01mif\u001B[39;00m method\u001B[38;5;241m==\u001B[39m\u001B[38;5;124m\"\u001B[39m\u001B[38;5;124mgraphcnn\u001B[39m\u001B[38;5;124m\"\u001B[39m:\n\u001B[0;32m    116\u001B[0m     \u001B[38;5;28mprint\u001B[39m(\u001B[38;5;124m\"\u001B[39m\u001B[38;5;124mgraphcnn for training ...\u001B[39m\u001B[38;5;124m\"\u001B[39m)\n\u001B[1;32m--> 117\u001B[0m     \u001B[38;5;28;43mself\u001B[39;49m\u001B[38;5;241;43m.\u001B[39;49m\u001B[43mtrain_graphcnn\u001B[49m\u001B[43m(\u001B[49m\u001B[43mepoch_nr\u001B[49m\u001B[43m \u001B[49m\u001B[38;5;241;43m=\u001B[39;49m\u001B[43m \u001B[49m\u001B[43mepoch_nr\u001B[49m\u001B[43m,\u001B[49m\u001B[43m \u001B[49m\u001B[43mlearning_rate\u001B[49m\u001B[38;5;241;43m=\u001B[39;49m\u001B[43mlearning_rate\u001B[49m\u001B[43m)\u001B[49m\n\u001B[0;32m    118\u001B[0m     \u001B[38;5;28mself\u001B[39m\u001B[38;5;241m.\u001B[39mclassifier\u001B[38;5;241m=\u001B[39m\u001B[38;5;124m\"\u001B[39m\u001B[38;5;124mgraphcnn\u001B[39m\u001B[38;5;124m\"\u001B[39m\n\u001B[0;32m    120\u001B[0m \u001B[38;5;28;01mif\u001B[39;00m method\u001B[38;5;241m==\u001B[39m\u001B[38;5;124m\"\u001B[39m\u001B[38;5;124mgraphcheb\u001B[39m\u001B[38;5;124m\"\u001B[39m:\n",
      "File \u001B[1;32m~\\DELFT\\assignments\\RP\\GNN-SubNet_modified\\GNNSubNet\\GNNSubNet.py:979\u001B[0m, in \u001B[0;36mGNNSubNet.train_graphcnn\u001B[1;34m(self, num_layers, num_mlp_layers, epoch_nr, shuffle, weights, graph_pooling_type, neighbor_pooling_type, learning_rate)\u001B[0m\n\u001B[0;32m    976\u001B[0m     loss \u001B[38;5;241m=\u001B[39m nn\u001B[38;5;241m.\u001B[39mCrossEntropyLoss()(logits,labels)\n\u001B[0;32m    978\u001B[0m opt\u001B[38;5;241m.\u001B[39mzero_grad()\n\u001B[1;32m--> 979\u001B[0m \u001B[43mloss\u001B[49m\u001B[38;5;241;43m.\u001B[39;49m\u001B[43mbackward\u001B[49m\u001B[43m(\u001B[49m\u001B[43m)\u001B[49m\n\u001B[0;32m    980\u001B[0m opt\u001B[38;5;241m.\u001B[39mstep()\n\u001B[0;32m    982\u001B[0m epoch_loss \u001B[38;5;241m+\u001B[39m\u001B[38;5;241m=\u001B[39m loss\u001B[38;5;241m.\u001B[39mdetach()\u001B[38;5;241m.\u001B[39mitem()\n",
      "File \u001B[1;32m~\\AppData\\Local\\Programs\\Python\\Python39\\lib\\site-packages\\torch\\_tensor.py:525\u001B[0m, in \u001B[0;36mTensor.backward\u001B[1;34m(self, gradient, retain_graph, create_graph, inputs)\u001B[0m\n\u001B[0;32m    515\u001B[0m \u001B[38;5;28;01mif\u001B[39;00m has_torch_function_unary(\u001B[38;5;28mself\u001B[39m):\n\u001B[0;32m    516\u001B[0m     \u001B[38;5;28;01mreturn\u001B[39;00m handle_torch_function(\n\u001B[0;32m    517\u001B[0m         Tensor\u001B[38;5;241m.\u001B[39mbackward,\n\u001B[0;32m    518\u001B[0m         (\u001B[38;5;28mself\u001B[39m,),\n\u001B[1;32m   (...)\u001B[0m\n\u001B[0;32m    523\u001B[0m         inputs\u001B[38;5;241m=\u001B[39minputs,\n\u001B[0;32m    524\u001B[0m     )\n\u001B[1;32m--> 525\u001B[0m \u001B[43mtorch\u001B[49m\u001B[38;5;241;43m.\u001B[39;49m\u001B[43mautograd\u001B[49m\u001B[38;5;241;43m.\u001B[39;49m\u001B[43mbackward\u001B[49m\u001B[43m(\u001B[49m\n\u001B[0;32m    526\u001B[0m \u001B[43m    \u001B[49m\u001B[38;5;28;43mself\u001B[39;49m\u001B[43m,\u001B[49m\u001B[43m \u001B[49m\u001B[43mgradient\u001B[49m\u001B[43m,\u001B[49m\u001B[43m \u001B[49m\u001B[43mretain_graph\u001B[49m\u001B[43m,\u001B[49m\u001B[43m \u001B[49m\u001B[43mcreate_graph\u001B[49m\u001B[43m,\u001B[49m\u001B[43m \u001B[49m\u001B[43minputs\u001B[49m\u001B[38;5;241;43m=\u001B[39;49m\u001B[43minputs\u001B[49m\n\u001B[0;32m    527\u001B[0m \u001B[43m\u001B[49m\u001B[43m)\u001B[49m\n",
      "File \u001B[1;32m~\\AppData\\Local\\Programs\\Python\\Python39\\lib\\site-packages\\torch\\autograd\\__init__.py:267\u001B[0m, in \u001B[0;36mbackward\u001B[1;34m(tensors, grad_tensors, retain_graph, create_graph, grad_variables, inputs)\u001B[0m\n\u001B[0;32m    262\u001B[0m     retain_graph \u001B[38;5;241m=\u001B[39m create_graph\n\u001B[0;32m    264\u001B[0m \u001B[38;5;66;03m# The reason we repeat the same comment below is that\u001B[39;00m\n\u001B[0;32m    265\u001B[0m \u001B[38;5;66;03m# some Python versions print out the first line of a multi-line function\u001B[39;00m\n\u001B[0;32m    266\u001B[0m \u001B[38;5;66;03m# calls in the traceback and some print out the last line\u001B[39;00m\n\u001B[1;32m--> 267\u001B[0m \u001B[43m_engine_run_backward\u001B[49m\u001B[43m(\u001B[49m\n\u001B[0;32m    268\u001B[0m \u001B[43m    \u001B[49m\u001B[43mtensors\u001B[49m\u001B[43m,\u001B[49m\n\u001B[0;32m    269\u001B[0m \u001B[43m    \u001B[49m\u001B[43mgrad_tensors_\u001B[49m\u001B[43m,\u001B[49m\n\u001B[0;32m    270\u001B[0m \u001B[43m    \u001B[49m\u001B[43mretain_graph\u001B[49m\u001B[43m,\u001B[49m\n\u001B[0;32m    271\u001B[0m \u001B[43m    \u001B[49m\u001B[43mcreate_graph\u001B[49m\u001B[43m,\u001B[49m\n\u001B[0;32m    272\u001B[0m \u001B[43m    \u001B[49m\u001B[43minputs\u001B[49m\u001B[43m,\u001B[49m\n\u001B[0;32m    273\u001B[0m \u001B[43m    \u001B[49m\u001B[43mallow_unreachable\u001B[49m\u001B[38;5;241;43m=\u001B[39;49m\u001B[38;5;28;43;01mTrue\u001B[39;49;00m\u001B[43m,\u001B[49m\n\u001B[0;32m    274\u001B[0m \u001B[43m    \u001B[49m\u001B[43maccumulate_grad\u001B[49m\u001B[38;5;241;43m=\u001B[39;49m\u001B[38;5;28;43;01mTrue\u001B[39;49;00m\u001B[43m,\u001B[49m\n\u001B[0;32m    275\u001B[0m \u001B[43m\u001B[49m\u001B[43m)\u001B[49m\n",
      "File \u001B[1;32m~\\AppData\\Local\\Programs\\Python\\Python39\\lib\\site-packages\\torch\\autograd\\graph.py:744\u001B[0m, in \u001B[0;36m_engine_run_backward\u001B[1;34m(t_outputs, *args, **kwargs)\u001B[0m\n\u001B[0;32m    742\u001B[0m     unregister_hooks \u001B[38;5;241m=\u001B[39m _register_logging_hooks_on_whole_graph(t_outputs)\n\u001B[0;32m    743\u001B[0m \u001B[38;5;28;01mtry\u001B[39;00m:\n\u001B[1;32m--> 744\u001B[0m     \u001B[38;5;28;01mreturn\u001B[39;00m Variable\u001B[38;5;241m.\u001B[39m_execution_engine\u001B[38;5;241m.\u001B[39mrun_backward(  \u001B[38;5;66;03m# Calls into the C++ engine to run the backward pass\u001B[39;00m\n\u001B[0;32m    745\u001B[0m         t_outputs, \u001B[38;5;241m*\u001B[39margs, \u001B[38;5;241m*\u001B[39m\u001B[38;5;241m*\u001B[39mkwargs\n\u001B[0;32m    746\u001B[0m     )  \u001B[38;5;66;03m# Calls into the C++ engine to run the backward pass\u001B[39;00m\n\u001B[0;32m    747\u001B[0m \u001B[38;5;28;01mfinally\u001B[39;00m:\n\u001B[0;32m    748\u001B[0m     \u001B[38;5;28;01mif\u001B[39;00m attach_logging_hooks:\n",
      "\u001B[1;31mKeyboardInterrupt\u001B[0m: "
     ]
    }
   ],
   "source": [
    "from GNNSubNet import GNNSubNet as gnn\n",
    "\n",
    "# location of the files\n",
    "loc   = \"../TCGA\"\n",
    "# PPI network\n",
    "ppi   = f'{loc}/KIDNEY_RANDOM_PPI.txt'\n",
    "# single-omic features\n",
    "#feats = [f'{loc}/KIDNEY_RANDOM_Methy_FEATURES.txt']\n",
    "# multi-omic features\n",
    "feats = [f'{loc}/KIDNEY_RANDOM_mRNA_FEATURES.txt', f'{loc}/KIDNEY_RANDOM_Methy_FEATURES.txt']\n",
    "# outcome class\n",
    "targ  = f'{loc}/KIDNEY_RANDOM_TARGET.txt'\n",
    "\n",
    "# Load the multi-omics data\n",
    "g = gnn.GNNSubNet(loc, ppi, feats, targ)\n",
    "\n",
    "# Train the GNN classifier and validate performance on a test set\n",
    "g.train()"
   ]
  },
  {
   "cell_type": "code",
   "execution_count": 3,
   "metadata": {},
   "outputs": [
    {
     "data": {
      "text/plain": [
       "80"
      ]
     },
     "execution_count": 3,
     "metadata": {},
     "output_type": "execute_result"
    }
   ],
   "source": [
    "len(g.s2v_test_dataset)"
   ]
  },
  {
   "cell_type": "code",
   "execution_count": 27,
   "metadata": {},
   "outputs": [
    {
     "name": "stdout",
     "output_type": "stream",
     "text": [
      "Graph is connected  False\n",
      "Calculate subgraph ...\n",
      "Number of subgraphs:  118\n",
      "Size of subgraph:  2049\n",
      "Graph is connected  True\n",
      "##################\n",
      "# DATASET LOADED #\n",
      "##################\n"
     ]
    }
   ],
   "source": [
    "from GNNSubNet import GNNSubNet as gnn\n",
    "import numpy as np\n",
    "import pandas as pd\n",
    "import csv\n",
    "\n",
    "# location of the files\n",
    "loc   = \"../TCGA\"\n",
    "# PPI network\n",
    "ppi   = f'{loc}/KIDNEY_RANDOM_PPI.txt'\n",
    "# single-omic features\n",
    "#feats = [f'{loc}/KIDNEY_RANDOM_Methy_FEATURES.txt']\n",
    "# multi-omic features\n",
    "feats = [f'{loc}/KIDNEY_RANDOM_mRNA_FEATURES.txt', f'{loc}/KIDNEY_RANDOM_Methy_FEATURES.txt']\n",
    "# outcome class\n",
    "targ  = f'{loc}/KIDNEY_RANDOM_TARGET.txt'\n",
    "\n",
    "# Load the multi-omics data\n",
    "g = gnn.GNNSubNet(loc, ppi, feats, targ)"
   ]
  },
  {
   "cell_type": "code",
   "execution_count": 9,
   "metadata": {},
   "outputs": [],
   "source": [
    "from GNNSubNet import GNNSubNet as gnn\n",
    "import numpy as np\n",
    "import pandas as pd\n",
    "\n",
    "def read_communities(file_path):\n",
    "    communities = []\n",
    "\n",
    "    with open(file_path, 'r') as file:\n",
    "        for line in file:\n",
    "            community = [int(num) for num in line.strip().split(',') if num]\n",
    "            communities.append(community)\n",
    "\n",
    "    return communities\n",
    "\n",
    "def read_community_importances(file_path):\n",
    "    community_importances = []\n",
    "\n",
    "    with open(file_path, 'r') as file:\n",
    "        for line in file:\n",
    "          community_importances.append(float(line.strip()))\n",
    "\n",
    "    return community_importances"
   ]
  },
  {
   "cell_type": "code",
   "execution_count": null,
   "metadata": {
    "pycharm": {
     "is_executing": true
    }
   },
   "outputs": [],
   "source": [
    "def obtain_most_relevant_subnetworks(no_of_iterations=10, gnn_subnet=False, quantile_aggregation=False, quantile=0.5):\n",
    "\n",
    "    # location of the files\n",
    "    loc   = \"../TCGA\"\n",
    "    # PPI network\n",
    "    ppi   = f'{loc}/KIDNEY_RANDOM_PPI.txt'\n",
    "    # multi-omic features\n",
    "    feats = [f'{loc}/KIDNEY_RANDOM_mRNA_FEATURES.txt', f'{loc}/KIDNEY_RANDOM_Methy_FEATURES.txt']\n",
    "    # outcome class\n",
    "    targ  = f'{loc}/KIDNEY_RANDOM_TARGET.txt'\n",
    "\n",
    "    g = gnn.GNNSubNet(loc, ppi, feats, targ)\n",
    "\n",
    "    for i in range(5, no_of_iterations):\n",
    "\n",
    "        g.train()\n",
    "\n",
    "        # Run GNN-SubNet with 10 iterations\n",
    "        g.explain(10, gnn_subnet=gnn_subnet, quantile_aggregation=quantile_aggregation, quantile=quantile)\n",
    "\n",
    "        if(gnn_subnet):\n",
    "            community_file = \"../TCGA/communities_gnn_subnet.txt\"\n",
    "            community_importance_file = \"../TCGA/communities_scores_gnn_subnet.txt\"\n",
    "        else:\n",
    "            community_file = \"../TCGA/communities.txt\"\n",
    "            community_importance_file = \"../TCGA/communities_scores.txt\"\n",
    "\n",
    "        communities = read_communities(community_file)\n",
    "        community_importances = read_community_importances(community_importance_file)\n",
    "\n",
    "        sorted_indices = np.argsort(community_importances)[::-1]\n",
    "\n",
    "        sorted_communities = []\n",
    "\n",
    "        for index in sorted_indices:\n",
    "          sorted_communities.append(communities[index])\n",
    "\n",
    "        # The gene names of the community ranked highest by the algorithm\n",
    "        most_important_subnetwork = g.gene_names[sorted_communities[0]]\n",
    "\n",
    "        entry_dict = {\n",
    "            'Iteration':[i],\n",
    "            'Model Accuracy':[g.accuracy],\n",
    "            'Final Subnetwork':[most_important_subnetwork]\n",
    "        }\n",
    "\n",
    "        df_entry = pd.DataFrame(entry_dict)\n",
    "\n",
    "        if gnn_subnet:\n",
    "            path_to_save_to = \"subnetworks/subnetworks_gnn_subnet.csv\"\n",
    "        else:\n",
    "            if quantile_aggregation:\n",
    "                path_to_save_to = \"subnetworks/subnetworks_modified_alg_q05.csv\"\n",
    "            else:\n",
    "                path_to_save_to = \"subnetworks/subnetworks_modified_alg_mean.csv\"\n",
    "\n",
    "        df_entry.to_csv(path_to_save_to, mode='a', index=False, header=False)"
   ]
  },
  {
   "cell_type": "code",
   "execution_count": null,
   "metadata": {
    "pycharm": {
     "is_executing": true
    }
   },
   "outputs": [
    {
     "name": "stdout",
     "output_type": "stream",
     "text": [
      "Explainer::Iteration 5 of 10\n",
      "Explainer::Iteration 6 of 10\n",
      "Explainer::Iteration 7 of 10\n",
      "Explainer::Iteration 8 of 10\n",
      "Explainer::Iteration 9 of 10\n",
      "Explainer::Iteration 10 of 10\n",
      "graphcnn for training ...\n",
      "Graphs class 0: 200, Graphs class 1: 306\n",
      "Length of balanced dataset list: 400\n",
      "Train graph class 0: 157, train graph class 1: 163\n",
      "Validation graph class 0: 43, validation graph class 1: 37\n"
     ]
    },
    {
     "name": "stderr",
     "output_type": "stream",
     "text": [
      "100%|██████████| 35/35 [00:04<00:00,  7.70batch/s]\n"
     ]
    },
    {
     "name": "stdout",
     "output_type": "stream",
     "text": [
      "Epoch 0, loss 124.4750\n",
      "Train Acc 0.4875\n",
      "Epoch 0, val_loss 58.5268\n",
      "Saving best model with validation loss 58.52680587768555\n"
     ]
    },
    {
     "name": "stderr",
     "output_type": "stream",
     "text": [
      "100%|██████████| 35/35 [00:04<00:00,  7.45batch/s]\n"
     ]
    },
    {
     "name": "stdout",
     "output_type": "stream",
     "text": [
      "Epoch 1, loss 26.1999\n",
      "Train Acc 0.4906\n",
      "Epoch 1, val_loss 62.2087\n"
     ]
    },
    {
     "name": "stderr",
     "output_type": "stream",
     "text": [
      "100%|██████████| 35/35 [00:09<00:00,  3.54batch/s]\n"
     ]
    },
    {
     "name": "stdout",
     "output_type": "stream",
     "text": [
      "Epoch 2, loss 22.8028\n",
      "Train Acc 0.7438\n",
      "Epoch 2, val_loss 6.8886\n",
      "Saving best model with validation loss 6.888577461242676\n"
     ]
    },
    {
     "name": "stderr",
     "output_type": "stream",
     "text": [
      "100%|██████████| 35/35 [00:08<00:00,  3.98batch/s]\n"
     ]
    },
    {
     "name": "stdout",
     "output_type": "stream",
     "text": [
      "Epoch 3, loss 18.2533\n",
      "Train Acc 0.7406\n",
      "Epoch 3, val_loss 6.7288\n",
      "Saving best model with validation loss 6.728846549987793\n"
     ]
    },
    {
     "name": "stderr",
     "output_type": "stream",
     "text": [
      "100%|██████████| 35/35 [00:10<00:00,  3.35batch/s]\n"
     ]
    },
    {
     "name": "stdout",
     "output_type": "stream",
     "text": [
      "Epoch 4, loss 20.0618\n",
      "Train Acc 0.6937\n",
      "Epoch 4, val_loss 13.1424\n"
     ]
    },
    {
     "name": "stderr",
     "output_type": "stream",
     "text": [
      "100%|██████████| 35/35 [00:12<00:00,  2.82batch/s]\n"
     ]
    },
    {
     "name": "stdout",
     "output_type": "stream",
     "text": [
      "Epoch 5, loss 13.8039\n",
      "Train Acc 0.7812\n",
      "Epoch 5, val_loss 2.5447\n",
      "Saving best model with validation loss 2.544734477996826\n"
     ]
    },
    {
     "name": "stderr",
     "output_type": "stream",
     "text": [
      "100%|██████████| 35/35 [00:12<00:00,  2.71batch/s]\n"
     ]
    },
    {
     "name": "stdout",
     "output_type": "stream",
     "text": [
      "Epoch 6, loss 15.3920\n",
      "Train Acc 0.6813\n",
      "Epoch 6, val_loss 13.0817\n"
     ]
    },
    {
     "name": "stderr",
     "output_type": "stream",
     "text": [
      "100%|██████████| 35/35 [00:12<00:00,  2.81batch/s]\n"
     ]
    },
    {
     "name": "stdout",
     "output_type": "stream",
     "text": [
      "Epoch 7, loss 17.0753\n",
      "Train Acc 0.5938\n",
      "Epoch 7, val_loss 25.9555\n"
     ]
    },
    {
     "name": "stderr",
     "output_type": "stream",
     "text": [
      "100%|██████████| 35/35 [00:13<00:00,  2.58batch/s]\n"
     ]
    },
    {
     "name": "stdout",
     "output_type": "stream",
     "text": [
      "Epoch 8, loss 14.8178\n",
      "Train Acc 0.5281\n",
      "Epoch 8, val_loss 9.8346\n"
     ]
    },
    {
     "name": "stderr",
     "output_type": "stream",
     "text": [
      "100%|██████████| 35/35 [00:11<00:00,  3.15batch/s]\n"
     ]
    },
    {
     "name": "stdout",
     "output_type": "stream",
     "text": [
      "Epoch 9, loss 15.8687\n",
      "Train Acc 0.8031\n",
      "Epoch 9, val_loss 2.4726\n",
      "Saving best model with validation loss 2.4725840091705322\n"
     ]
    },
    {
     "name": "stderr",
     "output_type": "stream",
     "text": [
      "100%|██████████| 35/35 [00:13<00:00,  2.61batch/s]\n"
     ]
    },
    {
     "name": "stdout",
     "output_type": "stream",
     "text": [
      "Epoch 10, loss 12.9413\n",
      "Train Acc 0.5094\n",
      "Epoch 10, val_loss 9.6756\n"
     ]
    },
    {
     "name": "stderr",
     "output_type": "stream",
     "text": [
      "100%|██████████| 35/35 [00:13<00:00,  2.60batch/s]\n"
     ]
    },
    {
     "name": "stdout",
     "output_type": "stream",
     "text": [
      "Epoch 11, loss 12.0458\n",
      "Train Acc 0.4938\n",
      "Epoch 11, val_loss 13.3967\n"
     ]
    },
    {
     "name": "stderr",
     "output_type": "stream",
     "text": [
      "100%|██████████| 35/35 [00:14<00:00,  2.49batch/s]\n"
     ]
    },
    {
     "name": "stdout",
     "output_type": "stream",
     "text": [
      "Epoch 12, loss 12.6021\n",
      "Train Acc 0.6750\n",
      "Epoch 12, val_loss 3.1774\n"
     ]
    },
    {
     "name": "stderr",
     "output_type": "stream",
     "text": [
      "100%|██████████| 35/35 [00:13<00:00,  2.55batch/s]\n"
     ]
    },
    {
     "name": "stdout",
     "output_type": "stream",
     "text": [
      "Epoch 13, loss 18.2714\n",
      "Train Acc 0.7719\n",
      "Epoch 13, val_loss 14.3962\n"
     ]
    },
    {
     "name": "stderr",
     "output_type": "stream",
     "text": [
      "100%|██████████| 35/35 [00:13<00:00,  2.61batch/s]\n"
     ]
    },
    {
     "name": "stdout",
     "output_type": "stream",
     "text": [
      "Epoch 14, loss 13.8490\n",
      "Train Acc 0.6469\n",
      "Epoch 14, val_loss 3.3882\n"
     ]
    },
    {
     "name": "stderr",
     "output_type": "stream",
     "text": [
      "100%|██████████| 35/35 [00:13<00:00,  2.55batch/s]\n"
     ]
    },
    {
     "name": "stdout",
     "output_type": "stream",
     "text": [
      "Epoch 15, loss 10.0862\n",
      "Train Acc 0.6937\n",
      "Epoch 15, val_loss 3.4762\n"
     ]
    },
    {
     "name": "stderr",
     "output_type": "stream",
     "text": [
      "100%|██████████| 35/35 [00:13<00:00,  2.63batch/s]\n"
     ]
    },
    {
     "name": "stdout",
     "output_type": "stream",
     "text": [
      "Epoch 16, loss 10.8766\n",
      "Train Acc 0.7125\n",
      "Epoch 16, val_loss 9.4151\n"
     ]
    },
    {
     "name": "stderr",
     "output_type": "stream",
     "text": [
      "100%|██████████| 35/35 [00:11<00:00,  2.92batch/s]\n"
     ]
    },
    {
     "name": "stdout",
     "output_type": "stream",
     "text": [
      "Epoch 17, loss 11.8573\n",
      "Train Acc 0.8344\n",
      "Epoch 17, val_loss 4.0536\n"
     ]
    },
    {
     "name": "stderr",
     "output_type": "stream",
     "text": [
      "100%|██████████| 35/35 [00:12<00:00,  2.83batch/s]\n"
     ]
    },
    {
     "name": "stdout",
     "output_type": "stream",
     "text": [
      "Epoch 18, loss 10.4259\n",
      "Train Acc 0.8375\n",
      "Epoch 18, val_loss 2.8251\n"
     ]
    },
    {
     "name": "stderr",
     "output_type": "stream",
     "text": [
      "100%|██████████| 35/35 [00:13<00:00,  2.66batch/s]\n"
     ]
    },
    {
     "name": "stdout",
     "output_type": "stream",
     "text": [
      "Epoch 19, loss 12.4228\n",
      "Train Acc 0.4906\n",
      "Epoch 19, val_loss 26.7583\n",
      "Early stopping!\n",
      "\n",
      "Confusion matrix (Validation set):\n",
      "\n",
      "[[33 10]\n",
      " [ 4 33]]\n",
      "Validation accuracy: 82.5%\n",
      "Validation loss 2.4725840091705322\n",
      "\n",
      "------- Run the Explainer -------\n",
      "\n",
      "GNN-SubNet: False\n",
      "Explainer::Iteration 1 of 10\n",
      "Explainer::Iteration 2 of 10\n",
      "Explainer::Iteration 3 of 10\n",
      "Explainer::Iteration 4 of 10\n",
      "Explainer::Iteration 5 of 10\n",
      "Explainer::Iteration 6 of 10\n",
      "Explainer::Iteration 7 of 10\n",
      "Explainer::Iteration 8 of 10\n",
      "Explainer::Iteration 9 of 10\n",
      "Explainer::Iteration 10 of 10\n",
      "graphcnn for training ...\n",
      "Graphs class 0: 200, Graphs class 1: 306\n",
      "Length of balanced dataset list: 400\n",
      "Train graph class 0: 156, train graph class 1: 164\n",
      "Validation graph class 0: 44, validation graph class 1: 36\n"
     ]
    },
    {
     "name": "stderr",
     "output_type": "stream",
     "text": [
      "100%|██████████| 35/35 [00:05<00:00,  6.93batch/s]\n"
     ]
    },
    {
     "name": "stdout",
     "output_type": "stream",
     "text": [
      "Epoch 0, loss 294.7730\n",
      "Train Acc 0.7125\n",
      "Epoch 0, val_loss 38.1410\n",
      "Saving best model with validation loss 38.14098358154297\n"
     ]
    },
    {
     "name": "stderr",
     "output_type": "stream",
     "text": [
      "100%|██████████| 35/35 [00:06<00:00,  5.43batch/s]\n"
     ]
    },
    {
     "name": "stdout",
     "output_type": "stream",
     "text": [
      "Epoch 1, loss 56.3539\n",
      "Train Acc 0.5062\n",
      "Epoch 1, val_loss 20.4202\n",
      "Saving best model with validation loss 20.42021942138672\n"
     ]
    },
    {
     "name": "stderr",
     "output_type": "stream",
     "text": [
      "100%|██████████| 35/35 [00:13<00:00,  2.50batch/s]\n"
     ]
    },
    {
     "name": "stdout",
     "output_type": "stream",
     "text": [
      "Epoch 2, loss 20.3771\n",
      "Train Acc 0.8031\n",
      "Epoch 2, val_loss 11.1059\n",
      "Saving best model with validation loss 11.10586166381836\n"
     ]
    },
    {
     "name": "stderr",
     "output_type": "stream",
     "text": [
      "100%|██████████| 35/35 [00:13<00:00,  2.56batch/s]\n"
     ]
    },
    {
     "name": "stdout",
     "output_type": "stream",
     "text": [
      "Epoch 3, loss 10.7907\n",
      "Train Acc 0.8250\n",
      "Epoch 3, val_loss 3.6681\n",
      "Saving best model with validation loss 3.6680850982666016\n"
     ]
    },
    {
     "name": "stderr",
     "output_type": "stream",
     "text": [
      "100%|██████████| 35/35 [00:14<00:00,  2.48batch/s]\n"
     ]
    },
    {
     "name": "stdout",
     "output_type": "stream",
     "text": [
      "Epoch 4, loss 13.1922\n",
      "Train Acc 0.7031\n",
      "Epoch 4, val_loss 3.9774\n"
     ]
    },
    {
     "name": "stderr",
     "output_type": "stream",
     "text": [
      "100%|██████████| 35/35 [00:13<00:00,  2.53batch/s]\n"
     ]
    },
    {
     "name": "stdout",
     "output_type": "stream",
     "text": [
      "Epoch 5, loss 15.1121\n",
      "Train Acc 0.4875\n",
      "Epoch 5, val_loss 20.1390\n"
     ]
    },
    {
     "name": "stderr",
     "output_type": "stream",
     "text": [
      "100%|██████████| 35/35 [00:13<00:00,  2.52batch/s]\n"
     ]
    },
    {
     "name": "stdout",
     "output_type": "stream",
     "text": [
      "Epoch 6, loss 14.8683\n",
      "Train Acc 0.6656\n",
      "Epoch 6, val_loss 4.1037\n"
     ]
    },
    {
     "name": "stderr",
     "output_type": "stream",
     "text": [
      "100%|██████████| 35/35 [00:14<00:00,  2.49batch/s]\n"
     ]
    },
    {
     "name": "stdout",
     "output_type": "stream",
     "text": [
      "Epoch 7, loss 11.0630\n",
      "Train Acc 0.5594\n",
      "Epoch 7, val_loss 5.5286\n"
     ]
    },
    {
     "name": "stderr",
     "output_type": "stream",
     "text": [
      "100%|██████████| 35/35 [00:14<00:00,  2.42batch/s]\n"
     ]
    },
    {
     "name": "stdout",
     "output_type": "stream",
     "text": [
      "Epoch 8, loss 7.9850\n",
      "Train Acc 0.7281\n",
      "Epoch 8, val_loss 11.6800\n"
     ]
    },
    {
     "name": "stderr",
     "output_type": "stream",
     "text": [
      "100%|██████████| 35/35 [00:14<00:00,  2.46batch/s]\n"
     ]
    },
    {
     "name": "stdout",
     "output_type": "stream",
     "text": [
      "Epoch 9, loss 14.7283\n",
      "Train Acc 0.6000\n",
      "Epoch 9, val_loss 6.1385\n"
     ]
    },
    {
     "name": "stderr",
     "output_type": "stream",
     "text": [
      "100%|██████████| 35/35 [00:14<00:00,  2.44batch/s]\n"
     ]
    },
    {
     "name": "stdout",
     "output_type": "stream",
     "text": [
      "Epoch 10, loss 12.1901\n",
      "Train Acc 0.4875\n",
      "Epoch 10, val_loss 16.2200\n"
     ]
    },
    {
     "name": "stderr",
     "output_type": "stream",
     "text": [
      "100%|██████████| 35/35 [00:14<00:00,  2.41batch/s]\n"
     ]
    },
    {
     "name": "stdout",
     "output_type": "stream",
     "text": [
      "Epoch 11, loss 12.0367\n",
      "Train Acc 0.8281\n",
      "Epoch 11, val_loss 3.0731\n",
      "Saving best model with validation loss 3.073070764541626\n"
     ]
    },
    {
     "name": "stderr",
     "output_type": "stream",
     "text": [
      "100%|██████████| 35/35 [00:14<00:00,  2.42batch/s]\n"
     ]
    },
    {
     "name": "stdout",
     "output_type": "stream",
     "text": [
      "Epoch 12, loss 9.7469\n",
      "Train Acc 0.7594\n",
      "Epoch 12, val_loss 14.8784\n"
     ]
    },
    {
     "name": "stderr",
     "output_type": "stream",
     "text": [
      "100%|██████████| 35/35 [00:14<00:00,  2.45batch/s]\n"
     ]
    },
    {
     "name": "stdout",
     "output_type": "stream",
     "text": [
      "Epoch 13, loss 10.6713\n",
      "Train Acc 0.8375\n",
      "Epoch 13, val_loss 4.5825\n"
     ]
    },
    {
     "name": "stderr",
     "output_type": "stream",
     "text": [
      "100%|██████████| 35/35 [00:14<00:00,  2.44batch/s]\n"
     ]
    },
    {
     "name": "stdout",
     "output_type": "stream",
     "text": [
      "Epoch 14, loss 8.6870\n",
      "Train Acc 0.8313\n",
      "Epoch 14, val_loss 3.0066\n",
      "Saving best model with validation loss 3.0066347122192383\n"
     ]
    },
    {
     "name": "stderr",
     "output_type": "stream",
     "text": [
      "100%|██████████| 35/35 [00:13<00:00,  2.51batch/s]\n"
     ]
    },
    {
     "name": "stdout",
     "output_type": "stream",
     "text": [
      "Epoch 15, loss 7.7851\n",
      "Train Acc 0.8500\n",
      "Epoch 15, val_loss 5.2798\n"
     ]
    },
    {
     "name": "stderr",
     "output_type": "stream",
     "text": [
      "100%|██████████| 35/35 [00:13<00:00,  2.56batch/s]\n"
     ]
    },
    {
     "name": "stdout",
     "output_type": "stream",
     "text": [
      "Epoch 16, loss 8.2386\n",
      "Train Acc 0.5406\n",
      "Epoch 16, val_loss 19.6164\n"
     ]
    },
    {
     "name": "stderr",
     "output_type": "stream",
     "text": [
      "100%|██████████| 35/35 [00:13<00:00,  2.53batch/s]\n"
     ]
    },
    {
     "name": "stdout",
     "output_type": "stream",
     "text": [
      "Epoch 17, loss 9.2747\n",
      "Train Acc 0.8156\n",
      "Epoch 17, val_loss 2.2748\n",
      "Saving best model with validation loss 2.2748353481292725\n"
     ]
    },
    {
     "name": "stderr",
     "output_type": "stream",
     "text": [
      "100%|██████████| 35/35 [00:13<00:00,  2.64batch/s]\n"
     ]
    },
    {
     "name": "stdout",
     "output_type": "stream",
     "text": [
      "Epoch 18, loss 6.2297\n",
      "Train Acc 0.5219\n",
      "Epoch 18, val_loss 5.3274\n"
     ]
    },
    {
     "name": "stderr",
     "output_type": "stream",
     "text": [
      "100%|██████████| 35/35 [00:04<00:00,  7.75batch/s]\n"
     ]
    },
    {
     "name": "stdout",
     "output_type": "stream",
     "text": [
      "Epoch 19, loss 6.3778\n",
      "Train Acc 0.4906\n",
      "Epoch 19, val_loss 8.2679\n",
      "\n",
      "Confusion matrix (Validation set):\n",
      "\n",
      "[[31 13]\n",
      " [ 5 31]]\n",
      "Validation accuracy: 77.5%\n",
      "Validation loss 2.2748353481292725\n",
      "\n",
      "------- Run the Explainer -------\n",
      "\n",
      "GNN-SubNet: False\n",
      "Explainer::Iteration 1 of 10\n",
      "Explainer::Iteration 2 of 10\n",
      "Explainer::Iteration 3 of 10\n",
      "Explainer::Iteration 4 of 10\n",
      "Explainer::Iteration 5 of 10\n",
      "Explainer::Iteration 6 of 10\n",
      "Explainer::Iteration 7 of 10\n",
      "Explainer::Iteration 8 of 10\n",
      "Explainer::Iteration 9 of 10\n",
      "Explainer::Iteration 10 of 10\n",
      "graphcnn for training ...\n",
      "Graphs class 0: 200, Graphs class 1: 306\n",
      "Length of balanced dataset list: 400\n",
      "Train graph class 0: 158, train graph class 1: 162\n",
      "Validation graph class 0: 42, validation graph class 1: 38\n"
     ]
    },
    {
     "name": "stderr",
     "output_type": "stream",
     "text": [
      "100%|██████████| 35/35 [00:04<00:00,  7.62batch/s]\n"
     ]
    },
    {
     "name": "stdout",
     "output_type": "stream",
     "text": [
      "Epoch 0, loss 166.6354\n",
      "Train Acc 0.5062\n",
      "Epoch 0, val_loss 66.2265\n",
      "Saving best model with validation loss 66.22647094726562\n"
     ]
    },
    {
     "name": "stderr",
     "output_type": "stream",
     "text": [
      "100%|██████████| 35/35 [00:04<00:00,  7.10batch/s]\n"
     ]
    },
    {
     "name": "stdout",
     "output_type": "stream",
     "text": [
      "Epoch 1, loss 25.6844\n",
      "Train Acc 0.6687\n",
      "Epoch 1, val_loss 4.7774\n",
      "Saving best model with validation loss 4.777444362640381\n"
     ]
    },
    {
     "name": "stderr",
     "output_type": "stream",
     "text": [
      "100%|██████████| 35/35 [00:05<00:00,  6.66batch/s]\n"
     ]
    },
    {
     "name": "stdout",
     "output_type": "stream",
     "text": [
      "Epoch 2, loss 13.8409\n",
      "Train Acc 0.7688\n",
      "Epoch 2, val_loss 4.8997\n"
     ]
    },
    {
     "name": "stderr",
     "output_type": "stream",
     "text": [
      "100%|██████████| 35/35 [00:05<00:00,  6.51batch/s]\n"
     ]
    },
    {
     "name": "stdout",
     "output_type": "stream",
     "text": [
      "Epoch 3, loss 12.6643\n",
      "Train Acc 0.7562\n",
      "Epoch 3, val_loss 2.7277\n",
      "Saving best model with validation loss 2.7276787757873535\n"
     ]
    },
    {
     "name": "stderr",
     "output_type": "stream",
     "text": [
      "100%|██████████| 35/35 [00:05<00:00,  6.53batch/s]\n"
     ]
    },
    {
     "name": "stdout",
     "output_type": "stream",
     "text": [
      "Epoch 4, loss 11.8172\n",
      "Train Acc 0.5125\n",
      "Epoch 4, val_loss 8.3198\n"
     ]
    },
    {
     "name": "stderr",
     "output_type": "stream",
     "text": [
      "100%|██████████| 35/35 [00:05<00:00,  6.66batch/s]\n"
     ]
    },
    {
     "name": "stdout",
     "output_type": "stream",
     "text": [
      "Epoch 5, loss 7.8759\n",
      "Train Acc 0.7250\n",
      "Epoch 5, val_loss 2.2075\n",
      "Saving best model with validation loss 2.207460880279541\n"
     ]
    },
    {
     "name": "stderr",
     "output_type": "stream",
     "text": [
      "100%|██████████| 35/35 [00:05<00:00,  6.28batch/s]\n"
     ]
    },
    {
     "name": "stdout",
     "output_type": "stream",
     "text": [
      "Epoch 6, loss 11.1537\n",
      "Train Acc 0.6875\n",
      "Epoch 6, val_loss 1.4292\n",
      "Saving best model with validation loss 1.4291760921478271\n"
     ]
    },
    {
     "name": "stderr",
     "output_type": "stream",
     "text": [
      "100%|██████████| 35/35 [00:06<00:00,  5.79batch/s]\n"
     ]
    },
    {
     "name": "stdout",
     "output_type": "stream",
     "text": [
      "Epoch 7, loss 12.4078\n",
      "Train Acc 0.6438\n",
      "Epoch 7, val_loss 9.0462\n"
     ]
    },
    {
     "name": "stderr",
     "output_type": "stream",
     "text": [
      "100%|██████████| 35/35 [00:12<00:00,  2.73batch/s]\n"
     ]
    },
    {
     "name": "stdout",
     "output_type": "stream",
     "text": [
      "Epoch 8, loss 14.7958\n",
      "Train Acc 0.7844\n",
      "Epoch 8, val_loss 3.2776\n"
     ]
    },
    {
     "name": "stderr",
     "output_type": "stream",
     "text": [
      "100%|██████████| 35/35 [00:11<00:00,  3.06batch/s]\n"
     ]
    },
    {
     "name": "stdout",
     "output_type": "stream",
     "text": [
      "Epoch 9, loss 10.6876\n",
      "Train Acc 0.4938\n",
      "Epoch 9, val_loss 12.8196\n"
     ]
    },
    {
     "name": "stderr",
     "output_type": "stream",
     "text": [
      "100%|██████████| 35/35 [00:04<00:00,  7.40batch/s]\n"
     ]
    },
    {
     "name": "stdout",
     "output_type": "stream",
     "text": [
      "Epoch 10, loss 9.1105\n",
      "Train Acc 0.7312\n",
      "Epoch 10, val_loss 0.9903\n",
      "Saving best model with validation loss 0.9903373718261719\n"
     ]
    },
    {
     "name": "stderr",
     "output_type": "stream",
     "text": [
      "100%|██████████| 35/35 [00:04<00:00,  7.60batch/s]\n"
     ]
    },
    {
     "name": "stdout",
     "output_type": "stream",
     "text": [
      "Epoch 11, loss 7.9640\n",
      "Train Acc 0.5125\n",
      "Epoch 11, val_loss 17.0136\n"
     ]
    },
    {
     "name": "stderr",
     "output_type": "stream",
     "text": [
      "100%|██████████| 35/35 [00:04<00:00,  7.41batch/s]\n"
     ]
    },
    {
     "name": "stdout",
     "output_type": "stream",
     "text": [
      "Epoch 12, loss 8.7007\n",
      "Train Acc 0.5125\n",
      "Epoch 12, val_loss 6.1295\n"
     ]
    },
    {
     "name": "stderr",
     "output_type": "stream",
     "text": [
      "100%|██████████| 35/35 [00:05<00:00,  6.89batch/s]\n"
     ]
    },
    {
     "name": "stdout",
     "output_type": "stream",
     "text": [
      "Epoch 13, loss 8.2490\n",
      "Train Acc 0.5219\n",
      "Epoch 13, val_loss 4.6148\n"
     ]
    },
    {
     "name": "stderr",
     "output_type": "stream",
     "text": [
      "100%|██████████| 35/35 [00:04<00:00,  7.02batch/s]\n"
     ]
    },
    {
     "name": "stdout",
     "output_type": "stream",
     "text": [
      "Epoch 14, loss 6.6413\n",
      "Train Acc 0.7031\n",
      "Epoch 14, val_loss 1.2464\n"
     ]
    },
    {
     "name": "stderr",
     "output_type": "stream",
     "text": [
      "100%|██████████| 35/35 [00:04<00:00,  7.02batch/s]\n"
     ]
    },
    {
     "name": "stdout",
     "output_type": "stream",
     "text": [
      "Epoch 15, loss 5.2328\n",
      "Train Acc 0.6438\n",
      "Epoch 15, val_loss 1.1760\n"
     ]
    },
    {
     "name": "stderr",
     "output_type": "stream",
     "text": [
      "100%|██████████| 35/35 [00:05<00:00,  6.56batch/s]\n"
     ]
    },
    {
     "name": "stdout",
     "output_type": "stream",
     "text": [
      "Epoch 16, loss 9.4522\n",
      "Train Acc 0.7500\n",
      "Epoch 16, val_loss 4.0346\n"
     ]
    },
    {
     "name": "stderr",
     "output_type": "stream",
     "text": [
      "100%|██████████| 35/35 [00:04<00:00,  7.06batch/s]\n"
     ]
    },
    {
     "name": "stdout",
     "output_type": "stream",
     "text": [
      "Epoch 17, loss 5.1838\n",
      "Train Acc 0.6875\n",
      "Epoch 17, val_loss 1.1549\n"
     ]
    },
    {
     "name": "stderr",
     "output_type": "stream",
     "text": [
      "100%|██████████| 35/35 [00:04<00:00,  7.08batch/s]\n"
     ]
    },
    {
     "name": "stdout",
     "output_type": "stream",
     "text": [
      "Epoch 18, loss 5.7407\n",
      "Train Acc 0.4875\n",
      "Epoch 18, val_loss 7.0144\n"
     ]
    },
    {
     "name": "stderr",
     "output_type": "stream",
     "text": [
      "100%|██████████| 35/35 [00:05<00:00,  6.70batch/s]\n"
     ]
    },
    {
     "name": "stdout",
     "output_type": "stream",
     "text": [
      "Epoch 19, loss 12.2065\n",
      "Train Acc 0.7875\n",
      "Epoch 19, val_loss 0.7544\n",
      "Saving best model with validation loss 0.7544386386871338\n",
      "\n",
      "Confusion matrix (Validation set):\n",
      "\n",
      "[[35  7]\n",
      " [ 3 35]]\n",
      "Validation accuracy: 87.5%\n",
      "Validation loss 0.7544386386871338\n",
      "\n",
      "------- Run the Explainer -------\n",
      "\n",
      "GNN-SubNet: False\n",
      "Explainer::Iteration 1 of 10\n",
      "Explainer::Iteration 2 of 10\n",
      "Explainer::Iteration 3 of 10\n",
      "Explainer::Iteration 4 of 10\n",
      "Explainer::Iteration 5 of 10\n",
      "Explainer::Iteration 6 of 10\n",
      "Explainer::Iteration 7 of 10\n",
      "Explainer::Iteration 8 of 10\n",
      "Explainer::Iteration 9 of 10\n",
      "Explainer::Iteration 10 of 10\n",
      "graphcnn for training ...\n",
      "Graphs class 0: 200, Graphs class 1: 306\n",
      "Length of balanced dataset list: 400\n",
      "Train graph class 0: 160, train graph class 1: 160\n",
      "Validation graph class 0: 40, validation graph class 1: 40\n"
     ]
    },
    {
     "name": "stderr",
     "output_type": "stream",
     "text": [
      "100%|██████████| 35/35 [00:04<00:00,  7.63batch/s]\n"
     ]
    },
    {
     "name": "stdout",
     "output_type": "stream",
     "text": [
      "Epoch 0, loss 155.0706\n",
      "Train Acc 0.5500\n",
      "Epoch 0, val_loss 47.0636\n",
      "Saving best model with validation loss 47.0635986328125\n"
     ]
    },
    {
     "name": "stderr",
     "output_type": "stream",
     "text": [
      "100%|██████████| 35/35 [00:04<00:00,  7.18batch/s]\n"
     ]
    },
    {
     "name": "stdout",
     "output_type": "stream",
     "text": [
      "Epoch 1, loss 25.3108\n",
      "Train Acc 0.7312\n",
      "Epoch 1, val_loss 7.4089\n",
      "Saving best model with validation loss 7.4088544845581055\n"
     ]
    },
    {
     "name": "stderr",
     "output_type": "stream",
     "text": [
      "100%|██████████| 35/35 [00:05<00:00,  6.40batch/s]\n"
     ]
    },
    {
     "name": "stdout",
     "output_type": "stream",
     "text": [
      "Epoch 2, loss 17.1232\n",
      "Train Acc 0.5719\n",
      "Epoch 2, val_loss 11.3222\n"
     ]
    },
    {
     "name": "stderr",
     "output_type": "stream",
     "text": [
      "100%|██████████| 35/35 [00:05<00:00,  6.69batch/s]\n"
     ]
    },
    {
     "name": "stdout",
     "output_type": "stream",
     "text": [
      "Epoch 3, loss 8.8571\n",
      "Train Acc 0.6781\n",
      "Epoch 3, val_loss 6.5504\n",
      "Saving best model with validation loss 6.550389766693115\n"
     ]
    },
    {
     "name": "stderr",
     "output_type": "stream",
     "text": [
      "100%|██████████| 35/35 [00:05<00:00,  6.44batch/s]\n"
     ]
    },
    {
     "name": "stdout",
     "output_type": "stream",
     "text": [
      "Epoch 4, loss 10.4932\n",
      "Train Acc 0.5031\n",
      "Epoch 4, val_loss 9.7847\n"
     ]
    },
    {
     "name": "stderr",
     "output_type": "stream",
     "text": [
      "100%|██████████| 35/35 [00:05<00:00,  6.71batch/s]\n"
     ]
    },
    {
     "name": "stdout",
     "output_type": "stream",
     "text": [
      "Epoch 5, loss 14.1884\n",
      "Train Acc 0.7594\n",
      "Epoch 5, val_loss 5.1078\n",
      "Saving best model with validation loss 5.107825756072998\n"
     ]
    },
    {
     "name": "stderr",
     "output_type": "stream",
     "text": [
      "100%|██████████| 35/35 [00:05<00:00,  6.56batch/s]\n"
     ]
    },
    {
     "name": "stdout",
     "output_type": "stream",
     "text": [
      "Epoch 6, loss 24.7855\n",
      "Train Acc 0.7312\n",
      "Epoch 6, val_loss 6.6175\n"
     ]
    },
    {
     "name": "stderr",
     "output_type": "stream",
     "text": [
      "100%|██████████| 35/35 [00:05<00:00,  6.48batch/s]\n"
     ]
    },
    {
     "name": "stdout",
     "output_type": "stream",
     "text": [
      "Epoch 7, loss 11.3841\n",
      "Train Acc 0.7594\n",
      "Epoch 7, val_loss 3.1601\n",
      "Saving best model with validation loss 3.1600847244262695\n"
     ]
    },
    {
     "name": "stderr",
     "output_type": "stream",
     "text": [
      "100%|██████████| 35/35 [00:05<00:00,  6.67batch/s]\n"
     ]
    },
    {
     "name": "stdout",
     "output_type": "stream",
     "text": [
      "Epoch 8, loss 13.4148\n",
      "Train Acc 0.7750\n",
      "Epoch 8, val_loss 5.6070\n"
     ]
    },
    {
     "name": "stderr",
     "output_type": "stream",
     "text": [
      "100%|██████████| 35/35 [00:05<00:00,  6.69batch/s]\n"
     ]
    },
    {
     "name": "stdout",
     "output_type": "stream",
     "text": [
      "Epoch 9, loss 10.0189\n",
      "Train Acc 0.5094\n",
      "Epoch 9, val_loss 14.4763\n"
     ]
    },
    {
     "name": "stderr",
     "output_type": "stream",
     "text": [
      "100%|██████████| 35/35 [00:05<00:00,  6.41batch/s]\n"
     ]
    },
    {
     "name": "stdout",
     "output_type": "stream",
     "text": [
      "Epoch 10, loss 10.0226\n",
      "Train Acc 0.7500\n",
      "Epoch 10, val_loss 5.3003\n"
     ]
    },
    {
     "name": "stderr",
     "output_type": "stream",
     "text": [
      "100%|██████████| 35/35 [00:05<00:00,  6.75batch/s]\n"
     ]
    },
    {
     "name": "stdout",
     "output_type": "stream",
     "text": [
      "Epoch 11, loss 10.7434\n",
      "Train Acc 0.7438\n",
      "Epoch 11, val_loss 6.0785\n"
     ]
    },
    {
     "name": "stderr",
     "output_type": "stream",
     "text": [
      "100%|██████████| 35/35 [00:05<00:00,  6.45batch/s]\n"
     ]
    },
    {
     "name": "stdout",
     "output_type": "stream",
     "text": [
      "Epoch 12, loss 17.7313\n",
      "Train Acc 0.7031\n",
      "Epoch 12, val_loss 6.6951\n"
     ]
    },
    {
     "name": "stderr",
     "output_type": "stream",
     "text": [
      "100%|██████████| 35/35 [00:05<00:00,  6.62batch/s]\n"
     ]
    },
    {
     "name": "stdout",
     "output_type": "stream",
     "text": [
      "Epoch 13, loss 12.8681\n",
      "Train Acc 0.7937\n",
      "Epoch 13, val_loss 2.4946\n",
      "Saving best model with validation loss 2.494617462158203\n"
     ]
    },
    {
     "name": "stderr",
     "output_type": "stream",
     "text": [
      "100%|██████████| 35/35 [00:05<00:00,  6.76batch/s]\n"
     ]
    },
    {
     "name": "stdout",
     "output_type": "stream",
     "text": [
      "Epoch 14, loss 7.4462\n",
      "Train Acc 0.6750\n",
      "Epoch 14, val_loss 4.4653\n"
     ]
    },
    {
     "name": "stderr",
     "output_type": "stream",
     "text": [
      "100%|██████████| 35/35 [00:05<00:00,  6.83batch/s]\n"
     ]
    },
    {
     "name": "stdout",
     "output_type": "stream",
     "text": [
      "Epoch 15, loss 6.1649\n",
      "Train Acc 0.7656\n",
      "Epoch 15, val_loss 1.7270\n",
      "Saving best model with validation loss 1.7270179986953735\n"
     ]
    },
    {
     "name": "stderr",
     "output_type": "stream",
     "text": [
      "100%|██████████| 35/35 [00:05<00:00,  6.65batch/s]\n"
     ]
    },
    {
     "name": "stdout",
     "output_type": "stream",
     "text": [
      "Epoch 16, loss 6.8221\n",
      "Train Acc 0.6406\n",
      "Epoch 16, val_loss 10.1797\n"
     ]
    },
    {
     "name": "stderr",
     "output_type": "stream",
     "text": [
      "100%|██████████| 35/35 [00:05<00:00,  6.65batch/s]\n"
     ]
    },
    {
     "name": "stdout",
     "output_type": "stream",
     "text": [
      "Epoch 17, loss 9.1512\n",
      "Train Acc 0.7969\n",
      "Epoch 17, val_loss 4.7363\n"
     ]
    },
    {
     "name": "stderr",
     "output_type": "stream",
     "text": [
      "100%|██████████| 35/35 [00:05<00:00,  6.57batch/s]\n"
     ]
    },
    {
     "name": "stdout",
     "output_type": "stream",
     "text": [
      "Epoch 18, loss 8.6608\n",
      "Train Acc 0.5344\n",
      "Epoch 18, val_loss 14.4722\n"
     ]
    },
    {
     "name": "stderr",
     "output_type": "stream",
     "text": [
      "100%|██████████| 35/35 [00:05<00:00,  6.89batch/s]\n"
     ]
    },
    {
     "name": "stdout",
     "output_type": "stream",
     "text": [
      "Epoch 19, loss 6.2948\n",
      "Train Acc 0.7719\n",
      "Epoch 19, val_loss 3.4343\n",
      "\n",
      "Confusion matrix (Validation set):\n",
      "\n",
      "[[33  7]\n",
      " [13 27]]\n",
      "Validation accuracy: 75.0%\n",
      "Validation loss 1.7270179986953735\n",
      "\n",
      "------- Run the Explainer -------\n",
      "\n",
      "GNN-SubNet: False\n",
      "Explainer::Iteration 1 of 10\n",
      "Explainer::Iteration 2 of 10\n",
      "Explainer::Iteration 3 of 10\n",
      "Explainer::Iteration 4 of 10\n"
     ]
    }
   ],
   "source": [
    "obtain_most_relevant_subnetworks(no_of_iterations=10, gnn_subnet=False, quantile_aggregation=True, quantile=0.5)"
   ]
  },
  {
   "cell_type": "code",
   "execution_count": null,
   "outputs": [],
   "source": [],
   "metadata": {
    "collapsed": false
   }
  }
 ],
 "metadata": {
  "kernelspec": {
   "display_name": "Python 3 (ipykernel)",
   "language": "python",
   "name": "python3"
  },
  "language_info": {
   "codemirror_mode": {
    "name": "ipython",
    "version": 3
   },
   "file_extension": ".py",
   "mimetype": "text/x-python",
   "name": "python",
   "nbconvert_exporter": "python",
   "pygments_lexer": "ipython3",
   "version": "3.9.13"
  }
 },
 "nbformat": 4,
 "nbformat_minor": 1
}
