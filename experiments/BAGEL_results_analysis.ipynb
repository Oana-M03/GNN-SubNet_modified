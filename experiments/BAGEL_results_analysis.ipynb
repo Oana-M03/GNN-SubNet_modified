{
 "cells": [
  {
   "cell_type": "code",
   "execution_count": 2,
   "metadata": {
    "collapsed": true
   },
   "outputs": [],
   "source": [
    "import pandas as pd\n",
    "import numpy as np\n",
    "\n",
    "no_of_runs = 10"
   ]
  },
  {
   "cell_type": "markdown",
   "source": [
    "## MODIFIED GNN-SUBNET\n",
    "\n",
    "The following cell obtains all data from the results files and pre-comutes it. The pre-processed data will then be aggregated into a single table of results"
   ],
   "metadata": {
    "collapsed": false
   }
  },
  {
   "cell_type": "code",
   "execution_count": 3,
   "outputs": [],
   "source": [
    "def obtain_results_from_folder(path_to_results):\n",
    "    fidelities = []\n",
    "    sparsities = []\n",
    "    validities_plus = []\n",
    "    validities_minus = []\n",
    "\n",
    "    for i in range(0, no_of_runs):\n",
    "\n",
    "        # Save the fidelity\n",
    "        fidelity_file = f'{path_to_results}/{i}_fidelities.csv'\n",
    "        current_fidelity = pd.read_csv(fidelity_file, index_col = False, header=None)\n",
    "        fidelities.append(current_fidelity)\n",
    "\n",
    "        # Save the sparsity\n",
    "        sparsity_file = f'{path_to_results}/{i}_sparsities.csv'\n",
    "        current_sparsity = pd.read_csv(sparsity_file, index_col = False, header=None)\n",
    "        sparsities.append(current_sparsity.mean(axis=None))\n",
    "\n",
    "        # Pre-process and save Validity+\n",
    "        validity_plus_file = f'{path_to_results}/{i}_validity_plus.csv'\n",
    "        current_validity_plus = pd.read_csv(validity_plus_file, index_col=False, header=None)\n",
    "        validities_plus.append(current_validity_plus)\n",
    "\n",
    "        # Pre-process and save Validity-\n",
    "        validity_minus_file = f'{path_to_results}/{i}_validity_minus.csv'\n",
    "        current_validity_minus = pd.read_csv(validity_minus_file, index_col=False, header=None)\n",
    "        validities_minus.append(current_validity_minus)\n",
    "\n",
    "    # Obtain a single data frame per metric\n",
    "    validities_plus = pd.concat(validities_plus)\n",
    "    validities_plus = validities_plus.drop_duplicates()\n",
    "\n",
    "    validities_minus = pd.concat(validities_minus)\n",
    "    validities_minus = validities_minus.drop_duplicates()\n",
    "\n",
    "    fidelities = pd.concat(fidelities)\n",
    "    fidelities = fidelities.drop_duplicates()\n",
    "\n",
    "    final_table = validities_plus\n",
    "\n",
    "    final_table = final_table.rename(columns={0:'Iteration', 1:'Model Accuracy', 2:'Threshold Value', 3: 'validity+'})\n",
    "\n",
    "    final_table['validity-'] = validities_minus.iloc[:, 3]\n",
    "\n",
    "    fidelities_to_append = []\n",
    "    sparsities_to_append = []\n",
    "    for i in final_table['Iteration']:\n",
    "        fidelities_to_append.append(fidelities.iloc[np.int_(i), 2])\n",
    "        sparsities_to_append.append(sparsities[np.int_(i)])\n",
    "    final_table['fidelity'] = fidelities_to_append\n",
    "    final_table['sparsity'] = sparsities_to_append\n",
    "\n",
    "    return final_table"
   ],
   "metadata": {
    "collapsed": false
   }
  },
  {
   "cell_type": "markdown",
   "source": [
    "The table below indicates the four metrics for each iteration of the explainer, as well as the threshold values 30 and 50."
   ],
   "metadata": {
    "collapsed": false
   }
  },
  {
   "cell_type": "code",
   "execution_count": 4,
   "outputs": [
    {
     "data": {
      "text/plain": "   Iteration  Model Accuracy  Threshold Value  validity+  validity-  fidelity   \n0        0.0           86.25             30.0     0.1500     0.9500   0.87250  \\\n1        0.0           86.25             50.0     0.1125     0.9125   0.87250   \n2        1.0           68.75             30.0     0.1125     0.9000   0.94250   \n3        1.0           68.75             50.0     0.1125     0.9125   0.94250   \n4        2.0           76.25             30.0     0.8500     0.9375   0.94250   \n5        2.0           76.25             50.0     0.9250     0.9375   0.94250   \n6        3.0           78.75             30.0     0.2500     0.8375   0.86375   \n7        3.0           78.75             50.0     0.5875     0.8500   0.86375   \n8        4.0           62.50             30.0     0.1750     0.9125   0.92875   \n9        4.0           62.50             50.0     0.1750     0.9250   0.92875   \n0        5.0           81.25             30.0     0.2500     0.7500   0.86500   \n1        5.0           81.25             50.0     0.3875     0.9125   0.86500   \n2        6.0           83.75             30.0     0.9125     0.9375   0.95250   \n3        6.0           83.75             50.0     0.9250     0.9250   0.95250   \n0        7.0           81.25             30.0     0.4625     0.5375   0.79250   \n1        7.0           81.25             50.0     0.4625     0.9500   0.79250   \n2        8.0           75.00             30.0     0.0375     0.7375   0.76125   \n3        8.0           75.00             50.0     0.0750     0.8000   0.76125   \n0        9.0           63.75             30.0     0.0375     0.6500   0.69250   \n1        9.0           63.75             50.0     0.2125     0.6000   0.69250   \n\n   sparsity  \n0  0.016380  \n1  0.016380  \n2  0.015952  \n3  0.015952  \n4  0.013023  \n5  0.013023  \n6  0.025844  \n7  0.025844  \n8  0.025520  \n9  0.025520  \n0  0.021828  \n1  0.021828  \n2  0.015562  \n3  0.015562  \n0  0.017987  \n1  0.017987  \n2  0.012655  \n3  0.012655  \n0  0.026910  \n1  0.026910  ",
      "text/html": "<div>\n<style scoped>\n    .dataframe tbody tr th:only-of-type {\n        vertical-align: middle;\n    }\n\n    .dataframe tbody tr th {\n        vertical-align: top;\n    }\n\n    .dataframe thead th {\n        text-align: right;\n    }\n</style>\n<table border=\"1\" class=\"dataframe\">\n  <thead>\n    <tr style=\"text-align: right;\">\n      <th></th>\n      <th>Iteration</th>\n      <th>Model Accuracy</th>\n      <th>Threshold Value</th>\n      <th>validity+</th>\n      <th>validity-</th>\n      <th>fidelity</th>\n      <th>sparsity</th>\n    </tr>\n  </thead>\n  <tbody>\n    <tr>\n      <th>0</th>\n      <td>0.0</td>\n      <td>86.25</td>\n      <td>30.0</td>\n      <td>0.1500</td>\n      <td>0.9500</td>\n      <td>0.87250</td>\n      <td>0.016380</td>\n    </tr>\n    <tr>\n      <th>1</th>\n      <td>0.0</td>\n      <td>86.25</td>\n      <td>50.0</td>\n      <td>0.1125</td>\n      <td>0.9125</td>\n      <td>0.87250</td>\n      <td>0.016380</td>\n    </tr>\n    <tr>\n      <th>2</th>\n      <td>1.0</td>\n      <td>68.75</td>\n      <td>30.0</td>\n      <td>0.1125</td>\n      <td>0.9000</td>\n      <td>0.94250</td>\n      <td>0.015952</td>\n    </tr>\n    <tr>\n      <th>3</th>\n      <td>1.0</td>\n      <td>68.75</td>\n      <td>50.0</td>\n      <td>0.1125</td>\n      <td>0.9125</td>\n      <td>0.94250</td>\n      <td>0.015952</td>\n    </tr>\n    <tr>\n      <th>4</th>\n      <td>2.0</td>\n      <td>76.25</td>\n      <td>30.0</td>\n      <td>0.8500</td>\n      <td>0.9375</td>\n      <td>0.94250</td>\n      <td>0.013023</td>\n    </tr>\n    <tr>\n      <th>5</th>\n      <td>2.0</td>\n      <td>76.25</td>\n      <td>50.0</td>\n      <td>0.9250</td>\n      <td>0.9375</td>\n      <td>0.94250</td>\n      <td>0.013023</td>\n    </tr>\n    <tr>\n      <th>6</th>\n      <td>3.0</td>\n      <td>78.75</td>\n      <td>30.0</td>\n      <td>0.2500</td>\n      <td>0.8375</td>\n      <td>0.86375</td>\n      <td>0.025844</td>\n    </tr>\n    <tr>\n      <th>7</th>\n      <td>3.0</td>\n      <td>78.75</td>\n      <td>50.0</td>\n      <td>0.5875</td>\n      <td>0.8500</td>\n      <td>0.86375</td>\n      <td>0.025844</td>\n    </tr>\n    <tr>\n      <th>8</th>\n      <td>4.0</td>\n      <td>62.50</td>\n      <td>30.0</td>\n      <td>0.1750</td>\n      <td>0.9125</td>\n      <td>0.92875</td>\n      <td>0.025520</td>\n    </tr>\n    <tr>\n      <th>9</th>\n      <td>4.0</td>\n      <td>62.50</td>\n      <td>50.0</td>\n      <td>0.1750</td>\n      <td>0.9250</td>\n      <td>0.92875</td>\n      <td>0.025520</td>\n    </tr>\n    <tr>\n      <th>0</th>\n      <td>5.0</td>\n      <td>81.25</td>\n      <td>30.0</td>\n      <td>0.2500</td>\n      <td>0.7500</td>\n      <td>0.86500</td>\n      <td>0.021828</td>\n    </tr>\n    <tr>\n      <th>1</th>\n      <td>5.0</td>\n      <td>81.25</td>\n      <td>50.0</td>\n      <td>0.3875</td>\n      <td>0.9125</td>\n      <td>0.86500</td>\n      <td>0.021828</td>\n    </tr>\n    <tr>\n      <th>2</th>\n      <td>6.0</td>\n      <td>83.75</td>\n      <td>30.0</td>\n      <td>0.9125</td>\n      <td>0.9375</td>\n      <td>0.95250</td>\n      <td>0.015562</td>\n    </tr>\n    <tr>\n      <th>3</th>\n      <td>6.0</td>\n      <td>83.75</td>\n      <td>50.0</td>\n      <td>0.9250</td>\n      <td>0.9250</td>\n      <td>0.95250</td>\n      <td>0.015562</td>\n    </tr>\n    <tr>\n      <th>0</th>\n      <td>7.0</td>\n      <td>81.25</td>\n      <td>30.0</td>\n      <td>0.4625</td>\n      <td>0.5375</td>\n      <td>0.79250</td>\n      <td>0.017987</td>\n    </tr>\n    <tr>\n      <th>1</th>\n      <td>7.0</td>\n      <td>81.25</td>\n      <td>50.0</td>\n      <td>0.4625</td>\n      <td>0.9500</td>\n      <td>0.79250</td>\n      <td>0.017987</td>\n    </tr>\n    <tr>\n      <th>2</th>\n      <td>8.0</td>\n      <td>75.00</td>\n      <td>30.0</td>\n      <td>0.0375</td>\n      <td>0.7375</td>\n      <td>0.76125</td>\n      <td>0.012655</td>\n    </tr>\n    <tr>\n      <th>3</th>\n      <td>8.0</td>\n      <td>75.00</td>\n      <td>50.0</td>\n      <td>0.0750</td>\n      <td>0.8000</td>\n      <td>0.76125</td>\n      <td>0.012655</td>\n    </tr>\n    <tr>\n      <th>0</th>\n      <td>9.0</td>\n      <td>63.75</td>\n      <td>30.0</td>\n      <td>0.0375</td>\n      <td>0.6500</td>\n      <td>0.69250</td>\n      <td>0.026910</td>\n    </tr>\n    <tr>\n      <th>1</th>\n      <td>9.0</td>\n      <td>63.75</td>\n      <td>50.0</td>\n      <td>0.2125</td>\n      <td>0.6000</td>\n      <td>0.69250</td>\n      <td>0.026910</td>\n    </tr>\n  </tbody>\n</table>\n</div>"
     },
     "execution_count": 4,
     "metadata": {},
     "output_type": "execute_result"
    }
   ],
   "source": [
    "path_to_results_modified = \"results_modified_alg_final\"\n",
    "\n",
    "final_table_modified_alg = obtain_results_from_folder(path_to_results_modified)\n",
    "\n",
    "final_table_modified_alg"
   ],
   "metadata": {
    "collapsed": false
   }
  },
  {
   "cell_type": "markdown",
   "source": [
    "This table contains an aggregation of all metrics by mean for each run, per threshold."
   ],
   "metadata": {
    "collapsed": false
   }
  },
  {
   "cell_type": "code",
   "execution_count": 5,
   "outputs": [
    {
     "data": {
      "text/plain": "                 Model Accuracy  validity+  validity-  fidelity  sparsity\nThreshold Value                                                          \n30.0                      75.75    0.32375     0.8150  0.861375  0.019166\n50.0                      75.75    0.39750     0.8725  0.861375  0.019166",
      "text/html": "<div>\n<style scoped>\n    .dataframe tbody tr th:only-of-type {\n        vertical-align: middle;\n    }\n\n    .dataframe tbody tr th {\n        vertical-align: top;\n    }\n\n    .dataframe thead th {\n        text-align: right;\n    }\n</style>\n<table border=\"1\" class=\"dataframe\">\n  <thead>\n    <tr style=\"text-align: right;\">\n      <th></th>\n      <th>Model Accuracy</th>\n      <th>validity+</th>\n      <th>validity-</th>\n      <th>fidelity</th>\n      <th>sparsity</th>\n    </tr>\n    <tr>\n      <th>Threshold Value</th>\n      <th></th>\n      <th></th>\n      <th></th>\n      <th></th>\n      <th></th>\n    </tr>\n  </thead>\n  <tbody>\n    <tr>\n      <th>30.0</th>\n      <td>75.75</td>\n      <td>0.32375</td>\n      <td>0.8150</td>\n      <td>0.861375</td>\n      <td>0.019166</td>\n    </tr>\n    <tr>\n      <th>50.0</th>\n      <td>75.75</td>\n      <td>0.39750</td>\n      <td>0.8725</td>\n      <td>0.861375</td>\n      <td>0.019166</td>\n    </tr>\n  </tbody>\n</table>\n</div>"
     },
     "execution_count": 5,
     "metadata": {},
     "output_type": "execute_result"
    }
   ],
   "source": [
    "final_table_reduced_modified_alg = final_table_modified_alg.groupby(['Threshold Value']).mean()\n",
    "final_table_reduced_modified_alg = final_table_reduced_modified_alg.drop(['Iteration'], axis=1)\n",
    "final_table_reduced_modified_alg"
   ],
   "metadata": {
    "collapsed": false
   }
  },
  {
   "cell_type": "markdown",
   "source": [
    "## GNN-SUBNET\n",
    "\n",
    "The following code cells repeat the process to extract data related to gnn-subnet."
   ],
   "metadata": {
    "collapsed": false
   }
  },
  {
   "cell_type": "code",
   "execution_count": 6,
   "outputs": [
    {
     "data": {
      "text/plain": "    Iteration  Model Accuracy  Threshold Value  validity+  validity-   \n0         0.0           63.75             30.0     0.1125     0.5625  \\\n1         0.0           63.75             50.0     0.0750     0.6500   \n2         1.0           76.25             30.0     0.2375     0.7750   \n3         1.0           76.25             50.0     0.2500     0.9000   \n4         2.0           86.25             30.0     0.5375     0.9500   \n5         2.0           86.25             50.0     0.8750     0.9875   \n6         3.0           76.25             30.0     0.2125     0.4375   \n7         3.0           76.25             50.0     0.4875     0.8875   \n8         4.0           73.75             30.0     0.2875     0.6250   \n9         4.0           73.75             50.0     0.6750     0.7875   \n10        5.0           67.50             30.0     0.0875     0.8750   \n11        5.0           67.50             50.0     0.1750     0.8750   \n12        6.0           80.00             30.0     0.8500     0.9625   \n13        6.0           80.00             50.0     0.8375     0.9625   \n14        7.0           66.25             30.0     0.1375     0.8375   \n15        7.0           66.25             50.0     0.6750     0.7750   \n16        8.0           81.25             30.0     0.0250     0.8750   \n17        8.0           81.25             50.0     0.1375     0.9625   \n18        9.0           78.75             30.0     0.1000     0.4625   \n19        9.0           78.75             50.0     0.5250     0.7500   \n\n    fidelity  sparsity  \n0    0.67000  0.044680  \n1    0.67000  0.044680  \n2    0.83625  0.050157  \n3    0.83625  0.050157  \n4    0.97375  0.038774  \n5    0.97375  0.038774  \n6    0.87875  0.029608  \n7    0.87875  0.029608  \n8    0.85625  0.045901  \n9    0.85625  0.045901  \n10   0.90500  0.038117  \n11   0.90500  0.038117  \n12   0.93250  0.057944  \n13   0.93250  0.057944  \n14   0.78875  0.047040  \n15   0.78875  0.047040  \n16   0.90750  0.032927  \n17   0.90750  0.032927  \n18   0.80750  0.041489  \n19   0.80750  0.041489  ",
      "text/html": "<div>\n<style scoped>\n    .dataframe tbody tr th:only-of-type {\n        vertical-align: middle;\n    }\n\n    .dataframe tbody tr th {\n        vertical-align: top;\n    }\n\n    .dataframe thead th {\n        text-align: right;\n    }\n</style>\n<table border=\"1\" class=\"dataframe\">\n  <thead>\n    <tr style=\"text-align: right;\">\n      <th></th>\n      <th>Iteration</th>\n      <th>Model Accuracy</th>\n      <th>Threshold Value</th>\n      <th>validity+</th>\n      <th>validity-</th>\n      <th>fidelity</th>\n      <th>sparsity</th>\n    </tr>\n  </thead>\n  <tbody>\n    <tr>\n      <th>0</th>\n      <td>0.0</td>\n      <td>63.75</td>\n      <td>30.0</td>\n      <td>0.1125</td>\n      <td>0.5625</td>\n      <td>0.67000</td>\n      <td>0.044680</td>\n    </tr>\n    <tr>\n      <th>1</th>\n      <td>0.0</td>\n      <td>63.75</td>\n      <td>50.0</td>\n      <td>0.0750</td>\n      <td>0.6500</td>\n      <td>0.67000</td>\n      <td>0.044680</td>\n    </tr>\n    <tr>\n      <th>2</th>\n      <td>1.0</td>\n      <td>76.25</td>\n      <td>30.0</td>\n      <td>0.2375</td>\n      <td>0.7750</td>\n      <td>0.83625</td>\n      <td>0.050157</td>\n    </tr>\n    <tr>\n      <th>3</th>\n      <td>1.0</td>\n      <td>76.25</td>\n      <td>50.0</td>\n      <td>0.2500</td>\n      <td>0.9000</td>\n      <td>0.83625</td>\n      <td>0.050157</td>\n    </tr>\n    <tr>\n      <th>4</th>\n      <td>2.0</td>\n      <td>86.25</td>\n      <td>30.0</td>\n      <td>0.5375</td>\n      <td>0.9500</td>\n      <td>0.97375</td>\n      <td>0.038774</td>\n    </tr>\n    <tr>\n      <th>5</th>\n      <td>2.0</td>\n      <td>86.25</td>\n      <td>50.0</td>\n      <td>0.8750</td>\n      <td>0.9875</td>\n      <td>0.97375</td>\n      <td>0.038774</td>\n    </tr>\n    <tr>\n      <th>6</th>\n      <td>3.0</td>\n      <td>76.25</td>\n      <td>30.0</td>\n      <td>0.2125</td>\n      <td>0.4375</td>\n      <td>0.87875</td>\n      <td>0.029608</td>\n    </tr>\n    <tr>\n      <th>7</th>\n      <td>3.0</td>\n      <td>76.25</td>\n      <td>50.0</td>\n      <td>0.4875</td>\n      <td>0.8875</td>\n      <td>0.87875</td>\n      <td>0.029608</td>\n    </tr>\n    <tr>\n      <th>8</th>\n      <td>4.0</td>\n      <td>73.75</td>\n      <td>30.0</td>\n      <td>0.2875</td>\n      <td>0.6250</td>\n      <td>0.85625</td>\n      <td>0.045901</td>\n    </tr>\n    <tr>\n      <th>9</th>\n      <td>4.0</td>\n      <td>73.75</td>\n      <td>50.0</td>\n      <td>0.6750</td>\n      <td>0.7875</td>\n      <td>0.85625</td>\n      <td>0.045901</td>\n    </tr>\n    <tr>\n      <th>10</th>\n      <td>5.0</td>\n      <td>67.50</td>\n      <td>30.0</td>\n      <td>0.0875</td>\n      <td>0.8750</td>\n      <td>0.90500</td>\n      <td>0.038117</td>\n    </tr>\n    <tr>\n      <th>11</th>\n      <td>5.0</td>\n      <td>67.50</td>\n      <td>50.0</td>\n      <td>0.1750</td>\n      <td>0.8750</td>\n      <td>0.90500</td>\n      <td>0.038117</td>\n    </tr>\n    <tr>\n      <th>12</th>\n      <td>6.0</td>\n      <td>80.00</td>\n      <td>30.0</td>\n      <td>0.8500</td>\n      <td>0.9625</td>\n      <td>0.93250</td>\n      <td>0.057944</td>\n    </tr>\n    <tr>\n      <th>13</th>\n      <td>6.0</td>\n      <td>80.00</td>\n      <td>50.0</td>\n      <td>0.8375</td>\n      <td>0.9625</td>\n      <td>0.93250</td>\n      <td>0.057944</td>\n    </tr>\n    <tr>\n      <th>14</th>\n      <td>7.0</td>\n      <td>66.25</td>\n      <td>30.0</td>\n      <td>0.1375</td>\n      <td>0.8375</td>\n      <td>0.78875</td>\n      <td>0.047040</td>\n    </tr>\n    <tr>\n      <th>15</th>\n      <td>7.0</td>\n      <td>66.25</td>\n      <td>50.0</td>\n      <td>0.6750</td>\n      <td>0.7750</td>\n      <td>0.78875</td>\n      <td>0.047040</td>\n    </tr>\n    <tr>\n      <th>16</th>\n      <td>8.0</td>\n      <td>81.25</td>\n      <td>30.0</td>\n      <td>0.0250</td>\n      <td>0.8750</td>\n      <td>0.90750</td>\n      <td>0.032927</td>\n    </tr>\n    <tr>\n      <th>17</th>\n      <td>8.0</td>\n      <td>81.25</td>\n      <td>50.0</td>\n      <td>0.1375</td>\n      <td>0.9625</td>\n      <td>0.90750</td>\n      <td>0.032927</td>\n    </tr>\n    <tr>\n      <th>18</th>\n      <td>9.0</td>\n      <td>78.75</td>\n      <td>30.0</td>\n      <td>0.1000</td>\n      <td>0.4625</td>\n      <td>0.80750</td>\n      <td>0.041489</td>\n    </tr>\n    <tr>\n      <th>19</th>\n      <td>9.0</td>\n      <td>78.75</td>\n      <td>50.0</td>\n      <td>0.5250</td>\n      <td>0.7500</td>\n      <td>0.80750</td>\n      <td>0.041489</td>\n    </tr>\n  </tbody>\n</table>\n</div>"
     },
     "execution_count": 6,
     "metadata": {},
     "output_type": "execute_result"
    }
   ],
   "source": [
    "path_to_results_gnn_subnet = \"results_gnn_subnet_final\"\n",
    "\n",
    "final_table_gnn_subnet = obtain_results_from_folder(path_to_results_gnn_subnet)\n",
    "\n",
    "final_table_gnn_subnet"
   ],
   "metadata": {
    "collapsed": false
   }
  },
  {
   "cell_type": "code",
   "execution_count": 7,
   "outputs": [
    {
     "data": {
      "text/plain": "                 Model Accuracy  validity+  validity-  fidelity  sparsity\nThreshold Value                                                          \n30.0                       75.0    0.25875    0.73625  0.855625  0.042664\n50.0                       75.0    0.47125    0.85375  0.855625  0.042664",
      "text/html": "<div>\n<style scoped>\n    .dataframe tbody tr th:only-of-type {\n        vertical-align: middle;\n    }\n\n    .dataframe tbody tr th {\n        vertical-align: top;\n    }\n\n    .dataframe thead th {\n        text-align: right;\n    }\n</style>\n<table border=\"1\" class=\"dataframe\">\n  <thead>\n    <tr style=\"text-align: right;\">\n      <th></th>\n      <th>Model Accuracy</th>\n      <th>validity+</th>\n      <th>validity-</th>\n      <th>fidelity</th>\n      <th>sparsity</th>\n    </tr>\n    <tr>\n      <th>Threshold Value</th>\n      <th></th>\n      <th></th>\n      <th></th>\n      <th></th>\n      <th></th>\n    </tr>\n  </thead>\n  <tbody>\n    <tr>\n      <th>30.0</th>\n      <td>75.0</td>\n      <td>0.25875</td>\n      <td>0.73625</td>\n      <td>0.855625</td>\n      <td>0.042664</td>\n    </tr>\n    <tr>\n      <th>50.0</th>\n      <td>75.0</td>\n      <td>0.47125</td>\n      <td>0.85375</td>\n      <td>0.855625</td>\n      <td>0.042664</td>\n    </tr>\n  </tbody>\n</table>\n</div>"
     },
     "execution_count": 7,
     "metadata": {},
     "output_type": "execute_result"
    }
   ],
   "source": [
    "final_table_reduced_gnn_subnet = final_table_gnn_subnet.groupby(['Threshold Value']).mean()\n",
    "final_table_reduced_gnn_subnet = final_table_reduced_gnn_subnet.drop(['Iteration'], axis=1)\n",
    "final_table_reduced_gnn_subnet"
   ],
   "metadata": {
    "collapsed": false
   }
  },
  {
   "cell_type": "markdown",
   "source": [
    "## Other results\n",
    "\n",
    "The code cells below obtain the results from other runs of the two explainers, pre-process and aggregate them\n",
    "These results require more pre-processing than the other two folders"
   ],
   "metadata": {
    "collapsed": false
   }
  },
  {
   "cell_type": "code",
   "execution_count": 8,
   "outputs": [],
   "source": [
    "def validity_plus_aggregation(validity_plus_row):\n",
    "    \"\"\"\n",
    "    Computes Validity+ in terms of its confusion matrix as follows:\n",
    "        validity+ = (mat[1,0] + mat[0,1] ) / (mat[0,0] + mat[0,1] + mat[1,0] + mat[1,1])\n",
    "    \"\"\"\n",
    "    return (validity_plus_row[4] + validity_plus_row[5]) / (validity_plus_row[3:7].sum())\n",
    "\n",
    "def validity_minus_aggregation(validity_minus_row):\n",
    "    \"\"\"\n",
    "    Computes Validity- in terms of its confusion matrix as follows:\n",
    "        validity- = (mat[0,0] + mat[1,1] ) /  (mat[0,0] + mat[0,1] + mat[1,0] + mat[1,1])\n",
    "    \"\"\"\n",
    "    return (validity_minus_row[3] + validity_minus_row[6]) / (validity_minus_row[3:7].sum())"
   ],
   "metadata": {
    "collapsed": false
   }
  },
  {
   "cell_type": "code",
   "execution_count": 47,
   "outputs": [],
   "source": [
    "def obtain_processed_results(path_to_results, pre_process_fidelities, pre_process_validities):\n",
    "\n",
    "    fidelities = []\n",
    "    fidelity_values_only = []\n",
    "    sparsities = []\n",
    "    validities_plus = []\n",
    "    validities_minus = []\n",
    "\n",
    "    for i in range(0, no_of_runs):\n",
    "\n",
    "        # Save the fidelity\n",
    "        fidelity_file = f'{path_to_results}/{i}_fidelities.csv'\n",
    "        current_fidelity = pd.read_csv(fidelity_file, index_col = False, header=None)\n",
    "        if i in pre_process_fidelities:\n",
    "            fidelity_values_only.append(pd.DataFrame([[i, current_fidelity.mean(axis=None)]], columns=['Iteration', 'Fidelity']))\n",
    "        else:\n",
    "            fidelities.append(current_fidelity.drop(columns=[1]).rename(columns={0:'Iteration', 2:'Fidelity'}))\n",
    "\n",
    "        # Save the sparsity\n",
    "        sparsity_file = f'{path_to_results}/{i}_sparsities.csv'\n",
    "        current_sparsity = pd.read_csv(sparsity_file, index_col = False, header=None)\n",
    "        sparsities.append(current_sparsity.mean(axis=None))\n",
    "\n",
    "        validity_plus_file = f'{path_to_results}/{i}_validity_plus.csv'\n",
    "        current_validity_plus = pd.read_csv(validity_plus_file, index_col=False, header=None)\n",
    "\n",
    "        validity_minus_file = f'{path_to_results}/{i}_validity_minus.csv'\n",
    "        current_validity_minus = pd.read_csv(validity_minus_file, index_col=False, header=None)\n",
    "\n",
    "        if i not in pre_process_validities:\n",
    "            # Save Validity+\n",
    "            current_validity_plus = current_validity_plus.rename(columns={0:'Iteration', 1:'Model Accuracy', 2:'Threshold Value', 3: 'Validity+'})\n",
    "            validities_plus.append(current_validity_plus)\n",
    "\n",
    "            # Save Validity-\n",
    "            current_validity_minus = current_validity_minus.rename(columns={0:'Iteration', 1:'Model Accuracy', 2:'Threshold Value', 3: 'Validity-'})\n",
    "            validities_minus.append(current_validity_minus)\n",
    "        else:\n",
    "            # Pre-process and save Validity+\n",
    "            validity_plus_to_append = current_validity_plus.apply(validity_plus_aggregation, axis = 1)\n",
    "            current_validity_plus = current_validity_plus.rename(columns={0:'Iteration', 1:'Model Accuracy', 2:'Threshold Value'})\n",
    "            current_validity_plus[\"Validity+\"] = validity_plus_to_append\n",
    "            current_validity_plus = current_validity_plus.drop(current_validity_plus.iloc[:, [3, 4, 5, 6]], axis=1)\n",
    "            validities_plus.append(current_validity_plus)\n",
    "            # Pre-process and save Validity-\n",
    "            validity_minus_to_append = current_validity_minus.apply(validity_minus_aggregation, axis = 1)\n",
    "            current_validity_minus = current_validity_minus.rename(columns={0:'Iteration', 1:'Model Accuracy', 2:'Threshold Value'})\n",
    "            current_validity_minus[\"Validity-\"] = validity_minus_to_append\n",
    "            current_validity_minus = current_validity_minus.drop(current_validity_minus.iloc[:, [3, 4, 5, 6]], axis=1)\n",
    "            validities_minus.append(current_validity_minus)\n",
    "\n",
    "    # Obtain a single data frame per metric\n",
    "    validities_plus = pd.concat(validities_plus)\n",
    "    validities_plus = validities_plus.drop_duplicates()\n",
    "\n",
    "    validities_minus = pd.concat(validities_minus)\n",
    "    validities_minus = validities_minus.drop_duplicates()\n",
    "\n",
    "    fidelities = pd.concat(fidelities)\n",
    "\n",
    "    if fidelity_values_only:\n",
    "        fidelity_values_only = pd.concat(fidelity_values_only)\n",
    "        fidelities = pd.concat([fidelities, fidelity_values_only])\n",
    "    fidelities = fidelities.sort_values(by='Iteration')\n",
    "    fidelities = fidelities.drop_duplicates()\n",
    "\n",
    "    final_table = validities_plus\n",
    "\n",
    "    final_table['validity-'] = validities_minus['Validity-']\n",
    "\n",
    "    fidelities_to_append = []\n",
    "    sparsities_to_append = []\n",
    "    for i in final_table['Iteration']:\n",
    "        fidelities_to_append.append(fidelities.iloc[np.int_(i), 1])\n",
    "        sparsities_to_append.append(sparsities[np.int_(i)])\n",
    "    final_table['fidelity'] = fidelities_to_append\n",
    "    final_table['sparsity'] = sparsities_to_append\n",
    "\n",
    "    return final_table"
   ],
   "metadata": {
    "collapsed": false
   }
  },
  {
   "cell_type": "code",
   "execution_count": 43,
   "outputs": [
    {
     "name": "stdout",
     "output_type": "stream",
     "text": [
      "   Iteration  Fidelity\n",
      "0        0.0   0.93000\n",
      "0        0.0   0.93000\n",
      "1        1.0   0.73000\n",
      "0        0.0   0.93000\n",
      "1        1.0   0.73000\n",
      "2        2.0   0.90125\n",
      "0        0.0   0.93000\n",
      "1        1.0   0.73000\n",
      "2        2.0   0.90125\n",
      "3        3.0   0.94250\n",
      "0        0.0   0.93000\n",
      "1        1.0   0.73000\n",
      "2        2.0   0.90125\n",
      "3        3.0   0.94250\n",
      "4        4.0   0.93500\n",
      "0        5.0   0.95000\n",
      "0        5.0   0.95000\n",
      "1        6.0   0.86875\n",
      "0        5.0   0.95000\n",
      "1        6.0   0.86875\n",
      "2        7.0   0.85125\n",
      "0        8.0   0.81375\n",
      "0        8.0   0.81375\n",
      "1        9.0   0.82250\n",
      "[]\n"
     ]
    },
    {
     "data": {
      "text/plain": "   Iteration  Model Accuracy  Threshold Value  Validity+  validity-  fidelity   \n0        0.0           78.75             30.0     0.4375     0.7625   0.93000  \\\n1        0.0           78.75             50.0     0.7375     0.9375   0.93000   \n2        1.0           62.50             30.0     0.0625     0.5750   0.73000   \n3        1.0           62.50             50.0     0.1500     0.6375   0.73000   \n4        2.0           65.00             30.0     0.2125     0.9000   0.90125   \n5        2.0           65.00             50.0     0.3750     0.9500   0.90125   \n6        3.0           83.75             30.0     0.8000     0.9250   0.94250   \n7        3.0           83.75             50.0     0.9250     0.9250   0.94250   \n8        4.0           80.00             30.0     0.4000     0.9250   0.93500   \n9        4.0           80.00             50.0     0.6375     0.9375   0.93500   \n0        5.0           81.25             30.0     0.4250     0.9625   0.95000   \n1        5.0           81.25             50.0     0.6875     0.9625   0.95000   \n2        6.0           73.75             30.0     0.7375     0.8500   0.86875   \n3        6.0           73.75             50.0     0.7625     0.8625   0.86875   \n4        7.0           58.75             30.0     0.1125     0.9375   0.85125   \n5        7.0           58.75             50.0     0.2000     0.8750   0.85125   \n0        8.0           71.25             30.0     0.6250     0.8375   0.81375   \n1        8.0           71.25             50.0     0.6250     0.7750   0.81375   \n2        9.0           75.00             30.0     0.4875     0.8250   0.82250   \n3        9.0           75.00             50.0     0.7500     0.8000   0.82250   \n\n   sparsity  \n0  0.044254  \n1  0.044254  \n2  0.033150  \n3  0.033150  \n4  0.037540  \n5  0.037540  \n6  0.041623  \n7  0.041623  \n8  0.042375  \n9  0.042375  \n0  0.043822  \n1  0.043822  \n2  0.047309  \n3  0.047309  \n4  0.047731  \n5  0.047731  \n0  0.051819  \n1  0.051819  \n2  0.045051  \n3  0.045051  ",
      "text/html": "<div>\n<style scoped>\n    .dataframe tbody tr th:only-of-type {\n        vertical-align: middle;\n    }\n\n    .dataframe tbody tr th {\n        vertical-align: top;\n    }\n\n    .dataframe thead th {\n        text-align: right;\n    }\n</style>\n<table border=\"1\" class=\"dataframe\">\n  <thead>\n    <tr style=\"text-align: right;\">\n      <th></th>\n      <th>Iteration</th>\n      <th>Model Accuracy</th>\n      <th>Threshold Value</th>\n      <th>Validity+</th>\n      <th>validity-</th>\n      <th>fidelity</th>\n      <th>sparsity</th>\n    </tr>\n  </thead>\n  <tbody>\n    <tr>\n      <th>0</th>\n      <td>0.0</td>\n      <td>78.75</td>\n      <td>30.0</td>\n      <td>0.4375</td>\n      <td>0.7625</td>\n      <td>0.93000</td>\n      <td>0.044254</td>\n    </tr>\n    <tr>\n      <th>1</th>\n      <td>0.0</td>\n      <td>78.75</td>\n      <td>50.0</td>\n      <td>0.7375</td>\n      <td>0.9375</td>\n      <td>0.93000</td>\n      <td>0.044254</td>\n    </tr>\n    <tr>\n      <th>2</th>\n      <td>1.0</td>\n      <td>62.50</td>\n      <td>30.0</td>\n      <td>0.0625</td>\n      <td>0.5750</td>\n      <td>0.73000</td>\n      <td>0.033150</td>\n    </tr>\n    <tr>\n      <th>3</th>\n      <td>1.0</td>\n      <td>62.50</td>\n      <td>50.0</td>\n      <td>0.1500</td>\n      <td>0.6375</td>\n      <td>0.73000</td>\n      <td>0.033150</td>\n    </tr>\n    <tr>\n      <th>4</th>\n      <td>2.0</td>\n      <td>65.00</td>\n      <td>30.0</td>\n      <td>0.2125</td>\n      <td>0.9000</td>\n      <td>0.90125</td>\n      <td>0.037540</td>\n    </tr>\n    <tr>\n      <th>5</th>\n      <td>2.0</td>\n      <td>65.00</td>\n      <td>50.0</td>\n      <td>0.3750</td>\n      <td>0.9500</td>\n      <td>0.90125</td>\n      <td>0.037540</td>\n    </tr>\n    <tr>\n      <th>6</th>\n      <td>3.0</td>\n      <td>83.75</td>\n      <td>30.0</td>\n      <td>0.8000</td>\n      <td>0.9250</td>\n      <td>0.94250</td>\n      <td>0.041623</td>\n    </tr>\n    <tr>\n      <th>7</th>\n      <td>3.0</td>\n      <td>83.75</td>\n      <td>50.0</td>\n      <td>0.9250</td>\n      <td>0.9250</td>\n      <td>0.94250</td>\n      <td>0.041623</td>\n    </tr>\n    <tr>\n      <th>8</th>\n      <td>4.0</td>\n      <td>80.00</td>\n      <td>30.0</td>\n      <td>0.4000</td>\n      <td>0.9250</td>\n      <td>0.93500</td>\n      <td>0.042375</td>\n    </tr>\n    <tr>\n      <th>9</th>\n      <td>4.0</td>\n      <td>80.00</td>\n      <td>50.0</td>\n      <td>0.6375</td>\n      <td>0.9375</td>\n      <td>0.93500</td>\n      <td>0.042375</td>\n    </tr>\n    <tr>\n      <th>0</th>\n      <td>5.0</td>\n      <td>81.25</td>\n      <td>30.0</td>\n      <td>0.4250</td>\n      <td>0.9625</td>\n      <td>0.95000</td>\n      <td>0.043822</td>\n    </tr>\n    <tr>\n      <th>1</th>\n      <td>5.0</td>\n      <td>81.25</td>\n      <td>50.0</td>\n      <td>0.6875</td>\n      <td>0.9625</td>\n      <td>0.95000</td>\n      <td>0.043822</td>\n    </tr>\n    <tr>\n      <th>2</th>\n      <td>6.0</td>\n      <td>73.75</td>\n      <td>30.0</td>\n      <td>0.7375</td>\n      <td>0.8500</td>\n      <td>0.86875</td>\n      <td>0.047309</td>\n    </tr>\n    <tr>\n      <th>3</th>\n      <td>6.0</td>\n      <td>73.75</td>\n      <td>50.0</td>\n      <td>0.7625</td>\n      <td>0.8625</td>\n      <td>0.86875</td>\n      <td>0.047309</td>\n    </tr>\n    <tr>\n      <th>4</th>\n      <td>7.0</td>\n      <td>58.75</td>\n      <td>30.0</td>\n      <td>0.1125</td>\n      <td>0.9375</td>\n      <td>0.85125</td>\n      <td>0.047731</td>\n    </tr>\n    <tr>\n      <th>5</th>\n      <td>7.0</td>\n      <td>58.75</td>\n      <td>50.0</td>\n      <td>0.2000</td>\n      <td>0.8750</td>\n      <td>0.85125</td>\n      <td>0.047731</td>\n    </tr>\n    <tr>\n      <th>0</th>\n      <td>8.0</td>\n      <td>71.25</td>\n      <td>30.0</td>\n      <td>0.6250</td>\n      <td>0.8375</td>\n      <td>0.81375</td>\n      <td>0.051819</td>\n    </tr>\n    <tr>\n      <th>1</th>\n      <td>8.0</td>\n      <td>71.25</td>\n      <td>50.0</td>\n      <td>0.6250</td>\n      <td>0.7750</td>\n      <td>0.81375</td>\n      <td>0.051819</td>\n    </tr>\n    <tr>\n      <th>2</th>\n      <td>9.0</td>\n      <td>75.00</td>\n      <td>30.0</td>\n      <td>0.4875</td>\n      <td>0.8250</td>\n      <td>0.82250</td>\n      <td>0.045051</td>\n    </tr>\n    <tr>\n      <th>3</th>\n      <td>9.0</td>\n      <td>75.00</td>\n      <td>50.0</td>\n      <td>0.7500</td>\n      <td>0.8000</td>\n      <td>0.82250</td>\n      <td>0.045051</td>\n    </tr>\n  </tbody>\n</table>\n</div>"
     },
     "execution_count": 43,
     "metadata": {},
     "output_type": "execute_result"
    }
   ],
   "source": [
    "path_to_results = \"results_gnn_subnet\"\n",
    "final_table_gnn_subnet2 = obtain_processed_results(path_to_results, [], [5, 6, 7, 8, 9])\n",
    "\n",
    "final_table_gnn_subnet2"
   ],
   "metadata": {
    "collapsed": false
   }
  },
  {
   "cell_type": "code",
   "execution_count": 48,
   "outputs": [
    {
     "data": {
      "text/plain": "                 Model Accuracy  Validity+  validity-  fidelity  sparsity\nThreshold Value                                                          \n30.0                       73.0      0.430    0.85000    0.8745  0.043467\n50.0                       73.0      0.585    0.86625    0.8745  0.043467",
      "text/html": "<div>\n<style scoped>\n    .dataframe tbody tr th:only-of-type {\n        vertical-align: middle;\n    }\n\n    .dataframe tbody tr th {\n        vertical-align: top;\n    }\n\n    .dataframe thead th {\n        text-align: right;\n    }\n</style>\n<table border=\"1\" class=\"dataframe\">\n  <thead>\n    <tr style=\"text-align: right;\">\n      <th></th>\n      <th>Model Accuracy</th>\n      <th>Validity+</th>\n      <th>validity-</th>\n      <th>fidelity</th>\n      <th>sparsity</th>\n    </tr>\n    <tr>\n      <th>Threshold Value</th>\n      <th></th>\n      <th></th>\n      <th></th>\n      <th></th>\n      <th></th>\n    </tr>\n  </thead>\n  <tbody>\n    <tr>\n      <th>30.0</th>\n      <td>73.0</td>\n      <td>0.430</td>\n      <td>0.85000</td>\n      <td>0.8745</td>\n      <td>0.043467</td>\n    </tr>\n    <tr>\n      <th>50.0</th>\n      <td>73.0</td>\n      <td>0.585</td>\n      <td>0.86625</td>\n      <td>0.8745</td>\n      <td>0.043467</td>\n    </tr>\n  </tbody>\n</table>\n</div>"
     },
     "execution_count": 48,
     "metadata": {},
     "output_type": "execute_result"
    }
   ],
   "source": [
    "final_table_reduced_gnn_subnet = final_table_gnn_subnet2.groupby(['Threshold Value']).mean()\n",
    "final_table_reduced_gnn_subnet = final_table_reduced_gnn_subnet.drop(['Iteration'], axis=1)\n",
    "final_table_reduced_gnn_subnet"
   ],
   "metadata": {
    "collapsed": false
   }
  },
  {
   "cell_type": "code",
   "execution_count": 50,
   "outputs": [
    {
     "name": "stdout",
     "output_type": "stream",
     "text": [
      "   Iteration  Model Accuracy  Threshold Value  Validity+\n",
      "0        0.0           80.00             30.0     0.0500\n",
      "1        0.0           80.00             50.0     0.2375\n",
      "2        1.0           70.00             30.0     0.2000\n",
      "3        1.0           70.00             50.0     0.2750\n",
      "4        2.0           83.75             30.0     0.3250\n",
      "5        2.0           83.75             50.0     0.3375\n",
      "6        3.0           76.25             30.0     0.3750\n",
      "7        3.0           76.25             50.0     0.3750\n",
      "0        4.0           73.75             30.0     0.2125\n",
      "1        4.0           73.75             50.0     0.5375\n",
      "0        5.0           81.25             30.0     0.2500\n",
      "1        5.0           81.25             50.0     0.3875\n",
      "2        6.0           83.75             30.0     0.9125\n",
      "3        6.0           83.75             50.0     0.9250\n",
      "0        7.0           72.50             30.0     0.4125\n",
      "1        7.0           72.50             50.0     0.7500\n",
      "0        8.0           75.00             30.0     0.7500\n",
      "1        8.0           75.00             50.0     0.8125\n",
      "2        9.0           81.25             30.0     0.0375\n",
      "3        9.0           81.25             50.0     0.5375\n"
     ]
    },
    {
     "data": {
      "text/plain": "   Iteration  Model Accuracy  Threshold Value  Validity+  validity-  fidelity   \n0        0.0           80.00             30.0     0.0500     0.8875   0.86375  \\\n1        0.0           80.00             50.0     0.2375     0.9500   0.86375   \n2        1.0           70.00             30.0     0.2000     0.8375   0.79000   \n3        1.0           70.00             50.0     0.2750     0.8375   0.79000   \n4        2.0           83.75             30.0     0.3250     0.6750   0.83875   \n5        2.0           83.75             50.0     0.3375     0.7625   0.83875   \n6        3.0           76.25             30.0     0.3750     0.8875   0.85125   \n7        3.0           76.25             50.0     0.3750     0.9125   0.85125   \n0        4.0           73.75             30.0     0.2125     0.5750   0.88250   \n1        4.0           73.75             50.0     0.5375     0.9250   0.88250   \n0        5.0           81.25             30.0     0.2500     0.7500   0.86500   \n1        5.0           81.25             50.0     0.3875     0.9125   0.86500   \n2        6.0           83.75             30.0     0.9125     0.9375   0.95250   \n3        6.0           83.75             50.0     0.9250     0.9250   0.95250   \n0        7.0           72.50             30.0     0.4125     0.8875   0.85000   \n1        7.0           72.50             50.0     0.7500     0.8500   0.85000   \n0        8.0           75.00             30.0     0.7500     0.9375   0.92750   \n1        8.0           75.00             50.0     0.8125     0.9250   0.92750   \n2        9.0           81.25             30.0     0.0375     0.9125   0.91875   \n3        9.0           81.25             50.0     0.5375     0.9375   0.91875   \n\n   sparsity  \n0  0.021414  \n1  0.021414  \n2  0.018214  \n3  0.018214  \n4  0.019441  \n5  0.019441  \n6  0.013724  \n7  0.013724  \n0  0.023686  \n1  0.023686  \n0  0.021828  \n1  0.021828  \n2  0.015562  \n3  0.015562  \n0  0.023431  \n1  0.023431  \n0  0.009969  \n1  0.009969  \n2  0.028436  \n3  0.028436  ",
      "text/html": "<div>\n<style scoped>\n    .dataframe tbody tr th:only-of-type {\n        vertical-align: middle;\n    }\n\n    .dataframe tbody tr th {\n        vertical-align: top;\n    }\n\n    .dataframe thead th {\n        text-align: right;\n    }\n</style>\n<table border=\"1\" class=\"dataframe\">\n  <thead>\n    <tr style=\"text-align: right;\">\n      <th></th>\n      <th>Iteration</th>\n      <th>Model Accuracy</th>\n      <th>Threshold Value</th>\n      <th>Validity+</th>\n      <th>validity-</th>\n      <th>fidelity</th>\n      <th>sparsity</th>\n    </tr>\n  </thead>\n  <tbody>\n    <tr>\n      <th>0</th>\n      <td>0.0</td>\n      <td>80.00</td>\n      <td>30.0</td>\n      <td>0.0500</td>\n      <td>0.8875</td>\n      <td>0.86375</td>\n      <td>0.021414</td>\n    </tr>\n    <tr>\n      <th>1</th>\n      <td>0.0</td>\n      <td>80.00</td>\n      <td>50.0</td>\n      <td>0.2375</td>\n      <td>0.9500</td>\n      <td>0.86375</td>\n      <td>0.021414</td>\n    </tr>\n    <tr>\n      <th>2</th>\n      <td>1.0</td>\n      <td>70.00</td>\n      <td>30.0</td>\n      <td>0.2000</td>\n      <td>0.8375</td>\n      <td>0.79000</td>\n      <td>0.018214</td>\n    </tr>\n    <tr>\n      <th>3</th>\n      <td>1.0</td>\n      <td>70.00</td>\n      <td>50.0</td>\n      <td>0.2750</td>\n      <td>0.8375</td>\n      <td>0.79000</td>\n      <td>0.018214</td>\n    </tr>\n    <tr>\n      <th>4</th>\n      <td>2.0</td>\n      <td>83.75</td>\n      <td>30.0</td>\n      <td>0.3250</td>\n      <td>0.6750</td>\n      <td>0.83875</td>\n      <td>0.019441</td>\n    </tr>\n    <tr>\n      <th>5</th>\n      <td>2.0</td>\n      <td>83.75</td>\n      <td>50.0</td>\n      <td>0.3375</td>\n      <td>0.7625</td>\n      <td>0.83875</td>\n      <td>0.019441</td>\n    </tr>\n    <tr>\n      <th>6</th>\n      <td>3.0</td>\n      <td>76.25</td>\n      <td>30.0</td>\n      <td>0.3750</td>\n      <td>0.8875</td>\n      <td>0.85125</td>\n      <td>0.013724</td>\n    </tr>\n    <tr>\n      <th>7</th>\n      <td>3.0</td>\n      <td>76.25</td>\n      <td>50.0</td>\n      <td>0.3750</td>\n      <td>0.9125</td>\n      <td>0.85125</td>\n      <td>0.013724</td>\n    </tr>\n    <tr>\n      <th>0</th>\n      <td>4.0</td>\n      <td>73.75</td>\n      <td>30.0</td>\n      <td>0.2125</td>\n      <td>0.5750</td>\n      <td>0.88250</td>\n      <td>0.023686</td>\n    </tr>\n    <tr>\n      <th>1</th>\n      <td>4.0</td>\n      <td>73.75</td>\n      <td>50.0</td>\n      <td>0.5375</td>\n      <td>0.9250</td>\n      <td>0.88250</td>\n      <td>0.023686</td>\n    </tr>\n    <tr>\n      <th>0</th>\n      <td>5.0</td>\n      <td>81.25</td>\n      <td>30.0</td>\n      <td>0.2500</td>\n      <td>0.7500</td>\n      <td>0.86500</td>\n      <td>0.021828</td>\n    </tr>\n    <tr>\n      <th>1</th>\n      <td>5.0</td>\n      <td>81.25</td>\n      <td>50.0</td>\n      <td>0.3875</td>\n      <td>0.9125</td>\n      <td>0.86500</td>\n      <td>0.021828</td>\n    </tr>\n    <tr>\n      <th>2</th>\n      <td>6.0</td>\n      <td>83.75</td>\n      <td>30.0</td>\n      <td>0.9125</td>\n      <td>0.9375</td>\n      <td>0.95250</td>\n      <td>0.015562</td>\n    </tr>\n    <tr>\n      <th>3</th>\n      <td>6.0</td>\n      <td>83.75</td>\n      <td>50.0</td>\n      <td>0.9250</td>\n      <td>0.9250</td>\n      <td>0.95250</td>\n      <td>0.015562</td>\n    </tr>\n    <tr>\n      <th>0</th>\n      <td>7.0</td>\n      <td>72.50</td>\n      <td>30.0</td>\n      <td>0.4125</td>\n      <td>0.8875</td>\n      <td>0.85000</td>\n      <td>0.023431</td>\n    </tr>\n    <tr>\n      <th>1</th>\n      <td>7.0</td>\n      <td>72.50</td>\n      <td>50.0</td>\n      <td>0.7500</td>\n      <td>0.8500</td>\n      <td>0.85000</td>\n      <td>0.023431</td>\n    </tr>\n    <tr>\n      <th>0</th>\n      <td>8.0</td>\n      <td>75.00</td>\n      <td>30.0</td>\n      <td>0.7500</td>\n      <td>0.9375</td>\n      <td>0.92750</td>\n      <td>0.009969</td>\n    </tr>\n    <tr>\n      <th>1</th>\n      <td>8.0</td>\n      <td>75.00</td>\n      <td>50.0</td>\n      <td>0.8125</td>\n      <td>0.9250</td>\n      <td>0.92750</td>\n      <td>0.009969</td>\n    </tr>\n    <tr>\n      <th>2</th>\n      <td>9.0</td>\n      <td>81.25</td>\n      <td>30.0</td>\n      <td>0.0375</td>\n      <td>0.9125</td>\n      <td>0.91875</td>\n      <td>0.028436</td>\n    </tr>\n    <tr>\n      <th>3</th>\n      <td>9.0</td>\n      <td>81.25</td>\n      <td>50.0</td>\n      <td>0.5375</td>\n      <td>0.9375</td>\n      <td>0.91875</td>\n      <td>0.028436</td>\n    </tr>\n  </tbody>\n</table>\n</div>"
     },
     "execution_count": 50,
     "metadata": {},
     "output_type": "execute_result"
    }
   ],
   "source": [
    "path_to_results = \"results_modified_alg\"\n",
    "final_table_modified_alg2 = obtain_processed_results(path_to_results, [0, 1, 2, 3, 4, 7, 8, 9], [0, 1, 2, 3, 4, 7, 8, 9])\n",
    "\n",
    "final_table_modified_alg2"
   ],
   "metadata": {
    "collapsed": false
   }
  },
  {
   "cell_type": "code",
   "execution_count": 51,
   "outputs": [
    {
     "data": {
      "text/plain": "                 Model Accuracy  Validity+  validity-  fidelity  sparsity\nThreshold Value                                                          \n30.0                      77.75     0.3525    0.82875     0.874  0.019571\n50.0                      77.75     0.5175    0.89375     0.874  0.019571",
      "text/html": "<div>\n<style scoped>\n    .dataframe tbody tr th:only-of-type {\n        vertical-align: middle;\n    }\n\n    .dataframe tbody tr th {\n        vertical-align: top;\n    }\n\n    .dataframe thead th {\n        text-align: right;\n    }\n</style>\n<table border=\"1\" class=\"dataframe\">\n  <thead>\n    <tr style=\"text-align: right;\">\n      <th></th>\n      <th>Model Accuracy</th>\n      <th>Validity+</th>\n      <th>validity-</th>\n      <th>fidelity</th>\n      <th>sparsity</th>\n    </tr>\n    <tr>\n      <th>Threshold Value</th>\n      <th></th>\n      <th></th>\n      <th></th>\n      <th></th>\n      <th></th>\n    </tr>\n  </thead>\n  <tbody>\n    <tr>\n      <th>30.0</th>\n      <td>77.75</td>\n      <td>0.3525</td>\n      <td>0.82875</td>\n      <td>0.874</td>\n      <td>0.019571</td>\n    </tr>\n    <tr>\n      <th>50.0</th>\n      <td>77.75</td>\n      <td>0.5175</td>\n      <td>0.89375</td>\n      <td>0.874</td>\n      <td>0.019571</td>\n    </tr>\n  </tbody>\n</table>\n</div>"
     },
     "execution_count": 51,
     "metadata": {},
     "output_type": "execute_result"
    }
   ],
   "source": [
    "final_table_reduced_modified_alg = final_table_modified_alg2.groupby(['Threshold Value']).mean()\n",
    "final_table_reduced_modified_alg = final_table_reduced_modified_alg.drop(['Iteration'], axis=1)\n",
    "final_table_reduced_modified_alg"
   ],
   "metadata": {
    "collapsed": false
   }
  }
 ],
 "metadata": {
  "kernelspec": {
   "display_name": "Python 3",
   "language": "python",
   "name": "python3"
  },
  "language_info": {
   "codemirror_mode": {
    "name": "ipython",
    "version": 2
   },
   "file_extension": ".py",
   "mimetype": "text/x-python",
   "name": "python",
   "nbconvert_exporter": "python",
   "pygments_lexer": "ipython2",
   "version": "2.7.6"
  }
 },
 "nbformat": 4,
 "nbformat_minor": 0
}
