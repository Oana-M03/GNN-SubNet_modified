{
 "cells": [
  {
   "cell_type": "code",
   "execution_count": 1,
   "metadata": {
    "collapsed": true
   },
   "outputs": [],
   "source": [
    "import pandas as pd\n",
    "\n",
    "no_of_runs = 6\n",
    "\n",
    "path_to_results = \"results_modified_alg\""
   ]
  },
  {
   "cell_type": "code",
   "execution_count": 21,
   "outputs": [
    {
     "data": {
      "text/plain": "      0    1    2    3    4    5    6    7    8    9   ...   69   70   71   \n0.9  1.0  1.0  1.0  0.8  0.5  0.9  0.9  1.0  0.4  0.3  ...  1.0  0.8  0.6  \\\n0.4  0.1  0.7  1.0  1.0  0.7  0.4  1.0  1.0  1.0  1.0  ...  0.9  0.7  1.0   \n0.6  0.9  1.0  1.0  0.8  1.0  0.5  1.0  0.9  0.6  1.0  ...  1.0  1.0  0.6   \n0.9  0.8  0.9  0.7  1.0  0.4  1.0  0.7  1.0  0.9  1.0  ...  0.6  0.5  0.7   \n1.0  1.0  1.0  1.0  1.0  0.5  0.6  1.0  1.0  0.6  0.9  ...  1.0  0.6  0.8   \n1.0  0.5  0.6  0.8  0.6  0.6  0.5  1.0  0.6  0.7  0.9  ...  0.7  1.0  0.6   \n\n      72   73   74   75   76   77   78  \n0.9  1.0  1.0  1.0  1.0  0.3  0.9  1.0  \n0.4  0.7  1.0  0.8  0.8  0.8  0.6  1.0  \n0.6  1.0  1.0  1.0  0.4  1.0  1.0  1.0  \n0.9  0.8  0.6  0.5  0.7  1.0  0.8  1.0  \n1.0  0.9  1.0  0.6  1.0  1.0  0.3  0.9  \n1.0  1.0  0.8  0.7  0.3  0.5  0.8  0.3  \n\n[6 rows x 79 columns]",
      "text/html": "<div>\n<style scoped>\n    .dataframe tbody tr th:only-of-type {\n        vertical-align: middle;\n    }\n\n    .dataframe tbody tr th {\n        vertical-align: top;\n    }\n\n    .dataframe thead th {\n        text-align: right;\n    }\n</style>\n<table border=\"1\" class=\"dataframe\">\n  <thead>\n    <tr style=\"text-align: right;\">\n      <th></th>\n      <th>0</th>\n      <th>1</th>\n      <th>2</th>\n      <th>3</th>\n      <th>4</th>\n      <th>5</th>\n      <th>6</th>\n      <th>7</th>\n      <th>8</th>\n      <th>9</th>\n      <th>...</th>\n      <th>69</th>\n      <th>70</th>\n      <th>71</th>\n      <th>72</th>\n      <th>73</th>\n      <th>74</th>\n      <th>75</th>\n      <th>76</th>\n      <th>77</th>\n      <th>78</th>\n    </tr>\n  </thead>\n  <tbody>\n    <tr>\n      <th>0.9</th>\n      <td>1.0</td>\n      <td>1.0</td>\n      <td>1.0</td>\n      <td>0.8</td>\n      <td>0.5</td>\n      <td>0.9</td>\n      <td>0.9</td>\n      <td>1.0</td>\n      <td>0.4</td>\n      <td>0.3</td>\n      <td>...</td>\n      <td>1.0</td>\n      <td>0.8</td>\n      <td>0.6</td>\n      <td>1.0</td>\n      <td>1.0</td>\n      <td>1.0</td>\n      <td>1.0</td>\n      <td>0.3</td>\n      <td>0.9</td>\n      <td>1.0</td>\n    </tr>\n    <tr>\n      <th>0.4</th>\n      <td>0.1</td>\n      <td>0.7</td>\n      <td>1.0</td>\n      <td>1.0</td>\n      <td>0.7</td>\n      <td>0.4</td>\n      <td>1.0</td>\n      <td>1.0</td>\n      <td>1.0</td>\n      <td>1.0</td>\n      <td>...</td>\n      <td>0.9</td>\n      <td>0.7</td>\n      <td>1.0</td>\n      <td>0.7</td>\n      <td>1.0</td>\n      <td>0.8</td>\n      <td>0.8</td>\n      <td>0.8</td>\n      <td>0.6</td>\n      <td>1.0</td>\n    </tr>\n    <tr>\n      <th>0.6</th>\n      <td>0.9</td>\n      <td>1.0</td>\n      <td>1.0</td>\n      <td>0.8</td>\n      <td>1.0</td>\n      <td>0.5</td>\n      <td>1.0</td>\n      <td>0.9</td>\n      <td>0.6</td>\n      <td>1.0</td>\n      <td>...</td>\n      <td>1.0</td>\n      <td>1.0</td>\n      <td>0.6</td>\n      <td>1.0</td>\n      <td>1.0</td>\n      <td>1.0</td>\n      <td>0.4</td>\n      <td>1.0</td>\n      <td>1.0</td>\n      <td>1.0</td>\n    </tr>\n    <tr>\n      <th>0.9</th>\n      <td>0.8</td>\n      <td>0.9</td>\n      <td>0.7</td>\n      <td>1.0</td>\n      <td>0.4</td>\n      <td>1.0</td>\n      <td>0.7</td>\n      <td>1.0</td>\n      <td>0.9</td>\n      <td>1.0</td>\n      <td>...</td>\n      <td>0.6</td>\n      <td>0.5</td>\n      <td>0.7</td>\n      <td>0.8</td>\n      <td>0.6</td>\n      <td>0.5</td>\n      <td>0.7</td>\n      <td>1.0</td>\n      <td>0.8</td>\n      <td>1.0</td>\n    </tr>\n    <tr>\n      <th>1.0</th>\n      <td>1.0</td>\n      <td>1.0</td>\n      <td>1.0</td>\n      <td>1.0</td>\n      <td>0.5</td>\n      <td>0.6</td>\n      <td>1.0</td>\n      <td>1.0</td>\n      <td>0.6</td>\n      <td>0.9</td>\n      <td>...</td>\n      <td>1.0</td>\n      <td>0.6</td>\n      <td>0.8</td>\n      <td>0.9</td>\n      <td>1.0</td>\n      <td>0.6</td>\n      <td>1.0</td>\n      <td>1.0</td>\n      <td>0.3</td>\n      <td>0.9</td>\n    </tr>\n    <tr>\n      <th>1.0</th>\n      <td>0.5</td>\n      <td>0.6</td>\n      <td>0.8</td>\n      <td>0.6</td>\n      <td>0.6</td>\n      <td>0.5</td>\n      <td>1.0</td>\n      <td>0.6</td>\n      <td>0.7</td>\n      <td>0.9</td>\n      <td>...</td>\n      <td>0.7</td>\n      <td>1.0</td>\n      <td>0.6</td>\n      <td>1.0</td>\n      <td>0.8</td>\n      <td>0.7</td>\n      <td>0.3</td>\n      <td>0.5</td>\n      <td>0.8</td>\n      <td>0.3</td>\n    </tr>\n  </tbody>\n</table>\n<p>6 rows × 79 columns</p>\n</div>"
     },
     "execution_count": 21,
     "metadata": {},
     "output_type": "execute_result"
    }
   ],
   "source": [
    "fidelities = []\n",
    "sparsities = []\n",
    "validities_plus = []\n",
    "validities_minus = []\n",
    "\n",
    "for i in range(0, no_of_runs):\n",
    "\n",
    "    # Save the fidelity\n",
    "    fidelity_file = f'{path_to_results}/{i}_fidelities.csv'\n",
    "    current_fidelity = pd.read_csv(fidelity_file, index_col = False)\n",
    "    fidelities.append(current_fidelity.T)\n",
    "\n",
    "    # Save the sparsity\n",
    "    sparsity_file = f'{path_to_results}/{i}_sparsities.csv'\n",
    "    current_sparsity = pd.read_csv(sparsity_file, index_col = False)\n",
    "    sparsities.append(current_sparsity.T)\n",
    "\n",
    "    # Save Validity+\n",
    "    validity_plus_file = f'{path_to_results}/{i}_validity_plus.csv'\n",
    "    current_validity_plus = pd.read_csv(validity_plus_file)\n",
    "    validities_plus.append(current_validity_plus)\n",
    "\n",
    "    # Save Validity-\n",
    "    validity_minus_file = f'{path_to_results}/{i}_validity_minus.csv'\n",
    "    current_validity_minus = pd.read_csv(validity_minus_file)\n",
    "    validities_minus.append(current_validity_minus)\n",
    "\n",
    "# Obtain a single data frame per metric\n",
    "fidelities = pd.concat(fidelities, axis=0)\n",
    "sparsities = pd.concat(sparsities, axis=0)\n",
    "validities_plus = pd.concat(validities_plus)\n",
    "validities_minus = pd.concat(validities_minus)\n",
    "\n",
    "fidelities"
   ],
   "metadata": {
    "collapsed": false
   }
  },
  {
   "cell_type": "code",
   "execution_count": null,
   "outputs": [],
   "source": [],
   "metadata": {
    "collapsed": false
   }
  }
 ],
 "metadata": {
  "kernelspec": {
   "display_name": "Python 3",
   "language": "python",
   "name": "python3"
  },
  "language_info": {
   "codemirror_mode": {
    "name": "ipython",
    "version": 2
   },
   "file_extension": ".py",
   "mimetype": "text/x-python",
   "name": "python",
   "nbconvert_exporter": "python",
   "pygments_lexer": "ipython2",
   "version": "2.7.6"
  }
 },
 "nbformat": 4,
 "nbformat_minor": 0
}
