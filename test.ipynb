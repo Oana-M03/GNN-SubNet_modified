{
 "cells": [
  {
   "cell_type": "code",
   "execution_count": 1,
   "metadata": {
    "collapsed": true
   },
   "outputs": [
    {
     "name": "stdout",
     "output_type": "stream",
     "text": [
      "Graph is connected  True\n",
      "Graph is connected  True\n",
      "##################\n",
      "# DATASET LOADED #\n",
      "##################\n",
      "\n",
      "Number of nodes: 30\n",
      "Number of edges: 29\n",
      "Number of modalities: 1\n",
      "graphcnn for training ...\n",
      "Graphs class 0: 500, Graphs class 1: 500\n",
      "Length of balanced dataset list: 1000\n",
      "Train graph class 0: 402, train graph class 1: 398\n",
      "Validation graph class 0: 98, validation graph class 1: 102\n"
     ]
    },
    {
     "name": "stderr",
     "output_type": "stream",
     "text": [
      "  0%|          | 0/35 [00:00<?, ?batch/s]C:\\Users\\elena\\DELFT\\assignments\\RP\\GNN-SubNet_modified\\GNNSubNet\\graphcnn.py:134: UserWarning: torch.sparse.SparseTensor(indices, values, shape, *, device=) is deprecated.  Please use torch.sparse_coo_tensor(indices, values, shape, dtype=, device=). (Triggered internally at C:\\actions-runner\\_work\\pytorch\\pytorch\\builder\\windows\\pytorch\\torch\\csrc\\utils\\tensor_new.cpp:623.)\n",
      "  graph_pool = torch.sparse.FloatTensor(idx, elem, torch.Size([len(batch_graph), start_idx[-1]]))\n",
      "100%|██████████| 35/35 [00:00<00:00, 109.98batch/s]\n"
     ]
    },
    {
     "name": "stdout",
     "output_type": "stream",
     "text": [
      "Epoch 0, loss 0.6545\n",
      "Train Acc 1.0000\n",
      "Epoch 0, val_loss 0.0023\n",
      "Saving best model with validation loss 0.002340131439268589\n"
     ]
    },
    {
     "name": "stderr",
     "output_type": "stream",
     "text": [
      "100%|██████████| 35/35 [00:00<00:00, 141.93batch/s]\n"
     ]
    },
    {
     "name": "stdout",
     "output_type": "stream",
     "text": [
      "Epoch 1, loss 0.2076\n",
      "Train Acc 1.0000\n",
      "Epoch 1, val_loss 0.0000\n",
      "Saving best model with validation loss 9.714688530948479e-06\n"
     ]
    },
    {
     "name": "stderr",
     "output_type": "stream",
     "text": [
      "100%|██████████| 35/35 [00:00<00:00, 153.23batch/s]\n"
     ]
    },
    {
     "name": "stdout",
     "output_type": "stream",
     "text": [
      "Epoch 2, loss 0.1498\n",
      "Train Acc 1.0000\n",
      "Epoch 2, val_loss 0.0000\n",
      "Saving best model with validation loss 1.6479592659379705e-06\n"
     ]
    },
    {
     "name": "stderr",
     "output_type": "stream",
     "text": [
      "100%|██████████| 35/35 [00:00<00:00, 174.52batch/s]\n"
     ]
    },
    {
     "name": "stdout",
     "output_type": "stream",
     "text": [
      "Epoch 3, loss 0.1319\n",
      "Train Acc 1.0000\n",
      "Epoch 3, val_loss 0.0000\n"
     ]
    },
    {
     "name": "stderr",
     "output_type": "stream",
     "text": [
      "100%|██████████| 35/35 [00:00<00:00, 156.21batch/s]\n"
     ]
    },
    {
     "name": "stdout",
     "output_type": "stream",
     "text": [
      "Epoch 4, loss 0.0830\n",
      "Train Acc 1.0000\n",
      "Epoch 4, val_loss 0.0000\n"
     ]
    },
    {
     "name": "stderr",
     "output_type": "stream",
     "text": [
      "100%|██████████| 35/35 [00:00<00:00, 176.74batch/s]\n"
     ]
    },
    {
     "name": "stdout",
     "output_type": "stream",
     "text": [
      "Epoch 5, loss 0.0726\n",
      "Train Acc 1.0000\n",
      "Epoch 5, val_loss 0.0000\n",
      "Saving best model with validation loss 8.183495197044977e-07\n"
     ]
    },
    {
     "name": "stderr",
     "output_type": "stream",
     "text": [
      "100%|██████████| 35/35 [00:00<00:00, 177.63batch/s]\n"
     ]
    },
    {
     "name": "stdout",
     "output_type": "stream",
     "text": [
      "Epoch 6, loss 0.0695\n",
      "Train Acc 1.0000\n",
      "Epoch 6, val_loss 0.0000\n",
      "Saving best model with validation loss 6.884172307763947e-07\n"
     ]
    },
    {
     "name": "stderr",
     "output_type": "stream",
     "text": [
      "100%|██████████| 35/35 [00:00<00:00, 177.62batch/s]\n"
     ]
    },
    {
     "name": "stdout",
     "output_type": "stream",
     "text": [
      "Epoch 7, loss 0.0573\n",
      "Train Acc 1.0000\n",
      "Epoch 7, val_loss 0.0000\n"
     ]
    },
    {
     "name": "stderr",
     "output_type": "stream",
     "text": [
      "100%|██████████| 35/35 [00:00<00:00, 179.19batch/s]\n"
     ]
    },
    {
     "name": "stdout",
     "output_type": "stream",
     "text": [
      "Epoch 8, loss 0.0648\n",
      "Train Acc 1.0000\n",
      "Epoch 8, val_loss 0.0000\n"
     ]
    },
    {
     "name": "stderr",
     "output_type": "stream",
     "text": [
      "100%|██████████| 35/35 [00:00<00:00, 183.06batch/s]\n"
     ]
    },
    {
     "name": "stdout",
     "output_type": "stream",
     "text": [
      "Epoch 9, loss 0.0556\n",
      "Train Acc 1.0000\n",
      "Epoch 9, val_loss 0.0000\n",
      "Saving best model with validation loss 6.252388402572251e-07\n"
     ]
    },
    {
     "name": "stderr",
     "output_type": "stream",
     "text": [
      "100%|██████████| 35/35 [00:00<00:00, 177.61batch/s]\n"
     ]
    },
    {
     "name": "stdout",
     "output_type": "stream",
     "text": [
      "Epoch 10, loss 0.0569\n",
      "Train Acc 1.0000\n",
      "Epoch 10, val_loss 0.0000\n",
      "Saving best model with validation loss 5.614644464912999e-07\n"
     ]
    },
    {
     "name": "stderr",
     "output_type": "stream",
     "text": [
      "100%|██████████| 35/35 [00:00<00:00, 171.54batch/s]\n"
     ]
    },
    {
     "name": "stdout",
     "output_type": "stream",
     "text": [
      "Epoch 11, loss 0.0660\n",
      "Train Acc 1.0000\n",
      "Epoch 11, val_loss 0.0000\n"
     ]
    },
    {
     "name": "stderr",
     "output_type": "stream",
     "text": [
      "100%|██████████| 35/35 [00:00<00:00, 170.42batch/s]\n"
     ]
    },
    {
     "name": "stdout",
     "output_type": "stream",
     "text": [
      "Epoch 12, loss 0.0571\n",
      "Train Acc 1.0000\n",
      "Epoch 12, val_loss 0.0000\n"
     ]
    },
    {
     "name": "stderr",
     "output_type": "stream",
     "text": [
      "100%|██████████| 35/35 [00:00<00:00, 173.16batch/s]\n"
     ]
    },
    {
     "name": "stdout",
     "output_type": "stream",
     "text": [
      "Epoch 13, loss 0.0547\n",
      "Train Acc 1.0000\n",
      "Epoch 13, val_loss 0.0000\n",
      "Saving best model with validation loss 4.780191602549166e-07\n"
     ]
    },
    {
     "name": "stderr",
     "output_type": "stream",
     "text": [
      "100%|██████████| 35/35 [00:00<00:00, 169.02batch/s]\n"
     ]
    },
    {
     "name": "stdout",
     "output_type": "stream",
     "text": [
      "Epoch 14, loss 0.0493\n",
      "Train Acc 1.0000\n",
      "Epoch 14, val_loss 0.0000\n"
     ]
    },
    {
     "name": "stderr",
     "output_type": "stream",
     "text": [
      "100%|██████████| 35/35 [00:00<00:00, 180.11batch/s]\n"
     ]
    },
    {
     "name": "stdout",
     "output_type": "stream",
     "text": [
      "Epoch 15, loss 0.0556\n",
      "Train Acc 1.0000\n",
      "Epoch 15, val_loss 0.0000\n"
     ]
    },
    {
     "name": "stderr",
     "output_type": "stream",
     "text": [
      "100%|██████████| 35/35 [00:00<00:00, 166.03batch/s]\n"
     ]
    },
    {
     "name": "stdout",
     "output_type": "stream",
     "text": [
      "Epoch 16, loss 0.0440\n",
      "Train Acc 1.0000\n",
      "Epoch 16, val_loss 0.0000\n"
     ]
    },
    {
     "name": "stderr",
     "output_type": "stream",
     "text": [
      "100%|██████████| 35/35 [00:00<00:00, 165.88batch/s]\n"
     ]
    },
    {
     "name": "stdout",
     "output_type": "stream",
     "text": [
      "Epoch 17, loss 0.0558\n",
      "Train Acc 1.0000\n",
      "Epoch 17, val_loss 0.0000\n"
     ]
    },
    {
     "name": "stderr",
     "output_type": "stream",
     "text": [
      "100%|██████████| 35/35 [00:00<00:00, 169.42batch/s]\n"
     ]
    },
    {
     "name": "stdout",
     "output_type": "stream",
     "text": [
      "Epoch 18, loss 0.0493\n",
      "Train Acc 1.0000\n",
      "Epoch 18, val_loss 0.0000\n"
     ]
    },
    {
     "name": "stderr",
     "output_type": "stream",
     "text": [
      "100%|██████████| 35/35 [00:00<00:00, 175.80batch/s]\n"
     ]
    },
    {
     "name": "stdout",
     "output_type": "stream",
     "text": [
      "Epoch 19, loss 0.0550\n",
      "Train Acc 1.0000\n",
      "Epoch 19, val_loss 0.0000\n",
      "\n",
      "Confusion matrix (Validation set):\n",
      "\n",
      "[[ 98   0]\n",
      " [  0 102]]\n",
      "Validation accuracy: 100.0%\n",
      "Validation loss 4.780191602549166e-07\n"
     ]
    }
   ],
   "source": [
    "import pandas as pd\n",
    "\n",
    "from GNNSubNet import GNNSubNet as gnn\n",
    "\n",
    "# Synthetic data set  ------------------------- #\n",
    "loc   = \"GNNSubNet/datasets/synthetic\"\n",
    "ppi   = f'{loc}/NETWORK_synthetic.txt'\n",
    "feats = [f'{loc}/FEATURES_synthetic.txt']\n",
    "targ  = f'{loc}/TARGET_synthetic.txt'\n",
    "\n",
    "# Read in the synthetic data\n",
    "g = gnn.GNNSubNet(loc, ppi, feats, targ, normalize=False)\n",
    "\n",
    "# Get some general information about the data dimension\n",
    "g.summary()\n",
    "\n",
    "# Train the GNN classifier and validate performance on a test set\n",
    "g.train()\n"
   ]
  },
  {
   "cell_type": "code",
   "execution_count": 2,
   "outputs": [
    {
     "data": {
      "text/plain": "torch.Size([30, 1])"
     },
     "execution_count": 2,
     "metadata": {},
     "output_type": "execute_result"
    }
   ],
   "source": [
    "g.s2v_test_dataset[0].node_features.shape"
   ],
   "metadata": {
    "collapsed": false
   }
  },
  {
   "cell_type": "code",
   "execution_count": 3,
   "outputs": [
    {
     "data": {
      "text/plain": "200"
     },
     "execution_count": 3,
     "metadata": {},
     "output_type": "execute_result"
    }
   ],
   "source": [
    "len(g.s2v_test_dataset)"
   ],
   "metadata": {
    "collapsed": false
   }
  },
  {
   "cell_type": "code",
   "execution_count": 4,
   "outputs": [
    {
     "data": {
      "text/plain": "array([1., 0., 0., 0., 0., 1., 1., 0., 1., 0., 1., 1., 1., 0., 1., 1., 1.,\n       1., 1., 1., 1., 0., 0., 0., 1., 0., 1., 0., 0., 1., 1., 1., 1., 1.,\n       0., 0., 1., 1., 1., 1., 1., 1., 1., 1., 0., 0., 0., 0., 0., 0., 0.,\n       0., 1., 0., 0., 0., 0., 1., 1., 1., 0., 1., 1., 1., 0., 1., 0., 0.,\n       1., 1., 1., 0., 1., 0., 1., 0., 1., 0., 0., 0., 1., 0., 0., 0., 0.,\n       1., 0., 0., 0., 0., 1., 0., 1., 0., 0., 1., 0., 1., 1., 1., 1., 0.,\n       1., 1., 0., 0., 1., 1., 0., 1., 0., 1., 0., 0., 0., 0., 1., 1., 0.,\n       0., 0., 0., 1., 0., 0., 0., 0., 1., 1., 0., 1., 0., 1., 0., 1., 0.,\n       1., 0., 0., 1., 1., 0., 1., 1., 0., 1., 1., 1., 1., 0., 1., 0., 1.,\n       1., 1., 1., 0., 0., 0., 1., 1., 0., 0., 1., 0., 1., 0., 1., 1., 0.,\n       1., 0., 1., 1., 1., 0., 1., 0., 0., 1., 0., 1., 0., 0., 0., 1., 1.,\n       0., 1., 1., 0., 1., 1., 0., 1., 1., 0., 0., 1., 1.])"
     },
     "execution_count": 4,
     "metadata": {},
     "output_type": "execute_result"
    }
   ],
   "source": [
    "g.predictions"
   ],
   "metadata": {
    "collapsed": false
   }
  },
  {
   "cell_type": "markdown",
   "source": [
    "The following cells train an explainer for 300 epochs to obtain the aggregation of local explanations. This corresponds to RQs 1 and 2 of the project."
   ],
   "metadata": {
    "collapsed": false
   }
  },
  {
   "cell_type": "code",
   "execution_count": 2,
   "outputs": [],
   "source": [
    "from GNNSubNet import gnn_explainer as gnne\n",
    "import torch\n",
    "\n",
    "exp = gnne.GNNExplainer(g.model, epochs=300, lr = 0.1)"
   ],
   "metadata": {
    "collapsed": false
   }
  },
  {
   "cell_type": "code",
   "execution_count": 6,
   "outputs": [
    {
     "data": {
      "text/plain": "30"
     },
     "execution_count": 6,
     "metadata": {},
     "output_type": "execute_result"
    }
   ],
   "source": [
    "g.s2v_test_dataset[0].node_features.shape[0]"
   ],
   "metadata": {
    "collapsed": false
   }
  },
  {
   "cell_type": "code",
   "execution_count": 7,
   "outputs": [
    {
     "name": "stdout",
     "output_type": "stream",
     "text": [
      "Progress: 0/200\n",
      "Progress: 1/200\n",
      "Progress: 2/200\n",
      "Progress: 3/200\n",
      "Progress: 4/200\n",
      "Progress: 5/200\n",
      "Progress: 6/200\n",
      "Progress: 7/200\n",
      "Progress: 8/200\n",
      "Progress: 9/200\n",
      "Progress: 10/200\n",
      "Progress: 11/200\n",
      "Progress: 12/200\n",
      "Progress: 13/200\n",
      "Progress: 14/200\n",
      "Progress: 15/200\n",
      "Progress: 16/200\n",
      "Progress: 17/200\n",
      "Progress: 18/200\n",
      "Progress: 19/200\n",
      "Progress: 20/200\n",
      "Progress: 21/200\n",
      "Progress: 22/200\n",
      "Progress: 23/200\n",
      "Progress: 24/200\n",
      "Progress: 25/200\n",
      "Progress: 26/200\n",
      "Progress: 27/200\n",
      "Progress: 28/200\n",
      "Progress: 29/200\n",
      "Progress: 30/200\n",
      "Progress: 31/200\n",
      "Progress: 32/200\n",
      "Progress: 33/200\n",
      "Progress: 34/200\n",
      "Progress: 35/200\n",
      "Progress: 36/200\n",
      "Progress: 37/200\n",
      "Progress: 38/200\n",
      "Progress: 39/200\n",
      "Progress: 40/200\n",
      "Progress: 41/200\n",
      "Progress: 42/200\n",
      "Progress: 43/200\n",
      "Progress: 44/200\n",
      "Progress: 45/200\n",
      "Progress: 46/200\n",
      "Progress: 47/200\n",
      "Progress: 48/200\n",
      "Progress: 49/200\n",
      "Progress: 50/200\n",
      "Progress: 51/200\n",
      "Progress: 52/200\n",
      "Progress: 53/200\n",
      "Progress: 54/200\n",
      "Progress: 55/200\n",
      "Progress: 56/200\n",
      "Progress: 57/200\n",
      "Progress: 58/200\n",
      "Progress: 59/200\n",
      "Progress: 60/200\n",
      "Progress: 61/200\n",
      "Progress: 62/200\n",
      "Progress: 63/200\n",
      "Progress: 64/200\n",
      "Progress: 65/200\n",
      "Progress: 66/200\n",
      "Progress: 67/200\n",
      "Progress: 68/200\n",
      "Progress: 69/200\n",
      "Progress: 70/200\n",
      "Progress: 71/200\n",
      "Progress: 72/200\n",
      "Progress: 73/200\n",
      "Progress: 74/200\n",
      "Progress: 75/200\n",
      "Progress: 76/200\n",
      "Progress: 77/200\n",
      "Progress: 78/200\n",
      "Progress: 79/200\n",
      "Progress: 80/200\n",
      "Progress: 81/200\n",
      "Progress: 82/200\n",
      "Progress: 83/200\n",
      "Progress: 84/200\n",
      "Progress: 85/200\n",
      "Progress: 86/200\n",
      "Progress: 87/200\n",
      "Progress: 88/200\n",
      "Progress: 89/200\n",
      "Progress: 90/200\n",
      "Progress: 91/200\n",
      "Progress: 92/200\n",
      "Progress: 93/200\n",
      "Progress: 94/200\n",
      "Progress: 95/200\n",
      "Progress: 96/200\n",
      "Progress: 97/200\n",
      "Progress: 98/200\n",
      "Progress: 99/200\n",
      "Progress: 100/200\n",
      "Progress: 101/200\n",
      "Progress: 102/200\n",
      "Progress: 103/200\n",
      "Progress: 104/200\n",
      "Progress: 105/200\n",
      "Progress: 106/200\n",
      "Progress: 107/200\n",
      "Progress: 108/200\n",
      "Progress: 109/200\n",
      "Progress: 110/200\n",
      "Progress: 111/200\n",
      "Progress: 112/200\n",
      "Progress: 113/200\n",
      "Progress: 114/200\n",
      "Progress: 115/200\n",
      "Progress: 116/200\n",
      "Progress: 117/200\n",
      "Progress: 118/200\n",
      "Progress: 119/200\n",
      "Progress: 120/200\n",
      "Progress: 121/200\n",
      "Progress: 122/200\n",
      "Progress: 123/200\n",
      "Progress: 124/200\n",
      "Progress: 125/200\n",
      "Progress: 126/200\n",
      "Progress: 127/200\n",
      "Progress: 128/200\n",
      "Progress: 129/200\n",
      "Progress: 130/200\n",
      "Progress: 131/200\n",
      "Progress: 132/200\n",
      "Progress: 133/200\n",
      "Progress: 134/200\n",
      "Progress: 135/200\n",
      "Progress: 136/200\n",
      "Progress: 137/200\n",
      "Progress: 138/200\n",
      "Progress: 139/200\n",
      "Progress: 140/200\n",
      "Progress: 141/200\n",
      "Progress: 142/200\n",
      "Progress: 143/200\n",
      "Progress: 144/200\n",
      "Progress: 145/200\n",
      "Progress: 146/200\n",
      "Progress: 147/200\n",
      "Progress: 148/200\n",
      "Progress: 149/200\n",
      "Progress: 150/200\n",
      "Progress: 151/200\n",
      "Progress: 152/200\n",
      "Progress: 153/200\n",
      "Progress: 154/200\n",
      "Progress: 155/200\n",
      "Progress: 156/200\n",
      "Progress: 157/200\n",
      "Progress: 158/200\n",
      "Progress: 159/200\n",
      "Progress: 160/200\n",
      "Progress: 161/200\n",
      "Progress: 162/200\n",
      "Progress: 163/200\n",
      "Progress: 164/200\n",
      "Progress: 165/200\n",
      "Progress: 166/200\n",
      "Progress: 167/200\n",
      "Progress: 168/200\n",
      "Progress: 169/200\n",
      "Progress: 170/200\n",
      "Progress: 171/200\n",
      "Progress: 172/200\n",
      "Progress: 173/200\n",
      "Progress: 174/200\n",
      "Progress: 175/200\n",
      "Progress: 176/200\n",
      "Progress: 177/200\n",
      "Progress: 178/200\n",
      "Progress: 179/200\n",
      "Progress: 180/200\n",
      "Progress: 181/200\n",
      "Progress: 182/200\n",
      "Progress: 183/200\n",
      "Progress: 184/200\n",
      "Progress: 185/200\n",
      "Progress: 186/200\n",
      "Progress: 187/200\n",
      "Progress: 188/200\n",
      "Progress: 189/200\n",
      "Progress: 190/200\n",
      "Progress: 191/200\n",
      "Progress: 192/200\n",
      "Progress: 193/200\n",
      "Progress: 194/200\n",
      "Progress: 195/200\n",
      "Progress: 196/200\n",
      "Progress: 197/200\n",
      "Progress: 198/200\n",
      "Progress: 199/200\n"
     ]
    },
    {
     "data": {
      "text/plain": "[-3.03469,\n -0.50785685,\n 6.0254087,\n -0.35703564,\n -0.15171765,\n -2.2598743,\n 6.0362334,\n -2.2528973,\n -0.6884245,\n -2.8732688,\n -2.3612032,\n -2.594422,\n -2.65883,\n -2.713076,\n 0.17486282,\n -2.591317,\n -0.05771812,\n -2.3404734,\n -3.8759441,\n 0.18429281,\n -0.77985334,\n -2.2692478,\n -2.8106787,\n -2.394257,\n -2.215886,\n -2.6080387,\n -0.77246004,\n -2.5150073,\n -2.6827662,\n -2.763542]"
     },
     "execution_count": 7,
     "metadata": {},
     "output_type": "execute_result"
    }
   ],
   "source": [
    "node_mask = exp.explain_graph_modified_s2v(g.s2v_test_dataset, 0.1, False)\n",
    "node_mask"
   ],
   "metadata": {
    "collapsed": false
   }
  },
  {
   "cell_type": "markdown",
   "source": [
    "## RQ1: How can GNN-SubNet be modified to obtain a local-level explanation?\n",
    "\n",
    "The following code cells retrieve the loss function values generated by a run of the explainer. For each sample of the test dataset, the loss for each epoch was stored. Thus, we can now plot the losses for all of the node mask optimization processes."
   ],
   "metadata": {
    "collapsed": false
   }
  },
  {
   "cell_type": "code",
   "execution_count": 8,
   "outputs": [
    {
     "data": {
      "text/plain": "      Epoch 0   Epoch 1   Epoch 2   Epoch 3    Epoch 4    Epoch 5    Epoch 6   \n0   -2.933165 -3.407375 -3.881360 -4.355718  -4.829634  -5.302014  -5.767702  \\\n1   -4.493733 -5.047421 -5.593677 -6.123810  -6.647747  -7.158635  -7.646592   \n2   -7.975766 -8.541156 -9.091280 -9.626339 -10.150602 -10.660461 -11.155199   \n3   -6.588441 -7.035859 -7.481597 -7.922063  -8.354877  -8.780503  -9.195539   \n4   -6.694752 -7.166295 -7.616283 -8.053928  -8.484569  -8.902380  -9.304231   \n..        ...       ...       ...       ...        ...        ...        ...   \n195 -0.834945 -1.361531 -1.885686 -2.414170  -2.943361  -3.465523  -3.982598   \n196 -6.953288 -7.380136 -7.807841 -8.239452  -8.662211  -9.073417  -9.476960   \n197 -6.776932 -7.172216 -7.569107 -7.961057  -8.349669  -8.732596  -9.108722   \n198 -0.591080 -1.045437 -1.492157 -1.936009  -2.379244  -2.822161  -3.262963   \n199 -1.155215 -1.620361 -2.080247 -2.535983  -2.987043  -3.429794  -3.862469   \n\n       Epoch 7    Epoch 8    Epoch 9  ...  Epoch 290  Epoch 291  Epoch 292   \n0    -6.227943  -6.687448  -7.142863  ... -14.501631 -14.501821 -14.502130  \\\n1    -8.112535  -8.551369  -8.955214  ... -14.640740 -14.641021 -14.641305   \n2   -11.633164 -12.091222 -12.527003  ... -19.272093 -19.272398 -19.272686   \n3    -9.599740  -9.989349 -10.365689  ... -15.847197 -15.847425 -15.847659   \n4    -9.690889 -10.062457 -10.416364  ... -16.141516 -16.141758 -16.141998   \n..         ...        ...        ...  ...        ...        ...        ...   \n195  -4.493320  -4.990477  -5.470680  ... -12.817194 -12.817499 -12.817808   \n196  -9.872027 -10.262211 -10.649099  ... -16.510418 -16.510658 -16.510895   \n197  -9.475893  -9.834053 -10.180551  ... -15.367954 -15.368166 -15.368379   \n198  -3.696355  -4.123263  -4.543855  ... -11.004396 -11.004661 -11.004924   \n199  -4.284025  -4.696269  -5.099887  ... -11.326133 -11.326380 -11.326615   \n\n     Epoch 293  Epoch 294  Epoch 295  Epoch 296  Epoch 297  Epoch 298   \n0   -14.502438 -14.502788 -14.503004 -14.503168 -14.503442 -14.503760  \\\n1   -14.641585 -14.641865 -14.642141 -14.642414 -14.642689 -14.642960   \n2   -19.272984 -19.273273 -19.273560 -19.273848 -19.274134 -19.274414   \n3   -15.847885 -15.848105 -15.848332 -15.848555 -15.848774 -15.848973   \n4   -16.142241 -16.142473 -16.142706 -16.142939 -16.143171 -16.143400   \n..         ...        ...        ...        ...        ...        ...   \n195 -12.818032 -12.818380 -12.818646 -12.818919 -12.819198 -12.819481   \n196 -16.511131 -16.511366 -16.511595 -16.511827 -16.512053 -16.512280   \n197 -15.368589 -15.368796 -15.369004 -15.369209 -15.369412 -15.369616   \n198 -11.005152 -11.005422 -11.005677 -11.005919 -11.006160 -11.006399   \n199 -11.326884 -11.327119 -11.327364 -11.327593 -11.327824 -11.328073   \n\n     Epoch 299  \n0   -14.504107  \n1   -14.643229  \n2   -19.274694  \n3   -15.849203  \n4   -16.143627  \n..         ...  \n195 -12.819768  \n196 -16.512505  \n197 -15.369816  \n198 -11.006641  \n199 -11.328346  \n\n[200 rows x 300 columns]",
      "text/html": "<div>\n<style scoped>\n    .dataframe tbody tr th:only-of-type {\n        vertical-align: middle;\n    }\n\n    .dataframe tbody tr th {\n        vertical-align: top;\n    }\n\n    .dataframe thead th {\n        text-align: right;\n    }\n</style>\n<table border=\"1\" class=\"dataframe\">\n  <thead>\n    <tr style=\"text-align: right;\">\n      <th></th>\n      <th>Epoch 0</th>\n      <th>Epoch 1</th>\n      <th>Epoch 2</th>\n      <th>Epoch 3</th>\n      <th>Epoch 4</th>\n      <th>Epoch 5</th>\n      <th>Epoch 6</th>\n      <th>Epoch 7</th>\n      <th>Epoch 8</th>\n      <th>Epoch 9</th>\n      <th>...</th>\n      <th>Epoch 290</th>\n      <th>Epoch 291</th>\n      <th>Epoch 292</th>\n      <th>Epoch 293</th>\n      <th>Epoch 294</th>\n      <th>Epoch 295</th>\n      <th>Epoch 296</th>\n      <th>Epoch 297</th>\n      <th>Epoch 298</th>\n      <th>Epoch 299</th>\n    </tr>\n  </thead>\n  <tbody>\n    <tr>\n      <th>0</th>\n      <td>-2.933165</td>\n      <td>-3.407375</td>\n      <td>-3.881360</td>\n      <td>-4.355718</td>\n      <td>-4.829634</td>\n      <td>-5.302014</td>\n      <td>-5.767702</td>\n      <td>-6.227943</td>\n      <td>-6.687448</td>\n      <td>-7.142863</td>\n      <td>...</td>\n      <td>-14.501631</td>\n      <td>-14.501821</td>\n      <td>-14.502130</td>\n      <td>-14.502438</td>\n      <td>-14.502788</td>\n      <td>-14.503004</td>\n      <td>-14.503168</td>\n      <td>-14.503442</td>\n      <td>-14.503760</td>\n      <td>-14.504107</td>\n    </tr>\n    <tr>\n      <th>1</th>\n      <td>-4.493733</td>\n      <td>-5.047421</td>\n      <td>-5.593677</td>\n      <td>-6.123810</td>\n      <td>-6.647747</td>\n      <td>-7.158635</td>\n      <td>-7.646592</td>\n      <td>-8.112535</td>\n      <td>-8.551369</td>\n      <td>-8.955214</td>\n      <td>...</td>\n      <td>-14.640740</td>\n      <td>-14.641021</td>\n      <td>-14.641305</td>\n      <td>-14.641585</td>\n      <td>-14.641865</td>\n      <td>-14.642141</td>\n      <td>-14.642414</td>\n      <td>-14.642689</td>\n      <td>-14.642960</td>\n      <td>-14.643229</td>\n    </tr>\n    <tr>\n      <th>2</th>\n      <td>-7.975766</td>\n      <td>-8.541156</td>\n      <td>-9.091280</td>\n      <td>-9.626339</td>\n      <td>-10.150602</td>\n      <td>-10.660461</td>\n      <td>-11.155199</td>\n      <td>-11.633164</td>\n      <td>-12.091222</td>\n      <td>-12.527003</td>\n      <td>...</td>\n      <td>-19.272093</td>\n      <td>-19.272398</td>\n      <td>-19.272686</td>\n      <td>-19.272984</td>\n      <td>-19.273273</td>\n      <td>-19.273560</td>\n      <td>-19.273848</td>\n      <td>-19.274134</td>\n      <td>-19.274414</td>\n      <td>-19.274694</td>\n    </tr>\n    <tr>\n      <th>3</th>\n      <td>-6.588441</td>\n      <td>-7.035859</td>\n      <td>-7.481597</td>\n      <td>-7.922063</td>\n      <td>-8.354877</td>\n      <td>-8.780503</td>\n      <td>-9.195539</td>\n      <td>-9.599740</td>\n      <td>-9.989349</td>\n      <td>-10.365689</td>\n      <td>...</td>\n      <td>-15.847197</td>\n      <td>-15.847425</td>\n      <td>-15.847659</td>\n      <td>-15.847885</td>\n      <td>-15.848105</td>\n      <td>-15.848332</td>\n      <td>-15.848555</td>\n      <td>-15.848774</td>\n      <td>-15.848973</td>\n      <td>-15.849203</td>\n    </tr>\n    <tr>\n      <th>4</th>\n      <td>-6.694752</td>\n      <td>-7.166295</td>\n      <td>-7.616283</td>\n      <td>-8.053928</td>\n      <td>-8.484569</td>\n      <td>-8.902380</td>\n      <td>-9.304231</td>\n      <td>-9.690889</td>\n      <td>-10.062457</td>\n      <td>-10.416364</td>\n      <td>...</td>\n      <td>-16.141516</td>\n      <td>-16.141758</td>\n      <td>-16.141998</td>\n      <td>-16.142241</td>\n      <td>-16.142473</td>\n      <td>-16.142706</td>\n      <td>-16.142939</td>\n      <td>-16.143171</td>\n      <td>-16.143400</td>\n      <td>-16.143627</td>\n    </tr>\n    <tr>\n      <th>...</th>\n      <td>...</td>\n      <td>...</td>\n      <td>...</td>\n      <td>...</td>\n      <td>...</td>\n      <td>...</td>\n      <td>...</td>\n      <td>...</td>\n      <td>...</td>\n      <td>...</td>\n      <td>...</td>\n      <td>...</td>\n      <td>...</td>\n      <td>...</td>\n      <td>...</td>\n      <td>...</td>\n      <td>...</td>\n      <td>...</td>\n      <td>...</td>\n      <td>...</td>\n      <td>...</td>\n    </tr>\n    <tr>\n      <th>195</th>\n      <td>-0.834945</td>\n      <td>-1.361531</td>\n      <td>-1.885686</td>\n      <td>-2.414170</td>\n      <td>-2.943361</td>\n      <td>-3.465523</td>\n      <td>-3.982598</td>\n      <td>-4.493320</td>\n      <td>-4.990477</td>\n      <td>-5.470680</td>\n      <td>...</td>\n      <td>-12.817194</td>\n      <td>-12.817499</td>\n      <td>-12.817808</td>\n      <td>-12.818032</td>\n      <td>-12.818380</td>\n      <td>-12.818646</td>\n      <td>-12.818919</td>\n      <td>-12.819198</td>\n      <td>-12.819481</td>\n      <td>-12.819768</td>\n    </tr>\n    <tr>\n      <th>196</th>\n      <td>-6.953288</td>\n      <td>-7.380136</td>\n      <td>-7.807841</td>\n      <td>-8.239452</td>\n      <td>-8.662211</td>\n      <td>-9.073417</td>\n      <td>-9.476960</td>\n      <td>-9.872027</td>\n      <td>-10.262211</td>\n      <td>-10.649099</td>\n      <td>...</td>\n      <td>-16.510418</td>\n      <td>-16.510658</td>\n      <td>-16.510895</td>\n      <td>-16.511131</td>\n      <td>-16.511366</td>\n      <td>-16.511595</td>\n      <td>-16.511827</td>\n      <td>-16.512053</td>\n      <td>-16.512280</td>\n      <td>-16.512505</td>\n    </tr>\n    <tr>\n      <th>197</th>\n      <td>-6.776932</td>\n      <td>-7.172216</td>\n      <td>-7.569107</td>\n      <td>-7.961057</td>\n      <td>-8.349669</td>\n      <td>-8.732596</td>\n      <td>-9.108722</td>\n      <td>-9.475893</td>\n      <td>-9.834053</td>\n      <td>-10.180551</td>\n      <td>...</td>\n      <td>-15.367954</td>\n      <td>-15.368166</td>\n      <td>-15.368379</td>\n      <td>-15.368589</td>\n      <td>-15.368796</td>\n      <td>-15.369004</td>\n      <td>-15.369209</td>\n      <td>-15.369412</td>\n      <td>-15.369616</td>\n      <td>-15.369816</td>\n    </tr>\n    <tr>\n      <th>198</th>\n      <td>-0.591080</td>\n      <td>-1.045437</td>\n      <td>-1.492157</td>\n      <td>-1.936009</td>\n      <td>-2.379244</td>\n      <td>-2.822161</td>\n      <td>-3.262963</td>\n      <td>-3.696355</td>\n      <td>-4.123263</td>\n      <td>-4.543855</td>\n      <td>...</td>\n      <td>-11.004396</td>\n      <td>-11.004661</td>\n      <td>-11.004924</td>\n      <td>-11.005152</td>\n      <td>-11.005422</td>\n      <td>-11.005677</td>\n      <td>-11.005919</td>\n      <td>-11.006160</td>\n      <td>-11.006399</td>\n      <td>-11.006641</td>\n    </tr>\n    <tr>\n      <th>199</th>\n      <td>-1.155215</td>\n      <td>-1.620361</td>\n      <td>-2.080247</td>\n      <td>-2.535983</td>\n      <td>-2.987043</td>\n      <td>-3.429794</td>\n      <td>-3.862469</td>\n      <td>-4.284025</td>\n      <td>-4.696269</td>\n      <td>-5.099887</td>\n      <td>...</td>\n      <td>-11.326133</td>\n      <td>-11.326380</td>\n      <td>-11.326615</td>\n      <td>-11.326884</td>\n      <td>-11.327119</td>\n      <td>-11.327364</td>\n      <td>-11.327593</td>\n      <td>-11.327824</td>\n      <td>-11.328073</td>\n      <td>-11.328346</td>\n    </tr>\n  </tbody>\n</table>\n<p>200 rows × 300 columns</p>\n</div>"
     },
     "execution_count": 8,
     "metadata": {},
     "output_type": "execute_result"
    }
   ],
   "source": [
    "losses = pd.read_csv(\"GNNSubNet/saved_values/loss_values_modified_alg.csv\")\n",
    "losses"
   ],
   "metadata": {
    "collapsed": false
   }
  },
  {
   "cell_type": "code",
   "execution_count": 9,
   "outputs": [
    {
     "data": {
      "text/plain": "array([ -2.93316531,  -3.40737462,  -3.88135958,  -4.35571814,\n        -4.82963371,  -5.30201435,  -5.7677021 ,  -6.22794294,\n        -6.68744802,  -7.14286327,  -7.58433676,  -8.01445484,\n        -8.43517303,  -8.84376812,  -9.2318697 ,  -9.60191536,\n        -9.94948196, -10.27787971, -10.58675098, -10.8770647 ,\n       -11.14798355, -11.39916039, -11.62874603, -11.83916187,\n       -12.03229904, -12.20922279, -12.37089348, -12.51962662,\n       -12.65610409, -12.78023243, -12.89355373, -12.99766636,\n       -13.09231853, -13.1787796 , -13.25799274, -13.33053875,\n       -13.3966465 , -13.45705032, -13.51252174, -13.56356716,\n       -13.61041069, -13.65351391, -13.69322681, -13.7297554 ,\n       -13.7636261 , -13.7948637 , -13.82402992, -13.85126972,\n       -13.8765831 , -13.90016937, -13.92214584, -13.94281578,\n       -13.96214962, -13.98029709, -13.99712372, -14.0130825 ,\n       -14.02824974, -14.04263115, -14.05619717, -14.06894016,\n       -14.08104134, -14.09257793, -14.10354614, -14.11398697,\n       -14.12394142, -14.13331413, -14.14237118, -14.1510725 ,\n       -14.15941525, -14.16738892, -14.17502689, -14.18237305,\n       -14.1894455 , -14.19626427, -14.20285225, -14.20918274,\n       -14.21529293, -14.22121525, -14.22688866, -14.23239708,\n       -14.23777962, -14.2429018 , -14.24788952, -14.25279236,\n       -14.25751305, -14.26206589, -14.26659107, -14.27092171,\n       -14.2750845 , -14.27912712, -14.28311157, -14.28691483,\n       -14.29070282, -14.29451752, -14.29795742, -14.30152035,\n       -14.30496025, -14.30834293, -14.3115797 , -14.31476593,\n       -14.31784153, -14.32100391, -14.32390404, -14.3268013 ,\n       -14.32966614, -14.33249092, -14.33528233, -14.33782482,\n       -14.34054565, -14.34315872, -14.34564972, -14.3481226 ,\n       -14.35054779, -14.35286045, -14.35523033, -14.35750484,\n       -14.35972691, -14.36189365, -14.36403751, -14.36619949,\n       -14.36819839, -14.37021542, -14.37229633, -14.37422276,\n       -14.37606621, -14.37796879, -14.37993813, -14.38169384,\n       -14.38342667, -14.3852644 , -14.38709354, -14.38867569,\n       -14.39033699, -14.39203072, -14.39369488, -14.39532948,\n       -14.39686298, -14.39841175, -14.39982414, -14.4013319 ,\n       -14.40295506, -14.40435696, -14.40568447, -14.40709591,\n       -14.40858555, -14.40988064, -14.41125011, -14.41257858,\n       -14.41401958, -14.41521168, -14.41633129, -14.41752434,\n       -14.41880226, -14.42015934, -14.42150688, -14.42243004,\n       -14.42349052, -14.42467785, -14.42579651, -14.42702866,\n       -14.4281702 , -14.42919064, -14.43029881, -14.43128109,\n       -14.43234062, -14.43349361, -14.4343338 , -14.4353056 ,\n       -14.43628883, -14.43729019, -14.43840599, -14.43932438,\n       -14.4402113 , -14.44105148, -14.44193268, -14.44290733,\n       -14.44397068, -14.44487   , -14.44559956, -14.44646645,\n       -14.44741821, -14.4483633 , -14.44911671, -14.44993591,\n       -14.45080185, -14.45152855, -14.45226765, -14.45310211,\n       -14.45392418, -14.45464706, -14.45537853, -14.45620918,\n       -14.45692158, -14.45757484, -14.45835304, -14.45897865,\n       -14.45963192, -14.46038532, -14.46111584, -14.46175575,\n       -14.46249199, -14.46311092, -14.46370602, -14.46441078,\n       -14.46500683, -14.46558952, -14.46627426, -14.46691513,\n       -14.46750164, -14.46818352, -14.46866035, -14.46916008,\n       -14.46975327, -14.47043705, -14.47111607, -14.47159672,\n       -14.47221375, -14.47276783, -14.47330189, -14.4738512 ,\n       -14.47436428, -14.47488308, -14.4753952 , -14.4759388 ,\n       -14.47643566, -14.47684288, -14.477355  , -14.47799778,\n       -14.47843075, -14.47888374, -14.47937012, -14.47992992,\n       -14.4803791 , -14.4808197 , -14.48131561, -14.48181343,\n       -14.48217678, -14.48264313, -14.4831953 , -14.48360538,\n       -14.48396015, -14.48440647, -14.48495388, -14.48520756,\n       -14.48555756, -14.48605728, -14.48654652, -14.48693275,\n       -14.48731422, -14.48779488, -14.48813438, -14.48844624,\n       -14.48885059, -14.48939514, -14.48981285, -14.49013424,\n       -14.49038315, -14.4907589 , -14.49126911, -14.49158382,\n       -14.49178696, -14.49208069, -14.49249268, -14.49301147,\n       -14.49331951, -14.49355698, -14.49384403, -14.49427605,\n       -14.49476147, -14.49510098, -14.49541473, -14.49574471,\n       -14.49606323, -14.49641323, -14.4968462 , -14.49706745,\n       -14.49734783, -14.49773121, -14.49811649, -14.49835205,\n       -14.4986124 , -14.49899673, -14.49936581, -14.4995842 ,\n       -14.49990654, -14.50023937, -14.5004549 , -14.50073338,\n       -14.50104332, -14.50142097, -14.50163078, -14.50182056,\n       -14.50212955, -14.50243759, -14.50278759, -14.50300407,\n       -14.50316811, -14.50344181, -14.50376034, -14.50410748])"
     },
     "execution_count": 9,
     "metadata": {},
     "output_type": "execute_result"
    }
   ],
   "source": [
    "import matplotlib.pyplot as plt\n",
    "\n",
    "single_loss = losses.iloc[0].values\n",
    "\n",
    "single_loss"
   ],
   "metadata": {
    "collapsed": false
   }
  },
  {
   "cell_type": "code",
   "execution_count": 10,
   "outputs": [
    {
     "data": {
      "text/plain": "<Figure size 640x480 with 1 Axes>",
      "image/png": "[encoded data removed]"
     },
     "metadata": {},
     "output_type": "display_data"
    }
   ],
   "source": [
    "plt.plot(single_loss)\n",
    "plt.ylabel('Loss function value')\n",
    "plt.xlabel('Epoch')\n",
    "\n",
    "plt.show()"
   ],
   "metadata": {
    "collapsed": false
   }
  },
  {
   "cell_type": "markdown",
   "source": [
    "For comparison purposes, the following code cells run the original explainer on the same test dataset and plot the loss function values for GNN-SubNet."
   ],
   "metadata": {
    "collapsed": false
   }
  },
  {
   "cell_type": "code",
   "execution_count": 3,
   "outputs": [
    {
     "data": {
      "text/plain": "tensor([[-7.1037],\n        [-5.1372],\n        [ 6.1095],\n        [ 3.3282],\n        [-5.7122],\n        [-5.6396],\n        [ 6.0453],\n        [-5.7960],\n        [ 4.6007],\n        [-5.1756],\n        [-1.2411],\n        [-4.9845],\n        [-5.9804],\n        [ 4.9292],\n        [-5.2103],\n        [-7.3562],\n        [ 5.1233],\n        [-5.4890],\n        [ 4.1374],\n        [-5.1806],\n        [-5.3385],\n        [-5.8427],\n        [-3.9845],\n        [ 4.4059],\n        [-5.9999],\n        [-7.3832],\n        [ 4.8047],\n        [-5.6674],\n        [-7.2534],\n        [-4.7919]])"
     },
     "execution_count": 3,
     "metadata": {},
     "output_type": "execute_result"
    }
   ],
   "source": [
    "node_mask_gnn_subnet = exp.explain_graph_modified_s2v(g.s2v_test_dataset, 0.1, True)\n",
    "node_mask_gnn_subnet"
   ],
   "metadata": {
    "collapsed": false
   }
  },
  {
   "cell_type": "code",
   "execution_count": 10,
   "outputs": [
    {
     "data": {
      "text/plain": "     Epoch 0    Epoch 1    Epoch 2    Epoch 3    Epoch 4    Epoch 5   Epoch 6   \n0 -59.927029 -63.244709 -66.529861 -69.769058 -72.970497 -76.116112 -79.19072  \\\n\n     Epoch 7    Epoch 8    Epoch 9  ...   Epoch 290   Epoch 291  Epoch 292   \n0 -82.188698 -85.101891 -87.915337  ... -116.476326 -116.523911 -116.57988  \\\n\n    Epoch 293   Epoch 294   Epoch 295   Epoch 296   Epoch 297   Epoch 298   \n0 -116.642937 -116.708939 -116.773766 -116.837883 -116.900505 -116.960861  \\\n\n    Epoch 299  \n0 -117.012917  \n\n[1 rows x 300 columns]",
      "text/html": "<div>\n<style scoped>\n    .dataframe tbody tr th:only-of-type {\n        vertical-align: middle;\n    }\n\n    .dataframe tbody tr th {\n        vertical-align: top;\n    }\n\n    .dataframe thead th {\n        text-align: right;\n    }\n</style>\n<table border=\"1\" class=\"dataframe\">\n  <thead>\n    <tr style=\"text-align: right;\">\n      <th></th>\n      <th>Epoch 0</th>\n      <th>Epoch 1</th>\n      <th>Epoch 2</th>\n      <th>Epoch 3</th>\n      <th>Epoch 4</th>\n      <th>Epoch 5</th>\n      <th>Epoch 6</th>\n      <th>Epoch 7</th>\n      <th>Epoch 8</th>\n      <th>Epoch 9</th>\n      <th>...</th>\n      <th>Epoch 290</th>\n      <th>Epoch 291</th>\n      <th>Epoch 292</th>\n      <th>Epoch 293</th>\n      <th>Epoch 294</th>\n      <th>Epoch 295</th>\n      <th>Epoch 296</th>\n      <th>Epoch 297</th>\n      <th>Epoch 298</th>\n      <th>Epoch 299</th>\n    </tr>\n  </thead>\n  <tbody>\n    <tr>\n      <th>0</th>\n      <td>-59.927029</td>\n      <td>-63.244709</td>\n      <td>-66.529861</td>\n      <td>-69.769058</td>\n      <td>-72.970497</td>\n      <td>-76.116112</td>\n      <td>-79.19072</td>\n      <td>-82.188698</td>\n      <td>-85.101891</td>\n      <td>-87.915337</td>\n      <td>...</td>\n      <td>-116.476326</td>\n      <td>-116.523911</td>\n      <td>-116.57988</td>\n      <td>-116.642937</td>\n      <td>-116.708939</td>\n      <td>-116.773766</td>\n      <td>-116.837883</td>\n      <td>-116.900505</td>\n      <td>-116.960861</td>\n      <td>-117.012917</td>\n    </tr>\n  </tbody>\n</table>\n<p>1 rows × 300 columns</p>\n</div>"
     },
     "execution_count": 10,
     "metadata": {},
     "output_type": "execute_result"
    }
   ],
   "source": [
    "losses_gnn_subnet = pd.read_csv(\"GNNSubNet/saved_values/loss_values_gnn-subnet.csv\")\n",
    "losses_gnn_subnet"
   ],
   "metadata": {
    "collapsed": false
   }
  },
  {
   "cell_type": "code",
   "execution_count": 11,
   "outputs": [
    {
     "data": {
      "text/plain": "<Figure size 640x480 with 1 Axes>",
      "image/png": "[encoded data removed]"
     },
     "metadata": {},
     "output_type": "display_data"
    }
   ],
   "source": [
    "import matplotlib.pyplot as plt\n",
    "\n",
    "plt.plot(losses_gnn_subnet.iloc[0].values)\n",
    "plt.ylabel('Loss function value')\n",
    "plt.xlabel('Epoch')\n",
    "\n",
    "plt.show()"
   ],
   "metadata": {
    "collapsed": false
   }
  },
  {
   "cell_type": "code",
   "execution_count": null,
   "outputs": [],
   "source": [],
   "metadata": {
    "collapsed": false
   }
  }
 ],
 "metadata": {
  "kernelspec": {
   "display_name": "Python 3",
   "language": "python",
   "name": "python3"
  },
  "language_info": {
   "codemirror_mode": {
    "name": "ipython",
    "version": 2
   },
   "file_extension": ".py",
   "mimetype": "text/x-python",
   "name": "python",
   "nbconvert_exporter": "python",
   "pygments_lexer": "ipython2",
   "version": "2.7.6"
  }
 },
 "nbformat": 4,
 "nbformat_minor": 0
}
