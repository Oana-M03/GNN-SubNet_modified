{
 "cells": [
  {
   "cell_type": "code",
   "execution_count": 1,
   "metadata": {
    "collapsed": true
   },
   "outputs": [
    {
     "name": "stdout",
     "output_type": "stream",
     "text": [
      "Graph is connected  True\n",
      "Graph is connected  True\n",
      "##################\n",
      "# DATASET LOADED #\n",
      "##################\n",
      "\n",
      "Number of nodes: 30\n",
      "Number of edges: 29\n",
      "Number of modalities: 1\n",
      "graphcnn for training ...\n",
      "Graphs class 0: 500, Graphs class 1: 500\n",
      "Length of balanced dataset list: 1000\n",
      "Train graph class 0: 401, train graph class 1: 399\n",
      "Validation graph class 0: 99, validation graph class 1: 101\n"
     ]
    },
    {
     "name": "stderr",
     "output_type": "stream",
     "text": [
      "  0%|          | 0/35 [00:00<?, ?batch/s]C:\\Users\\elena\\DELFT\\assignments\\RP\\GNN-SubNet_modified\\GNNSubNet\\graphcnn.py:134: UserWarning: torch.sparse.SparseTensor(indices, values, shape, *, device=) is deprecated.  Please use torch.sparse_coo_tensor(indices, values, shape, dtype=, device=). (Triggered internally at C:\\actions-runner\\_work\\pytorch\\pytorch\\builder\\windows\\pytorch\\torch\\csrc\\utils\\tensor_new.cpp:623.)\n",
      "  graph_pool = torch.sparse.FloatTensor(idx, elem, torch.Size([len(batch_graph), start_idx[-1]]))\n",
      "100%|██████████| 35/35 [00:00<00:00, 127.40batch/s]\n"
     ]
    },
    {
     "name": "stdout",
     "output_type": "stream",
     "text": [
      "Epoch 0, loss 0.2372\n",
      "Train Acc 1.0000\n",
      "Epoch 0, val_loss 0.0002\n",
      "Saving best model with validation loss 0.0001651546044740826\n"
     ]
    },
    {
     "name": "stderr",
     "output_type": "stream",
     "text": [
      "100%|██████████| 35/35 [00:00<00:00, 95.50batch/s] \n"
     ]
    },
    {
     "name": "stdout",
     "output_type": "stream",
     "text": [
      "Epoch 1, loss 0.0855\n",
      "Train Acc 1.0000\n",
      "Epoch 1, val_loss 0.0000\n",
      "Saving best model with validation loss 3.2471714348503156e-06\n"
     ]
    },
    {
     "name": "stderr",
     "output_type": "stream",
     "text": [
      "100%|██████████| 35/35 [00:00<00:00, 176.89batch/s]\n"
     ]
    },
    {
     "name": "stdout",
     "output_type": "stream",
     "text": [
      "Epoch 2, loss 0.0780\n",
      "Train Acc 1.0000\n",
      "Epoch 2, val_loss 0.0000\n",
      "Saving best model with validation loss 1.2212904039188288e-06\n"
     ]
    },
    {
     "name": "stderr",
     "output_type": "stream",
     "text": [
      "100%|██████████| 35/35 [00:00<00:00, 175.52batch/s]\n"
     ]
    },
    {
     "name": "stdout",
     "output_type": "stream",
     "text": [
      "Epoch 3, loss 0.0630\n",
      "Train Acc 1.0000\n",
      "Epoch 3, val_loss 0.0000\n",
      "Saving best model with validation loss 9.41747543947713e-07\n"
     ]
    },
    {
     "name": "stderr",
     "output_type": "stream",
     "text": [
      "100%|██████████| 35/35 [00:00<00:00, 149.68batch/s]\n"
     ]
    },
    {
     "name": "stdout",
     "output_type": "stream",
     "text": [
      "Epoch 4, loss 0.0635\n",
      "Train Acc 1.0000\n",
      "Epoch 4, val_loss 0.0000\n",
      "Saving best model with validation loss 6.478996397163428e-07\n"
     ]
    },
    {
     "name": "stderr",
     "output_type": "stream",
     "text": [
      "100%|██████████| 35/35 [00:00<00:00, 174.84batch/s]\n"
     ]
    },
    {
     "name": "stdout",
     "output_type": "stream",
     "text": [
      "Epoch 5, loss 0.0617\n",
      "Train Acc 1.0000\n",
      "Epoch 5, val_loss 0.0000\n"
     ]
    },
    {
     "name": "stderr",
     "output_type": "stream",
     "text": [
      "100%|██████████| 35/35 [00:00<00:00, 187.62batch/s]\n"
     ]
    },
    {
     "name": "stdout",
     "output_type": "stream",
     "text": [
      "Epoch 6, loss 0.0504\n",
      "Train Acc 1.0000\n",
      "Epoch 6, val_loss 0.0000\n",
      "Saving best model with validation loss 3.3318906389467884e-07\n"
     ]
    },
    {
     "name": "stderr",
     "output_type": "stream",
     "text": [
      "100%|██████████| 35/35 [00:00<00:00, 189.02batch/s]\n"
     ]
    },
    {
     "name": "stdout",
     "output_type": "stream",
     "text": [
      "Epoch 7, loss 0.0538\n",
      "Train Acc 1.0000\n",
      "Epoch 7, val_loss 0.0000\n"
     ]
    },
    {
     "name": "stderr",
     "output_type": "stream",
     "text": [
      "100%|██████████| 35/35 [00:00<00:00, 172.06batch/s]\n"
     ]
    },
    {
     "name": "stdout",
     "output_type": "stream",
     "text": [
      "Epoch 8, loss 0.0482\n",
      "Train Acc 1.0000\n",
      "Epoch 8, val_loss 0.0000\n"
     ]
    },
    {
     "name": "stderr",
     "output_type": "stream",
     "text": [
      "100%|██████████| 35/35 [00:00<00:00, 176.01batch/s]\n"
     ]
    },
    {
     "name": "stdout",
     "output_type": "stream",
     "text": [
      "Epoch 9, loss 0.0432\n",
      "Train Acc 1.0000\n",
      "Epoch 9, val_loss 0.0000\n"
     ]
    },
    {
     "name": "stderr",
     "output_type": "stream",
     "text": [
      "100%|██████████| 35/35 [00:00<00:00, 188.04batch/s]\n"
     ]
    },
    {
     "name": "stdout",
     "output_type": "stream",
     "text": [
      "Epoch 10, loss 0.0522\n",
      "Train Acc 1.0000\n",
      "Epoch 10, val_loss 0.0000\n",
      "Saving best model with validation loss 2.7358370857655245e-07\n"
     ]
    },
    {
     "name": "stderr",
     "output_type": "stream",
     "text": [
      "100%|██████████| 35/35 [00:00<00:00, 175.01batch/s]\n"
     ]
    },
    {
     "name": "stdout",
     "output_type": "stream",
     "text": [
      "Epoch 11, loss 0.0486\n",
      "Train Acc 1.0000\n",
      "Epoch 11, val_loss 0.0000\n",
      "Saving best model with validation loss 6.914135042279668e-08\n"
     ]
    },
    {
     "name": "stderr",
     "output_type": "stream",
     "text": [
      "100%|██████████| 35/35 [00:00<00:00, 187.36batch/s]\n"
     ]
    },
    {
     "name": "stdout",
     "output_type": "stream",
     "text": [
      "Epoch 12, loss 0.0479\n",
      "Train Acc 1.0000\n",
      "Epoch 12, val_loss 0.0000\n"
     ]
    },
    {
     "name": "stderr",
     "output_type": "stream",
     "text": [
      "100%|██████████| 35/35 [00:00<00:00, 162.18batch/s]\n"
     ]
    },
    {
     "name": "stdout",
     "output_type": "stream",
     "text": [
      "Epoch 13, loss 0.0383\n",
      "Train Acc 1.0000\n",
      "Epoch 13, val_loss 0.0000\n",
      "Saving best model with validation loss 6.318086320789007e-08\n"
     ]
    },
    {
     "name": "stderr",
     "output_type": "stream",
     "text": [
      "100%|██████████| 35/35 [00:00<00:00, 172.76batch/s]\n"
     ]
    },
    {
     "name": "stdout",
     "output_type": "stream",
     "text": [
      "Epoch 14, loss 0.0513\n",
      "Train Acc 1.0000\n",
      "Epoch 14, val_loss 0.0000\n"
     ]
    },
    {
     "name": "stderr",
     "output_type": "stream",
     "text": [
      "100%|██████████| 35/35 [00:00<00:00, 174.45batch/s]\n"
     ]
    },
    {
     "name": "stdout",
     "output_type": "stream",
     "text": [
      "Epoch 15, loss 0.0444\n",
      "Train Acc 1.0000\n",
      "Epoch 15, val_loss 0.0000\n"
     ]
    },
    {
     "name": "stderr",
     "output_type": "stream",
     "text": [
      "100%|██████████| 35/35 [00:00<00:00, 160.09batch/s]\n"
     ]
    },
    {
     "name": "stdout",
     "output_type": "stream",
     "text": [
      "Epoch 16, loss 0.0473\n",
      "Train Acc 1.0000\n",
      "Epoch 16, val_loss 0.0000\n"
     ]
    },
    {
     "name": "stderr",
     "output_type": "stream",
     "text": [
      "100%|██████████| 35/35 [00:00<00:00, 173.80batch/s]\n"
     ]
    },
    {
     "name": "stdout",
     "output_type": "stream",
     "text": [
      "Epoch 17, loss 0.0520\n",
      "Train Acc 1.0000\n",
      "Epoch 17, val_loss 0.0000\n"
     ]
    },
    {
     "name": "stderr",
     "output_type": "stream",
     "text": [
      "100%|██████████| 35/35 [00:00<00:00, 174.69batch/s]\n"
     ]
    },
    {
     "name": "stdout",
     "output_type": "stream",
     "text": [
      "Epoch 18, loss 0.0405\n",
      "Train Acc 1.0000\n",
      "Epoch 18, val_loss 0.0000\n"
     ]
    },
    {
     "name": "stderr",
     "output_type": "stream",
     "text": [
      "100%|██████████| 35/35 [00:00<00:00, 189.84batch/s]\n"
     ]
    },
    {
     "name": "stdout",
     "output_type": "stream",
     "text": [
      "Epoch 19, loss 0.0474\n",
      "Train Acc 1.0000\n",
      "Epoch 19, val_loss 0.0000\n",
      "Saving best model with validation loss 3.8146946934602965e-08\n",
      "\n",
      "Confusion matrix (Validation set):\n",
      "\n",
      "[[ 99   0]\n",
      " [  0 101]]\n",
      "Validation accuracy: 100.0%\n",
      "Validation loss 3.8146946934602965e-08\n"
     ]
    }
   ],
   "source": [
    "import pandas as pd\n",
    "\n",
    "from GNNSubNet import GNNSubNet as gnn\n",
    "\n",
    "# Synthetic data set  ------------------------- #\n",
    "loc   = \"GNNSubNet/datasets/synthetic\"\n",
    "ppi   = f'{loc}/NETWORK_synthetic.txt'\n",
    "feats = [f'{loc}/FEATURES_synthetic.txt']\n",
    "targ  = f'{loc}/TARGET_synthetic.txt'\n",
    "\n",
    "# Read in the synthetic data\n",
    "g = gnn.GNNSubNet(loc, ppi, feats, targ, normalize=False)\n",
    "\n",
    "# Get some general information about the data dimension\n",
    "g.summary()\n",
    "\n",
    "# Train the GNN classifier and validate performance on a test set\n",
    "g.train()\n"
   ]
  },
  {
   "cell_type": "code",
   "execution_count": 2,
   "outputs": [
    {
     "data": {
      "text/plain": "torch.Size([30, 1])"
     },
     "execution_count": 2,
     "metadata": {},
     "output_type": "execute_result"
    }
   ],
   "source": [
    "g.s2v_test_dataset[0].node_features.shape"
   ],
   "metadata": {
    "collapsed": false
   }
  },
  {
   "cell_type": "code",
   "execution_count": 3,
   "outputs": [
    {
     "data": {
      "text/plain": "[<GNNSubNet.s2vgraph.S2VGraph at 0x1a6a3dddf40>,\n <GNNSubNet.s2vgraph.S2VGraph at 0x1a6a3dddfd0>,\n <GNNSubNet.s2vgraph.S2VGraph at 0x1a6a3e970a0>,\n <GNNSubNet.s2vgraph.S2VGraph at 0x1a6a3e97130>,\n <GNNSubNet.s2vgraph.S2VGraph at 0x1a6a3e971c0>,\n <GNNSubNet.s2vgraph.S2VGraph at 0x1a6a3e97250>,\n <GNNSubNet.s2vgraph.S2VGraph at 0x1a6a3e972e0>,\n <GNNSubNet.s2vgraph.S2VGraph at 0x1a6a3e97370>,\n <GNNSubNet.s2vgraph.S2VGraph at 0x1a6a3e97400>,\n <GNNSubNet.s2vgraph.S2VGraph at 0x1a6a3e97490>,\n <GNNSubNet.s2vgraph.S2VGraph at 0x1a6a3e97520>,\n <GNNSubNet.s2vgraph.S2VGraph at 0x1a6a3e975b0>,\n <GNNSubNet.s2vgraph.S2VGraph at 0x1a6a3e97640>,\n <GNNSubNet.s2vgraph.S2VGraph at 0x1a6a3e976d0>,\n <GNNSubNet.s2vgraph.S2VGraph at 0x1a6a3e97760>,\n <GNNSubNet.s2vgraph.S2VGraph at 0x1a6a3e977f0>,\n <GNNSubNet.s2vgraph.S2VGraph at 0x1a6a3e97880>,\n <GNNSubNet.s2vgraph.S2VGraph at 0x1a6a3e97910>,\n <GNNSubNet.s2vgraph.S2VGraph at 0x1a6a3e979a0>,\n <GNNSubNet.s2vgraph.S2VGraph at 0x1a6a3e97a30>,\n <GNNSubNet.s2vgraph.S2VGraph at 0x1a6a3e97ac0>,\n <GNNSubNet.s2vgraph.S2VGraph at 0x1a6a3e97b50>,\n <GNNSubNet.s2vgraph.S2VGraph at 0x1a6a3e97be0>,\n <GNNSubNet.s2vgraph.S2VGraph at 0x1a6a3e97c70>,\n <GNNSubNet.s2vgraph.S2VGraph at 0x1a6a3e97d00>,\n <GNNSubNet.s2vgraph.S2VGraph at 0x1a6a3e97d90>,\n <GNNSubNet.s2vgraph.S2VGraph at 0x1a6a3e97e20>,\n <GNNSubNet.s2vgraph.S2VGraph at 0x1a6a3e97eb0>,\n <GNNSubNet.s2vgraph.S2VGraph at 0x1a6a3e97f40>,\n <GNNSubNet.s2vgraph.S2VGraph at 0x1a6a3e97fd0>,\n <GNNSubNet.s2vgraph.S2VGraph at 0x1a6a3f540a0>,\n <GNNSubNet.s2vgraph.S2VGraph at 0x1a6a3f54130>,\n <GNNSubNet.s2vgraph.S2VGraph at 0x1a6a3f541c0>,\n <GNNSubNet.s2vgraph.S2VGraph at 0x1a6a3f54250>,\n <GNNSubNet.s2vgraph.S2VGraph at 0x1a6a3f542e0>,\n <GNNSubNet.s2vgraph.S2VGraph at 0x1a6a3f54370>,\n <GNNSubNet.s2vgraph.S2VGraph at 0x1a6a3f54400>,\n <GNNSubNet.s2vgraph.S2VGraph at 0x1a6a3f54490>,\n <GNNSubNet.s2vgraph.S2VGraph at 0x1a6a3f54520>,\n <GNNSubNet.s2vgraph.S2VGraph at 0x1a6a3f545b0>,\n <GNNSubNet.s2vgraph.S2VGraph at 0x1a6a3f54640>,\n <GNNSubNet.s2vgraph.S2VGraph at 0x1a6a3f546d0>,\n <GNNSubNet.s2vgraph.S2VGraph at 0x1a6a3f54760>,\n <GNNSubNet.s2vgraph.S2VGraph at 0x1a6a3f547f0>,\n <GNNSubNet.s2vgraph.S2VGraph at 0x1a6a3f54880>,\n <GNNSubNet.s2vgraph.S2VGraph at 0x1a6a3f54910>,\n <GNNSubNet.s2vgraph.S2VGraph at 0x1a6a3f549a0>,\n <GNNSubNet.s2vgraph.S2VGraph at 0x1a6a3f54a30>,\n <GNNSubNet.s2vgraph.S2VGraph at 0x1a6a3f54ac0>,\n <GNNSubNet.s2vgraph.S2VGraph at 0x1a6a3f54b50>,\n <GNNSubNet.s2vgraph.S2VGraph at 0x1a6a3f54be0>,\n <GNNSubNet.s2vgraph.S2VGraph at 0x1a6a3f54c70>,\n <GNNSubNet.s2vgraph.S2VGraph at 0x1a6a3f54d00>,\n <GNNSubNet.s2vgraph.S2VGraph at 0x1a6a3f54d90>,\n <GNNSubNet.s2vgraph.S2VGraph at 0x1a6a3f54e20>,\n <GNNSubNet.s2vgraph.S2VGraph at 0x1a6a3f54eb0>,\n <GNNSubNet.s2vgraph.S2VGraph at 0x1a6a3f54f40>,\n <GNNSubNet.s2vgraph.S2VGraph at 0x1a6a3f54fd0>,\n <GNNSubNet.s2vgraph.S2VGraph at 0x1a6a400f0a0>,\n <GNNSubNet.s2vgraph.S2VGraph at 0x1a6a400f130>,\n <GNNSubNet.s2vgraph.S2VGraph at 0x1a6a400f1c0>,\n <GNNSubNet.s2vgraph.S2VGraph at 0x1a6a400f250>,\n <GNNSubNet.s2vgraph.S2VGraph at 0x1a6a400f2e0>,\n <GNNSubNet.s2vgraph.S2VGraph at 0x1a6a400f370>,\n <GNNSubNet.s2vgraph.S2VGraph at 0x1a6a400f400>,\n <GNNSubNet.s2vgraph.S2VGraph at 0x1a6a400f490>,\n <GNNSubNet.s2vgraph.S2VGraph at 0x1a6a400f520>,\n <GNNSubNet.s2vgraph.S2VGraph at 0x1a6a400f5b0>,\n <GNNSubNet.s2vgraph.S2VGraph at 0x1a6a400f640>,\n <GNNSubNet.s2vgraph.S2VGraph at 0x1a6a400f6d0>,\n <GNNSubNet.s2vgraph.S2VGraph at 0x1a6a400f760>,\n <GNNSubNet.s2vgraph.S2VGraph at 0x1a6a400f7f0>,\n <GNNSubNet.s2vgraph.S2VGraph at 0x1a6a400f880>,\n <GNNSubNet.s2vgraph.S2VGraph at 0x1a6a400f910>,\n <GNNSubNet.s2vgraph.S2VGraph at 0x1a6a400f9a0>,\n <GNNSubNet.s2vgraph.S2VGraph at 0x1a6a400fa30>,\n <GNNSubNet.s2vgraph.S2VGraph at 0x1a6a400fac0>,\n <GNNSubNet.s2vgraph.S2VGraph at 0x1a6a400fb50>,\n <GNNSubNet.s2vgraph.S2VGraph at 0x1a6a400fbe0>,\n <GNNSubNet.s2vgraph.S2VGraph at 0x1a6a400fc70>,\n <GNNSubNet.s2vgraph.S2VGraph at 0x1a6a400fd00>,\n <GNNSubNet.s2vgraph.S2VGraph at 0x1a6a400fd90>,\n <GNNSubNet.s2vgraph.S2VGraph at 0x1a6a400fe20>,\n <GNNSubNet.s2vgraph.S2VGraph at 0x1a6a400feb0>,\n <GNNSubNet.s2vgraph.S2VGraph at 0x1a6a400ff40>,\n <GNNSubNet.s2vgraph.S2VGraph at 0x1a6a400ffd0>,\n <GNNSubNet.s2vgraph.S2VGraph at 0x1a6a40c80a0>,\n <GNNSubNet.s2vgraph.S2VGraph at 0x1a6a40c8130>,\n <GNNSubNet.s2vgraph.S2VGraph at 0x1a6a40c81c0>,\n <GNNSubNet.s2vgraph.S2VGraph at 0x1a6a40c8250>,\n <GNNSubNet.s2vgraph.S2VGraph at 0x1a6a40c82e0>,\n <GNNSubNet.s2vgraph.S2VGraph at 0x1a6a40c8370>,\n <GNNSubNet.s2vgraph.S2VGraph at 0x1a6a40c8400>,\n <GNNSubNet.s2vgraph.S2VGraph at 0x1a6a40c8490>,\n <GNNSubNet.s2vgraph.S2VGraph at 0x1a6a40c8520>,\n <GNNSubNet.s2vgraph.S2VGraph at 0x1a6a40c85b0>,\n <GNNSubNet.s2vgraph.S2VGraph at 0x1a6a40c8640>,\n <GNNSubNet.s2vgraph.S2VGraph at 0x1a6a40c86d0>,\n <GNNSubNet.s2vgraph.S2VGraph at 0x1a6a40c8760>,\n <GNNSubNet.s2vgraph.S2VGraph at 0x1a6a40c87f0>,\n <GNNSubNet.s2vgraph.S2VGraph at 0x1a6a40c8880>,\n <GNNSubNet.s2vgraph.S2VGraph at 0x1a6a40c8910>,\n <GNNSubNet.s2vgraph.S2VGraph at 0x1a6a40c89a0>,\n <GNNSubNet.s2vgraph.S2VGraph at 0x1a6a40c8a30>,\n <GNNSubNet.s2vgraph.S2VGraph at 0x1a6a40c8ac0>,\n <GNNSubNet.s2vgraph.S2VGraph at 0x1a6a40c8b50>,\n <GNNSubNet.s2vgraph.S2VGraph at 0x1a6a40c8be0>,\n <GNNSubNet.s2vgraph.S2VGraph at 0x1a6a40c8c70>,\n <GNNSubNet.s2vgraph.S2VGraph at 0x1a6a40c8d00>,\n <GNNSubNet.s2vgraph.S2VGraph at 0x1a6a40c8d90>,\n <GNNSubNet.s2vgraph.S2VGraph at 0x1a6a40c8e20>,\n <GNNSubNet.s2vgraph.S2VGraph at 0x1a6a40c8eb0>,\n <GNNSubNet.s2vgraph.S2VGraph at 0x1a6a40c8f40>,\n <GNNSubNet.s2vgraph.S2VGraph at 0x1a6a40c8fd0>,\n <GNNSubNet.s2vgraph.S2VGraph at 0x1a6a41840a0>,\n <GNNSubNet.s2vgraph.S2VGraph at 0x1a6a4184130>,\n <GNNSubNet.s2vgraph.S2VGraph at 0x1a6a41841c0>,\n <GNNSubNet.s2vgraph.S2VGraph at 0x1a6a4184250>,\n <GNNSubNet.s2vgraph.S2VGraph at 0x1a6a41842e0>,\n <GNNSubNet.s2vgraph.S2VGraph at 0x1a6a4184370>,\n <GNNSubNet.s2vgraph.S2VGraph at 0x1a6a4184400>,\n <GNNSubNet.s2vgraph.S2VGraph at 0x1a6a4184490>,\n <GNNSubNet.s2vgraph.S2VGraph at 0x1a6a4184520>,\n <GNNSubNet.s2vgraph.S2VGraph at 0x1a6a41845b0>,\n <GNNSubNet.s2vgraph.S2VGraph at 0x1a6a4184640>,\n <GNNSubNet.s2vgraph.S2VGraph at 0x1a6a41846d0>,\n <GNNSubNet.s2vgraph.S2VGraph at 0x1a6a4184760>,\n <GNNSubNet.s2vgraph.S2VGraph at 0x1a6a41847f0>,\n <GNNSubNet.s2vgraph.S2VGraph at 0x1a6a4184880>,\n <GNNSubNet.s2vgraph.S2VGraph at 0x1a6a4184910>,\n <GNNSubNet.s2vgraph.S2VGraph at 0x1a6a41849a0>,\n <GNNSubNet.s2vgraph.S2VGraph at 0x1a6a4184a30>,\n <GNNSubNet.s2vgraph.S2VGraph at 0x1a6a4184ac0>,\n <GNNSubNet.s2vgraph.S2VGraph at 0x1a6a4184b50>,\n <GNNSubNet.s2vgraph.S2VGraph at 0x1a6a4184be0>,\n <GNNSubNet.s2vgraph.S2VGraph at 0x1a6a4184c70>,\n <GNNSubNet.s2vgraph.S2VGraph at 0x1a6a4184d00>,\n <GNNSubNet.s2vgraph.S2VGraph at 0x1a6a4184d90>,\n <GNNSubNet.s2vgraph.S2VGraph at 0x1a6a4184e20>,\n <GNNSubNet.s2vgraph.S2VGraph at 0x1a6a4184eb0>,\n <GNNSubNet.s2vgraph.S2VGraph at 0x1a6a4184f40>,\n <GNNSubNet.s2vgraph.S2VGraph at 0x1a6a4184fd0>,\n <GNNSubNet.s2vgraph.S2VGraph at 0x1a6a423f0a0>,\n <GNNSubNet.s2vgraph.S2VGraph at 0x1a6a423f130>,\n <GNNSubNet.s2vgraph.S2VGraph at 0x1a6a423f1c0>,\n <GNNSubNet.s2vgraph.S2VGraph at 0x1a6a423f250>,\n <GNNSubNet.s2vgraph.S2VGraph at 0x1a6a423f2e0>,\n <GNNSubNet.s2vgraph.S2VGraph at 0x1a6a423f370>,\n <GNNSubNet.s2vgraph.S2VGraph at 0x1a6a423f400>,\n <GNNSubNet.s2vgraph.S2VGraph at 0x1a6a423f490>,\n <GNNSubNet.s2vgraph.S2VGraph at 0x1a6a423f520>,\n <GNNSubNet.s2vgraph.S2VGraph at 0x1a6a423f5b0>,\n <GNNSubNet.s2vgraph.S2VGraph at 0x1a6a423f640>,\n <GNNSubNet.s2vgraph.S2VGraph at 0x1a6a423f6d0>,\n <GNNSubNet.s2vgraph.S2VGraph at 0x1a6a423f760>,\n <GNNSubNet.s2vgraph.S2VGraph at 0x1a6a423f7f0>,\n <GNNSubNet.s2vgraph.S2VGraph at 0x1a6a423f880>,\n <GNNSubNet.s2vgraph.S2VGraph at 0x1a6a423f910>,\n <GNNSubNet.s2vgraph.S2VGraph at 0x1a6a423f9a0>,\n <GNNSubNet.s2vgraph.S2VGraph at 0x1a6a423fa30>,\n <GNNSubNet.s2vgraph.S2VGraph at 0x1a6a423fac0>,\n <GNNSubNet.s2vgraph.S2VGraph at 0x1a6a423fb50>,\n <GNNSubNet.s2vgraph.S2VGraph at 0x1a6a423fbe0>,\n <GNNSubNet.s2vgraph.S2VGraph at 0x1a6a423fc70>,\n <GNNSubNet.s2vgraph.S2VGraph at 0x1a6a423fd00>,\n <GNNSubNet.s2vgraph.S2VGraph at 0x1a6a423fd90>,\n <GNNSubNet.s2vgraph.S2VGraph at 0x1a6a423fe20>,\n <GNNSubNet.s2vgraph.S2VGraph at 0x1a6a423feb0>,\n <GNNSubNet.s2vgraph.S2VGraph at 0x1a6a423ff40>,\n <GNNSubNet.s2vgraph.S2VGraph at 0x1a6a423ffd0>,\n <GNNSubNet.s2vgraph.S2VGraph at 0x1a6a42f90a0>,\n <GNNSubNet.s2vgraph.S2VGraph at 0x1a6a42f9130>,\n <GNNSubNet.s2vgraph.S2VGraph at 0x1a6a42f91c0>,\n <GNNSubNet.s2vgraph.S2VGraph at 0x1a6a42f9250>,\n <GNNSubNet.s2vgraph.S2VGraph at 0x1a6a42f92e0>,\n <GNNSubNet.s2vgraph.S2VGraph at 0x1a6a42f9370>,\n <GNNSubNet.s2vgraph.S2VGraph at 0x1a6a42f9400>,\n <GNNSubNet.s2vgraph.S2VGraph at 0x1a6a42f9490>,\n <GNNSubNet.s2vgraph.S2VGraph at 0x1a6a42f9520>,\n <GNNSubNet.s2vgraph.S2VGraph at 0x1a6a42f95b0>,\n <GNNSubNet.s2vgraph.S2VGraph at 0x1a6a42f9640>,\n <GNNSubNet.s2vgraph.S2VGraph at 0x1a6a42f96d0>,\n <GNNSubNet.s2vgraph.S2VGraph at 0x1a6a42f9760>,\n <GNNSubNet.s2vgraph.S2VGraph at 0x1a6a42f97f0>,\n <GNNSubNet.s2vgraph.S2VGraph at 0x1a6a42f9880>,\n <GNNSubNet.s2vgraph.S2VGraph at 0x1a6a42f9910>,\n <GNNSubNet.s2vgraph.S2VGraph at 0x1a6a42f99a0>,\n <GNNSubNet.s2vgraph.S2VGraph at 0x1a6a42f9a30>,\n <GNNSubNet.s2vgraph.S2VGraph at 0x1a6a42f9ac0>,\n <GNNSubNet.s2vgraph.S2VGraph at 0x1a6a42f9b50>,\n <GNNSubNet.s2vgraph.S2VGraph at 0x1a6a42f9be0>,\n <GNNSubNet.s2vgraph.S2VGraph at 0x1a6a42f9c70>,\n <GNNSubNet.s2vgraph.S2VGraph at 0x1a6a42f9d00>,\n <GNNSubNet.s2vgraph.S2VGraph at 0x1a6a42f9d90>,\n <GNNSubNet.s2vgraph.S2VGraph at 0x1a6a42f9e20>,\n <GNNSubNet.s2vgraph.S2VGraph at 0x1a6a42f9eb0>,\n <GNNSubNet.s2vgraph.S2VGraph at 0x1a6a42f9f40>,\n <GNNSubNet.s2vgraph.S2VGraph at 0x1a6a42f9fd0>,\n <GNNSubNet.s2vgraph.S2VGraph at 0x1a6a43b50a0>,\n <GNNSubNet.s2vgraph.S2VGraph at 0x1a6a43b5130>]"
     },
     "execution_count": 3,
     "metadata": {},
     "output_type": "execute_result"
    }
   ],
   "source": [
    "g.s2v_test_dataset"
   ],
   "metadata": {
    "collapsed": false
   }
  },
  {
   "cell_type": "code",
   "execution_count": 4,
   "outputs": [
    {
     "data": {
      "text/plain": "array([0., 1., 0., 0., 0., 0., 1., 1., 1., 0., 0., 1., 1., 0., 1., 1., 1.,\n       0., 1., 1., 1., 0., 1., 1., 1., 1., 0., 1., 0., 1., 0., 0., 0., 0.,\n       1., 1., 1., 0., 1., 1., 1., 1., 1., 0., 0., 1., 1., 0., 0., 0., 0.,\n       1., 1., 0., 1., 1., 1., 1., 1., 1., 1., 1., 1., 1., 0., 1., 0., 1.,\n       1., 0., 0., 0., 1., 1., 0., 0., 0., 0., 0., 0., 1., 0., 0., 0., 0.,\n       0., 1., 0., 1., 1., 1., 1., 0., 0., 0., 0., 1., 0., 1., 1., 1., 1.,\n       0., 1., 0., 1., 1., 1., 0., 0., 0., 1., 0., 1., 0., 0., 1., 0., 0.,\n       1., 1., 0., 0., 1., 1., 0., 0., 0., 1., 0., 0., 1., 1., 1., 0., 0.,\n       0., 1., 0., 0., 1., 0., 1., 0., 0., 0., 0., 1., 1., 0., 1., 1., 1.,\n       0., 1., 0., 0., 1., 0., 1., 1., 0., 1., 0., 0., 1., 1., 0., 1., 1.,\n       0., 0., 0., 0., 0., 1., 1., 0., 1., 1., 1., 1., 1., 0., 0., 1., 1.,\n       0., 1., 0., 0., 0., 0., 0., 0., 0., 1., 1., 1., 0.])"
     },
     "execution_count": 4,
     "metadata": {},
     "output_type": "execute_result"
    }
   ],
   "source": [
    "g.predictions"
   ],
   "metadata": {
    "collapsed": false
   }
  },
  {
   "cell_type": "code",
   "execution_count": 5,
   "outputs": [],
   "source": [
    "from GNNSubNet import gnn_explainer as gnne\n",
    "import torch\n",
    "\n",
    "exp = gnne.GNNExplainer(g.model, epochs=300)"
   ],
   "metadata": {
    "collapsed": false
   }
  },
  {
   "cell_type": "code",
   "execution_count": 6,
   "outputs": [
    {
     "data": {
      "text/plain": "[tensor([0.0153]),\n tensor([0.0303]),\n tensor([0.1106]),\n tensor([-0.1576]),\n tensor([-0.0925]),\n tensor([0.0669]),\n tensor([-0.0952]),\n tensor([0.0584]),\n tensor([-0.1771]),\n tensor([-0.0120]),\n tensor([-0.1077]),\n tensor([-0.0329]),\n tensor([-0.0947]),\n tensor([-0.1657]),\n tensor([-0.1548]),\n tensor([-0.0665]),\n tensor([-0.0990]),\n tensor([-0.0305]),\n tensor([-0.1256]),\n tensor([-0.0303]),\n tensor([-0.0366]),\n tensor([0.0652]),\n tensor([-0.1326]),\n tensor([0.0881]),\n tensor([0.1416]),\n tensor([0.0132]),\n tensor([0.0090]),\n tensor([-0.0945]),\n tensor([-0.0033]),\n tensor([-0.0697])]"
     },
     "execution_count": 6,
     "metadata": {},
     "output_type": "execute_result"
    }
   ],
   "source": [
    "exp.explain_graph_modified_s2v(g.s2v_test_dataset, 0.1)"
   ],
   "metadata": {
    "collapsed": false
   }
  },
  {
   "cell_type": "code",
   "execution_count": 7,
   "outputs": [
    {
     "data": {
      "text/plain": "     26\n0    26\n1    26\n2    26\n3    26\n4    26\n..   ..\n294  11\n295  11\n296  11\n297  11\n298  11\n\n[299 rows x 1 columns]",
      "text/html": "<div>\n<style scoped>\n    .dataframe tbody tr th:only-of-type {\n        vertical-align: middle;\n    }\n\n    .dataframe tbody tr th {\n        vertical-align: top;\n    }\n\n    .dataframe thead th {\n        text-align: right;\n    }\n</style>\n<table border=\"1\" class=\"dataframe\">\n  <thead>\n    <tr style=\"text-align: right;\">\n      <th></th>\n      <th>26</th>\n    </tr>\n  </thead>\n  <tbody>\n    <tr>\n      <th>0</th>\n      <td>26</td>\n    </tr>\n    <tr>\n      <th>1</th>\n      <td>26</td>\n    </tr>\n    <tr>\n      <th>2</th>\n      <td>26</td>\n    </tr>\n    <tr>\n      <th>3</th>\n      <td>26</td>\n    </tr>\n    <tr>\n      <th>4</th>\n      <td>26</td>\n    </tr>\n    <tr>\n      <th>...</th>\n      <td>...</td>\n    </tr>\n    <tr>\n      <th>294</th>\n      <td>11</td>\n    </tr>\n    <tr>\n      <th>295</th>\n      <td>11</td>\n    </tr>\n    <tr>\n      <th>296</th>\n      <td>11</td>\n    </tr>\n    <tr>\n      <th>297</th>\n      <td>11</td>\n    </tr>\n    <tr>\n      <th>298</th>\n      <td>11</td>\n    </tr>\n  </tbody>\n</table>\n<p>299 rows × 1 columns</p>\n</div>"
     },
     "execution_count": 7,
     "metadata": {},
     "output_type": "execute_result"
    }
   ],
   "source": [
    "losses = pd.read_csv(\"GNNSubNet/datasets/loss_values.csv\")\n",
    "losses"
   ],
   "metadata": {
    "collapsed": false
   }
  },
  {
   "cell_type": "code",
   "execution_count": 9,
   "outputs": [
    {
     "data": {
      "text/plain": "[<matplotlib.lines.Line2D at 0x1a6a56c84c0>]"
     },
     "execution_count": 9,
     "metadata": {},
     "output_type": "execute_result"
    },
    {
     "data": {
      "text/plain": "<Figure size 640x480 with 1 Axes>",
      "image/png": "[encoded data removed]"
     },
     "metadata": {},
     "output_type": "display_data"
    }
   ],
   "source": [
    "import matplotlib.pyplot as plt\n",
    "\n",
    "plot = plt.plot(losses)\n",
    "\n",
    "plot"
   ],
   "metadata": {
    "collapsed": false
   }
  },
  {
   "cell_type": "code",
   "execution_count": null,
   "outputs": [],
   "source": [],
   "metadata": {
    "collapsed": false
   }
  }
 ],
 "metadata": {
  "kernelspec": {
   "display_name": "Python 3",
   "language": "python",
   "name": "python3"
  },
  "language_info": {
   "codemirror_mode": {
    "name": "ipython",
    "version": 2
   },
   "file_extension": ".py",
   "mimetype": "text/x-python",
   "name": "python",
   "nbconvert_exporter": "python",
   "pygments_lexer": "ipython2",
   "version": "2.7.6"
  }
 },
 "nbformat": 4,
 "nbformat_minor": 0
}
